{
 "cells": [
  {
   "source": [
    "# Python Variables"
   ],
   "cell_type": "markdown",
   "metadata": {}
  },
  {
   "source": [
    "A Python varible is created the moment you first assign a value to it."
   ],
   "cell_type": "markdown",
   "metadata": {}
  },
  {
   "cell_type": "code",
   "execution_count": 1,
   "metadata": {},
   "outputs": [],
   "source": [
    "n = 3      # int\n",
    "x = 2.5    # float"
   ]
  },
  {
   "source": [
    "Variables do not need to be declared with any particular type. They get the type of their value."
   ],
   "cell_type": "markdown",
   "metadata": {}
  },
  {
   "cell_type": "code",
   "execution_count": 2,
   "metadata": {},
   "outputs": [
    {
     "output_type": "execute_result",
     "data": {
      "text/plain": [
       "int"
      ]
     },
     "metadata": {},
     "execution_count": 2
    }
   ],
   "source": [
    "type(n)"
   ]
  },
  {
   "cell_type": "code",
   "execution_count": 3,
   "metadata": {},
   "outputs": [
    {
     "output_type": "execute_result",
     "data": {
      "text/plain": [
       "float"
      ]
     },
     "metadata": {},
     "execution_count": 3
    }
   ],
   "source": [
    "type(x)"
   ]
  },
  {
   "source": [
    "Variables can change type after they have been set."
   ],
   "cell_type": "markdown",
   "metadata": {}
  },
  {
   "cell_type": "code",
   "execution_count": 4,
   "metadata": {},
   "outputs": [
    {
     "output_type": "execute_result",
     "data": {
      "text/plain": [
       "float"
      ]
     },
     "metadata": {},
     "execution_count": 4
    }
   ],
   "source": [
    "n = 3.3\n",
    "type(n)"
   ]
  },
  {
   "source": [
    "These are Boolean and string variables:"
   ],
   "cell_type": "markdown",
   "metadata": {}
  },
  {
   "cell_type": "code",
   "execution_count": 5,
   "metadata": {},
   "outputs": [],
   "source": [
    "condition = False           # boolean\n",
    "character_name = 'John'     # string"
   ]
  },
  {
   "source": [
    "Print the value of the variable:"
   ],
   "cell_type": "markdown",
   "metadata": {}
  },
  {
   "cell_type": "code",
   "execution_count": 6,
   "metadata": {
    "tags": []
   },
   "outputs": [
    {
     "output_type": "stream",
     "name": "stdout",
     "text": [
      "False\nJohn\n"
     ]
    }
   ],
   "source": [
    "print(condition)\n",
    "print(character_name)"
   ]
  },
  {
   "source": [
    "Print the type of the variable:"
   ],
   "cell_type": "markdown",
   "metadata": {}
  },
  {
   "cell_type": "code",
   "execution_count": 7,
   "metadata": {
    "tags": []
   },
   "outputs": [
    {
     "output_type": "stream",
     "name": "stdout",
     "text": [
      "<class 'bool'>\n<class 'str'>\n"
     ]
    }
   ],
   "source": [
    "print(type(condition))\n",
    "print(type(character_name))"
   ]
  },
  {
   "cell_type": "code",
   "execution_count": 8,
   "metadata": {},
   "outputs": [],
   "source": [
    "n='No'   #n is now a string"
   ]
  },
  {
   "cell_type": "code",
   "execution_count": 9,
   "metadata": {
    "tags": []
   },
   "outputs": [
    {
     "output_type": "stream",
     "name": "stdout",
     "text": [
      "<class 'str'>\n"
     ]
    }
   ],
   "source": [
    "print(type(n))"
   ]
  },
  {
   "source": [
    "- **variable name**: can only contain alpha-numeric characters and underscore (A-z, 0-9, and _)"
   ],
   "cell_type": "markdown",
   "metadata": {}
  },
  {
   "source": [
    "Variables names are case sensitive. Age and age are different variables.\n",
    "These are two different variables:"
   ],
   "cell_type": "markdown",
   "metadata": {}
  },
  {
   "cell_type": "code",
   "execution_count": 10,
   "metadata": {},
   "outputs": [],
   "source": [
    "age = 20\n",
    "Age = 40"
   ]
  },
  {
   "cell_type": "code",
   "execution_count": 11,
   "metadata": {},
   "outputs": [
    {
     "output_type": "stream",
     "name": "stdout",
     "text": [
      "Laura is 20 years old. Her mother is  40\n"
     ]
    }
   ],
   "source": [
    "print('Laura is', age, 'years old. Her mother is ', Age)"
   ]
  },
  {
   "source": [
    "Assign values to multiple variables:"
   ],
   "cell_type": "markdown",
   "metadata": {}
  },
  {
   "cell_type": "code",
   "execution_count": 12,
   "metadata": {},
   "outputs": [],
   "source": [
    "name, age, grade = 'John', 20, 97.7"
   ]
  },
  {
   "cell_type": "code",
   "execution_count": 13,
   "metadata": {
    "tags": []
   },
   "outputs": [
    {
     "output_type": "stream",
     "name": "stdout",
     "text": [
      "Name  = John\nAge   = 20\nGrade = 97.7\n"
     ]
    }
   ],
   "source": [
    "print('Name  =', name)\n",
    "print('Age   =', age)\n",
    "print('Grade =', grade)"
   ]
  },
  {
   "source": [
    "## Python Arithmetic Operators"
   ],
   "cell_type": "markdown",
   "metadata": {}
  },
  {
   "source": [
    "Operator | Name \n",
    "---------|-----\n",
    "+ | addition\n",
    "- | subtraction\n",
    "* | multiplication\n",
    "/ | division\n",
    "% | modulus\n",
    "** | exponentiation\n"
   ],
   "cell_type": "markdown",
   "metadata": {}
  },
  {
   "cell_type": "code",
   "execution_count": 14,
   "metadata": {},
   "outputs": [
    {
     "output_type": "execute_result",
     "data": {
      "text/plain": [
       "2.5"
      ]
     },
     "metadata": {},
     "execution_count": 14
    }
   ],
   "source": [
    "#Remember:\n",
    "x"
   ]
  },
  {
   "cell_type": "code",
   "execution_count": 15,
   "metadata": {},
   "outputs": [],
   "source": [
    "n = x   # n = 2.5 "
   ]
  },
  {
   "cell_type": "code",
   "execution_count": 16,
   "metadata": {
    "tags": []
   },
   "outputs": [
    {
     "output_type": "stream",
     "name": "stdout",
     "text": [
      "2.5\n"
     ]
    }
   ],
   "source": [
    "print(n)"
   ]
  },
  {
   "cell_type": "code",
   "execution_count": 17,
   "metadata": {
    "tags": []
   },
   "outputs": [
    {
     "output_type": "stream",
     "name": "stdout",
     "text": [
      "<class 'float'>\n"
     ]
    }
   ],
   "source": [
    "print(type(n))"
   ]
  },
  {
   "cell_type": "code",
   "execution_count": 18,
   "metadata": {},
   "outputs": [
    {
     "output_type": "execute_result",
     "data": {
      "text/plain": [
       "False"
      ]
     },
     "metadata": {},
     "execution_count": 18
    }
   ],
   "source": [
    "#Remember:\n",
    "condition"
   ]
  },
  {
   "cell_type": "code",
   "execution_count": 19,
   "metadata": {
    "tags": []
   },
   "outputs": [
    {
     "output_type": "stream",
     "name": "stdout",
     "text": [
      "True\n"
     ]
    }
   ],
   "source": [
    "not_condition = not condition\n",
    "print(not_condition)"
   ]
  },
  {
   "cell_type": "code",
   "execution_count": 20,
   "metadata": {},
   "outputs": [
    {
     "output_type": "execute_result",
     "data": {
      "text/plain": [
       "'John'"
      ]
     },
     "metadata": {},
     "execution_count": 20
    }
   ],
   "source": [
    "#Remember:\n",
    "character_name"
   ]
  },
  {
   "cell_type": "code",
   "execution_count": 21,
   "metadata": {
    "tags": []
   },
   "outputs": [
    {
     "output_type": "stream",
     "name": "stdout",
     "text": [
      "John Doe\n"
     ]
    }
   ],
   "source": [
    "full_name = character_name + ' Doe'\n",
    "print(full_name)"
   ]
  },
  {
   "cell_type": "code",
   "execution_count": 22,
   "metadata": {},
   "outputs": [],
   "source": [
    "m = 5"
   ]
  },
  {
   "cell_type": "code",
   "execution_count": 23,
   "metadata": {},
   "outputs": [
    {
     "output_type": "stream",
     "name": "stdout",
     "text": [
      "2.5\n"
     ]
    }
   ],
   "source": [
    "#/ division\n",
    "print(m/2)"
   ]
  },
  {
   "cell_type": "code",
   "execution_count": 24,
   "metadata": {
    "tags": []
   },
   "outputs": [
    {
     "output_type": "stream",
     "name": "stdout",
     "text": [
      "2\n"
     ]
    }
   ],
   "source": [
    "#// floor division\n",
    "print(m//2)"
   ]
  },
  {
   "source": [
    "Floor division only gets the integer part of the result.\n",
    "\n",
    "Floor division returns the quotient (answer or result of division) in which the digits after the decimal point are removed."
   ],
   "cell_type": "markdown",
   "metadata": {}
  },
  {
   "cell_type": "code",
   "execution_count": 25,
   "metadata": {},
   "outputs": [
    {
     "output_type": "stream",
     "name": "stdout",
     "text": [
      "5/3  = 1.6666666666666667\n5//3 = 1\n"
     ]
    }
   ],
   "source": [
    "print('5/3  =', 5/3)\n",
    "print('5//3 =', 5//3)"
   ]
  },
  {
   "source": [
    "m % n: is the remainder of the floor division m//n"
   ],
   "cell_type": "markdown",
   "metadata": {}
  },
  {
   "cell_type": "code",
   "execution_count": 26,
   "metadata": {},
   "outputs": [
    {
     "output_type": "stream",
     "name": "stdout",
     "text": [
      "Floor division:  5 // 3 = 1\nRemainder:       5  % 3 = 2\nVerification:    3 * 1 + 2 = 5\n"
     ]
    }
   ],
   "source": [
    "m = 5\n",
    "n = 3\n",
    "print('Floor division: ', m, '//', n, '=', m//n)\n",
    "print('Remainder:      ', m, ' %', n, '=', m%n)\n",
    "print('Verification:   ', n,'*',m//n,'+',m%n,'=',n*(m//n)+(m%n))"
   ]
  },
  {
   "source": [
    "m**2 means x to the power of 2"
   ],
   "cell_type": "markdown",
   "metadata": {
    "tags": []
   }
  },
  {
   "cell_type": "code",
   "execution_count": 27,
   "metadata": {
    "tags": []
   },
   "outputs": [
    {
     "output_type": "stream",
     "name": "stdout",
     "text": [
      "Square of  5 : 25\n",
      "Square of  3 : 9\n"
     ]
    }
   ],
   "source": [
    "print('Square of ',m,':', m**2)\n",
    "print('Square of ',n,':', n**2)"
   ]
  },
  {
   "source": [
    "You can raise m to a higher power"
   ],
   "cell_type": "markdown",
   "metadata": {}
  },
  {
   "cell_type": "code",
   "execution_count": 28,
   "metadata": {
    "tags": []
   },
   "outputs": [
    {
     "output_type": "stream",
     "name": "stdout",
     "text": [
      "5 to the power of 2: 25\n5 to the power of 3: 125\n5 to the power of 4: 625\n"
     ]
    }
   ],
   "source": [
    "print(m, 'to the power of 2:', m**2)\n",
    "print(m, 'to the power of 3:', m**3)\n",
    "print(m, 'to the power of 4:', m**4)"
   ]
  },
  {
   "source": [
    "It also works with negative values:"
   ],
   "cell_type": "markdown",
   "metadata": {}
  },
  {
   "cell_type": "code",
   "execution_count": 29,
   "metadata": {},
   "outputs": [
    {
     "output_type": "stream",
     "name": "stdout",
     "text": [
      "5 to the power of -1: 0.2\n"
     ]
    }
   ],
   "source": [
    "print(m, 'to the power of -1:', m**-1)"
   ]
  },
  {
   "source": [
    "## Python Assignment Operators"
   ],
   "cell_type": "markdown",
   "metadata": {}
  },
  {
   "source": [
    "|  \"Operator\"  |  \"Example\"    |  \"Same as\"        |\n",
    "| :-: | :- | :- |\n",
    "| = | x = 5  |  x = 5 |\n",
    "| += | x += 5 | x = x + 5 |\n",
    "| -= | x -= 5 | x = x - 5 |\n",
    "| *= | x *= 5 | x = x * 5 |\n",
    "| /= | x /= 5 | x = x / 5 |\n",
    "| %= | x %= 5 | x = x % 5 |\n",
    "| //= | x //= 5 | x = x // 5 |"
   ],
   "cell_type": "markdown",
   "metadata": {}
  },
  {
   "cell_type": "code",
   "execution_count": 30,
   "metadata": {},
   "outputs": [
    {
     "output_type": "execute_result",
     "data": {
      "text/plain": [
       "5"
      ]
     },
     "metadata": {},
     "execution_count": 30
    }
   ],
   "source": [
    "m"
   ]
  },
  {
   "source": [
    "Adding 10"
   ],
   "cell_type": "markdown",
   "metadata": {}
  },
  {
   "cell_type": "code",
   "execution_count": 31,
   "metadata": {},
   "outputs": [
    {
     "output_type": "stream",
     "name": "stdout",
     "text": [
      "15\n"
     ]
    }
   ],
   "source": [
    "m += 10\n",
    "print(m)"
   ]
  },
  {
   "source": [
    "Subtracting 2"
   ],
   "cell_type": "markdown",
   "metadata": {}
  },
  {
   "cell_type": "code",
   "execution_count": 32,
   "metadata": {},
   "outputs": [
    {
     "output_type": "stream",
     "name": "stdout",
     "text": [
      "12\n"
     ]
    }
   ],
   "source": [
    "m -= 3\n",
    "print(m)"
   ]
  },
  {
   "cell_type": "code",
   "execution_count": 33,
   "metadata": {},
   "outputs": [
    {
     "output_type": "execute_result",
     "data": {
      "text/plain": [
       "int"
      ]
     },
     "metadata": {},
     "execution_count": 33
    }
   ],
   "source": [
    "type(m)"
   ]
  },
  {
   "source": [
    "Dividing by 4"
   ],
   "cell_type": "markdown",
   "metadata": {}
  },
  {
   "cell_type": "code",
   "execution_count": 34,
   "metadata": {},
   "outputs": [
    {
     "output_type": "stream",
     "name": "stdout",
     "text": [
      "3.0\n"
     ]
    }
   ],
   "source": [
    "m /= 4\n",
    "print(m)"
   ]
  },
  {
   "cell_type": "code",
   "execution_count": 35,
   "metadata": {},
   "outputs": [
    {
     "output_type": "execute_result",
     "data": {
      "text/plain": [
       "float"
      ]
     },
     "metadata": {},
     "execution_count": 35
    }
   ],
   "source": [
    "type(m)"
   ]
  },
  {
   "source": [
    "Notice that the result of the division produce a float variable."
   ],
   "cell_type": "markdown",
   "metadata": {}
  },
  {
   "cell_type": "code",
   "execution_count": null,
   "metadata": {},
   "outputs": [],
   "source": []
  }
 ],
 "metadata": {
  "language_info": {
   "codemirror_mode": {
    "name": "ipython",
    "version": 3
   },
   "file_extension": ".py",
   "mimetype": "text/x-python",
   "name": "python",
   "nbconvert_exporter": "python",
   "pygments_lexer": "ipython3",
   "version": "3.9.1-final"
  },
  "orig_nbformat": 2,
  "kernelspec": {
   "name": "python3",
   "display_name": "Python 3.9.1 64-bit",
   "metadata": {
    "interpreter": {
     "hash": "63fd5069d213b44bf678585dea6b12cceca9941eaf7f819626cde1f2670de90d"
    }
   }
  }
 },
 "nbformat": 4,
 "nbformat_minor": 2
}