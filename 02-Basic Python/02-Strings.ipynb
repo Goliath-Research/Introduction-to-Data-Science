{
 "cells": [
  {
   "source": [
    "# Python Strings"
   ],
   "cell_type": "markdown",
   "metadata": {}
  },
  {
   "source": [
    "Either single or double quotation marks surround strings in Python.\n",
    "\n",
    "'hello' is the same as \"hello\""
   ],
   "cell_type": "markdown",
   "metadata": {}
  },
  {
   "cell_type": "code",
   "execution_count": 1,
   "metadata": {},
   "outputs": [
    {
     "output_type": "stream",
     "name": "stdout",
     "text": [
      "Hello World!\n"
     ]
    }
   ],
   "source": [
    "print('Hello World!')"
   ]
  },
  {
   "cell_type": "code",
   "execution_count": 2,
   "metadata": {},
   "outputs": [
    {
     "output_type": "stream",
     "name": "stdout",
     "text": [
      "Hello World!\n"
     ]
    }
   ],
   "source": [
    "print(\"Hello World!\")"
   ]
  },
  {
   "cell_type": "code",
   "execution_count": 3,
   "metadata": {},
   "outputs": [],
   "source": [
    "s = 'Hello World!'"
   ]
  },
  {
   "cell_type": "code",
   "execution_count": 4,
   "metadata": {},
   "outputs": [
    {
     "output_type": "stream",
     "name": "stdout",
     "text": [
      "Hello World!\n"
     ]
    }
   ],
   "source": [
    "print(s)"
   ]
  },
  {
   "cell_type": "code",
   "execution_count": 5,
   "metadata": {},
   "outputs": [
    {
     "output_type": "execute_result",
     "data": {
      "text/plain": [
       "str"
      ]
     },
     "metadata": {},
     "execution_count": 5
    }
   ],
   "source": [
    "type(s)"
   ]
  },
  {
   "source": [
    "**Multiline strings**\n",
    "\n",
    "You can assign a multiline string to a variable by using three quotes:"
   ],
   "cell_type": "markdown",
   "metadata": {}
  },
  {
   "source": [
    "a = \"\"\"This is an \n",
    "example of a  \n",
    "multiline string.\"\"\"\n",
    "print(a)"
   ],
   "cell_type": "code",
   "metadata": {
    "tags": []
   },
   "execution_count": 6,
   "outputs": [
    {
     "output_type": "stream",
     "name": "stdout",
     "text": [
      "This is an \nexample of a  \nmultiline string.\n"
     ]
    }
   ]
  },
  {
   "cell_type": "code",
   "execution_count": 7,
   "metadata": {},
   "outputs": [
    {
     "output_type": "stream",
     "name": "stdout",
     "text": [
      "This is another \nexample of a  \nmultiline string.\n"
     ]
    }
   ],
   "source": [
    "b = '''This is another \n",
    "example of a  \n",
    "multiline string.'''\n",
    "print(b)"
   ]
  },
  {
   "source": [
    "Strings are arrays\n",
    "- Python does not have a character data type. A single character is simply a string with a length of 1.\n",
    "- 0 is the first index.\n",
    "- Elements of any string are accessed using squared brackets."
   ],
   "cell_type": "markdown",
   "metadata": {}
  },
  {
   "cell_type": "code",
   "execution_count": 8,
   "metadata": {},
   "outputs": [
    {
     "output_type": "execute_result",
     "data": {
      "text/plain": [
       "'Hello World!'"
      ]
     },
     "metadata": {},
     "execution_count": 8
    }
   ],
   "source": [
    "s"
   ]
  },
  {
   "cell_type": "code",
   "execution_count": 9,
   "metadata": {
    "tags": []
   },
   "outputs": [
    {
     "output_type": "stream",
     "name": "stdout",
     "text": [
      "H\ne\nl\nl\no\n"
     ]
    }
   ],
   "source": [
    "print(s[0])\n",
    "print(s[1])\n",
    "print(s[2])\n",
    "print(s[3])\n",
    "print(s[4])"
   ]
  },
  {
   "source": [
    "String len: **`len()`** function returns the lenght of the string."
   ],
   "cell_type": "markdown",
   "metadata": {}
  },
  {
   "cell_type": "code",
   "execution_count": 10,
   "metadata": {},
   "outputs": [
    {
     "output_type": "execute_result",
     "data": {
      "text/plain": [
       "12"
      ]
     },
     "metadata": {},
     "execution_count": 10
    }
   ],
   "source": [
    "len(s)"
   ]
  },
  {
   "source": [
    "**Slicing** \n",
    "\n",
    "You can return a range of characters by using the slice syntax.\n",
    "\n",
    "`s[a:b]` returns characters from a (included) to b-1 (does not include b). "
   ],
   "cell_type": "markdown",
   "metadata": {}
  },
  {
   "cell_type": "code",
   "execution_count": 11,
   "metadata": {
    "tags": []
   },
   "outputs": [
    {
     "output_type": "stream",
     "name": "stdout",
     "text": [
      "ello\n"
     ]
    }
   ],
   "source": [
    "# from position 1 to 5-1:\n",
    "print(s[1:5])"
   ]
  },
  {
   "cell_type": "code",
   "execution_count": 12,
   "metadata": {
    "tags": []
   },
   "outputs": [
    {
     "output_type": "stream",
     "name": "stdout",
     "text": [
      "Hello\n"
     ]
    }
   ],
   "source": [
    "# from position 0 to 5-1:\n",
    "print(s[0:5])"
   ]
  },
  {
   "cell_type": "code",
   "execution_count": 13,
   "metadata": {
    "tags": []
   },
   "outputs": [
    {
     "output_type": "stream",
     "name": "stdout",
     "text": [
      "Hello\n"
     ]
    }
   ],
   "source": [
    "# You do not need to specify 0 (first position)\n",
    "print(s[:5])"
   ]
  },
  {
   "cell_type": "code",
   "execution_count": 14,
   "metadata": {
    "tags": []
   },
   "outputs": [
    {
     "output_type": "stream",
     "name": "stdout",
     "text": [
      "World!\n"
     ]
    }
   ],
   "source": [
    "# You do not need to specify the last position.\n",
    "print(s[6:])"
   ]
  },
  {
   "source": [
    "**Negative Indexing** \n",
    "\n",
    "Use negative indexes to start the slice from the end of the string."
   ],
   "cell_type": "markdown",
   "metadata": {}
  },
  {
   "source": [
    "![image info](./Hello_World.png)"
   ],
   "cell_type": "markdown",
   "metadata": {}
  },
  {
   "cell_type": "code",
   "execution_count": 15,
   "metadata": {},
   "outputs": [
    {
     "output_type": "stream",
     "name": "stdout",
     "text": [
      "!\n"
     ]
    }
   ],
   "source": [
    "# You access the last character using the index -1:\n",
    "print(s[-1])"
   ]
  },
  {
   "source": [
    "print(s[-6:-1])"
   ],
   "cell_type": "code",
   "metadata": {
    "tags": []
   },
   "execution_count": 16,
   "outputs": [
    {
     "output_type": "stream",
     "name": "stdout",
     "text": [
      "World\n"
     ]
    }
   ]
  },
  {
   "cell_type": "code",
   "execution_count": 17,
   "metadata": {
    "tags": []
   },
   "outputs": [
    {
     "output_type": "stream",
     "name": "stdout",
     "text": [
      "World!\n"
     ]
    }
   ],
   "source": [
    "# From -6 to the last position:\n",
    "print(s[-6:])"
   ]
  },
  {
   "cell_type": "code",
   "execution_count": 18,
   "metadata": {},
   "outputs": [
    {
     "output_type": "stream",
     "name": "stdout",
     "text": [
      "Hello\n"
     ]
    }
   ],
   "source": [
    "print(s[-12:-7])"
   ]
  },
  {
   "cell_type": "code",
   "execution_count": 19,
   "metadata": {},
   "outputs": [
    {
     "output_type": "stream",
     "name": "stdout",
     "text": [
      "Hello\n"
     ]
    }
   ],
   "source": [
    "# You do not need to specify the first position.\n",
    "print(s[:-7])"
   ]
  },
  {
   "source": [
    "## Python methods for working with strings\n",
    "\n",
    "All string methods returns new values. They do not change the original string."
   ],
   "cell_type": "markdown",
   "metadata": {}
  },
  {
   "source": [
    "**strip()**: removes any whitespace from the beginning or the end. It returns a trimmed version of the string"
   ],
   "cell_type": "markdown",
   "metadata": {}
  },
  {
   "source": [
    "s = '   Hello World!    '\n",
    "s = s.strip()\n",
    "print(s)"
   ],
   "cell_type": "code",
   "metadata": {
    "tags": []
   },
   "execution_count": 20,
   "outputs": [
    {
     "output_type": "stream",
     "name": "stdout",
     "text": [
      "Hello World!\n"
     ]
    }
   ]
  },
  {
   "source": [
    "**lower()**: returns the string in lower case"
   ],
   "cell_type": "markdown",
   "metadata": {}
  },
  {
   "cell_type": "code",
   "execution_count": 21,
   "metadata": {
    "tags": []
   },
   "outputs": [
    {
     "output_type": "stream",
     "name": "stdout",
     "text": [
      "hello world!\n"
     ]
    }
   ],
   "source": [
    "print(s.lower())"
   ]
  },
  {
   "source": [
    "**upper()**: returns the string in upper case"
   ],
   "cell_type": "markdown",
   "metadata": {}
  },
  {
   "cell_type": "code",
   "execution_count": 22,
   "metadata": {
    "tags": []
   },
   "outputs": [
    {
     "output_type": "stream",
     "name": "stdout",
     "text": [
      "HELLO WORLD!\n"
     ]
    }
   ],
   "source": [
    "print(s.upper())"
   ]
  },
  {
   "source": [
    "**capitalize()**: converts the first character to upper case"
   ],
   "cell_type": "markdown",
   "metadata": {}
  },
  {
   "cell_type": "code",
   "execution_count": 23,
   "metadata": {},
   "outputs": [
    {
     "output_type": "execute_result",
     "data": {
      "text/plain": [
       "'Hello world'"
      ]
     },
     "metadata": {},
     "execution_count": 23
    }
   ],
   "source": [
    "l = 'hello world'\n",
    "l.capitalize()"
   ]
  },
  {
   "source": [
    "**replace()**: replace a string with another string"
   ],
   "cell_type": "markdown",
   "metadata": {}
  },
  {
   "cell_type": "code",
   "execution_count": 24,
   "metadata": {
    "tags": []
   },
   "outputs": [
    {
     "output_type": "stream",
     "name": "stdout",
     "text": [
      "Hello Earth!\n"
     ]
    }
   ],
   "source": [
    "print(s.replace('World', 'Earth'))"
   ]
  },
  {
   "source": [
    "**find()**: searches the string for a specified value and returns its position"
   ],
   "cell_type": "markdown",
   "metadata": {}
  },
  {
   "cell_type": "code",
   "execution_count": 25,
   "metadata": {},
   "outputs": [
    {
     "output_type": "execute_result",
     "data": {
      "text/plain": [
       "4"
      ]
     },
     "metadata": {},
     "execution_count": 25
    }
   ],
   "source": [
    "s.find('o')"
   ]
  },
  {
   "cell_type": "code",
   "execution_count": 26,
   "metadata": {},
   "outputs": [
    {
     "output_type": "execute_result",
     "data": {
      "text/plain": [
       "-1"
      ]
     },
     "metadata": {},
     "execution_count": 26
    }
   ],
   "source": [
    "# find returns -1 if the substring does not appear\n",
    "s.find('u')"
   ]
  },
  {
   "source": [
    "**count()**: Returns the number of times a specified value occurs in a string"
   ],
   "cell_type": "markdown",
   "metadata": {}
  },
  {
   "cell_type": "code",
   "execution_count": 27,
   "metadata": {},
   "outputs": [
    {
     "output_type": "execute_result",
     "data": {
      "text/plain": [
       "0"
      ]
     },
     "metadata": {},
     "execution_count": 27
    }
   ],
   "source": [
    "s.count('u')"
   ]
  },
  {
   "cell_type": "code",
   "execution_count": 28,
   "metadata": {},
   "outputs": [
    {
     "output_type": "execute_result",
     "data": {
      "text/plain": [
       "3"
      ]
     },
     "metadata": {},
     "execution_count": 28
    }
   ],
   "source": [
    "s.count('l')"
   ]
  },
  {
   "cell_type": "code",
   "execution_count": 29,
   "metadata": {},
   "outputs": [
    {
     "output_type": "execute_result",
     "data": {
      "text/plain": [
       "2"
      ]
     },
     "metadata": {},
     "execution_count": 29
    }
   ],
   "source": [
    "# In case of multiple appearances, find returns the first position\n",
    "s.find('l')"
   ]
  },
  {
   "source": [
    "**rfind()**: Searches the string for a specified value and returns the last position of where it was found"
   ],
   "cell_type": "markdown",
   "metadata": {}
  },
  {
   "cell_type": "code",
   "execution_count": 30,
   "metadata": {},
   "outputs": [
    {
     "output_type": "execute_result",
     "data": {
      "text/plain": [
       "9"
      ]
     },
     "metadata": {},
     "execution_count": 30
    }
   ],
   "source": [
    "s.rfind('l')"
   ]
  },
  {
   "source": [
    "**String concatenation**"
   ],
   "cell_type": "markdown",
   "metadata": {}
  },
  {
   "cell_type": "code",
   "execution_count": 31,
   "metadata": {
    "tags": []
   },
   "outputs": [
    {
     "output_type": "stream",
     "name": "stdout",
     "text": [
      "Jane Doe\n"
     ]
    }
   ],
   "source": [
    "name = 'Jane'\n",
    "last_name = 'Doe'\n",
    "print(name + ' ' + last_name) "
   ]
  },
  {
   "source": [
    "**format()**: takes the passed arguments, formats them, and places them in the string where the placeholders {} are."
   ],
   "cell_type": "markdown",
   "metadata": {}
  },
  {
   "cell_type": "code",
   "execution_count": 32,
   "metadata": {
    "tags": []
   },
   "outputs": [
    {
     "output_type": "stream",
     "name": "stdout",
     "text": [
      "My name is Anna, I am 30\n"
     ]
    }
   ],
   "source": [
    "age = 30\n",
    "s1 = 'My name is Anna, I am {}'\n",
    "print(s1.format(age))"
   ]
  },
  {
   "source": [
    "The format() method takes unlimited number of arguments, and are placed into the respective placeholders."
   ],
   "cell_type": "markdown",
   "metadata": {}
  },
  {
   "cell_type": "code",
   "execution_count": 33,
   "metadata": {
    "tags": []
   },
   "outputs": [
    {
     "output_type": "stream",
     "name": "stdout",
     "text": [
      "My name is Jane Doe, I am 33\n"
     ]
    }
   ],
   "source": [
    "age = 33\n",
    "name = 'Jane'\n",
    "last_name = 'Doe'\n",
    "s2 = 'My name is {} {}, I am {}'\n",
    "print(s2.format(name, last_name, age))"
   ]
  },
  {
   "source": [
    "You can use index numbers to be sure the arguments are placed in the correct placeholders."
   ],
   "cell_type": "markdown",
   "metadata": {}
  },
  {
   "cell_type": "code",
   "execution_count": 34,
   "metadata": {
    "tags": []
   },
   "outputs": [
    {
     "output_type": "stream",
     "name": "stdout",
     "text": [
      "My name is Jane Doe, I am 33\n"
     ]
    }
   ],
   "source": [
    "age = 33\n",
    "name = 'Jane'\n",
    "last_name = 'Doe'\n",
    "s2 = 'My name is {1} {2}, I am {0}'\n",
    "print(s2.format(age, name, last_name))"
   ]
  },
  {
   "source": [
    "**split()**: splits the string into subtrings if it finds instances of the separator"
   ],
   "cell_type": "markdown",
   "metadata": {}
  },
  {
   "cell_type": "code",
   "execution_count": 35,
   "metadata": {
    "tags": []
   },
   "outputs": [
    {
     "output_type": "stream",
     "name": "stdout",
     "text": [
      "['Hello', ' World!']\n"
     ]
    }
   ],
   "source": [
    "a = 'Hello, World!'\n",
    "print(a.split(','))"
   ]
  }
 ],
 "metadata": {
  "language_info": {
   "codemirror_mode": {
    "name": "ipython",
    "version": 3
   },
   "file_extension": ".py",
   "mimetype": "text/x-python",
   "name": "python",
   "nbconvert_exporter": "python",
   "pygments_lexer": "ipython3",
   "version": "3.9.1-final"
  },
  "orig_nbformat": 2,
  "kernelspec": {
   "name": "python3",
   "display_name": "Python 3.9.1 64-bit",
   "metadata": {
    "interpreter": {
     "hash": "63fd5069d213b44bf678585dea6b12cceca9941eaf7f819626cde1f2670de90d"
    }
   }
  }
 },
 "nbformat": 4,
 "nbformat_minor": 2
}