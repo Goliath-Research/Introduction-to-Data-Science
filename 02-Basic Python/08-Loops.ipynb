{
 "cells": [
  {
   "source": [
    "# Python loops"
   ],
   "cell_type": "markdown",
   "metadata": {}
  },
  {
   "source": [
    "## While loop\n",
    "\n",
    "While loop executes a set of statements as long as a condition is true."
   ],
   "cell_type": "markdown",
   "metadata": {}
  },
  {
   "cell_type": "code",
   "execution_count": 1,
   "metadata": {
    "tags": []
   },
   "outputs": [
    {
     "output_type": "stream",
     "name": "stdout",
     "text": [
      "0\n1\n2\n3\n4\n"
     ]
    }
   ],
   "source": [
    "# print i as long as i is less than 5\n",
    "i = 0\n",
    "while i < 5:\n",
    "    print(i)\n",
    "    i += 1"
   ]
  },
  {
   "source": [
    "Remember to increment i, or the loop will continue forever."
   ],
   "cell_type": "markdown",
   "metadata": {}
  },
  {
   "source": [
    "The `break` statement: we can stop the loop even if the while condition is true:"
   ],
   "cell_type": "markdown",
   "metadata": {}
  },
  {
   "cell_type": "code",
   "execution_count": 2,
   "metadata": {
    "tags": []
   },
   "outputs": [
    {
     "output_type": "stream",
     "name": "stdout",
     "text": [
      "1\n2\nOutside the loop\n"
     ]
    }
   ],
   "source": [
    "# Exit the loop when i is 3\n",
    "i = 0\n",
    "while i < 5:\n",
    "    i += 1\n",
    "    if i == 3: \n",
    "        break\n",
    "    print(i)\n",
    "print('Outside the loop')    "
   ]
  },
  {
   "source": [
    "The `break` statement broke the loop. We finished it after 2 iterations."
   ],
   "cell_type": "markdown",
   "metadata": {}
  },
  {
   "source": [
    "The `continue` statement: we can stop the current iteration, and continue with the next"
   ],
   "cell_type": "markdown",
   "metadata": {}
  },
  {
   "cell_type": "code",
   "execution_count": 3,
   "metadata": {
    "tags": []
   },
   "outputs": [
    {
     "output_type": "stream",
     "name": "stdout",
     "text": [
      "1\n2\n4\n5\nOutside the loop\n"
     ]
    }
   ],
   "source": [
    "# continue to the next iteration if i is 3\n",
    "i = 0\n",
    "while i < 5:\n",
    "    i += 1\n",
    "    if i == 3:\n",
    "        continue\n",
    "    print(i)\n",
    "print('Outside the loop')"
   ]
  },
  {
   "source": [
    "Notice that we never printed 3, because we used there the `continue` statement."
   ],
   "cell_type": "markdown",
   "metadata": {}
  },
  {
   "source": [
    "The `else` statement: we can run a block of code once when the condition no longer is true:"
   ],
   "cell_type": "markdown",
   "metadata": {}
  },
  {
   "cell_type": "code",
   "execution_count": 4,
   "metadata": {
    "tags": []
   },
   "outputs": [
    {
     "output_type": "stream",
     "name": "stdout",
     "text": [
      "0\n1\n2\n3\n4\ni is no longer less than 5\n"
     ]
    }
   ],
   "source": [
    "# Print a message once the condition is false:\n",
    "i = 0\n",
    "while i < 5:\n",
    "  print(i)\n",
    "  i += 1\n",
    "else:\n",
    "  print(\"i is no longer less than 5\")"
   ]
  },
  {
   "source": [
    "## For loop\n",
    "\n",
    "A  `for` loop is used for iterating over a sequence (that is either a list, a tuple, a dictionary, a set, or a string).\n",
    "With the for loop we can execute a set of statements, once for each item in a list, tuple, set etc."
   ],
   "cell_type": "markdown",
   "metadata": {}
  },
  {
   "cell_type": "code",
   "execution_count": 5,
   "metadata": {
    "tags": []
   },
   "outputs": [
    {
     "output_type": "stream",
     "name": "stdout",
     "text": [
      "John\nMary\nAnna\n"
     ]
    }
   ],
   "source": [
    "# Print each name in the students list\n",
    "students = ['John', 'Mary', 'Anna']\n",
    "for s in students:\n",
    "    print(s)"
   ]
  },
  {
   "source": [
    "Looping Through a String\n",
    "\n",
    "Strings are iterable objects, they contain a sequence of characters."
   ],
   "cell_type": "markdown",
   "metadata": {}
  },
  {
   "cell_type": "code",
   "execution_count": 6,
   "metadata": {
    "tags": []
   },
   "outputs": [
    {
     "output_type": "stream",
     "name": "stdout",
     "text": [
      "s\nt\nr\ni\nn\ng\n"
     ]
    }
   ],
   "source": [
    "for s in 'string':\n",
    "    print(s)"
   ]
  },
  {
   "source": [
    "The `break` statement stops the loop before it has looped through all the items."
   ],
   "cell_type": "markdown",
   "metadata": {}
  },
  {
   "cell_type": "code",
   "execution_count": 7,
   "metadata": {
    "tags": []
   },
   "outputs": [
    {
     "output_type": "stream",
     "name": "stdout",
     "text": [
      "John\nRose\n"
     ]
    }
   ],
   "source": [
    "# Exit the loop when s is 'Mary'\n",
    "students =  ['John', 'Rose', 'Mary', 'Anna']\n",
    "for s in students:\n",
    "    if s == 'Mary':\n",
    "        break\n",
    "    print(s)"
   ]
  },
  {
   "source": [
    "The `continue` statement stops the current iteration of the loop, and continue with the next."
   ],
   "cell_type": "markdown",
   "metadata": {}
  },
  {
   "cell_type": "code",
   "execution_count": 8,
   "metadata": {
    "tags": []
   },
   "outputs": [
    {
     "output_type": "stream",
     "name": "stdout",
     "text": [
      "John\n",
      "Rose\n",
      "Anna\n"
     ]
    }
   ],
   "source": [
    "students =  ['John', 'Rose', 'Mary', 'Anna']\n",
    "for s in students:\n",
    "    if s == 'Mary':\n",
    "        continue\n",
    "    print(s)"
   ]
  },
  {
   "source": [
    "Notice that in this case the foor loop printed all the name but Mary."
   ],
   "cell_type": "markdown",
   "metadata": {}
  },
  {
   "source": [
    "The `range()` function returns a sequence of numbers, starting from 0 by default, and increments by 1 (by default)."
   ],
   "cell_type": "markdown",
   "metadata": {}
  },
  {
   "cell_type": "code",
   "execution_count": 9,
   "metadata": {
    "tags": []
   },
   "outputs": [
    {
     "output_type": "stream",
     "name": "stdout",
     "text": [
      "0\n1\n2\n3\n4\n"
     ]
    }
   ],
   "source": [
    "for x in range(5):\n",
    "    print(x)"
   ]
  },
  {
   "cell_type": "code",
   "execution_count": 10,
   "metadata": {
    "tags": []
   },
   "outputs": [
    {
     "output_type": "stream",
     "name": "stdout",
     "text": [
      "2\n3\n4\n"
     ]
    }
   ],
   "source": [
    "# print the values from 2 to 5-1\n",
    "for x in range(2,5):\n",
    "    print(x)"
   ]
  },
  {
   "cell_type": "code",
   "execution_count": 11,
   "metadata": {
    "tags": []
   },
   "outputs": [
    {
     "output_type": "stream",
     "name": "stdout",
     "text": [
      "2\n",
      "4\n",
      "6\n",
      "8\n"
     ]
    }
   ],
   "source": [
    "# increment the sequence by 2 (default is 1)\n",
    "for x in range(2,10,2):\n",
    "    print(x)"
   ]
  },
  {
   "cell_type": "code",
   "execution_count": 12,
   "metadata": {
    "tags": []
   },
   "outputs": [
    {
     "output_type": "stream",
     "name": "stdout",
     "text": [
      "3\n13\n23\n33\n43\n"
     ]
    }
   ],
   "source": [
    "# increment the sequence by 10 \n",
    "for x in range(3,45,10):\n",
    "    print(x)"
   ]
  },
  {
   "source": [
    "`else` in For Loop: The else keyword in a for loop specifies a block of code to be executed when the loop is finished."
   ],
   "cell_type": "markdown",
   "metadata": {}
  },
  {
   "cell_type": "code",
   "execution_count": 13,
   "metadata": {
    "tags": []
   },
   "outputs": [
    {
     "output_type": "stream",
     "name": "stdout",
     "text": [
      "0\n1\n2\n3\n4\n5\nFinally finished!\n"
     ]
    }
   ],
   "source": [
    "# Print all numbers from 0 to 5, and print a message when the loop has ended:\n",
    "for x in range(6):\n",
    "  print(x)\n",
    "else:\n",
    "  print(\"Finally finished!\")"
   ]
  },
  {
   "source": [
    "### Nested loops"
   ],
   "cell_type": "markdown",
   "metadata": {}
  },
  {
   "cell_type": "code",
   "execution_count": 14,
   "metadata": {
    "tags": []
   },
   "outputs": [
    {
     "output_type": "stream",
     "name": "stdout",
     "text": [
      "smart John\nsmart Mary\nsmart Anna\npolite John\npolite Mary\npolite Anna\n"
     ]
    }
   ],
   "source": [
    "# print each adjective for every student\n",
    "adj = ['smart', 'polite']\n",
    "students = ['John', 'Mary', 'Anna']\n",
    "for a in adj:\n",
    "    for s in students:\n",
    "        print(a,s)"
   ]
  },
  {
   "cell_type": "code",
   "execution_count": 15,
   "metadata": {
    "tags": []
   },
   "outputs": [
    {
     "output_type": "stream",
     "name": "stdout",
     "text": [
      "( 1 , 1 )\n",
      "( 1 , 2 )\n",
      "( 1 , 3 )\n",
      "( 1 , 4 )\n",
      "( 1 , 5 )\n",
      "( 1 , 6 )\n",
      "( 2 , 1 )\n",
      "( 2 , 2 )\n",
      "( 2 , 3 )\n",
      "( 2 , 4 )\n",
      "( 2 , 5 )\n",
      "( 2 , 6 )\n",
      "( 3 , 1 )\n",
      "( 3 , 2 )\n",
      "( 3 , 3 )\n",
      "( 3 , 4 )\n",
      "( 3 , 5 )\n",
      "( 3 , 6 )\n",
      "( 4 , 1 )\n",
      "( 4 , 2 )\n",
      "( 4 , 3 )\n",
      "( 4 , 4 )\n",
      "( 4 , 5 )\n",
      "( 4 , 6 )\n",
      "( 5 , 1 )\n",
      "( 5 , 2 )\n",
      "( 5 , 3 )\n",
      "( 5 , 4 )\n",
      "( 5 , 5 )\n",
      "( 5 , 6 )\n",
      "( 6 , 1 )\n",
      "( 6 , 2 )\n",
      "( 6 , 3 )\n",
      "( 6 , 4 )\n",
      "( 6 , 5 )\n",
      "( 6 , 6 )\n"
     ]
    }
   ],
   "source": [
    "# Two dice\n",
    "for i in range(6):\n",
    "    for j in range(6):\n",
    "        print('(',i+1,',',j+1,')')"
   ]
  },
  {
   "source": [
    "### The pass statements\n",
    "\n",
    "`for` loops cannot be empty, but if you for some reason have a for loop with no content, put in the `pass` statement to avoid getting an error."
   ],
   "cell_type": "markdown",
   "metadata": {}
  },
  {
   "cell_type": "code",
   "execution_count": 16,
   "metadata": {},
   "outputs": [],
   "source": [
    "# The pass statement: \n",
    "for x in [0, 1, 'h']:\n",
    "  pass"
   ]
  },
  {
   "source": [
    "Iterating through a Dictionary"
   ],
   "cell_type": "markdown",
   "metadata": {}
  },
  {
   "cell_type": "code",
   "execution_count": 17,
   "metadata": {},
   "outputs": [
    {
     "output_type": "execute_result",
     "data": {
      "text/plain": [
       "dict"
      ]
     },
     "metadata": {},
     "execution_count": 17
    }
   ],
   "source": [
    "d1 = {1:'a', 2:'b', 3:'c'}\n",
    "type(d1)"
   ]
  },
  {
   "cell_type": "code",
   "execution_count": 18,
   "metadata": {},
   "outputs": [
    {
     "output_type": "stream",
     "name": "stdout",
     "text": [
      "1\n2\n3\n"
     ]
    }
   ],
   "source": [
    "for k in d1:\n",
    "    print(k)"
   ]
  },
  {
   "source": [
    "As you can see, when a for loop iterates through a dictionary, the loop variable is assigned to the dictionary’s keys.\n",
    "\n",
    "To access the dictionary values within the loop, you can make a dictionary reference using the key as usual:"
   ],
   "cell_type": "markdown",
   "metadata": {}
  },
  {
   "cell_type": "code",
   "execution_count": 19,
   "metadata": {},
   "outputs": [
    {
     "output_type": "stream",
     "name": "stdout",
     "text": [
      "a\nb\nc\n"
     ]
    }
   ],
   "source": [
    "for k in d1:\n",
    "    print(d1[k])"
   ]
  },
  {
   "source": [
    "We can use `d1.keys()` to iterate over every key in the dictionary:"
   ],
   "cell_type": "markdown",
   "metadata": {}
  },
  {
   "cell_type": "code",
   "execution_count": 20,
   "metadata": {},
   "outputs": [
    {
     "output_type": "stream",
     "name": "stdout",
     "text": [
      "1\n2\n3\n"
     ]
    }
   ],
   "source": [
    "for k in d1.keys():\n",
    "    print(k)"
   ]
  },
  {
   "source": [
    "We can use d1.values() to iterate over every value in the dictionary:"
   ],
   "cell_type": "markdown",
   "metadata": {}
  },
  {
   "cell_type": "code",
   "execution_count": 21,
   "metadata": {},
   "outputs": [
    {
     "output_type": "stream",
     "name": "stdout",
     "text": [
      "a\nb\nc\n"
     ]
    }
   ],
   "source": [
    "for k in d1.values():\n",
    "    print(k)"
   ]
  },
  {
   "cell_type": "code",
   "execution_count": null,
   "metadata": {},
   "outputs": [],
   "source": []
  }
 ],
 "metadata": {
  "language_info": {
   "codemirror_mode": {
    "name": "ipython",
    "version": 3
   },
   "file_extension": ".py",
   "mimetype": "text/x-python",
   "name": "python",
   "nbconvert_exporter": "python",
   "pygments_lexer": "ipython3",
   "version": "3.9.1-final"
  },
  "orig_nbformat": 2,
  "kernelspec": {
   "name": "python3",
   "display_name": "Python 3.9.1 64-bit",
   "metadata": {
    "interpreter": {
     "hash": "63fd5069d213b44bf678585dea6b12cceca9941eaf7f819626cde1f2670de90d"
    }
   }
  }
 },
 "nbformat": 4,
 "nbformat_minor": 2
}