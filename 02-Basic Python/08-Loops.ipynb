{
 "cells": [
  {
   "cell_type": "markdown",
   "metadata": {},
   "source": [
    "# Python loop"
   ]
  },
  {
   "cell_type": "markdown",
   "metadata": {},
   "source": [
    "## Objectives"
   ]
  },
  {
   "cell_type": "markdown",
   "metadata": {},
   "source": [
    "- Learn the syntax and use cases for **for** and **while** loops.\n",
    "- Understand loop control statements such as **break**, **continue**, and **pass**.\n",
    "- Explore practical applications of loops in data processing."
   ]
  },
  {
   "cell_type": "markdown",
   "metadata": {},
   "source": [
    "## Background"
   ]
  },
  {
   "cell_type": "markdown",
   "metadata": {},
   "source": [
    "Loops in Python provide a way to automate repetitive tasks, making it an essential tool for data processing and iterative operations."
   ]
  },
  {
   "cell_type": "markdown",
   "metadata": {},
   "source": [
    "## Datasets Used"
   ]
  },
  {
   "cell_type": "markdown",
   "metadata": {},
   "source": [
    "This notebook does not use external datasets. It focuses on Python statements for executing a code block several times."
   ]
  },
  {
   "cell_type": "markdown",
   "metadata": {},
   "source": [
    "## While loop"
   ]
  },
  {
   "cell_type": "markdown",
   "metadata": {},
   "source": [
    "While loop executes a set of statements as long as a condition is true."
   ]
  },
  {
   "cell_type": "code",
   "execution_count": 1,
   "metadata": {
    "tags": []
   },
   "outputs": [
    {
     "name": "stdout",
     "output_type": "stream",
     "text": [
      "0\n",
      "1\n",
      "2\n",
      "3\n",
      "4\n"
     ]
    }
   ],
   "source": [
    "# A simple task is to print the integer numbers lower than a specified N.\n",
    "i = 0\n",
    "n = 5\n",
    "while i < n:\n",
    "    print(i)\n",
    "    i += 1"
   ]
  },
  {
   "cell_type": "code",
   "execution_count": 2,
   "metadata": {},
   "outputs": [
    {
     "name": "stdout",
     "output_type": "stream",
     "text": [
      "Found at index 2 with value: 3\n"
     ]
    }
   ],
   "source": [
    "# A task more appropiate for a while statement is to loop over a sequence (list, tuple, etc.) searching for a specific element.\n",
    "# The following code will use the walrus operator to simplify the code (Python 3.8+).\n",
    "i = 0\n",
    "seq = [1, 2, 3, 4, 5]\n",
    "found = False\n",
    "while not found and (i < len(seq)):\n",
    "    if not (found := (seq[i] == 3)):\n",
    "        i += 1\n",
    "if found:\n",
    "    print(f'Found at index {i} with value: {seq[i]}')\n",
    "else:\n",
    "    print('Not found!')"
   ]
  },
  {
   "cell_type": "code",
   "execution_count": 3,
   "metadata": {},
   "outputs": [
    {
     "name": "stdout",
     "output_type": "stream",
     "text": [
      "Found at index 2 with value: 3\n"
     ]
    }
   ],
   "source": [
    "# Another option is to avoid the use of the variable found by using a break statement.\n",
    "i = 0\n",
    "while not_done := i < len(seq):\n",
    "    if seq[i] == 3:\n",
    "        break\n",
    "    i += 1\n",
    "if not_done:\n",
    "    print(f'Found at index {i} with value: {seq[i]}')\n",
    "else:\n",
    "    print('Not found!')"
   ]
  },
  {
   "cell_type": "markdown",
   "metadata": {},
   "source": [
    "Remember to increment i, or the loop will continue forever."
   ]
  },
  {
   "cell_type": "markdown",
   "metadata": {},
   "source": [
    "The `break` statement: we can stop the loop even if the while condition is true:"
   ]
  },
  {
   "cell_type": "markdown",
   "metadata": {},
   "source": [
    "When you have `while True` you need a break sentence for leaving the loop."
   ]
  },
  {
   "cell_type": "markdown",
   "metadata": {},
   "source": [
    "With the `continue` statement: we can stop the current iteration, and continue with the next"
   ]
  },
  {
   "cell_type": "code",
   "execution_count": 4,
   "metadata": {
    "tags": []
   },
   "outputs": [
    {
     "name": "stdout",
     "output_type": "stream",
     "text": [
      "New min_val = 1\n",
      "Final min_val = 1\n"
     ]
    }
   ],
   "source": [
    "# The task this time is to find the minimum integer value in a sequence that contains numbers and strings.\n",
    "i = 0\n",
    "seq = [1, '2', 3, '4', 5]\n",
    "min_val = None\n",
    "while i < len(seq):\n",
    "    val = seq[i]\n",
    "    i += 1\n",
    "    if not isinstance(val, int):\n",
    "        # Skip non-integer values\n",
    "        continue\n",
    "    # Analyze the integer value looking for the minimum\n",
    "    if min_val is None or val < min_val:\n",
    "        min_val = val\n",
    "        print(f'New min_val = {min_val}')\n",
    "print(f'Final min_val = {min_val}')"
   ]
  },
  {
   "cell_type": "markdown",
   "metadata": {},
   "source": [
    "The `else` statement will run a block of code once the condition is false:"
   ]
  },
  {
   "cell_type": "code",
   "execution_count": 5,
   "metadata": {
    "tags": []
   },
   "outputs": [
    {
     "name": "stdout",
     "output_type": "stream",
     "text": [
      "0\n",
      "1\n",
      "2\n",
      "3\n",
      "4\n",
      "i = 5 is no longer less than 5\n"
     ]
    }
   ],
   "source": [
    "# Print a message once the condition is false:\n",
    "i = 0\n",
    "while i < 5:\n",
    "    print(i)\n",
    "    i += 1\n",
    "else:\n",
    "    print(f'i = {i} is no longer less than 5')"
   ]
  },
  {
   "cell_type": "markdown",
   "metadata": {},
   "source": [
    "The while's else branch is always executed once, regardless of whether the loop has entered its body or not."
   ]
  },
  {
   "cell_type": "code",
   "execution_count": 6,
   "metadata": {},
   "outputs": [
    {
     "name": "stdout",
     "output_type": "stream",
     "text": [
      "1 in else\n"
     ]
    }
   ],
   "source": [
    "i = 1\n",
    "while i > 5:\n",
    "    print(f'{i} in loop')\n",
    "    i += 1\n",
    "else:\n",
    "    print(f'{i} in else')"
   ]
  },
  {
   "cell_type": "markdown",
   "metadata": {},
   "source": [
    "## For loop"
   ]
  },
  {
   "cell_type": "markdown",
   "metadata": {},
   "source": [
    "A `for` loop iterates over a sequence (list, tuple, dictionary, set, or string).\n",
    "\n",
    "```\n",
    "for element in sequence:\n",
    "    pass\n",
    "```"
   ]
  },
  {
   "cell_type": "code",
   "execution_count": 7,
   "metadata": {
    "tags": []
   },
   "outputs": [
    {
     "name": "stdout",
     "output_type": "stream",
     "text": [
      "John\n",
      "Mary\n",
      "Anna\n",
      "\n",
      "Mary\n",
      "Anna\n"
     ]
    }
   ],
   "source": [
    "# Print each name in the students list\n",
    "students = ['John', 'Mary', 'Anna']\n",
    "for s in students:\n",
    "    print(s)"
   ]
  },
  {
   "cell_type": "code",
   "execution_count": 8,
   "metadata": {},
   "outputs": [
    {
     "name": "stdout",
     "output_type": "stream",
     "text": [
      "guava\n",
      "mango\n",
      "cherry\n",
      "pear\n"
     ]
    }
   ],
   "source": [
    "# looping over tuples\n",
    "fruits = ('guava', 'mango', 'cherry', 'pear')\n",
    "for fruit in fruits:\n",
    "    print(fruit)"
   ]
  },
  {
   "cell_type": "code",
   "execution_count": 9,
   "metadata": {},
   "outputs": [
    {
     "name": "stdout",
     "output_type": "stream",
     "text": [
      "0 guava\n",
      "1 mango\n",
      "2 cherry\n",
      "3 pear\n"
     ]
    }
   ],
   "source": [
    "# looping with index\n",
    "for i in range(len(fruits)):\n",
    "    print(i, fruits[i])"
   ]
  },
  {
   "cell_type": "markdown",
   "metadata": {},
   "source": [
    "**enumerate()**: is a built-in function that returns an enumerated object. It can be used to loop over the sequence and get the index of the value."
   ]
  },
  {
   "cell_type": "code",
   "execution_count": 10,
   "metadata": {},
   "outputs": [
    {
     "name": "stdout",
     "output_type": "stream",
     "text": [
      "0 guava\n",
      "1 mango\n",
      "2 cherry\n",
      "3 pear\n"
     ]
    }
   ],
   "source": [
    "for i, fruit in enumerate(fruits):\n",
    "    print(i, fruit)"
   ]
  },
  {
   "cell_type": "markdown",
   "metadata": {},
   "source": [
    "Strings are iterable objects, they contain a sequence of characters."
   ]
  },
  {
   "cell_type": "code",
   "execution_count": 11,
   "metadata": {
    "tags": []
   },
   "outputs": [
    {
     "name": "stdout",
     "output_type": "stream",
     "text": [
      "s\n",
      "t\n",
      "r\n",
      "i\n",
      "n\n",
      "g\n"
     ]
    }
   ],
   "source": [
    "# Looping through a string\n",
    "for s in 'string':\n",
    "    print(s)"
   ]
  },
  {
   "cell_type": "markdown",
   "metadata": {},
   "source": [
    "The `break` statement stops the loop before it has looped through all the items.\n",
    "\n",
    "`break` exits the loop immediately, and unconditionally ends the loop's operation. The program begins to execute the nearest instruction after the loop's body."
   ]
  },
  {
   "cell_type": "code",
   "execution_count": 12,
   "metadata": {
    "tags": []
   },
   "outputs": [
    {
     "name": "stdout",
     "output_type": "stream",
     "text": [
      "John\n",
      "Rose\n"
     ]
    }
   ],
   "source": [
    "# Exit the loop when s is 'Mary'\n",
    "students =  ['John', 'Rose', 'Mary', 'Anna']\n",
    "for s in students:\n",
    "    if s == 'Mary':\n",
    "        break\n",
    "    print(s)"
   ]
  },
  {
   "cell_type": "markdown",
   "metadata": {},
   "source": [
    "The `continue` statement stops the current iteration of the loop, and continue with the next."
   ]
  },
  {
   "cell_type": "code",
   "execution_count": 13,
   "metadata": {
    "tags": []
   },
   "outputs": [
    {
     "name": "stdout",
     "output_type": "stream",
     "text": [
      "John\n",
      "Rose\n",
      "Anna\n"
     ]
    }
   ],
   "source": [
    "students =  ['John', 'Rose', 'Mary', 'Anna']\n",
    "for s in students:\n",
    "    if s == 'Mary':\n",
    "        continue\n",
    "    print(s)"
   ]
  },
  {
   "cell_type": "markdown",
   "metadata": {},
   "source": [
    "Notice that in this case the for loop printed all the names but Mary."
   ]
  },
  {
   "cell_type": "code",
   "execution_count": 14,
   "metadata": {},
   "outputs": [
    {
     "name": "stdout",
     "output_type": "stream",
     "text": [
      "1\n",
      "3\n",
      "5\n",
      "7\n",
      "9\n",
      "Sum = 25\n"
     ]
    }
   ],
   "source": [
    "# Adding odd numbers\n",
    "sum = 0\n",
    "for i in range(10):\n",
    "    # Skip even numbers\n",
    "    if i % 2 == 0:\n",
    "        continue\n",
    "    # Print and add odd numbers\n",
    "    print(i)\n",
    "    sum += i\n",
    "print('Sum =', sum)   "
   ]
  },
  {
   "cell_type": "markdown",
   "metadata": {},
   "source": [
    "**range()**: returns a sequence of numbers, starting from 0 by default, and increments by 1 (by default), as many times as requested.\n",
    "**range(n)** will loop from 0 to n-1."
   ]
  },
  {
   "cell_type": "code",
   "execution_count": 15,
   "metadata": {
    "tags": []
   },
   "outputs": [
    {
     "name": "stdout",
     "output_type": "stream",
     "text": [
      "0\n",
      "1\n",
      "2\n",
      "3\n",
      "4\n"
     ]
    }
   ],
   "source": [
    "for x in range(5):\n",
    "    print(x)"
   ]
  },
  {
   "cell_type": "code",
   "execution_count": 16,
   "metadata": {
    "tags": []
   },
   "outputs": [
    {
     "name": "stdout",
     "output_type": "stream",
     "text": [
      "2\n",
      "3\n",
      "4\n"
     ]
    }
   ],
   "source": [
    "# print the values from 2 to 5-1\n",
    "for x in range(2, 5):\n",
    "    print(x)"
   ]
  },
  {
   "cell_type": "markdown",
   "metadata": {},
   "source": [
    "Use range(a, b) for looping from a (included) to b - 1 (b not included)."
   ]
  },
  {
   "cell_type": "code",
   "execution_count": 17,
   "metadata": {
    "tags": []
   },
   "outputs": [
    {
     "name": "stdout",
     "output_type": "stream",
     "text": [
      "2\n",
      "4\n",
      "6\n",
      "8\n"
     ]
    }
   ],
   "source": [
    "# increment the sequence by 2 (default is 1)\n",
    "for x in range(2, 10, 2):\n",
    "    print(x)"
   ]
  },
  {
   "cell_type": "code",
   "execution_count": 18,
   "metadata": {
    "tags": []
   },
   "outputs": [
    {
     "name": "stdout",
     "output_type": "stream",
     "text": [
      "3\n",
      "13\n",
      "23\n",
      "33\n",
      "43\n"
     ]
    }
   ],
   "source": [
    "# increment the sequence by 10 \n",
    "for x in range(3, 45, 10):\n",
    "    print(x)"
   ]
  },
  {
   "cell_type": "markdown",
   "metadata": {},
   "source": [
    "The increment can be a negative number."
   ]
  },
  {
   "cell_type": "code",
   "execution_count": 19,
   "metadata": {},
   "outputs": [
    {
     "name": "stdout",
     "output_type": "stream",
     "text": [
      "20\n",
      "18\n",
      "16\n",
      "14\n",
      "12\n"
     ]
    }
   ],
   "source": [
    "# decrement the sequence by 2 (increment by -2)\n",
    "for x in range(20, 10, -2):\n",
    "    print(x)"
   ]
  },
  {
   "cell_type": "markdown",
   "metadata": {},
   "source": [
    "`else` in For Loop: The else keyword in a for loop specifies a block of code to be executed when the loop is finished."
   ]
  },
  {
   "cell_type": "code",
   "execution_count": 20,
   "metadata": {
    "tags": []
   },
   "outputs": [
    {
     "name": "stdout",
     "output_type": "stream",
     "text": [
      "0\n",
      "1\n",
      "2\n",
      "3\n",
      "4\n",
      "5\n",
      "Finally done!\n"
     ]
    }
   ],
   "source": [
    "# Print all numbers from 0 to 5 \n",
    "# Print a message when the loop ends\n",
    "for x in range(6):\n",
    "  print(x)\n",
    "else:\n",
    "  print(\"Finally done!\")"
   ]
  },
  {
   "cell_type": "code",
   "execution_count": 21,
   "metadata": {},
   "outputs": [
    {
     "name": "stdout",
     "output_type": "stream",
     "text": [
      "0\n",
      "1\n",
      "2\n",
      "3\n",
      "4\n",
      "else: 4\n"
     ]
    }
   ],
   "source": [
    "# Example of for with else branch\n",
    "# Notice that current Python keeps the value of the loop variable after done\n",
    "# This is different from other languages like C, C++, Java, etc.\n",
    "for i in range(5):\n",
    "    print(i)\n",
    "else:\n",
    "    print(\"else:\", i)"
   ]
  },
  {
   "cell_type": "markdown",
   "metadata": {},
   "source": [
    "### Nested for loops"
   ]
  },
  {
   "cell_type": "code",
   "execution_count": 22,
   "metadata": {},
   "outputs": [
    {
     "name": "stdout",
     "output_type": "stream",
     "text": [
      "The sum of all elements in the matrix is: 45\n"
     ]
    }
   ],
   "source": [
    "# Using nested for loops to iterate over a 2D list (matrix)\n",
    "# Define a 2D list (matrix)\n",
    "matrix = [\n",
    "    [1, 2, 3],\n",
    "    [4, 5, 6],\n",
    "    [7, 8, 9]\n",
    "]\n",
    "\n",
    "# Initialize a variable to hold the sum of all elements\n",
    "total_sum = 0\n",
    "\n",
    "# Iterate over each row in the matrix\n",
    "for row in matrix:\n",
    "    # Iterate over each element in the row\n",
    "    for element in row:\n",
    "        # Add the element to the total sum\n",
    "        total_sum += element\n",
    "\n",
    "# Print the total sum\n",
    "print(f'The sum of all elements in the matrix is: {total_sum}')\n"
   ]
  },
  {
   "cell_type": "code",
   "execution_count": 23,
   "metadata": {
    "tags": []
   },
   "outputs": [
    {
     "name": "stdout",
     "output_type": "stream",
     "text": [
      "(1, 1)\n",
      "(1, 2)\n",
      "(1, 3)\n",
      "(1, 4)\n",
      "(1, 5)\n",
      "(1, 6)\n",
      "(2, 1)\n",
      "(2, 2)\n",
      "(2, 3)\n",
      "(2, 4)\n",
      "(2, 5)\n",
      "(2, 6)\n",
      "(3, 1)\n",
      "(3, 2)\n",
      "(3, 3)\n",
      "(3, 4)\n",
      "(3, 5)\n",
      "(3, 6)\n",
      "(4, 1)\n",
      "(4, 2)\n",
      "(4, 3)\n",
      "(4, 4)\n",
      "(4, 5)\n",
      "(4, 6)\n",
      "(5, 1)\n",
      "(5, 2)\n",
      "(5, 3)\n",
      "(5, 4)\n",
      "(5, 5)\n",
      "(5, 6)\n",
      "(6, 1)\n",
      "(6, 2)\n",
      "(6, 3)\n",
      "(6, 4)\n",
      "(6, 5)\n",
      "(6, 6)\n"
     ]
    }
   ],
   "source": [
    "# Two dice\n",
    "for i in range(6):\n",
    "    for j in range(6):\n",
    "        print((i + 1, j + 1))"
   ]
  },
  {
   "cell_type": "markdown",
   "metadata": {},
   "source": [
    "### The `pass` statement"
   ]
  },
  {
   "cell_type": "markdown",
   "metadata": {},
   "source": [
    "`for` loops cannot be empty, but if you for some reason have a for loop with no content, put in the `pass` statement to avoid getting an error."
   ]
  },
  {
   "cell_type": "code",
   "execution_count": 24,
   "metadata": {},
   "outputs": [],
   "source": [
    "# The pass statement: \n",
    "for x in [0, 1, 'h']:\n",
    "    pass"
   ]
  },
  {
   "cell_type": "markdown",
   "metadata": {},
   "source": [
    "**Iterating through a Dictionary**"
   ]
  },
  {
   "cell_type": "code",
   "execution_count": 25,
   "metadata": {},
   "outputs": [
    {
     "data": {
      "text/plain": [
       "dict"
      ]
     },
     "execution_count": 25,
     "metadata": {},
     "output_type": "execute_result"
    }
   ],
   "source": [
    "d1 = {1:'a', 2:'b', 3:'c'}\n",
    "type(d1)"
   ]
  },
  {
   "cell_type": "code",
   "execution_count": 26,
   "metadata": {},
   "outputs": [
    {
     "name": "stdout",
     "output_type": "stream",
     "text": [
      "1\n",
      "2\n",
      "3\n"
     ]
    }
   ],
   "source": [
    "for k in d1:\n",
    "    print(k)"
   ]
  },
  {
   "cell_type": "markdown",
   "metadata": {},
   "source": [
    "As you can see, when a for loop iterates through a dictionary, the loop variable is assigned to the dictionary’s keys.\n",
    "\n",
    "To access the dictionary values within the loop, you can make a dictionary reference using the key as usual:"
   ]
  },
  {
   "cell_type": "code",
   "execution_count": 27,
   "metadata": {},
   "outputs": [
    {
     "name": "stdout",
     "output_type": "stream",
     "text": [
      "a\n",
      "b\n",
      "c\n"
     ]
    }
   ],
   "source": [
    "for k in d1:\n",
    "    print(d1[k])"
   ]
  },
  {
   "cell_type": "markdown",
   "metadata": {},
   "source": [
    "We can use `d1.keys()` to iterate over every key in the dictionary:"
   ]
  },
  {
   "cell_type": "code",
   "execution_count": 28,
   "metadata": {},
   "outputs": [
    {
     "name": "stdout",
     "output_type": "stream",
     "text": [
      "1\n",
      "2\n",
      "3\n"
     ]
    }
   ],
   "source": [
    "for k in d1.keys():\n",
    "    print(k)"
   ]
  },
  {
   "cell_type": "markdown",
   "metadata": {},
   "source": [
    "We can use d1.values() to iterate over every value in the dictionary:"
   ]
  },
  {
   "cell_type": "code",
   "execution_count": 29,
   "metadata": {},
   "outputs": [
    {
     "name": "stdout",
     "output_type": "stream",
     "text": [
      "a\n",
      "b\n",
      "c\n"
     ]
    }
   ],
   "source": [
    "for k in d1.values():\n",
    "    print(k)"
   ]
  },
  {
   "cell_type": "markdown",
   "metadata": {},
   "source": [
    "## Conclusions"
   ]
  },
  {
   "cell_type": "markdown",
   "metadata": {},
   "source": [
    "Key Takeaways:\n",
    "- Loops provide the fundamental mechanism for iterating over sequences or executing a block of code multiple times, a cornerstone for automating repetitive tasks.\n",
    "- The versatility of for and while loops allows for their application in various scenarios, from iterating through items in a collection to performing actions until a condition is met.\n",
    "- Utilizing control statements like break, continue, and else within loops enhances control over the execution flow, allowing for more precise and efficient looping behavior."
   ]
  },
  {
   "cell_type": "markdown",
   "metadata": {},
   "source": [
    "## References"
   ]
  },
  {
   "cell_type": "markdown",
   "metadata": {},
   "source": [
    "- VanderPlas, J. (2017) Python Data Science Handbook: Essential Tools for Working with Data. USA: O’Reilly Media, Inc. "
   ]
  }
 ],
 "metadata": {
  "kernelspec": {
   "display_name": "Python 3.10.6 64-bit (microsoft store)",
   "language": "python",
   "name": "python3"
  },
  "language_info": {
   "codemirror_mode": {
    "name": "ipython",
    "version": 3
   },
   "file_extension": ".py",
   "mimetype": "text/x-python",
   "name": "python",
   "nbconvert_exporter": "python",
   "pygments_lexer": "ipython3",
   "version": "3.12.3"
  },
  "orig_nbformat": 2,
  "vscode": {
   "interpreter": {
    "hash": "f6ce50080babb3e2c9dded3d344b1d82a47cf5d6f13f4c2ab5a2113adb8feaef"
   }
  }
 },
 "nbformat": 4,
 "nbformat_minor": 2
}
