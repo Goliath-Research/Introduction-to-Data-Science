{
 "cells": [
  {
   "source": [
    "# Python functions"
   ],
   "cell_type": "markdown",
   "metadata": {}
  },
  {
   "source": [
    "- A function is a block of code which only runs when it is called.\n",
    "- You can pass data to the function using its parameters.\n",
    "- A function can return data as a result."
   ],
   "cell_type": "markdown",
   "metadata": {}
  },
  {
   "source": [
    "Creating the first function:"
   ],
   "cell_type": "markdown",
   "metadata": {}
  },
  {
   "cell_type": "code",
   "execution_count": 1,
   "metadata": {},
   "outputs": [],
   "source": [
    "def first_function():\n",
    "    print('Hello world!') "
   ]
  },
  {
   "source": [
    "Calling the function:"
   ],
   "cell_type": "markdown",
   "metadata": {}
  },
  {
   "cell_type": "code",
   "execution_count": 2,
   "metadata": {
    "tags": []
   },
   "outputs": [
    {
     "output_type": "stream",
     "name": "stdout",
     "text": [
      "Hello world!\n"
     ]
    }
   ],
   "source": [
    "first_function()"
   ]
  },
  {
   "source": [
    "Information can be passed into functions as `arguments`.\n",
    "\n",
    "Arguments are specified after the function name, inside the parentheses. You can add as many arguments as you want, just separate them with a comma.\n",
    "\n",
    "Arguments are often shortened to `args` in Python documentations."
   ],
   "cell_type": "markdown",
   "metadata": {}
  },
  {
   "source": [
    "Defining a function with an argument:"
   ],
   "cell_type": "markdown",
   "metadata": {}
  },
  {
   "cell_type": "code",
   "execution_count": 3,
   "metadata": {},
   "outputs": [],
   "source": [
    "def hello(name):\n",
    "    print('Hello',name)"
   ]
  },
  {
   "source": [
    "Calling the function:"
   ],
   "cell_type": "markdown",
   "metadata": {}
  },
  {
   "cell_type": "code",
   "execution_count": 4,
   "metadata": {
    "tags": []
   },
   "outputs": [
    {
     "output_type": "stream",
     "name": "stdout",
     "text": [
      "Hello John\n"
     ]
    }
   ],
   "source": [
    "hello('John')"
   ]
  },
  {
   "cell_type": "code",
   "execution_count": 5,
   "metadata": {
    "tags": []
   },
   "outputs": [
    {
     "output_type": "stream",
     "name": "stdout",
     "text": [
      "Hello Mary\n"
     ]
    }
   ],
   "source": [
    "hello('Mary')"
   ]
  },
  {
   "source": [
    "`Number of arguments`: a function must be called with the correct number of arguments."
   ],
   "cell_type": "markdown",
   "metadata": {}
  },
  {
   "cell_type": "code",
   "execution_count": 6,
   "metadata": {},
   "outputs": [
    {
     "output_type": "error",
     "ename": "TypeError",
     "evalue": "hello() takes 1 positional argument but 2 were given",
     "traceback": [
      "\u001b[1;31m---------------------------------------------------------------------------\u001b[0m",
      "\u001b[1;31mTypeError\u001b[0m                                 Traceback (most recent call last)",
      "\u001b[1;32m<ipython-input-6-e367e32c2cef>\u001b[0m in \u001b[0;36m<module>\u001b[1;34m\u001b[0m\n\u001b[1;32m----> 1\u001b[1;33m \u001b[0mhello\u001b[0m\u001b[1;33m(\u001b[0m\u001b[1;34m'Mary'\u001b[0m\u001b[1;33m,\u001b[0m \u001b[1;34m'John'\u001b[0m\u001b[1;33m)\u001b[0m           \u001b[1;31m# This will raise an error\u001b[0m\u001b[1;33m\u001b[0m\u001b[1;33m\u001b[0m\u001b[0m\n\u001b[0m",
      "\u001b[1;31mTypeError\u001b[0m: hello() takes 1 positional argument but 2 were given"
     ]
    }
   ],
   "source": [
    "hello('Mary', 'John')           # This will raise an error"
   ]
  },
  {
   "source": [
    "`Arbitrary Arguments`: if the number of arguments is unknown, add a * before the parameter name. This way the function will receive a tuple of arguments, and can access the items accordingly.\n",
    "\n",
    "Arbitrary Arguments are often shortened to `*args` in Python documentations."
   ],
   "cell_type": "markdown",
   "metadata": {}
  },
  {
   "cell_type": "code",
   "execution_count": 7,
   "metadata": {},
   "outputs": [],
   "source": [
    "def youngest_kid(*kids):\n",
    "    print('The youngest child is', kids[0])"
   ]
  },
  {
   "source": [
    "The function youngest_kid assumes that the list of kids is sorted, and that way the youngest kid is always the first one. "
   ],
   "cell_type": "markdown",
   "metadata": {}
  },
  {
   "cell_type": "code",
   "execution_count": 8,
   "metadata": {
    "tags": []
   },
   "outputs": [
    {
     "output_type": "stream",
     "name": "stdout",
     "text": [
      "The youngest child is John\n"
     ]
    }
   ],
   "source": [
    "youngest_kid('John','Mary','Anna')"
   ]
  },
  {
   "cell_type": "code",
   "execution_count": 9,
   "metadata": {
    "tags": []
   },
   "outputs": [
    {
     "output_type": "stream",
     "name": "stdout",
     "text": [
      "The youngest child is John\n"
     ]
    }
   ],
   "source": [
    "youngest_kid('John','Mary','Anna','Raul')"
   ]
  },
  {
   "cell_type": "code",
   "execution_count": 10,
   "metadata": {},
   "outputs": [
    {
     "output_type": "stream",
     "name": "stdout",
     "text": [
      "The youngest child is Anna\n"
     ]
    }
   ],
   "source": [
    "youngest_kid('Anna', 'John','Mary','Raul')"
   ]
  },
  {
   "source": [
    "`Keywords Arguments`: You can also send arguments with the key = value syntax. This way the order of the arguments does not matter."
   ],
   "cell_type": "markdown",
   "metadata": {}
  },
  {
   "cell_type": "code",
   "execution_count": 11,
   "metadata": {},
   "outputs": [],
   "source": [
    "def youngest_kid(child3, child2, child1):\n",
    "    print('The youngest child is', child1)"
   ]
  },
  {
   "cell_type": "code",
   "execution_count": 12,
   "metadata": {
    "tags": []
   },
   "outputs": [
    {
     "output_type": "stream",
     "name": "stdout",
     "text": [
      "The youngest child is John\n"
     ]
    }
   ],
   "source": [
    "youngest_kid(child1='John',child2='Mary',child3='Anna')"
   ]
  },
  {
   "cell_type": "code",
   "execution_count": 13,
   "metadata": {
    "tags": []
   },
   "outputs": [
    {
     "output_type": "stream",
     "name": "stdout",
     "text": [
      "The youngest child is John\n"
     ]
    }
   ],
   "source": [
    "youngest_kid(child2='Mary',child3='Anna',child1='John')"
   ]
  },
  {
   "source": [
    "`Arbitrary Keyword Arguments`: If you do not know how many keyword arguments that will be passed into your function, add two asterisk: ** before the parameter name in the function definition. This way the function will receive a dictionary of arguments, and can access the items accordingly.\n",
    "\n",
    "The phrase Keyword Arguments are often shortened to `kwargs` in Python documentations."
   ],
   "cell_type": "markdown",
   "metadata": {}
  },
  {
   "cell_type": "code",
   "execution_count": 14,
   "metadata": {},
   "outputs": [],
   "source": [
    "def youngest_kid(**kid):\n",
    "    print('The youngest child is', kid['child1'])"
   ]
  },
  {
   "cell_type": "code",
   "execution_count": 15,
   "metadata": {
    "tags": []
   },
   "outputs": [
    {
     "output_type": "stream",
     "name": "stdout",
     "text": [
      "The youngest child is Mary\n"
     ]
    }
   ],
   "source": [
    "youngest_kid(child1='Mary',child3='Anna')"
   ]
  },
  {
   "cell_type": "code",
   "execution_count": 16,
   "metadata": {
    "tags": []
   },
   "outputs": [
    {
     "output_type": "stream",
     "name": "stdout",
     "text": [
      "The youngest child is John\n"
     ]
    }
   ],
   "source": [
    "youngest_kid(child1='John',child2='Mary',child4='Anna')"
   ]
  },
  {
   "source": [
    "`Default parameter value`: If we call the function without argument, it uses the default value."
   ],
   "cell_type": "markdown",
   "metadata": {}
  },
  {
   "cell_type": "code",
   "execution_count": 17,
   "metadata": {},
   "outputs": [],
   "source": [
    "def my_country(country='USA'):\n",
    "    print('I am from',country)"
   ]
  },
  {
   "cell_type": "code",
   "execution_count": 18,
   "metadata": {
    "tags": []
   },
   "outputs": [
    {
     "output_type": "stream",
     "name": "stdout",
     "text": [
      "I am from Colombia\n"
     ]
    }
   ],
   "source": [
    "my_country('Colombia')"
   ]
  },
  {
   "cell_type": "code",
   "execution_count": 19,
   "metadata": {
    "tags": []
   },
   "outputs": [
    {
     "output_type": "stream",
     "name": "stdout",
     "text": [
      "I am from Spain\n"
     ]
    }
   ],
   "source": [
    "my_country('Spain')"
   ]
  },
  {
   "cell_type": "code",
   "execution_count": 20,
   "metadata": {
    "tags": []
   },
   "outputs": [
    {
     "output_type": "stream",
     "name": "stdout",
     "text": [
      "I am from USA\n"
     ]
    }
   ],
   "source": [
    "my_country()"
   ]
  },
  {
   "source": [
    "Passing a list as an argument"
   ],
   "cell_type": "markdown",
   "metadata": {}
  },
  {
   "cell_type": "code",
   "execution_count": 21,
   "metadata": {},
   "outputs": [],
   "source": [
    "# Passing a list as an argument\n",
    "def my_food(food):\n",
    "    for x in food:\n",
    "        print(x)"
   ]
  },
  {
   "cell_type": "code",
   "execution_count": 22,
   "metadata": {
    "tags": []
   },
   "outputs": [
    {
     "output_type": "stream",
     "name": "stdout",
     "text": [
      "orange\napple\ngrapes\npatata\n"
     ]
    }
   ],
   "source": [
    "food = ['orange', 'apple', 'grapes', 'patata']\n",
    "my_food(food)"
   ]
  },
  {
   "source": [
    "`return value`: use return statement to let the function returns a value"
   ],
   "cell_type": "markdown",
   "metadata": {}
  },
  {
   "cell_type": "code",
   "execution_count": 23,
   "metadata": {},
   "outputs": [],
   "source": [
    "def mult_by_5(x):\n",
    "    return(5 * x)"
   ]
  },
  {
   "cell_type": "code",
   "execution_count": 24,
   "metadata": {
    "tags": []
   },
   "outputs": [
    {
     "output_type": "stream",
     "name": "stdout",
     "text": [
      "0 multiply by 5 is 0\n1 multiply by 5 is 5\n5 multiply by 5 is 25\n8 multiply by 5 is 40\n"
     ]
    }
   ],
   "source": [
    "print('0 multiply by 5 is', mult_by_5(0))\n",
    "print('1 multiply by 5 is', mult_by_5(1))\n",
    "print('5 multiply by 5 is', mult_by_5(5))\n",
    "print('8 multiply by 5 is', mult_by_5(8))"
   ]
  },
  {
   "cell_type": "code",
   "execution_count": 25,
   "metadata": {},
   "outputs": [],
   "source": [
    "# Recursion: Python also accepts function recursion, which means a defined function can call itself.\n",
    "def factorial(n):\n",
    "    if n>1:\n",
    "        result = n * factorial(n-1)\n",
    "    else:\n",
    "        result = 1\n",
    "    return(result)"
   ]
  },
  {
   "cell_type": "code",
   "execution_count": 26,
   "metadata": {},
   "outputs": [
    {
     "output_type": "execute_result",
     "data": {
      "text/plain": [
       "6"
      ]
     },
     "metadata": {},
     "execution_count": 26
    }
   ],
   "source": [
    "factorial(3)"
   ]
  },
  {
   "cell_type": "code",
   "execution_count": 27,
   "metadata": {},
   "outputs": [
    {
     "output_type": "execute_result",
     "data": {
      "text/plain": [
       "1"
      ]
     },
     "metadata": {},
     "execution_count": 27
    }
   ],
   "source": [
    "factorial(0)"
   ]
  }
 ],
 "metadata": {
  "language_info": {
   "codemirror_mode": {
    "name": "ipython",
    "version": 3
   },
   "file_extension": ".py",
   "mimetype": "text/x-python",
   "name": "python",
   "nbconvert_exporter": "python",
   "pygments_lexer": "ipython3",
   "version": "3.9.1-final"
  },
  "orig_nbformat": 2,
  "kernelspec": {
   "name": "python3",
   "display_name": "Python 3.9.1 64-bit",
   "metadata": {
    "interpreter": {
     "hash": "63fd5069d213b44bf678585dea6b12cceca9941eaf7f819626cde1f2670de90d"
    }
   }
  }
 },
 "nbformat": 4,
 "nbformat_minor": 2
}