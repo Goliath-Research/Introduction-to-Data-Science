{
 "cells": [
  {
   "source": [
    "# List Comprehension"
   ],
   "cell_type": "markdown",
   "metadata": {}
  },
  {
   "source": [
    "List comprehension can be used to create powerful functionality within a single line of code."
   ],
   "cell_type": "markdown",
   "metadata": {}
  },
  {
   "source": [
    "Suppose we want to iterate through a string using a `for` loop:"
   ],
   "cell_type": "markdown",
   "metadata": {}
  },
  {
   "cell_type": "code",
   "execution_count": 1,
   "metadata": {
    "tags": []
   },
   "outputs": [
    {
     "output_type": "stream",
     "name": "stdout",
     "text": [
      "['D', 'A', 'T', 'A', ' ', 'S', 'C', 'I', 'E', 'N', 'C', 'E']\n"
     ]
    }
   ],
   "source": [
    "# Iterating through a string using for loop:\n",
    "letters = []\n",
    "for l in 'DATA SCIENCE':\n",
    "    letters.append(l)\n",
    "print(letters)"
   ]
  },
  {
   "source": [
    "Now, we will do the same operation, using `list comprehension`:"
   ],
   "cell_type": "markdown",
   "metadata": {}
  },
  {
   "cell_type": "code",
   "execution_count": 2,
   "metadata": {
    "tags": []
   },
   "outputs": [
    {
     "output_type": "stream",
     "name": "stdout",
     "text": [
      "['D', 'A', 'T', 'A', ' ', 'S', 'C', 'I', 'E', 'N', 'C', 'E']\n"
     ]
    }
   ],
   "source": [
    "# Iterating through a string using list comprehension\n",
    "letters = [l for l in 'DATA SCIENCE']\n",
    "print(letters)"
   ]
  },
  {
   "source": [
    "The syntax of Basic List Comprehension is: **`[expression for item in iterable]`**"
   ],
   "cell_type": "markdown",
   "metadata": {}
  },
  {
   "cell_type": "code",
   "execution_count": 3,
   "metadata": {},
   "outputs": [
    {
     "output_type": "execute_result",
     "data": {
      "text/plain": [
       "[1, 25, 100, 121, 225, 400]"
      ]
     },
     "metadata": {},
     "execution_count": 3
    }
   ],
   "source": [
    "# Other example:\n",
    "[i**2 for i in [1, -5, 10, 11, -15, -20]]"
   ]
  },
  {
   "cell_type": "code",
   "execution_count": 4,
   "metadata": {},
   "outputs": [
    {
     "output_type": "execute_result",
     "data": {
      "text/plain": [
       "[0, 1, 8, 27, 64, 125, 216, 343, 512, 729]"
      ]
     },
     "metadata": {},
     "execution_count": 4
    }
   ],
   "source": [
    "[x**3 for x in range(10)]"
   ]
  },
  {
   "cell_type": "code",
   "execution_count": 5,
   "metadata": {},
   "outputs": [
    {
     "output_type": "execute_result",
     "data": {
      "text/plain": [
       "['a', 'b', 'c', 'd']"
      ]
     },
     "metadata": {},
     "execution_count": 5
    }
   ],
   "source": [
    "[s.lower() for s in [\"A\",\"B\",\"C\",\"D\"]]"
   ]
  },
  {
   "cell_type": "code",
   "execution_count": 6,
   "metadata": {},
   "outputs": [
    {
     "output_type": "execute_result",
     "data": {
      "text/plain": [
       "['DD', 'AA', 'TT', 'AA', '  ', 'SS', 'CC', 'II', 'EE', 'NN', 'CC', 'EE']"
      ]
     },
     "metadata": {},
     "execution_count": 6
    }
   ],
   "source": [
    "[s*2 for s in 'DATA SCIENCE']"
   ]
  },
  {
   "source": [
    "## Conditionals in List Comprehension\n",
    "\n",
    "List comprehensions can utilize conditional statement to modify existing list (or other tuples)."
   ],
   "cell_type": "markdown",
   "metadata": {}
  },
  {
   "cell_type": "code",
   "execution_count": 7,
   "metadata": {},
   "outputs": [
    {
     "output_type": "execute_result",
     "data": {
      "text/plain": [
       "[1, 100, 121]"
      ]
     },
     "metadata": {},
     "execution_count": 7
    }
   ],
   "source": [
    "[i**2 for i in [1, -5, 10, 11, -20] if i > 0]"
   ]
  },
  {
   "cell_type": "code",
   "execution_count": 8,
   "metadata": {},
   "outputs": [
    {
     "output_type": "execute_result",
     "data": {
      "text/plain": [
       "['A', 'A', 'I', 'E', 'E']"
      ]
     },
     "metadata": {},
     "execution_count": 8
    }
   ],
   "source": [
    "# Other example:\n",
    "[l for l in 'DATA SCIENCE' if l in 'AEIOU']"
   ]
  },
  {
   "cell_type": "code",
   "execution_count": 9,
   "metadata": {},
   "outputs": [
    {
     "output_type": "execute_result",
     "data": {
      "text/plain": [
       "[1, 27, 125, 343, 729]"
      ]
     },
     "metadata": {},
     "execution_count": 9
    }
   ],
   "source": [
    "# Calculate the cube of odd numbers lesser than 10\n",
    "[x**3 for x in range(10) if x % 2  == 1]"
   ]
  },
  {
   "source": [
    "if...else With List Comprehension"
   ],
   "cell_type": "markdown",
   "metadata": {}
  },
  {
   "cell_type": "code",
   "execution_count": 10,
   "metadata": {},
   "outputs": [
    {
     "output_type": "execute_result",
     "data": {
      "text/plain": [
       "[1, -1, 100, 121, -1]"
      ]
     },
     "metadata": {},
     "execution_count": 10
    }
   ],
   "source": [
    "[i**2 if i > 0 else -1 for i in [1, -5, 10, 11, -20]]"
   ]
  },
  {
   "cell_type": "code",
   "execution_count": 11,
   "metadata": {},
   "outputs": [
    {
     "output_type": "execute_result",
     "data": {
      "text/plain": [
       "[' ', 'A', ' ', 'A', ' ', ' ', ' ', 'I', 'E', ' ', ' ', 'E']"
      ]
     },
     "metadata": {},
     "execution_count": 11
    }
   ],
   "source": [
    "# Showing vowels\n",
    "[l if l in 'AEIOU' else ' ' for l in 'DATA SCIENCE']"
   ]
  },
  {
   "cell_type": "code",
   "execution_count": 12,
   "metadata": {},
   "outputs": [
    {
     "output_type": "execute_result",
     "data": {
      "text/plain": [
       "['D', ' ', 'T', ' ', ' ', 'S', 'C', ' ', ' ', 'N', 'C', ' ']"
      ]
     },
     "metadata": {},
     "execution_count": 12
    }
   ],
   "source": [
    "# Hiding vowels\n",
    "[' ' if l in 'AEIOU' else l for l in 'DATA SCIENCE']"
   ]
  },
  {
   "cell_type": "code",
   "execution_count": 13,
   "metadata": {},
   "outputs": [
    {
     "output_type": "execute_result",
     "data": {
      "text/plain": [
       "[' ', 'A', ' ', 'A', ' ', ' ', ' ', 'I', 'E', ' ', ' ', 'E']"
      ]
     },
     "metadata": {},
     "execution_count": 13
    }
   ],
   "source": [
    "[l if l in 'AEIOU' else ' ' for l in 'DATA SCIENCE']"
   ]
  },
  {
   "cell_type": "code",
   "execution_count": 14,
   "metadata": {},
   "outputs": [
    {
     "output_type": "execute_result",
     "data": {
      "text/plain": [
       "['Odd', 'Odd', 'Even', 'Odd', 'Even']"
      ]
     },
     "metadata": {},
     "execution_count": 14
    }
   ],
   "source": [
    "['Even' if i % 2 == 0 else 'Odd' for i in [1, -5, 10, 11, -20]]"
   ]
  },
  {
   "cell_type": "code",
   "execution_count": 15,
   "metadata": {},
   "outputs": [
    {
     "output_type": "execute_result",
     "data": {
      "text/plain": [
       "['Even', 'Odd', 'Even', 'Odd', 'Even', 'Odd', 'Even', 'Odd', 'Even', 'Odd']"
      ]
     },
     "metadata": {},
     "execution_count": 15
    }
   ],
   "source": [
    "['Even' if x % 2 == 0 else 'Odd' for x in range(10)]"
   ]
  },
  {
   "source": [
    "Some tips about list comprehension:\n",
    "\n",
    "- List comprehension is an elegant way to define and create lists based on the existing list.\n",
    "- List comprehension is generally more compact and faster than normal functions and loops for creating a list.\n",
    "- We should avoid writing very long list comprehensions in one line to ensure that code is user-friendly.\n",
    "- Every list comprehension can be rewritten in for loop, but every for loop cannot be rewritten in the form of list comprehension."
   ],
   "cell_type": "markdown",
   "metadata": {}
  }
 ],
 "metadata": {
  "language_info": {
   "codemirror_mode": {
    "name": "ipython",
    "version": 3
   },
   "file_extension": ".py",
   "mimetype": "text/x-python",
   "name": "python",
   "nbconvert_exporter": "python",
   "pygments_lexer": "ipython3",
   "version": "3.9.1-final"
  },
  "orig_nbformat": 2,
  "kernelspec": {
   "name": "python3",
   "display_name": "Python 3.9.1 64-bit",
   "metadata": {
    "interpreter": {
     "hash": "63fd5069d213b44bf678585dea6b12cceca9941eaf7f819626cde1f2670de90d"
    }
   }
  }
 },
 "nbformat": 4,
 "nbformat_minor": 2
}