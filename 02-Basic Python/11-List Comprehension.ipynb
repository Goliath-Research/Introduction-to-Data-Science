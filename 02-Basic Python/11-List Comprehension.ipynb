{
 "cells": [
  {
   "cell_type": "markdown",
   "metadata": {},
   "source": [
    "# List Comprehension"
   ]
  },
  {
   "cell_type": "markdown",
   "metadata": {},
   "source": [
    "## Objectives"
   ]
  },
  {
   "cell_type": "markdown",
   "metadata": {},
   "source": [
    "- Understand the syntax and benefits of list comprehension.\n",
    "- Learn how to create lists using list comprehension for concise and readable code.\n",
    "- Explore practical examples and use cases of list comprehension."
   ]
  },
  {
   "cell_type": "markdown",
   "metadata": {},
   "source": [
    "## Background"
   ]
  },
  {
   "cell_type": "markdown",
   "metadata": {},
   "source": [
    "List comprehension offers a succinct and expressive way to create lists, enabling efficient data manipulation and transformation."
   ]
  },
  {
   "cell_type": "markdown",
   "metadata": {},
   "source": [
    "## Datasets Used"
   ]
  },
  {
   "cell_type": "markdown",
   "metadata": {},
   "source": [
    "This notebook does not use external datasets.    "
   ]
  },
  {
   "cell_type": "markdown",
   "metadata": {},
   "source": [
    "## Basic List Comprehension"
   ]
  },
  {
   "cell_type": "markdown",
   "metadata": {},
   "source": [
    "List comprehension can be used to create powerful functionality within a single line of code.\n",
    "\n",
    "Suppose we want to iterate through the string `'Data Science'` using a `for` loop:"
   ]
  },
  {
   "cell_type": "code",
   "execution_count": 1,
   "metadata": {
    "tags": []
   },
   "outputs": [
    {
     "name": "stdout",
     "output_type": "stream",
     "text": [
      "['D', 'a', 't', 'a', ' ', 'S', 'c', 'i', 'e', 'n', 'c', 'e']\n"
     ]
    }
   ],
   "source": [
    "# Iterating through a string using for loop\n",
    "letters = []\n",
    "for l in 'Data Science':\n",
    "    letters.append(l)\n",
    "print(letters)"
   ]
  },
  {
   "cell_type": "markdown",
   "metadata": {},
   "source": [
    "Now, we will do the same operation, using `list comprehension`:"
   ]
  },
  {
   "cell_type": "code",
   "execution_count": 2,
   "metadata": {
    "tags": []
   },
   "outputs": [
    {
     "name": "stdout",
     "output_type": "stream",
     "text": [
      "['D', 'a', 't', 'a', ' ', 'S', 'c', 'i', 'e', 'n', 'c', 'e']\n"
     ]
    }
   ],
   "source": [
    "# Iterating through a string using list comprehension\n",
    "\n",
    "letters = [l for l in 'Data Science']\n",
    "print(letters)"
   ]
  },
  {
   "cell_type": "markdown",
   "metadata": {},
   "source": [
    "The syntax of a basic list comprehension is: **`[expression for item in iterable]`**"
   ]
  },
  {
   "cell_type": "code",
   "execution_count": 3,
   "metadata": {},
   "outputs": [
    {
     "data": {
      "text/plain": [
       "[1, 25, 100, 121, 225, 400]"
      ]
     },
     "execution_count": 3,
     "metadata": {},
     "output_type": "execute_result"
    }
   ],
   "source": [
    "# Another example, now with numbers and a list created in the list comprehension:\n",
    "\n",
    "[i**2 for i in [1, -5, 10, 11, -15, -20]]"
   ]
  },
  {
   "cell_type": "code",
   "execution_count": 4,
   "metadata": {},
   "outputs": [
    {
     "data": {
      "text/plain": [
       "[0, 1, 8, 27, 64]"
      ]
     },
     "execution_count": 4,
     "metadata": {},
     "output_type": "execute_result"
    }
   ],
   "source": [
    "# Similar to the previous example, but with a list created using the range() function:\n",
    "\n",
    "[x**3 for x in range(5)]"
   ]
  },
  {
   "cell_type": "code",
   "execution_count": 5,
   "metadata": {},
   "outputs": [
    {
     "data": {
      "text/plain": [
       "['d', 'a', 't', 'a', ' ', 's', 'c', 'i', 'e', 'n', 'c', 'e']"
      ]
     },
     "execution_count": 5,
     "metadata": {},
     "output_type": "execute_result"
    }
   ],
   "source": [
    "# Using the lower() method to convert all letters to lowercase:\n",
    "\n",
    "[l.lower() for l in letters]"
   ]
  },
  {
   "cell_type": "code",
   "execution_count": 6,
   "metadata": {},
   "outputs": [
    {
     "data": {
      "text/plain": [
       "['D', 'A', 'T', 'A', ' ', 'S', 'C', 'I', 'E', 'N', 'C', 'E']"
      ]
     },
     "execution_count": 6,
     "metadata": {},
     "output_type": "execute_result"
    }
   ],
   "source": [
    "# Using the upper() method to convert all letters to uppercase:\n",
    "\n",
    "[l.upper() for l in letters]"
   ]
  },
  {
   "cell_type": "code",
   "execution_count": 7,
   "metadata": {},
   "outputs": [
    {
     "data": {
      "text/plain": [
       "['DD', 'aa', 'tt', 'aa', '  ', 'SS', 'cc', 'ii', 'ee', 'nn', 'cc', 'ee']"
      ]
     },
     "execution_count": 7,
     "metadata": {},
     "output_type": "execute_result"
    }
   ],
   "source": [
    "# Using the * operator to duplicate each letter in the string:\n",
    "\n",
    "[s*2 for s in letters]"
   ]
  },
  {
   "cell_type": "markdown",
   "metadata": {},
   "source": [
    "## Conditionals in List Comprehension\n",
    "\n",
    "List comprehensions can utilize conditional statement to modify existing list (or other tuples)."
   ]
  },
  {
   "cell_type": "code",
   "execution_count": 8,
   "metadata": {},
   "outputs": [
    {
     "data": {
      "text/plain": [
       "[1, 10, 11]"
      ]
     },
     "execution_count": 8,
     "metadata": {},
     "output_type": "execute_result"
    }
   ],
   "source": [
    "[x for x in [1, -5, 10, 11, -20] if x > 0]"
   ]
  },
  {
   "cell_type": "code",
   "execution_count": 9,
   "metadata": {},
   "outputs": [
    {
     "data": {
      "text/plain": [
       "[1, 100, 1331]"
      ]
     },
     "execution_count": 9,
     "metadata": {},
     "output_type": "execute_result"
    }
   ],
   "source": [
    "# The next list comprehension uses the lambda function to calculate the square of even numbers and the cube of odd numbers:\n",
    "# Note that the lambda function is used inside the list comprehension to calculate the square of even numbers and the cube of odd numbers.\n",
    "# The list comprehension also filters out negative numbers using the if statement.\n",
    "# The lambda function is defined between parenthesis and is followed by the argument x.\n",
    "\n",
    "[(lambda x: x**2 if x % 2 == 0 else x**3)(x) for x in [1, -5, 10, 11, -20] if x > 0]"
   ]
  },
  {
   "cell_type": "code",
   "execution_count": 10,
   "metadata": {},
   "outputs": [
    {
     "data": {
      "text/plain": [
       "['1', '2', '3', '4', '5', '6', '7', '8', '9', '0']"
      ]
     },
     "execution_count": 10,
     "metadata": {},
     "output_type": "execute_result"
    }
   ],
   "source": [
    "# Extracting a phone number from a string using list comprehension\n",
    "\n",
    "phone = 'Phone: (123) 456-7890'\n",
    "[x for x in phone if x.isdigit()]"
   ]
  },
  {
   "cell_type": "code",
   "execution_count": 11,
   "metadata": {},
   "outputs": [
    {
     "data": {
      "text/plain": [
       "['a', 'a', 'i', 'e', 'e']"
      ]
     },
     "execution_count": 11,
     "metadata": {},
     "output_type": "execute_result"
    }
   ],
   "source": [
    "# Extracting vowels\n",
    "\n",
    "[l for l in 'Data Science' if l.upper() in 'AEIOU']"
   ]
  },
  {
   "cell_type": "markdown",
   "metadata": {},
   "source": [
    "if...else With List Comprehension"
   ]
  },
  {
   "cell_type": "code",
   "execution_count": 12,
   "metadata": {},
   "outputs": [
    {
     "data": {
      "text/plain": [
       "[1, -1, 1, 1, -1]"
      ]
     },
     "execution_count": 12,
     "metadata": {},
     "output_type": "execute_result"
    }
   ],
   "source": [
    "# Replace the number for 1 if positive, or for -1 if negative or zero.\n",
    "\n",
    "[1 if i > 0 else -1 for i in [1, -5, 10, 11, -20]]"
   ]
  },
  {
   "cell_type": "code",
   "execution_count": 13,
   "metadata": {},
   "outputs": [
    {
     "data": {
      "text/plain": [
       "[1, -1, 100, 121, -1]"
      ]
     },
     "execution_count": 13,
     "metadata": {},
     "output_type": "execute_result"
    }
   ],
   "source": [
    "# Calculate the square of a number if positive, or replace it for -1 if negative or zero\n",
    "\n",
    "[i**2 if i > 0 else -1 for i in [1, -5, 10, 11, -20]]"
   ]
  },
  {
   "cell_type": "code",
   "execution_count": 14,
   "metadata": {},
   "outputs": [
    {
     "data": {
      "text/plain": [
       "['Odd', 'Odd', 'Even', 'Odd', 'Even']"
      ]
     },
     "execution_count": 14,
     "metadata": {},
     "output_type": "execute_result"
    }
   ],
   "source": [
    "# Determine wheter a number is Even or Odd\n",
    "\n",
    "['Even' if i % 2 == 0 else 'Odd' for i in [1, -5, 10, 11, -20]]"
   ]
  },
  {
   "cell_type": "code",
   "execution_count": 15,
   "metadata": {},
   "outputs": [
    {
     "data": {
      "text/plain": [
       "[' ', 'a', ' ', 'a', ' ', ' ', ' ', 'i', 'e', ' ', ' ', 'e']"
      ]
     },
     "execution_count": 15,
     "metadata": {},
     "output_type": "execute_result"
    }
   ],
   "source": [
    "# Showing vowels\n",
    "\n",
    "[l if l.upper() in 'AEIOU' else ' ' for l in 'Data Science']"
   ]
  },
  {
   "cell_type": "code",
   "execution_count": 16,
   "metadata": {},
   "outputs": [
    {
     "data": {
      "text/plain": [
       "['D', ' ', 't', ' ', ' ', 'S', 'c', ' ', ' ', 'n', 'c', ' ']"
      ]
     },
     "execution_count": 16,
     "metadata": {},
     "output_type": "execute_result"
    }
   ],
   "source": [
    "# Hiding vowels\n",
    "[' ' if l.upper() in 'AEIOU' else l for l in 'Data Science']"
   ]
  },
  {
   "cell_type": "markdown",
   "metadata": {},
   "source": [
    "Assign a letter to the numerical grades:\n",
    "| Letter | Numerical Grade |\n",
    "|---|----|\n",
    "| A | grade >= 90 |\n",
    "| B | 80 <= grade < 90 |\n",
    "| C | 70 <= grade < 80 |\n",
    "| D | 60 <= grade < 70 |\n",
    "| F | grade < 60 |"
   ]
  },
  {
   "cell_type": "code",
   "execution_count": 17,
   "metadata": {},
   "outputs": [
    {
     "data": {
      "text/plain": [
       "[88, 70, 62, 55, 90, 86, 54, 85]"
      ]
     },
     "execution_count": 17,
     "metadata": {},
     "output_type": "execute_result"
    }
   ],
   "source": [
    "grades = [88, 70, 62, 55, 90, 86, 54, 85]\n",
    "grades"
   ]
  },
  {
   "cell_type": "code",
   "execution_count": 18,
   "metadata": {},
   "outputs": [
    {
     "data": {
      "text/plain": [
       "['B', 'C', 'D', 'F', 'A', 'B', 'F', 'B']"
      ]
     },
     "execution_count": 18,
     "metadata": {},
     "output_type": "execute_result"
    }
   ],
   "source": [
    "['A' if g >= 90 else 'B' if g >= 80 else 'C' if g >= 70 else 'D' if g >= 60 else 'F' for g in grades]"
   ]
  },
  {
   "cell_type": "code",
   "execution_count": 19,
   "metadata": {},
   "outputs": [
    {
     "data": {
      "text/plain": [
       "['B', 'C', 'D', 'D', 'A', 'B', 'F', 'B']"
      ]
     },
     "execution_count": 19,
     "metadata": {},
     "output_type": "execute_result"
    }
   ],
   "source": [
    "# Changing the F to grade < 55\n",
    "\n",
    "['A' if g >= 90 else 'B' if g >= 80 else 'C' if g >= 70 else 'D' if g >= 55 else 'F' for g in grades]"
   ]
  },
  {
   "cell_type": "markdown",
   "metadata": {},
   "source": [
    "\n",
    "It is also possible to create a list comprehension with nested for loops\n"
   ]
  },
  {
   "cell_type": "code",
   "execution_count": 20,
   "metadata": {},
   "outputs": [
    {
     "data": {
      "text/plain": [
       "[(1, 1),\n",
       " (1, 2),\n",
       " (1, 3),\n",
       " (1, 4),\n",
       " (1, 5),\n",
       " (1, 6),\n",
       " (2, 2),\n",
       " (2, 3),\n",
       " (2, 4),\n",
       " (2, 5),\n",
       " (2, 6),\n",
       " (3, 3),\n",
       " (3, 4),\n",
       " (3, 5),\n",
       " (3, 6),\n",
       " (4, 4),\n",
       " (4, 5),\n",
       " (4, 6),\n",
       " (5, 5),\n",
       " (5, 6),\n",
       " (6, 6)]"
      ]
     },
     "execution_count": 20,
     "metadata": {},
     "output_type": "execute_result"
    }
   ],
   "source": [
    "# Nested list comprehension to generate the full set of two dice rolls\n",
    "\n",
    "[(d1 + 1, d2 + 1) for d1 in range(6) for d2 in range(6) if d1 <= d2]"
   ]
  },
  {
   "cell_type": "markdown",
   "metadata": {},
   "source": [
    "\n",
    "One last example, how to transpose a matrix using a list comprehension"
   ]
  },
  {
   "cell_type": "code",
   "execution_count": 21,
   "metadata": {},
   "outputs": [
    {
     "data": {
      "text/plain": [
       "[[1, 4, 7], [2, 5, 8], [3, 6, 9]]"
      ]
     },
     "execution_count": 21,
     "metadata": {},
     "output_type": "execute_result"
    }
   ],
   "source": [
    "# Use a list comprehension to transpose a matrix\n",
    "\n",
    "matrix = [\n",
    "    [1, 2, 3],\n",
    "    [4, 5, 6],\n",
    "    [7, 8, 9]\n",
    "]\n",
    "\n",
    "# As the matrix is a list of lists, we can use a list comprehension to transpose it.\n",
    "# The matrix was defined as a list of 3 rows, each with 3 elements.\n",
    "# The list comprehension will create new rows taking the elements from the columns of the original matrix.\n",
    "# Notice that we assume the matrix is square, so the number of rows is equal to the number of columns.\n",
    "\n",
    "transpose = [[row[i] for row in matrix] for i in range(len(matrix))]\n",
    "transpose"
   ]
  },
  {
   "cell_type": "markdown",
   "metadata": {},
   "source": [
    "## Conclusions"
   ]
  },
  {
   "cell_type": "markdown",
   "metadata": {},
   "source": [
    "Key Takeaways:\n",
    "- List comprehension is an elegant way to define and create lists based on the existing list.\n",
    "- List comprehension is generally more compact and faster than normal functions and loops for creating a list.\n",
    "- We should avoid writing very long list comprehensions in one line to ensure that code is user-friendly.\n",
    "- Every list comprehension can be rewritten in for loop, but every for loop cannot be rewritten in the form of list comprehension."
   ]
  },
  {
   "cell_type": "markdown",
   "metadata": {},
   "source": [
    "## References"
   ]
  },
  {
   "cell_type": "markdown",
   "metadata": {},
   "source": [
    "- VanderPlas, J. (2017) Python Data Science Handbook: Essential Tools for Working with Data. USA: O’Reilly Media, Inc. "
   ]
  }
 ],
 "metadata": {
  "interpreter": {
   "hash": "f6ce50080babb3e2c9dded3d344b1d82a47cf5d6f13f4c2ab5a2113adb8feaef"
  },
  "kernelspec": {
   "display_name": "Python 3.10.4 64-bit (windows store)",
   "language": "python",
   "name": "python3"
  },
  "language_info": {
   "codemirror_mode": {
    "name": "ipython",
    "version": 3
   },
   "file_extension": ".py",
   "mimetype": "text/x-python",
   "name": "python",
   "nbconvert_exporter": "python",
   "pygments_lexer": "ipython3",
   "version": "3.12.3"
  },
  "orig_nbformat": 2
 },
 "nbformat": 4,
 "nbformat_minor": 2
}
