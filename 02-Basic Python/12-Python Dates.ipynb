{
 "metadata": {
  "language_info": {
   "codemirror_mode": {
    "name": "ipython",
    "version": 3
   },
   "file_extension": ".py",
   "mimetype": "text/x-python",
   "name": "python",
   "nbconvert_exporter": "python",
   "pygments_lexer": "ipython3",
   "version": "3.9.1-final"
  },
  "orig_nbformat": 2,
  "kernelspec": {
   "name": "python3",
   "display_name": "Python 3.9.1 64-bit",
   "metadata": {
    "interpreter": {
     "hash": "63fd5069d213b44bf678585dea6b12cceca9941eaf7f819626cde1f2670de90d"
    }
   }
  }
 },
 "nbformat": 4,
 "nbformat_minor": 2,
 "cells": [
  {
   "source": [
    "# Python DateTime"
   ],
   "cell_type": "markdown",
   "metadata": {}
  },
  {
   "source": [
    "In Python, `date`, `time` and `datetime` classes provides a number of function to deal with dates, times and time intervals.\n",
    "\n",
    "A date in Python is not a data type of its own, but we can import a module named datetime to work with dates as date objects."
   ],
   "cell_type": "markdown",
   "metadata": {}
  },
  {
   "cell_type": "code",
   "execution_count": 1,
   "metadata": {},
   "outputs": [],
   "source": [
    "import datetime as dt"
   ]
  },
  {
   "cell_type": "code",
   "execution_count": 2,
   "metadata": {
    "tags": []
   },
   "outputs": [
    {
     "output_type": "stream",
     "name": "stdout",
     "text": [
      "2021-02-22 13:09:49.787722\n"
     ]
    }
   ],
   "source": [
    "# The datetime contains year, month, day, hour, minute, second, and microsecond.\n",
    "x = dt.datetime.now()\n",
    "print(x)"
   ]
  },
  {
   "cell_type": "code",
   "execution_count": 3,
   "metadata": {},
   "outputs": [
    {
     "output_type": "execute_result",
     "data": {
      "text/plain": [
       "datetime.datetime"
      ]
     },
     "metadata": {},
     "execution_count": 3
    }
   ],
   "source": [
    "type(x)"
   ]
  },
  {
   "cell_type": "code",
   "execution_count": 4,
   "metadata": {},
   "outputs": [
    {
     "output_type": "execute_result",
     "data": {
      "text/plain": [
       "2021"
      ]
     },
     "metadata": {},
     "execution_count": 4
    }
   ],
   "source": [
    "# return the year\n",
    "x.year"
   ]
  },
  {
   "source": [
    "The strftime() method formats date objects into readable strings "
   ],
   "cell_type": "markdown",
   "metadata": {}
  },
  {
   "cell_type": "code",
   "execution_count": 5,
   "metadata": {
    "tags": []
   },
   "outputs": [
    {
     "output_type": "stream",
     "name": "stdout",
     "text": [
      "2021\n"
     ]
    }
   ],
   "source": [
    "#%Y: returns year, full version\n",
    "print(x.strftime(\"%Y\"))"
   ]
  },
  {
   "cell_type": "code",
   "execution_count": 6,
   "metadata": {
    "tags": []
   },
   "outputs": [
    {
     "output_type": "stream",
     "name": "stdout",
     "text": [
      "21\n"
     ]
    }
   ],
   "source": [
    "# %y: returns year, short version, without century\n",
    "print(x.strftime(\"%y\"))"
   ]
  },
  {
   "cell_type": "code",
   "execution_count": 7,
   "metadata": {
    "tags": []
   },
   "outputs": [
    {
     "output_type": "stream",
     "name": "stdout",
     "text": [
      "2\n"
     ]
    }
   ],
   "source": [
    "print(x.month)"
   ]
  },
  {
   "cell_type": "code",
   "execution_count": 8,
   "metadata": {
    "tags": []
   },
   "outputs": [
    {
     "output_type": "stream",
     "name": "stdout",
     "text": [
      "February\n"
     ]
    }
   ],
   "source": [
    "# %B: returns month name\n",
    "print(x.strftime(\"%B\"))"
   ]
  },
  {
   "cell_type": "code",
   "execution_count": 9,
   "metadata": {
    "tags": []
   },
   "outputs": [
    {
     "output_type": "stream",
     "name": "stdout",
     "text": [
      "Feb\n"
     ]
    }
   ],
   "source": [
    "# %b: returns month name, short version\n",
    "print(x.strftime(\"%b\"))"
   ]
  },
  {
   "cell_type": "code",
   "execution_count": 10,
   "metadata": {
    "tags": []
   },
   "outputs": [
    {
     "output_type": "stream",
     "name": "stdout",
     "text": [
      "02\n"
     ]
    }
   ],
   "source": [
    "# %m: returns month as a number 01-12\n",
    "print(x.strftime(\"%m\"))"
   ]
  },
  {
   "cell_type": "code",
   "execution_count": 11,
   "metadata": {
    "tags": []
   },
   "outputs": [
    {
     "output_type": "stream",
     "name": "stdout",
     "text": [
      "22\n"
     ]
    }
   ],
   "source": [
    "print(x.day)"
   ]
  },
  {
   "cell_type": "code",
   "execution_count": 12,
   "metadata": {
    "tags": []
   },
   "outputs": [
    {
     "output_type": "stream",
     "name": "stdout",
     "text": [
      "Monday\n"
     ]
    }
   ],
   "source": [
    "# %A: return the name of weekday\n",
    "print(x.strftime('%A'))"
   ]
  },
  {
   "cell_type": "code",
   "execution_count": 13,
   "metadata": {
    "tags": []
   },
   "outputs": [
    {
     "output_type": "stream",
     "name": "stdout",
     "text": [
      "Mon\n"
     ]
    }
   ],
   "source": [
    "# %a: returns the name of weekday, short version\n",
    "print(x.strftime('%a'))"
   ]
  },
  {
   "cell_type": "code",
   "execution_count": 14,
   "metadata": {
    "tags": []
   },
   "outputs": [
    {
     "output_type": "stream",
     "name": "stdout",
     "text": [
      "1\n"
     ]
    }
   ],
   "source": [
    "# %w: returns weekday as a number, 0 for Sunday\n",
    "print(x.strftime('%w'))"
   ]
  },
  {
   "cell_type": "code",
   "execution_count": 15,
   "metadata": {
    "tags": []
   },
   "outputs": [
    {
     "output_type": "stream",
     "name": "stdout",
     "text": [
      "053\n"
     ]
    }
   ],
   "source": [
    "# %j: returns day number of the year 001-366\n",
    "print(x.strftime('%j'))"
   ]
  },
  {
   "cell_type": "code",
   "execution_count": 16,
   "metadata": {
    "tags": []
   },
   "outputs": [
    {
     "output_type": "stream",
     "name": "stdout",
     "text": [
      "hour: 13\n"
     ]
    }
   ],
   "source": [
    "print('hour:', x.hour)"
   ]
  },
  {
   "cell_type": "code",
   "execution_count": 17,
   "metadata": {
    "tags": []
   },
   "outputs": [
    {
     "output_type": "stream",
     "name": "stdout",
     "text": [
      "13\n"
     ]
    }
   ],
   "source": [
    "# %H: returns hour: 00-23\n",
    "print(x.strftime(\"%H\"))"
   ]
  },
  {
   "cell_type": "code",
   "execution_count": 18,
   "metadata": {
    "tags": []
   },
   "outputs": [
    {
     "output_type": "stream",
     "name": "stdout",
     "text": [
      "01\n"
     ]
    }
   ],
   "source": [
    "# %I: returns hour: 00-12\n",
    "print(x.strftime(\"%I\"))"
   ]
  },
  {
   "cell_type": "code",
   "execution_count": 19,
   "metadata": {
    "tags": []
   },
   "outputs": [
    {
     "output_type": "stream",
     "name": "stdout",
     "text": [
      "PM\n"
     ]
    }
   ],
   "source": [
    "# %p: AM/PM\n",
    "print(x.strftime(\"%p\"))"
   ]
  },
  {
   "cell_type": "code",
   "execution_count": 20,
   "metadata": {
    "tags": []
   },
   "outputs": [
    {
     "output_type": "stream",
     "name": "stdout",
     "text": [
      "minute: 9\n"
     ]
    }
   ],
   "source": [
    "print('minute:',x.minute)"
   ]
  },
  {
   "cell_type": "code",
   "execution_count": 21,
   "metadata": {
    "tags": []
   },
   "outputs": [
    {
     "output_type": "stream",
     "name": "stdout",
     "text": [
      "09\n"
     ]
    }
   ],
   "source": [
    "# %M: returns minute 00-59\n",
    "print(x.strftime(\"%M\"))"
   ]
  },
  {
   "cell_type": "code",
   "execution_count": 22,
   "metadata": {
    "tags": []
   },
   "outputs": [
    {
     "output_type": "stream",
     "name": "stdout",
     "text": [
      "second: 49\n"
     ]
    }
   ],
   "source": [
    "print('second:',x.second)"
   ]
  },
  {
   "cell_type": "code",
   "execution_count": 23,
   "metadata": {
    "tags": []
   },
   "outputs": [
    {
     "output_type": "stream",
     "name": "stdout",
     "text": [
      "49\n"
     ]
    }
   ],
   "source": [
    "# %S: returns second 00-59\n",
    "print(x.strftime(\"%S\"))"
   ]
  },
  {
   "cell_type": "code",
   "execution_count": 24,
   "metadata": {
    "tags": []
   },
   "outputs": [
    {
     "output_type": "stream",
     "name": "stdout",
     "text": [
      "microsecond: 787722\n"
     ]
    }
   ],
   "source": [
    "print('microsecond:',x.microsecond)"
   ]
  },
  {
   "cell_type": "code",
   "execution_count": 25,
   "metadata": {
    "tags": []
   },
   "outputs": [
    {
     "output_type": "stream",
     "name": "stdout",
     "text": [
      "787722\n"
     ]
    }
   ],
   "source": [
    "# %f: returns microsecond 000000-999999\n",
    "print(x.strftime(\"%f\"))"
   ]
  },
  {
   "cell_type": "code",
   "execution_count": 26,
   "metadata": {},
   "outputs": [
    {
     "output_type": "execute_result",
     "data": {
      "text/plain": [
       "datetime.datetime(2020, 8, 1, 0, 0)"
      ]
     },
     "metadata": {},
     "execution_count": 26
    }
   ],
   "source": [
    "# Creating datetime objects\n",
    "x2 = dt.datetime(2020,8,1)\n",
    "x2"
   ]
  },
  {
   "cell_type": "code",
   "execution_count": 27,
   "metadata": {},
   "outputs": [
    {
     "output_type": "execute_result",
     "data": {
      "text/plain": [
       "[datetime.datetime(2020, 3, 16, 0, 0),\n",
       " datetime.datetime(2020, 3, 20, 0, 0),\n",
       " datetime.datetime(2020, 4, 20, 0, 0),\n",
       " datetime.datetime(2020, 5, 15, 0, 0),\n",
       " datetime.datetime(2020, 6, 27, 0, 0),\n",
       " datetime.datetime(2020, 7, 26, 0, 0)]"
      ]
     },
     "metadata": {},
     "execution_count": 27
    }
   ],
   "source": [
    "# Creating a list of datetime objects\n",
    "dat = [dt.datetime(2020,3,16), dt.datetime(2020,3,20), dt.datetime(2020,4,20), dt.datetime(2020,5,15),dt.datetime(2020,6,27), dt.datetime(2020,7,26)]\n",
    "dat"
   ]
  },
  {
   "source": [
    "The datetime() class also takes parameters for time and timezone (hour, minute, second, microsecond, tzone), but they are optional, and has a default value of 0, (None for timezone)."
   ],
   "cell_type": "markdown",
   "metadata": {}
  },
  {
   "cell_type": "code",
   "execution_count": 28,
   "metadata": {},
   "outputs": [
    {
     "output_type": "execute_result",
     "data": {
      "text/plain": [
       "[datetime.datetime(2020, 3, 16, 7, 26),\n",
       " datetime.datetime(2020, 3, 20, 8, 0),\n",
       " datetime.datetime(2020, 4, 20, 8, 5),\n",
       " datetime.datetime(2020, 5, 15, 7, 20),\n",
       " datetime.datetime(2020, 6, 27, 0, 0),\n",
       " datetime.datetime(2020, 7, 26, 8, 10)]"
      ]
     },
     "metadata": {},
     "execution_count": 28
    }
   ],
   "source": [
    "dat = [dt.datetime(2020,3,16,7,26), dt.datetime(2020,3,20,8,0), dt.datetime(2020,4,20,8,5), dt.datetime(2020,5,15,7,20),dt.datetime(2020,6,27), dt.datetime(2020,7,26,8,10)]\n",
    "dat"
   ]
  },
  {
   "source": [
    "## Python Date"
   ],
   "cell_type": "markdown",
   "metadata": {}
  },
  {
   "cell_type": "code",
   "execution_count": 29,
   "metadata": {},
   "outputs": [
    {
     "output_type": "execute_result",
     "data": {
      "text/plain": [
       "datetime.date(2020, 8, 1)"
      ]
     },
     "metadata": {},
     "execution_count": 29
    }
   ],
   "source": [
    "# Creating date objects\n",
    "x3 = dt.date(2020,8,1)\n",
    "x3"
   ]
  },
  {
   "cell_type": "code",
   "execution_count": 30,
   "metadata": {},
   "outputs": [
    {
     "output_type": "execute_result",
     "data": {
      "text/plain": [
       "[datetime.date(2020, 3, 16),\n",
       " datetime.date(2020, 3, 20),\n",
       " datetime.date(2020, 4, 20),\n",
       " datetime.date(2020, 5, 15),\n",
       " datetime.date(2020, 6, 27),\n",
       " datetime.date(2020, 7, 26)]"
      ]
     },
     "metadata": {},
     "execution_count": 30
    }
   ],
   "source": [
    "dat2 = [dt.date(2020,3,16), dt.date(2020,3,20), dt.date(2020,4,20), dt.date(2020,5,15),dt.date(2020,6,27), dt.date(2020,7,26)]\n",
    "dat2"
   ]
  },
  {
   "cell_type": "code",
   "execution_count": 31,
   "metadata": {
    "tags": []
   },
   "outputs": [
    {
     "output_type": "stream",
     "name": "stdout",
     "text": [
      "Month \tshort version: Mar \tfull version: March\nMonth \tshort version: Mar \tfull version: March\nMonth \tshort version: Apr \tfull version: April\nMonth \tshort version: May \tfull version: May\nMonth \tshort version: Jun \tfull version: June\nMonth \tshort version: Jul \tfull version: July\n"
     ]
    }
   ],
   "source": [
    "# printing month name\n",
    "for d in dat:\n",
    "    print('Month \\tshort version:',d.strftime('%b'),'\\tfull version:',d.strftime('%B'))"
   ]
  },
  {
   "cell_type": "code",
   "execution_count": 32,
   "metadata": {
    "tags": []
   },
   "outputs": [
    {
     "output_type": "stream",
     "name": "stdout",
     "text": [
      "Weekday \tshort version: Mon \tfull version: Monday \tas a number: 1\n",
      "Weekday \tshort version: Fri \tfull version: Friday \tas a number: 5\n",
      "Weekday \tshort version: Mon \tfull version: Monday \tas a number: 1\n",
      "Weekday \tshort version: Fri \tfull version: Friday \tas a number: 5\n",
      "Weekday \tshort version: Sat \tfull version: Saturday \tas a number: 6\n",
      "Weekday \tshort version: Sun \tfull version: Sunday \tas a number: 0\n"
     ]
    }
   ],
   "source": [
    "# printing weekday\n",
    "for d in dat:\n",
    "    print('Weekday \\tshort version:',d.strftime('%a'),'\\tfull version:',d.strftime('%A'),'\\tas a number:',d.strftime('%w'))"
   ]
  },
  {
   "cell_type": "code",
   "execution_count": 33,
   "metadata": {
    "tags": []
   },
   "outputs": [
    {
     "output_type": "stream",
     "name": "stdout",
     "text": [
      "Day: 16\n",
      "Day: 20\n",
      "Day: 20\n",
      "Day: 15\n",
      "Day: 27\n",
      "Day: 26\n"
     ]
    }
   ],
   "source": [
    "# printing day of month\n",
    "for d in dat:\n",
    "    print('Day:',d.strftime('%d'))"
   ]
  },
  {
   "cell_type": "code",
   "execution_count": 34,
   "metadata": {
    "tags": []
   },
   "outputs": [
    {
     "output_type": "stream",
     "name": "stdout",
     "text": [
      "Year \tshort version: 20 \tfull version: 2020\nYear \tshort version: 20 \tfull version: 2020\nYear \tshort version: 20 \tfull version: 2020\nYear \tshort version: 20 \tfull version: 2020\nYear \tshort version: 20 \tfull version: 2020\nYear \tshort version: 20 \tfull version: 2020\n"
     ]
    }
   ],
   "source": [
    "# printing year\n",
    "for d in dat:\n",
    "    print('Year \\tshort version:',d.strftime('%y'),'\\tfull version:',d.strftime('%Y'))"
   ]
  },
  {
   "cell_type": "code",
   "execution_count": 35,
   "metadata": {},
   "outputs": [
    {
     "output_type": "execute_result",
     "data": {
      "text/plain": [
       "[4, 31, 24, 42, 29]"
      ]
     },
     "metadata": {},
     "execution_count": 35
    }
   ],
   "source": [
    "# Calculate the number of days between two dates\n",
    "deltaD = [(dat[i]-dat[i-1]).days for i in range(1,len(dat))]\n",
    "deltaD"
   ]
  },
  {
   "cell_type": "code",
   "execution_count": 36,
   "metadata": {},
   "outputs": [],
   "source": [
    "from dateutil import relativedelta"
   ]
  },
  {
   "cell_type": "code",
   "execution_count": 37,
   "metadata": {},
   "outputs": [],
   "source": [
    "date1 = dt.date(1980,8,18)\n",
    "date2 = dt.date.today()\n",
    "delta = relativedelta.relativedelta(date2,date1)"
   ]
  },
  {
   "cell_type": "code",
   "execution_count": 38,
   "metadata": {
    "tags": []
   },
   "outputs": [
    {
     "output_type": "stream",
     "name": "stdout",
     "text": [
      "40\n"
     ]
    }
   ],
   "source": [
    "# Calculate the number of years between two dates\n",
    "print(delta.years)"
   ]
  },
  {
   "cell_type": "code",
   "execution_count": 39,
   "metadata": {
    "tags": []
   },
   "outputs": [
    {
     "output_type": "stream",
     "name": "stdout",
     "text": [
      "486\n"
     ]
    }
   ],
   "source": [
    "# Calculate the number of months between two dates\n",
    "print(delta.years * 12 + delta.months)"
   ]
  },
  {
   "source": [
    "## Python Time"
   ],
   "cell_type": "markdown",
   "metadata": {}
  },
  {
   "cell_type": "code",
   "execution_count": 40,
   "metadata": {},
   "outputs": [
    {
     "output_type": "execute_result",
     "data": {
      "text/plain": [
       "datetime.time(5, 20, 21)"
      ]
     },
     "metadata": {},
     "execution_count": 40
    }
   ],
   "source": [
    "# Creating time objects\n",
    "x3 = dt.time(5,20,21)\n",
    "x3"
   ]
  },
  {
   "cell_type": "code",
   "execution_count": 41,
   "metadata": {
    "tags": []
   },
   "outputs": [
    {
     "output_type": "stream",
     "name": "stdout",
     "text": [
      "Hours: 5 Minutes: 20 Seconds: 21\n"
     ]
    }
   ],
   "source": [
    "# print hours\n",
    "print('Hours:',x3.hour, 'Minutes:',x3.minute,'Seconds:',x3.second )"
   ]
  },
  {
   "cell_type": "code",
   "execution_count": 42,
   "metadata": {},
   "outputs": [
    {
     "output_type": "execute_result",
     "data": {
      "text/plain": [
       "[datetime.time(3, 3, 16),\n",
       " datetime.time(6, 23, 20),\n",
       " datetime.time(10, 4, 20),\n",
       " datetime.time(12, 5, 15)]"
      ]
     },
     "metadata": {},
     "execution_count": 42
    }
   ],
   "source": [
    "tim = [dt.time(3,3,16), dt.time(6,23,20), dt.time(10,4,20), dt.time(12,5,15)]\n",
    "tim"
   ]
  },
  {
   "cell_type": "code",
   "execution_count": 43,
   "metadata": {
    "tags": []
   },
   "outputs": [
    {
     "output_type": "stream",
     "name": "stdout",
     "text": [
      "Hours: 03\n",
      "Hours: 06\n",
      "Hours: 10\n",
      "Hours: 12\n"
     ]
    }
   ],
   "source": [
    "# printing hours\n",
    "for d in tim:\n",
    "    print('Hours:',d.strftime('%H'))"
   ]
  },
  {
   "cell_type": "code",
   "execution_count": 44,
   "metadata": {},
   "outputs": [
    {
     "output_type": "stream",
     "name": "stdout",
     "text": [
      "Minutes: 03\n",
      "Minutes: 23\n",
      "Minutes: 04\n",
      "Minutes: 05\n"
     ]
    }
   ],
   "source": [
    "# printing minutes\n",
    "for d in tim:\n",
    "    print('Minutes:',d.strftime('%M'))"
   ]
  },
  {
   "cell_type": "code",
   "execution_count": 45,
   "metadata": {},
   "outputs": [
    {
     "output_type": "stream",
     "name": "stdout",
     "text": [
      "Minutes: 16\n",
      "Minutes: 20\n",
      "Minutes: 20\n",
      "Minutes: 15\n"
     ]
    }
   ],
   "source": [
    "# printing seconds\n",
    "for d in tim:\n",
    "    print('Minutes:',d.strftime('%S'))"
   ]
  },
  {
   "cell_type": "markdown",
   "metadata": {},
   "source": [
    "## Working with dates"
   ]
  },
  {
   "cell_type": "code",
   "execution_count": 46,
   "metadata": {},
   "outputs": [],
   "source": [
    "datstr = ['2020-3-11-3-33','2020-4-16-4-24','2020-5-20-5-25','2020-6-16-6-36','2020-7-26-7-7']"
   ]
  },
  {
   "cell_type": "code",
   "execution_count": 47,
   "metadata": {},
   "outputs": [
    {
     "output_type": "execute_result",
     "data": {
      "text/plain": [
       "str"
      ]
     },
     "metadata": {},
     "execution_count": 47
    }
   ],
   "source": [
    "type(datstr[0])"
   ]
  },
  {
   "cell_type": "code",
   "execution_count": 48,
   "metadata": {},
   "outputs": [
    {
     "output_type": "execute_result",
     "data": {
      "text/plain": [
       "[datetime.datetime(2020, 3, 11, 3, 33),\n",
       " datetime.datetime(2020, 4, 16, 4, 24),\n",
       " datetime.datetime(2020, 5, 20, 5, 25),\n",
       " datetime.datetime(2020, 6, 16, 6, 36),\n",
       " datetime.datetime(2020, 7, 26, 7, 7)]"
      ]
     },
     "metadata": {},
     "execution_count": 48
    }
   ],
   "source": [
    "dat2 = [dt.datetime.strptime(ds,'%Y-%m-%d-%H-%M') for ds in datstr]\n",
    "dat2"
   ]
  },
  {
   "cell_type": "code",
   "execution_count": 49,
   "metadata": {},
   "outputs": [
    {
     "output_type": "execute_result",
     "data": {
      "text/plain": [
       "datetime.datetime"
      ]
     },
     "metadata": {},
     "execution_count": 49
    }
   ],
   "source": [
    "type(dat2[0])"
   ]
  },
  {
   "cell_type": "code",
   "execution_count": 50,
   "metadata": {
    "tags": []
   },
   "outputs": [
    {
     "output_type": "stream",
     "name": "stdout",
     "text": [
      "Date1: 2020-03-11 03:33:00    Date2: 2020-04-16 04:24:00\n",
      "Diff years   = 0\n",
      "Diff months  = 1\n",
      "Diff days    = 5\n",
      "Diff hours   = 0\n",
      "Diff minutes = 51 \n",
      "\n",
      "Date1: 2020-04-16 04:24:00    Date2: 2020-05-20 05:25:00\n",
      "Diff years   = 0\n",
      "Diff months  = 1\n",
      "Diff days    = 4\n",
      "Diff hours   = 1\n",
      "Diff minutes = 1 \n",
      "\n",
      "Date1: 2020-05-20 05:25:00    Date2: 2020-06-16 06:36:00\n",
      "Diff years   = 0\n",
      "Diff months  = 0\n",
      "Diff days    = 27\n",
      "Diff hours   = 1\n",
      "Diff minutes = 11 \n",
      "\n",
      "Date1: 2020-06-16 06:36:00    Date2: 2020-07-26 07:07:00\n",
      "Diff years   = 0\n",
      "Diff months  = 1\n",
      "Diff days    = 10\n",
      "Diff hours   = 0\n",
      "Diff minutes = 31 \n",
      "\n"
     ]
    }
   ],
   "source": [
    "# Calculating differences\n",
    "for d in range(1,len(dat2)):\n",
    "    delta = relativedelta.relativedelta(dat2[d],dat2[d-1])\n",
    "    print('Date1:',dat2[d-1], '   Date2:',dat2[d])\n",
    "    print('Diff years   =',delta.years)\n",
    "    print('Diff months  =',delta.months)\n",
    "    print('Diff days    =',delta.days)\n",
    "    print('Diff hours   =',delta.hours)\n",
    "    print('Diff minutes =',delta.minutes, '\\n')\n"
   ]
  },
  {
   "cell_type": "code",
   "execution_count": 51,
   "metadata": {},
   "outputs": [
    {
     "output_type": "execute_result",
     "data": {
      "text/plain": [
       "datetime.date(2021, 2, 22)"
      ]
     },
     "metadata": {},
     "execution_count": 51
    }
   ],
   "source": [
    "# today\n",
    "today = dt.date.today()\n",
    "today"
   ]
  },
  {
   "cell_type": "code",
   "execution_count": 52,
   "metadata": {},
   "outputs": [
    {
     "output_type": "execute_result",
     "data": {
      "text/plain": [
       "datetime.date(2021, 2, 21)"
      ]
     },
     "metadata": {},
     "execution_count": 52
    }
   ],
   "source": [
    "# yesterday\n",
    "yesterday = today - dt.timedelta(days = 1)\n",
    "yesterday"
   ]
  },
  {
   "cell_type": "code",
   "execution_count": 53,
   "metadata": {},
   "outputs": [
    {
     "output_type": "execute_result",
     "data": {
      "text/plain": [
       "datetime.date(2021, 2, 23)"
      ]
     },
     "metadata": {},
     "execution_count": 53
    }
   ],
   "source": [
    "# tomorrow\n",
    "tomorrow = today + dt.timedelta(days = 1)\n",
    "tomorrow"
   ]
  }
 ]
}