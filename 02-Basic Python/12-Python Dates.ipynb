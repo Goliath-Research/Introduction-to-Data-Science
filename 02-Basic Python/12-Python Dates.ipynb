{
 "metadata": {
  "language_info": {
   "codemirror_mode": {
    "name": "ipython",
    "version": 3
   },
   "file_extension": ".py",
   "mimetype": "text/x-python",
   "name": "python",
   "nbconvert_exporter": "python",
   "pygments_lexer": "ipython3",
   "version": "3.9.1-final"
  },
  "orig_nbformat": 2,
  "kernelspec": {
   "name": "python3",
   "display_name": "Python 3.9.1 64-bit",
   "metadata": {
    "interpreter": {
     "hash": "63fd5069d213b44bf678585dea6b12cceca9941eaf7f819626cde1f2670de90d"
    }
   }
  }
 },
 "nbformat": 4,
 "nbformat_minor": 2,
 "cells": [
  {
   "source": [
    "# Python DateTime"
   ],
   "cell_type": "markdown",
   "metadata": {}
  },
  {
   "source": [
    "Python datetime: A date in Python is not a data type of its own, but we can import a module named datetime to work with dates as date objects."
   ],
   "cell_type": "markdown",
   "metadata": {}
  },
  {
   "cell_type": "code",
   "execution_count": 54,
   "metadata": {},
   "outputs": [],
   "source": [
    "import datetime as dt"
   ]
  },
  {
   "cell_type": "code",
   "execution_count": 55,
   "metadata": {
    "tags": []
   },
   "outputs": [
    {
     "output_type": "stream",
     "name": "stdout",
     "text": [
      "2021-02-13 13:55:04.882636\n"
     ]
    }
   ],
   "source": [
    "# The datetime contains year, month, day, hour, minute, second, and microsecond.\n",
    "x = dt.datetime.now()\n",
    "print(x)"
   ]
  },
  {
   "cell_type": "code",
   "execution_count": 56,
   "metadata": {},
   "outputs": [
    {
     "output_type": "execute_result",
     "data": {
      "text/plain": [
       "datetime.datetime"
      ]
     },
     "metadata": {},
     "execution_count": 56
    }
   ],
   "source": [
    "type(x)"
   ]
  },
  {
   "cell_type": "code",
   "execution_count": 57,
   "metadata": {},
   "outputs": [
    {
     "output_type": "execute_result",
     "data": {
      "text/plain": [
       "2021"
      ]
     },
     "metadata": {},
     "execution_count": 57
    }
   ],
   "source": [
    "# return the year\n",
    "x.year"
   ]
  },
  {
   "source": [
    "The strftime() method formats date objects into readable strings "
   ],
   "cell_type": "markdown",
   "metadata": {}
  },
  {
   "cell_type": "code",
   "execution_count": 58,
   "metadata": {
    "tags": []
   },
   "outputs": [
    {
     "output_type": "stream",
     "name": "stdout",
     "text": [
      "2021\n"
     ]
    }
   ],
   "source": [
    "#%Y: returns year, full version\n",
    "print(x.strftime(\"%Y\"))"
   ]
  },
  {
   "cell_type": "code",
   "execution_count": 59,
   "metadata": {
    "tags": []
   },
   "outputs": [
    {
     "output_type": "stream",
     "name": "stdout",
     "text": [
      "21\n"
     ]
    }
   ],
   "source": [
    "# %y: returns year, short version, without century\n",
    "print(x.strftime(\"%y\"))"
   ]
  },
  {
   "cell_type": "code",
   "execution_count": 60,
   "metadata": {
    "tags": []
   },
   "outputs": [
    {
     "output_type": "stream",
     "name": "stdout",
     "text": [
      "2\n"
     ]
    }
   ],
   "source": [
    "print(x.month)"
   ]
  },
  {
   "cell_type": "code",
   "execution_count": 61,
   "metadata": {
    "tags": []
   },
   "outputs": [
    {
     "output_type": "stream",
     "name": "stdout",
     "text": [
      "February\n"
     ]
    }
   ],
   "source": [
    "# %B: returns month name\n",
    "print(x.strftime(\"%B\"))"
   ]
  },
  {
   "cell_type": "code",
   "execution_count": 62,
   "metadata": {
    "tags": []
   },
   "outputs": [
    {
     "output_type": "stream",
     "name": "stdout",
     "text": [
      "Feb\n"
     ]
    }
   ],
   "source": [
    "# %b: returns month name, short version\n",
    "print(x.strftime(\"%b\"))"
   ]
  },
  {
   "cell_type": "code",
   "execution_count": 63,
   "metadata": {
    "tags": []
   },
   "outputs": [
    {
     "output_type": "stream",
     "name": "stdout",
     "text": [
      "02\n"
     ]
    }
   ],
   "source": [
    "# %m: returns month as a number 01-12\n",
    "print(x.strftime(\"%m\"))"
   ]
  },
  {
   "cell_type": "code",
   "execution_count": 64,
   "metadata": {
    "tags": []
   },
   "outputs": [
    {
     "output_type": "stream",
     "name": "stdout",
     "text": [
      "13\n"
     ]
    }
   ],
   "source": [
    "print(x.day)"
   ]
  },
  {
   "cell_type": "code",
   "execution_count": 65,
   "metadata": {
    "tags": []
   },
   "outputs": [
    {
     "output_type": "stream",
     "name": "stdout",
     "text": [
      "Saturday\n"
     ]
    }
   ],
   "source": [
    "# %A: return the name of weekday\n",
    "print(x.strftime('%A'))"
   ]
  },
  {
   "cell_type": "code",
   "execution_count": 66,
   "metadata": {
    "tags": []
   },
   "outputs": [
    {
     "output_type": "stream",
     "name": "stdout",
     "text": [
      "Sat\n"
     ]
    }
   ],
   "source": [
    "# %a: returns the name of weekday, short version\n",
    "print(x.strftime('%a'))"
   ]
  },
  {
   "cell_type": "code",
   "execution_count": 67,
   "metadata": {
    "tags": []
   },
   "outputs": [
    {
     "output_type": "stream",
     "name": "stdout",
     "text": [
      "6\n"
     ]
    }
   ],
   "source": [
    "# %w: returns weekday as a number, 0 for Sunday\n",
    "print(x.strftime('%w'))"
   ]
  },
  {
   "cell_type": "code",
   "execution_count": 68,
   "metadata": {
    "tags": []
   },
   "outputs": [
    {
     "output_type": "stream",
     "name": "stdout",
     "text": [
      "044\n"
     ]
    }
   ],
   "source": [
    "# %j: returns day number of the year 001-366\n",
    "print(x.strftime('%j'))"
   ]
  },
  {
   "cell_type": "code",
   "execution_count": 69,
   "metadata": {
    "tags": []
   },
   "outputs": [
    {
     "output_type": "stream",
     "name": "stdout",
     "text": [
      "hour: 13\n"
     ]
    }
   ],
   "source": [
    "print('hour:', x.hour)"
   ]
  },
  {
   "cell_type": "code",
   "execution_count": 70,
   "metadata": {
    "tags": []
   },
   "outputs": [
    {
     "output_type": "stream",
     "name": "stdout",
     "text": [
      "13\n"
     ]
    }
   ],
   "source": [
    "# %H: returns hour: 00-23\n",
    "print(x.strftime(\"%H\"))"
   ]
  },
  {
   "cell_type": "code",
   "execution_count": 71,
   "metadata": {
    "tags": []
   },
   "outputs": [
    {
     "output_type": "stream",
     "name": "stdout",
     "text": [
      "01\n"
     ]
    }
   ],
   "source": [
    "# %I: returns hour: 00-12\n",
    "print(x.strftime(\"%I\"))"
   ]
  },
  {
   "cell_type": "code",
   "execution_count": 72,
   "metadata": {
    "tags": []
   },
   "outputs": [
    {
     "output_type": "stream",
     "name": "stdout",
     "text": [
      "PM\n"
     ]
    }
   ],
   "source": [
    "# %p: AM/PM\n",
    "print(x.strftime(\"%p\"))"
   ]
  },
  {
   "cell_type": "code",
   "execution_count": 73,
   "metadata": {
    "tags": []
   },
   "outputs": [
    {
     "output_type": "stream",
     "name": "stdout",
     "text": [
      "minute: 55\n"
     ]
    }
   ],
   "source": [
    "print('minute:',x.minute)"
   ]
  },
  {
   "cell_type": "code",
   "execution_count": 74,
   "metadata": {
    "tags": []
   },
   "outputs": [
    {
     "output_type": "stream",
     "name": "stdout",
     "text": [
      "55\n"
     ]
    }
   ],
   "source": [
    "# %M: returns minute 00-59\n",
    "print(x.strftime(\"%M\"))"
   ]
  },
  {
   "cell_type": "code",
   "execution_count": 75,
   "metadata": {
    "tags": []
   },
   "outputs": [
    {
     "output_type": "stream",
     "name": "stdout",
     "text": [
      "second: 4\n"
     ]
    }
   ],
   "source": [
    "print('second:',x.second)"
   ]
  },
  {
   "cell_type": "code",
   "execution_count": 76,
   "metadata": {
    "tags": []
   },
   "outputs": [
    {
     "output_type": "stream",
     "name": "stdout",
     "text": [
      "04\n"
     ]
    }
   ],
   "source": [
    "# %S: returns second 00-59\n",
    "print(x.strftime(\"%S\"))"
   ]
  },
  {
   "cell_type": "code",
   "execution_count": 77,
   "metadata": {
    "tags": []
   },
   "outputs": [
    {
     "output_type": "stream",
     "name": "stdout",
     "text": [
      "microsecond: 882636\n"
     ]
    }
   ],
   "source": [
    "print('microsecond:',x.microsecond)"
   ]
  },
  {
   "cell_type": "code",
   "execution_count": 78,
   "metadata": {
    "tags": []
   },
   "outputs": [
    {
     "output_type": "stream",
     "name": "stdout",
     "text": [
      "882636\n"
     ]
    }
   ],
   "source": [
    "# %f: returns microsecond 000000-999999\n",
    "print(x.strftime(\"%f\"))"
   ]
  },
  {
   "cell_type": "code",
   "execution_count": 79,
   "metadata": {},
   "outputs": [
    {
     "output_type": "execute_result",
     "data": {
      "text/plain": [
       "datetime.datetime(2020, 8, 1, 0, 0)"
      ]
     },
     "metadata": {},
     "execution_count": 79
    }
   ],
   "source": [
    "# Creating datetime objects\n",
    "x2 = dt.datetime(2020,8,1)\n",
    "x2"
   ]
  },
  {
   "cell_type": "code",
   "execution_count": 80,
   "metadata": {},
   "outputs": [
    {
     "output_type": "execute_result",
     "data": {
      "text/plain": [
       "[datetime.datetime(2020, 3, 16, 0, 0),\n",
       " datetime.datetime(2020, 3, 20, 0, 0),\n",
       " datetime.datetime(2020, 4, 20, 0, 0),\n",
       " datetime.datetime(2020, 5, 15, 0, 0),\n",
       " datetime.datetime(2020, 6, 27, 0, 0),\n",
       " datetime.datetime(2020, 7, 26, 0, 0)]"
      ]
     },
     "metadata": {},
     "execution_count": 80
    }
   ],
   "source": [
    "# Creating a list of datetime objects\n",
    "dat = [dt.datetime(2020,3,16), dt.datetime(2020,3,20), dt.datetime(2020,4,20), dt.datetime(2020,5,15),dt.datetime(2020,6,27), dt.datetime(2020,7,26)]\n",
    "dat"
   ]
  },
  {
   "source": [
    "The datetime() class also takes parameters for time and timezone (hour, minute, second, microsecond, tzone), but they are optional, and has a default value of 0, (None for timezone)."
   ],
   "cell_type": "markdown",
   "metadata": {}
  },
  {
   "cell_type": "code",
   "execution_count": 81,
   "metadata": {},
   "outputs": [
    {
     "output_type": "execute_result",
     "data": {
      "text/plain": [
       "[datetime.datetime(2020, 3, 16, 7, 26),\n",
       " datetime.datetime(2020, 3, 20, 8, 0),\n",
       " datetime.datetime(2020, 4, 20, 8, 5),\n",
       " datetime.datetime(2020, 5, 15, 7, 20),\n",
       " datetime.datetime(2020, 6, 27, 0, 0),\n",
       " datetime.datetime(2020, 7, 26, 8, 10)]"
      ]
     },
     "metadata": {},
     "execution_count": 81
    }
   ],
   "source": [
    "dat = [dt.datetime(2020,3,16,7,26), dt.datetime(2020,3,20,8,0), dt.datetime(2020,4,20,8,5), dt.datetime(2020,5,15,7,20),dt.datetime(2020,6,27), dt.datetime(2020,7,26,8,10)]\n",
    "dat"
   ]
  },
  {
   "source": [
    "## Python Date"
   ],
   "cell_type": "markdown",
   "metadata": {}
  },
  {
   "cell_type": "code",
   "execution_count": 82,
   "metadata": {},
   "outputs": [
    {
     "output_type": "execute_result",
     "data": {
      "text/plain": [
       "datetime.date(2020, 8, 1)"
      ]
     },
     "metadata": {},
     "execution_count": 82
    }
   ],
   "source": [
    "# Creating date objects\n",
    "x3 = dt.date(2020,8,1)\n",
    "x3"
   ]
  },
  {
   "cell_type": "code",
   "execution_count": 83,
   "metadata": {},
   "outputs": [
    {
     "output_type": "execute_result",
     "data": {
      "text/plain": [
       "[datetime.date(2020, 3, 16),\n",
       " datetime.date(2020, 3, 20),\n",
       " datetime.date(2020, 4, 20),\n",
       " datetime.date(2020, 5, 15),\n",
       " datetime.date(2020, 6, 27),\n",
       " datetime.date(2020, 7, 26)]"
      ]
     },
     "metadata": {},
     "execution_count": 83
    }
   ],
   "source": [
    "dat2 = [dt.date(2020,3,16), dt.date(2020,3,20), dt.date(2020,4,20), dt.date(2020,5,15),dt.date(2020,6,27), dt.date(2020,7,26)]\n",
    "dat2"
   ]
  },
  {
   "cell_type": "code",
   "execution_count": 84,
   "metadata": {
    "tags": []
   },
   "outputs": [
    {
     "output_type": "stream",
     "name": "stdout",
     "text": [
      "Month \tshort version: Mar \tfull version: March\nMonth \tshort version: Mar \tfull version: March\nMonth \tshort version: Apr \tfull version: April\nMonth \tshort version: May \tfull version: May\nMonth \tshort version: Jun \tfull version: June\nMonth \tshort version: Jul \tfull version: July\n"
     ]
    }
   ],
   "source": [
    "# printing month name\n",
    "for d in dat:\n",
    "    print('Month \\tshort version:',d.strftime('%b'),'\\tfull version:',d.strftime('%B'))"
   ]
  },
  {
   "cell_type": "code",
   "execution_count": 85,
   "metadata": {
    "tags": []
   },
   "outputs": [
    {
     "output_type": "stream",
     "name": "stdout",
     "text": [
      "Weekday \tshort version: Mon \tfull version: Monday \tas a number: 1\nWeekday \tshort version: Fri \tfull version: Friday \tas a number: 5\nWeekday \tshort version: Mon \tfull version: Monday \tas a number: 1\nWeekday \tshort version: Fri \tfull version: Friday \tas a number: 5\nWeekday \tshort version: Sat \tfull version: Saturday \tas a number: 6\nWeekday \tshort version: Sun \tfull version: Sunday \tas a number: 0\n"
     ]
    }
   ],
   "source": [
    "# printing weekday\n",
    "for d in dat:\n",
    "    print('Weekday \\tshort version:',d.strftime('%a'),'\\tfull version:',d.strftime('%A'),'\\tas a number:',d.strftime('%w'))"
   ]
  },
  {
   "cell_type": "code",
   "execution_count": 86,
   "metadata": {
    "tags": []
   },
   "outputs": [
    {
     "output_type": "stream",
     "name": "stdout",
     "text": [
      "Day: 16\nDay: 20\nDay: 20\nDay: 15\nDay: 27\nDay: 26\n"
     ]
    }
   ],
   "source": [
    "# printing day of month\n",
    "for d in dat:\n",
    "    print('Day:',d.strftime('%d'))"
   ]
  },
  {
   "cell_type": "code",
   "execution_count": 87,
   "metadata": {
    "tags": []
   },
   "outputs": [
    {
     "output_type": "stream",
     "name": "stdout",
     "text": [
      "Year \tshort version: 20 \tfull version: 2020\nYear \tshort version: 20 \tfull version: 2020\nYear \tshort version: 20 \tfull version: 2020\nYear \tshort version: 20 \tfull version: 2020\nYear \tshort version: 20 \tfull version: 2020\nYear \tshort version: 20 \tfull version: 2020\n"
     ]
    }
   ],
   "source": [
    "# printing year\n",
    "for d in dat:\n",
    "    print('Year \\tshort version:',d.strftime('%y'),'\\tfull version:',d.strftime('%Y'))"
   ]
  },
  {
   "cell_type": "code",
   "execution_count": 88,
   "metadata": {},
   "outputs": [
    {
     "output_type": "execute_result",
     "data": {
      "text/plain": [
       "[4, 31, 24, 42, 29]"
      ]
     },
     "metadata": {},
     "execution_count": 88
    }
   ],
   "source": [
    "# Calculate the number of days between two dates\n",
    "deltaD = [(dat[i]-dat[i-1]).days for i in range(1,len(dat))]\n",
    "deltaD"
   ]
  },
  {
   "cell_type": "code",
   "execution_count": 89,
   "metadata": {},
   "outputs": [],
   "source": [
    "from dateutil import relativedelta"
   ]
  },
  {
   "cell_type": "code",
   "execution_count": 90,
   "metadata": {},
   "outputs": [],
   "source": [
    "date1 = dt.date(1980,8,18)\n",
    "date2 = dt.date.today()\n",
    "delta = relativedelta.relativedelta(date2,date1)"
   ]
  },
  {
   "cell_type": "code",
   "execution_count": 91,
   "metadata": {
    "tags": []
   },
   "outputs": [
    {
     "output_type": "stream",
     "name": "stdout",
     "text": [
      "40\n"
     ]
    }
   ],
   "source": [
    "# Calculate the number of years between two dates\n",
    "print(delta.years)"
   ]
  },
  {
   "cell_type": "code",
   "execution_count": 92,
   "metadata": {
    "tags": []
   },
   "outputs": [
    {
     "output_type": "stream",
     "name": "stdout",
     "text": [
      "485\n"
     ]
    }
   ],
   "source": [
    "# Calculate the number of months between two dates\n",
    "print(delta.years * 12 + delta.months)"
   ]
  },
  {
   "source": [
    "## Python Time"
   ],
   "cell_type": "markdown",
   "metadata": {}
  },
  {
   "cell_type": "code",
   "execution_count": 93,
   "metadata": {},
   "outputs": [
    {
     "output_type": "execute_result",
     "data": {
      "text/plain": [
       "datetime.time(5, 20, 21)"
      ]
     },
     "metadata": {},
     "execution_count": 93
    }
   ],
   "source": [
    "# Creating time objects\n",
    "x3 = dt.time(5,20,21)\n",
    "x3"
   ]
  },
  {
   "cell_type": "code",
   "execution_count": 94,
   "metadata": {
    "tags": []
   },
   "outputs": [
    {
     "output_type": "stream",
     "name": "stdout",
     "text": [
      "Hours: 5 Minutes: 20 Seconds: 21\n"
     ]
    }
   ],
   "source": [
    "# print hours\n",
    "print('Hours:',x3.hour, 'Minutes:',x3.minute,'Seconds:',x3.second )"
   ]
  },
  {
   "cell_type": "code",
   "execution_count": 95,
   "metadata": {},
   "outputs": [
    {
     "output_type": "execute_result",
     "data": {
      "text/plain": [
       "[datetime.time(3, 3, 16),\n",
       " datetime.time(6, 23, 20),\n",
       " datetime.time(10, 4, 20),\n",
       " datetime.time(12, 5, 15)]"
      ]
     },
     "metadata": {},
     "execution_count": 95
    }
   ],
   "source": [
    "tim = [dt.time(3,3,16), dt.time(6,23,20), dt.time(10,4,20), dt.time(12,5,15)]\n",
    "tim"
   ]
  },
  {
   "cell_type": "code",
   "execution_count": 96,
   "metadata": {
    "tags": []
   },
   "outputs": [
    {
     "output_type": "stream",
     "name": "stdout",
     "text": [
      "Hours: 03\nHours: 06\nHours: 10\nHours: 12\n"
     ]
    }
   ],
   "source": [
    "# printing hours\n",
    "for d in tim:\n",
    "    print('Hours:',d.strftime('%H'))"
   ]
  },
  {
   "cell_type": "code",
   "execution_count": 97,
   "metadata": {},
   "outputs": [
    {
     "output_type": "stream",
     "name": "stdout",
     "text": [
      "Minutes: 03\nMinutes: 23\nMinutes: 04\nMinutes: 05\n"
     ]
    }
   ],
   "source": [
    "# printing minutes\n",
    "for d in tim:\n",
    "    print('Minutes:',d.strftime('%M'))"
   ]
  },
  {
   "cell_type": "code",
   "execution_count": 98,
   "metadata": {},
   "outputs": [
    {
     "output_type": "stream",
     "name": "stdout",
     "text": [
      "Minutes: 16\nMinutes: 20\nMinutes: 20\nMinutes: 15\n"
     ]
    }
   ],
   "source": [
    "# printing seconds\n",
    "for d in tim:\n",
    "    print('Minutes:',d.strftime('%S'))"
   ]
  },
  {
   "cell_type": "markdown",
   "metadata": {},
   "source": [
    "## Working with dates"
   ]
  },
  {
   "cell_type": "code",
   "execution_count": 99,
   "metadata": {},
   "outputs": [],
   "source": [
    "datstr = ['2020-3-11-3-33','2020-4-16-4-24','2020-5-20-5-25','2020-6-16-6-36','2020-7-26-7-7']"
   ]
  },
  {
   "cell_type": "code",
   "execution_count": 100,
   "metadata": {},
   "outputs": [
    {
     "output_type": "execute_result",
     "data": {
      "text/plain": [
       "str"
      ]
     },
     "metadata": {},
     "execution_count": 100
    }
   ],
   "source": [
    "type(datstr[0])"
   ]
  },
  {
   "cell_type": "code",
   "execution_count": 101,
   "metadata": {},
   "outputs": [
    {
     "output_type": "execute_result",
     "data": {
      "text/plain": [
       "[datetime.datetime(2020, 3, 11, 3, 33),\n",
       " datetime.datetime(2020, 4, 16, 4, 24),\n",
       " datetime.datetime(2020, 5, 20, 5, 25),\n",
       " datetime.datetime(2020, 6, 16, 6, 36),\n",
       " datetime.datetime(2020, 7, 26, 7, 7)]"
      ]
     },
     "metadata": {},
     "execution_count": 101
    }
   ],
   "source": [
    "dat2 = [dt.datetime.strptime(ds,'%Y-%m-%d-%H-%M') for ds in datstr]\n",
    "dat2"
   ]
  },
  {
   "cell_type": "code",
   "execution_count": 102,
   "metadata": {},
   "outputs": [
    {
     "output_type": "execute_result",
     "data": {
      "text/plain": [
       "datetime.datetime"
      ]
     },
     "metadata": {},
     "execution_count": 102
    }
   ],
   "source": [
    "type(dat2[0])"
   ]
  },
  {
   "cell_type": "code",
   "execution_count": 103,
   "metadata": {
    "tags": []
   },
   "outputs": [
    {
     "output_type": "stream",
     "name": "stdout",
     "text": [
      "Date1: 2020-03-11 03:33:00    Date2: 2020-04-16 04:24:00\nDiff years   = 0\nDiff months  = 1\nDiff days    = 5\nDiff hours   = 0\nDiff minutes = 51 \n\nDate1: 2020-04-16 04:24:00    Date2: 2020-05-20 05:25:00\nDiff years   = 0\nDiff months  = 1\nDiff days    = 4\nDiff hours   = 1\nDiff minutes = 1 \n\nDate1: 2020-05-20 05:25:00    Date2: 2020-06-16 06:36:00\nDiff years   = 0\nDiff months  = 0\nDiff days    = 27\nDiff hours   = 1\nDiff minutes = 11 \n\nDate1: 2020-06-16 06:36:00    Date2: 2020-07-26 07:07:00\nDiff years   = 0\nDiff months  = 1\nDiff days    = 10\nDiff hours   = 0\nDiff minutes = 31 \n\n"
     ]
    }
   ],
   "source": [
    "# Calculating differences\n",
    "for d in range(1,len(dat2)):\n",
    "    delta = relativedelta.relativedelta(dat2[d],dat2[d-1])\n",
    "    print('Date1:',dat2[d-1], '   Date2:',dat2[d])\n",
    "    print('Diff years   =',delta.years)\n",
    "    print('Diff months  =',delta.months)\n",
    "    print('Diff days    =',delta.days)\n",
    "    print('Diff hours   =',delta.hours)\n",
    "    print('Diff minutes =',delta.minutes, '\\n')\n"
   ]
  },
  {
   "cell_type": "code",
   "execution_count": 104,
   "metadata": {},
   "outputs": [
    {
     "output_type": "execute_result",
     "data": {
      "text/plain": [
       "datetime.date(2021, 2, 13)"
      ]
     },
     "metadata": {},
     "execution_count": 104
    }
   ],
   "source": [
    "# today\n",
    "today = dt.date.today()\n",
    "today"
   ]
  },
  {
   "cell_type": "code",
   "execution_count": 105,
   "metadata": {},
   "outputs": [
    {
     "output_type": "execute_result",
     "data": {
      "text/plain": [
       "datetime.date(2021, 2, 12)"
      ]
     },
     "metadata": {},
     "execution_count": 105
    }
   ],
   "source": [
    "# yesterday\n",
    "yesterday = today - dt.timedelta(days = 1)\n",
    "yesterday"
   ]
  },
  {
   "cell_type": "code",
   "execution_count": 106,
   "metadata": {},
   "outputs": [
    {
     "output_type": "execute_result",
     "data": {
      "text/plain": [
       "datetime.date(2021, 2, 14)"
      ]
     },
     "metadata": {},
     "execution_count": 106
    }
   ],
   "source": [
    "# tomorrow\n",
    "tomorrow = today + dt.timedelta(days = 1)\n",
    "tomorrow"
   ]
  }
 ]
}