{
 "cells": [
  {
   "source": [
    "# Introduction to NumPy"
   ],
   "cell_type": "markdown",
   "metadata": {}
  },
  {
   "source": [
    "NumPy is a Python library used for working with arrays.\n",
    "\n",
    "The NumPy (Numeric Python) package provides basic routines for manipulating large arrays and matrices of numeric data."
   ],
   "cell_type": "markdown",
   "metadata": {}
  },
  {
   "source": [
    "import numpy as np"
   ],
   "cell_type": "code",
   "metadata": {},
   "execution_count": 2,
   "outputs": []
  },
  {
   "source": [
    "## Numpy array\n",
    "\n",
    "**`arrays`**: The central feature of NumPy is the array object class. Arrays are similar to lists in Python, except that every element of an array must be of the same type, usually a numeric type like float or int. \n",
    "\n",
    "Arrays make operations with large amounts of numeric data very fast and are much efficient than lists."
   ],
   "cell_type": "markdown",
   "metadata": {}
  },
  {
   "source": [
    "arr = np.array([1,2,3,4,5,6])\n",
    "arr"
   ],
   "cell_type": "code",
   "metadata": {},
   "execution_count": 3,
   "outputs": [
    {
     "output_type": "execute_result",
     "data": {
      "text/plain": [
       "array([1, 2, 3, 4, 5, 6])"
      ]
     },
     "metadata": {},
     "execution_count": 3
    }
   ]
  },
  {
   "cell_type": "code",
   "execution_count": 4,
   "metadata": {},
   "outputs": [
    {
     "output_type": "execute_result",
     "data": {
      "text/plain": [
       "array([[1, 2, 3],\n",
       "       [4, 5, 6]])"
      ]
     },
     "metadata": {},
     "execution_count": 4
    }
   ],
   "source": [
    "arr2 = np.array([[1, 2, 3],\n",
    "                [4, 5, 6]])\n",
    "arr2"
   ]
  },
  {
   "cell_type": "code",
   "execution_count": 5,
   "metadata": {},
   "outputs": [
    {
     "output_type": "stream",
     "name": "stdout",
     "text": [
      "Type of arr  = <class 'numpy.ndarray'>\nType of arr2 = <class 'numpy.ndarray'>\n"
     ]
    }
   ],
   "source": [
    "print('Type of arr  =', type(arr))\n",
    "print('Type of arr2 =', type(arr2))"
   ]
  },
  {
   "source": [
    "Array Dimensions: number of axes"
   ],
   "cell_type": "markdown",
   "metadata": {}
  },
  {
   "cell_type": "code",
   "execution_count": 6,
   "metadata": {},
   "outputs": [
    {
     "output_type": "stream",
     "name": "stdout",
     "text": [
      "Dimensions of arr  = 1\nDimensions of arr2 = 2\n"
     ]
    }
   ],
   "source": [
    "print('Dimensions of arr  =', arr.ndim)\n",
    "print('Dimensions of arr2 =', arr2.ndim)"
   ]
  },
  {
   "source": [
    "Array Shape: number of elements in each dimension"
   ],
   "cell_type": "markdown",
   "metadata": {}
  },
  {
   "cell_type": "code",
   "execution_count": 7,
   "metadata": {},
   "outputs": [
    {
     "output_type": "stream",
     "name": "stdout",
     "text": [
      "Shape of arr  = (6,)\nShape of arr2 = (2, 3)\n"
     ]
    }
   ],
   "source": [
    "print('Shape of arr  =', arr.shape)\n",
    "print('Shape of arr2 =', arr2.shape)"
   ]
  },
  {
   "source": [
    "Array Size: total number of elements"
   ],
   "cell_type": "markdown",
   "metadata": {}
  },
  {
   "cell_type": "code",
   "execution_count": 8,
   "metadata": {
    "tags": []
   },
   "outputs": [
    {
     "output_type": "stream",
     "name": "stdout",
     "text": [
      "Size of arr  = 6\nSize of arr2 = 6\n"
     ]
    }
   ],
   "source": [
    "print('Size of arr  =', arr.size)\n",
    "print('Size of arr2 =', arr2.size)"
   ]
  },
  {
   "source": [
    "Type of the elements in the array"
   ],
   "cell_type": "markdown",
   "metadata": {}
  },
  {
   "cell_type": "code",
   "execution_count": 9,
   "metadata": {
    "tags": []
   },
   "outputs": [
    {
     "output_type": "stream",
     "name": "stdout",
     "text": [
      "Type of elements in arr  = int32\nType of elements in arr2 = int32\n"
     ]
    }
   ],
   "source": [
    "print('Type of elements in arr  =', arr.dtype)\n",
    "print('Type of elements in arr2 =', arr2.dtype)"
   ]
  },
  {
   "source": [
    "## Array creation\n",
    "\n",
    "There are several ways to create arrays in Numpy"
   ],
   "cell_type": "markdown",
   "metadata": {}
  },
  {
   "cell_type": "code",
   "execution_count": 10,
   "metadata": {},
   "outputs": [
    {
     "output_type": "execute_result",
     "data": {
      "text/plain": [
       "array([[1., 2., 3.],\n",
       "       [4., 5., 6.]])"
      ]
     },
     "metadata": {},
     "execution_count": 10
    }
   ],
   "source": [
    "arr_l = np.array([[1, 2, 3], [4, 5, 6]], dtype = 'float')\n",
    "arr_l"
   ]
  },
  {
   "cell_type": "code",
   "execution_count": 11,
   "metadata": {},
   "outputs": [
    {
     "output_type": "execute_result",
     "data": {
      "text/plain": [
       "dtype('float64')"
      ]
     },
     "metadata": {},
     "execution_count": 11
    }
   ],
   "source": [
    "arr_l.dtype"
   ]
  },
  {
   "source": [
    "Creating an array from a tuple:"
   ],
   "cell_type": "markdown",
   "metadata": {}
  },
  {
   "cell_type": "code",
   "execution_count": 12,
   "metadata": {},
   "outputs": [
    {
     "output_type": "execute_result",
     "data": {
      "text/plain": [
       "array([1, 2, 3, 4, 5])"
      ]
     },
     "metadata": {},
     "execution_count": 12
    }
   ],
   "source": [
    "arr_t = np.array((1,2,3,4,5))\n",
    "arr_t"
   ]
  },
  {
   "cell_type": "code",
   "execution_count": 13,
   "metadata": {},
   "outputs": [
    {
     "output_type": "execute_result",
     "data": {
      "text/plain": [
       "dtype('int32')"
      ]
     },
     "metadata": {},
     "execution_count": 13
    }
   ],
   "source": [
    "arr_t.dtype"
   ]
  },
  {
   "source": [
    "If one number in the tuple is a float, the array type will be float"
   ],
   "cell_type": "markdown",
   "metadata": {}
  },
  {
   "cell_type": "code",
   "execution_count": 14,
   "metadata": {},
   "outputs": [
    {
     "output_type": "execute_result",
     "data": {
      "text/plain": [
       "array([1. , 2. , 3. , 4. , 5.4])"
      ]
     },
     "metadata": {},
     "execution_count": 14
    }
   ],
   "source": [
    "arr_t = np.array((1,2,3,4,5.4))\n",
    "arr_t"
   ]
  },
  {
   "cell_type": "code",
   "execution_count": 15,
   "metadata": {},
   "outputs": [
    {
     "output_type": "execute_result",
     "data": {
      "text/plain": [
       "dtype('float64')"
      ]
     },
     "metadata": {},
     "execution_count": 15
    }
   ],
   "source": [
    "arr_t.dtype"
   ]
  },
  {
   "source": [
    "Creating a 3x3 array with all zeros"
   ],
   "cell_type": "markdown",
   "metadata": {}
  },
  {
   "cell_type": "code",
   "execution_count": 16,
   "metadata": {},
   "outputs": [
    {
     "output_type": "execute_result",
     "data": {
      "text/plain": [
       "array([[0., 0., 0.],\n",
       "       [0., 0., 0.],\n",
       "       [0., 0., 0.]])"
      ]
     },
     "metadata": {},
     "execution_count": 16
    }
   ],
   "source": [
    "np.zeros((3,3))"
   ]
  },
  {
   "source": [
    "Creating a 3x3 array with all ones"
   ],
   "cell_type": "markdown",
   "metadata": {}
  },
  {
   "cell_type": "code",
   "execution_count": 17,
   "metadata": {},
   "outputs": [
    {
     "output_type": "execute_result",
     "data": {
      "text/plain": [
       "array([[1., 1., 1.],\n",
       "       [1., 1., 1.],\n",
       "       [1., 1., 1.]])"
      ]
     },
     "metadata": {},
     "execution_count": 17
    }
   ],
   "source": [
    "np.ones((3,3))"
   ]
  },
  {
   "source": [
    "Creating a 3x3 array with all fives"
   ],
   "cell_type": "markdown",
   "metadata": {}
  },
  {
   "cell_type": "code",
   "execution_count": 18,
   "metadata": {},
   "outputs": [
    {
     "output_type": "execute_result",
     "data": {
      "text/plain": [
       "array([[5, 5, 5],\n",
       "       [5, 5, 5],\n",
       "       [5, 5, 5]])"
      ]
     },
     "metadata": {},
     "execution_count": 18
    }
   ],
   "source": [
    "np.full((3,3), 5)"
   ]
  },
  {
   "source": [
    "Creating a 3x3 array with random values between 0 and 1"
   ],
   "cell_type": "markdown",
   "metadata": {}
  },
  {
   "cell_type": "code",
   "execution_count": 19,
   "metadata": {},
   "outputs": [
    {
     "output_type": "execute_result",
     "data": {
      "text/plain": [
       "array([[0.78125916, 0.50720243, 0.87023946],\n",
       "       [0.39756773, 0.80216213, 0.52498132],\n",
       "       [0.73854951, 0.5962747 , 0.21989616]])"
      ]
     },
     "metadata": {},
     "execution_count": 19
    }
   ],
   "source": [
    "np.random.random((3,3)) "
   ]
  },
  {
   "source": [
    "Creating a 3x3 array with integer random values between 0 and 10"
   ],
   "cell_type": "markdown",
   "metadata": {}
  },
  {
   "cell_type": "code",
   "execution_count": 20,
   "metadata": {},
   "outputs": [
    {
     "output_type": "execute_result",
     "data": {
      "text/plain": [
       "array([[ 9,  4,  9],\n",
       "       [10,  8,  3],\n",
       "       [10,  1,  1]])"
      ]
     },
     "metadata": {},
     "execution_count": 20
    }
   ],
   "source": [
    "np.random.random_integers(0,10,(3,3))"
   ]
  },
  {
   "source": [
    "Create a 3x3 array of normally distributed random values with mean 0 and standard deviation 1"
   ],
   "cell_type": "markdown",
   "metadata": {}
  },
  {
   "cell_type": "code",
   "execution_count": 21,
   "metadata": {},
   "outputs": [
    {
     "output_type": "execute_result",
     "data": {
      "text/plain": [
       "array([[-0.61350169, -0.11449687,  0.92101824],\n",
       "       [ 0.62383692,  0.61498024, -0.40707322],\n",
       "       [ 0.21479966, -0.81020984, -0.634365  ]])"
      ]
     },
     "metadata": {},
     "execution_count": 21
    }
   ],
   "source": [
    "np.random.normal(0,1,(3,3))"
   ]
  },
  {
   "source": [
    "Create a 3x3 array of normally distributed random values with mean 10 and standard deviation of 5"
   ],
   "cell_type": "markdown",
   "metadata": {}
  },
  {
   "cell_type": "code",
   "execution_count": 22,
   "metadata": {},
   "outputs": [
    {
     "output_type": "execute_result",
     "data": {
      "text/plain": [
       "array([[10.95399858, 11.26152857, -2.91303013],\n",
       "       [10.20027402, 10.65320403, 10.82142911],\n",
       "       [17.16400096, 13.49993229, 13.14694037]])"
      ]
     },
     "metadata": {},
     "execution_count": 22
    }
   ],
   "source": [
    "np.random.normal(10,5,(3,3))"
   ]
  },
  {
   "source": [
    "Create a 3x3 identity matrix"
   ],
   "cell_type": "markdown",
   "metadata": {}
  },
  {
   "cell_type": "code",
   "execution_count": 23,
   "metadata": {},
   "outputs": [
    {
     "output_type": "execute_result",
     "data": {
      "text/plain": [
       "array([[1., 0., 0.],\n",
       "       [0., 1., 0.],\n",
       "       [0., 0., 1.]])"
      ]
     },
     "metadata": {},
     "execution_count": 23
    }
   ],
   "source": [
    "np.eye(3)"
   ]
  },
  {
   "source": [
    "Create a sequence of 11 values evenly spaced between 0 and 5 "
   ],
   "cell_type": "markdown",
   "metadata": {}
  },
  {
   "cell_type": "code",
   "execution_count": 24,
   "metadata": {
    "tags": []
   },
   "outputs": [
    {
     "output_type": "stream",
     "name": "stdout",
     "text": [
      "Number of elements = 11\n[0.  0.5 1.  1.5 2.  2.5 3.  3.5 4.  4.5 5. ]\n"
     ]
    }
   ],
   "source": [
    "l2 = np.linspace(0, 5, 11) \n",
    "print('Number of elements =',len(l2))\n",
    "print(l2)"
   ]
  },
  {
   "source": [
    "Create a sequence of 6 values evenly spaced between 0 and 5 "
   ],
   "cell_type": "markdown",
   "metadata": {}
  },
  {
   "cell_type": "code",
   "execution_count": 25,
   "metadata": {},
   "outputs": [
    {
     "output_type": "execute_result",
     "data": {
      "text/plain": [
       "array([0., 1., 2., 3., 4., 5.])"
      ]
     },
     "metadata": {},
     "execution_count": 25
    }
   ],
   "source": [
    "np.linspace(0, 5, 6)"
   ]
  },
  {
   "source": [
    "Create a sequence of values between 0 and 20 (not included), stepping by 2"
   ],
   "cell_type": "markdown",
   "metadata": {}
  },
  {
   "cell_type": "code",
   "execution_count": 26,
   "metadata": {},
   "outputs": [
    {
     "output_type": "execute_result",
     "data": {
      "text/plain": [
       "array([ 0,  2,  4,  6,  8, 10, 12, 14, 16, 18])"
      ]
     },
     "metadata": {},
     "execution_count": 26
    }
   ],
   "source": [
    "np.arange(0, 20, 2) "
   ]
  },
  {
   "source": [
    "If you want to include 20, he second parameter must be 21:"
   ],
   "cell_type": "markdown",
   "metadata": {}
  },
  {
   "cell_type": "code",
   "execution_count": 27,
   "metadata": {},
   "outputs": [
    {
     "output_type": "execute_result",
     "data": {
      "text/plain": [
       "array([ 0,  2,  4,  6,  8, 10, 12, 14, 16, 18, 20])"
      ]
     },
     "metadata": {},
     "execution_count": 27
    }
   ],
   "source": [
    "np.arange(0, 21, 2)"
   ]
  },
  {
   "source": [
    "Create an array filled with a linear sequence between 0 and 21 (not included), stepping by 5"
   ],
   "cell_type": "markdown",
   "metadata": {}
  },
  {
   "cell_type": "code",
   "execution_count": 28,
   "metadata": {},
   "outputs": [
    {
     "output_type": "execute_result",
     "data": {
      "text/plain": [
       "array([ 0,  5, 10, 15, 20])"
      ]
     },
     "metadata": {},
     "execution_count": 28
    }
   ],
   "source": [
    "np.arange(0, 21, 5) "
   ]
  },
  {
   "source": [
    "Create an array filled with a linear sequence between 0 and 28 (not included), stepping by 5"
   ],
   "cell_type": "markdown",
   "metadata": {}
  },
  {
   "cell_type": "code",
   "execution_count": 29,
   "metadata": {},
   "outputs": [
    {
     "output_type": "execute_result",
     "data": {
      "text/plain": [
       "array([ 0,  5, 10, 15, 20, 25])"
      ]
     },
     "metadata": {},
     "execution_count": 29
    }
   ],
   "source": [
    "np.arange(0, 28, 5) "
   ]
  }
 ],
 "metadata": {
  "language_info": {
   "codemirror_mode": {
    "name": "ipython",
    "version": 3
   },
   "file_extension": ".py",
   "mimetype": "text/x-python",
   "name": "python",
   "nbconvert_exporter": "python",
   "pygments_lexer": "ipython3",
   "version": "3.9.1-final"
  },
  "orig_nbformat": 2,
  "kernelspec": {
   "name": "python3",
   "display_name": "Python 3.9.1 64-bit",
   "metadata": {
    "interpreter": {
     "hash": "63fd5069d213b44bf678585dea6b12cceca9941eaf7f819626cde1f2670de90d"
    }
   }
  }
 },
 "nbformat": 4,
 "nbformat_minor": 2
}