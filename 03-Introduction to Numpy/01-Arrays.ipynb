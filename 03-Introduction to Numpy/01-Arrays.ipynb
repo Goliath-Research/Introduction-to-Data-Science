{
 "cells": [
  {
   "source": [
    "# Introduction to NumPy"
   ],
   "cell_type": "markdown",
   "metadata": {}
  },
  {
   "source": [
    "NumPy is a Python library used for working with arrays.\n",
    "\n",
    "The NumPy (Numeric Python) package provides basic routines for manipulating large arrays and matrices of numeric data."
   ],
   "cell_type": "markdown",
   "metadata": {}
  },
  {
   "cell_type": "code",
   "execution_count": 1,
   "metadata": {},
   "outputs": [],
   "source": [
    "# !pip install numpy"
   ]
  },
  {
   "source": [
    "import numpy as np"
   ],
   "cell_type": "code",
   "metadata": {},
   "execution_count": 2,
   "outputs": []
  },
  {
   "cell_type": "code",
   "execution_count": 3,
   "metadata": {},
   "outputs": [
    {
     "output_type": "execute_result",
     "data": {
      "text/plain": [
       "'1.20.1'"
      ]
     },
     "metadata": {},
     "execution_count": 3
    }
   ],
   "source": [
    "np.__version__"
   ]
  },
  {
   "source": [
    "## NumPy array\n",
    "\n",
    "The main feature of NumPy is the array object class. \n",
    "\n",
    "Arrays are similar to lists in Python, except that every element of an array must be of the same type, usually a numeric type like float or int. \n",
    "\n",
    "Arrays make operations with large amounts of numeric data very fast and are much efficient than lists."
   ],
   "cell_type": "markdown",
   "metadata": {}
  },
  {
   "source": [
    " ### 0-D arrays"
   ],
   "cell_type": "markdown",
   "metadata": {}
  },
  {
   "source": [
    "0-D arrays are scalar"
   ],
   "cell_type": "markdown",
   "metadata": {}
  },
  {
   "cell_type": "code",
   "execution_count": 4,
   "metadata": {},
   "outputs": [
    {
     "output_type": "execute_result",
     "data": {
      "text/plain": [
       "array(5)"
      ]
     },
     "metadata": {},
     "execution_count": 4
    }
   ],
   "source": [
    "arr0 = np.array(5)\n",
    "arr0"
   ]
  },
  {
   "source": [
    "### 1-D arrays"
   ],
   "cell_type": "markdown",
   "metadata": {}
  },
  {
   "source": [
    "arr1 = np.array([1,2,3,4,5,6])\n",
    "arr1"
   ],
   "cell_type": "code",
   "metadata": {},
   "execution_count": 5,
   "outputs": [
    {
     "output_type": "execute_result",
     "data": {
      "text/plain": [
       "array([1, 2, 3, 4, 5, 6])"
      ]
     },
     "metadata": {},
     "execution_count": 5
    }
   ]
  },
  {
   "source": [
    "### 2-D arrays"
   ],
   "cell_type": "markdown",
   "metadata": {}
  },
  {
   "cell_type": "code",
   "execution_count": 6,
   "metadata": {},
   "outputs": [
    {
     "output_type": "execute_result",
     "data": {
      "text/plain": [
       "array([[1, 2, 3],\n",
       "       [4, 5, 6]])"
      ]
     },
     "metadata": {},
     "execution_count": 6
    }
   ],
   "source": [
    "arr2 = np.array([[1, 2, 3],\n",
    "                [4, 5, 6]])\n",
    "arr2"
   ]
  },
  {
   "source": [
    "### 3-D arrays"
   ],
   "cell_type": "markdown",
   "metadata": {}
  },
  {
   "cell_type": "code",
   "execution_count": 7,
   "metadata": {},
   "outputs": [
    {
     "output_type": "execute_result",
     "data": {
      "text/plain": [
       "array([[[1, 1, 1],\n",
       "        [2, 2, 2]],\n",
       "\n",
       "       [[3, 3, 3],\n",
       "        [4, 4, 4]]])"
      ]
     },
     "metadata": {},
     "execution_count": 7
    }
   ],
   "source": [
    "arr3 = np.array([[[1, 1, 1], [2, 2, 2]], [[3, 3, 3], [4, 4, 4]]])\n",
    "arr3"
   ]
  },
  {
   "source": [
    "All of them are NumPy arrays: np.ndarray"
   ],
   "cell_type": "markdown",
   "metadata": {}
  },
  {
   "cell_type": "code",
   "execution_count": 8,
   "metadata": {},
   "outputs": [
    {
     "output_type": "stream",
     "name": "stdout",
     "text": [
      "Type of arr0 = <class 'numpy.ndarray'>\nType of arr1 = <class 'numpy.ndarray'>\nType of arr2 = <class 'numpy.ndarray'>\nType of arr3 = <class 'numpy.ndarray'>\n"
     ]
    }
   ],
   "source": [
    "print('Type of arr0 =', type(arr0))\n",
    "print('Type of arr1 =', type(arr1))\n",
    "print('Type of arr2 =', type(arr2))\n",
    "print('Type of arr3 =', type(arr3))"
   ]
  },
  {
   "source": [
    "**Array Dimensions**: number of axes"
   ],
   "cell_type": "markdown",
   "metadata": {}
  },
  {
   "cell_type": "code",
   "execution_count": 9,
   "metadata": {},
   "outputs": [
    {
     "output_type": "stream",
     "name": "stdout",
     "text": [
      "Dimensions of arr0 = 0\nDimensions of arr1 = 1\nDimensions of arr2 = 2\nDimensions of arr3 = 3\n"
     ]
    }
   ],
   "source": [
    "print('Dimensions of arr0 =', arr0.ndim)\n",
    "print('Dimensions of arr1 =', arr1.ndim)\n",
    "print('Dimensions of arr2 =', arr2.ndim)\n",
    "print('Dimensions of arr3 =', arr3.ndim)"
   ]
  },
  {
   "source": [
    "**Array Shape**: number of elements in each dimension"
   ],
   "cell_type": "markdown",
   "metadata": {}
  },
  {
   "cell_type": "code",
   "execution_count": 10,
   "metadata": {},
   "outputs": [
    {
     "output_type": "stream",
     "name": "stdout",
     "text": [
      "Shape of arr0 = ()\nShape of arr1 = (6,)\nShape of arr2 = (2, 3)\nShape of arr3 = (2, 2, 3)\n"
     ]
    }
   ],
   "source": [
    "print('Shape of arr0 =', arr0.shape)\n",
    "print('Shape of arr1 =', arr1.shape)\n",
    "print('Shape of arr2 =', arr2.shape)\n",
    "print('Shape of arr3 =', arr3.shape)"
   ]
  },
  {
   "source": [
    "**Array Size**: total number of elements"
   ],
   "cell_type": "markdown",
   "metadata": {}
  },
  {
   "cell_type": "code",
   "execution_count": 11,
   "metadata": {
    "tags": []
   },
   "outputs": [
    {
     "output_type": "stream",
     "name": "stdout",
     "text": [
      "Size of arr0 = 1\nSize of arr1 = 6\nSize of arr2 = 6\nSize of arr3 = 12\n"
     ]
    }
   ],
   "source": [
    "print('Size of arr0 =', arr0.size)\n",
    "print('Size of arr1 =', arr1.size)\n",
    "print('Size of arr2 =', arr2.size)\n",
    "print('Size of arr3 =', arr3.size)"
   ]
  },
  {
   "source": [
    "**Type of the elements in the array**: in this case, all elements are int"
   ],
   "cell_type": "markdown",
   "metadata": {}
  },
  {
   "cell_type": "code",
   "execution_count": 12,
   "metadata": {
    "tags": []
   },
   "outputs": [
    {
     "output_type": "stream",
     "name": "stdout",
     "text": [
      "Type of elements in arr0 = int32\nType of elements in arr1 = int32\nType of elements in arr2 = int32\nType of elements in arr3 = int32\n"
     ]
    }
   ],
   "source": [
    "print('Type of elements in arr0 =', arr0.dtype)\n",
    "print('Type of elements in arr1 =', arr1.dtype)\n",
    "print('Type of elements in arr2 =', arr2.dtype)\n",
    "print('Type of elements in arr3 =', arr3.dtype)"
   ]
  },
  {
   "source": [
    "# Array creation\n",
    "\n",
    "There are several ways to create arrays in NumPy"
   ],
   "cell_type": "markdown",
   "metadata": {}
  },
  {
   "source": [
    "Creating an array from a **list**"
   ],
   "cell_type": "markdown",
   "metadata": {}
  },
  {
   "cell_type": "code",
   "execution_count": 13,
   "metadata": {},
   "outputs": [
    {
     "output_type": "execute_result",
     "data": {
      "text/plain": [
       "array([[1., 2., 3.],\n",
       "       [4., 5., 6.]])"
      ]
     },
     "metadata": {},
     "execution_count": 13
    }
   ],
   "source": [
    "arr_l = np.array([[1, 2, 3], [4, 5, 6]], dtype = 'float')\n",
    "arr_l"
   ]
  },
  {
   "cell_type": "code",
   "execution_count": 14,
   "metadata": {},
   "outputs": [
    {
     "output_type": "stream",
     "name": "stdout",
     "text": [
      "Type of elements in arr_l = float64\n"
     ]
    }
   ],
   "source": [
    "print('Type of elements in arr_l =', arr_l.dtype)"
   ]
  },
  {
   "source": [
    "Creating an array from a **tuple**"
   ],
   "cell_type": "markdown",
   "metadata": {}
  },
  {
   "cell_type": "code",
   "execution_count": 15,
   "metadata": {},
   "outputs": [
    {
     "output_type": "execute_result",
     "data": {
      "text/plain": [
       "array([1, 2, 3, 4, 5])"
      ]
     },
     "metadata": {},
     "execution_count": 15
    }
   ],
   "source": [
    "arr_t = np.array((1,2,3,4,5))\n",
    "arr_t"
   ]
  },
  {
   "cell_type": "code",
   "execution_count": 16,
   "metadata": {},
   "outputs": [
    {
     "output_type": "stream",
     "name": "stdout",
     "text": [
      "Type of elements in arr_t = int32\n"
     ]
    }
   ],
   "source": [
    "print('Type of elements in arr_t =', arr_t.dtype)"
   ]
  },
  {
   "source": [
    "If one number in the tuple is a float, the array type will be float"
   ],
   "cell_type": "markdown",
   "metadata": {}
  },
  {
   "cell_type": "code",
   "execution_count": 17,
   "metadata": {},
   "outputs": [
    {
     "output_type": "execute_result",
     "data": {
      "text/plain": [
       "array([1. , 2. , 3. , 4. , 5.4])"
      ]
     },
     "metadata": {},
     "execution_count": 17
    }
   ],
   "source": [
    "arr_t = np.array((1,2,3,4,5.4))\n",
    "arr_t"
   ]
  },
  {
   "cell_type": "code",
   "execution_count": 18,
   "metadata": {},
   "outputs": [
    {
     "output_type": "stream",
     "name": "stdout",
     "text": [
      "Type of elements in arr_l = float64\n"
     ]
    }
   ],
   "source": [
    "print('Type of elements in arr_l =', arr_l.dtype)"
   ]
  },
  {
   "source": [
    "Creating a 3x3 array with all **zeros**"
   ],
   "cell_type": "markdown",
   "metadata": {}
  },
  {
   "cell_type": "code",
   "execution_count": 19,
   "metadata": {},
   "outputs": [
    {
     "output_type": "execute_result",
     "data": {
      "text/plain": [
       "array([[0., 0., 0.],\n",
       "       [0., 0., 0.],\n",
       "       [0., 0., 0.]])"
      ]
     },
     "metadata": {},
     "execution_count": 19
    }
   ],
   "source": [
    "np.zeros((3,3))"
   ]
  },
  {
   "source": [
    "Creating a 3x3 array with all **ones**"
   ],
   "cell_type": "markdown",
   "metadata": {}
  },
  {
   "cell_type": "code",
   "execution_count": 20,
   "metadata": {},
   "outputs": [
    {
     "output_type": "execute_result",
     "data": {
      "text/plain": [
       "array([[1., 1., 1.],\n",
       "       [1., 1., 1.],\n",
       "       [1., 1., 1.]])"
      ]
     },
     "metadata": {},
     "execution_count": 20
    }
   ],
   "source": [
    "np.ones((3,3))"
   ]
  },
  {
   "source": [
    "Creating a 3x3 array with all **fives**"
   ],
   "cell_type": "markdown",
   "metadata": {}
  },
  {
   "cell_type": "code",
   "execution_count": 21,
   "metadata": {},
   "outputs": [
    {
     "output_type": "execute_result",
     "data": {
      "text/plain": [
       "array([[5, 5, 5],\n",
       "       [5, 5, 5],\n",
       "       [5, 5, 5]])"
      ]
     },
     "metadata": {},
     "execution_count": 21
    }
   ],
   "source": [
    "np.full((3,3), 5)"
   ]
  },
  {
   "source": [
    "Creating a 3x3 array with **random values between 0 and 1**"
   ],
   "cell_type": "markdown",
   "metadata": {}
  },
  {
   "cell_type": "code",
   "execution_count": 22,
   "metadata": {},
   "outputs": [
    {
     "output_type": "execute_result",
     "data": {
      "text/plain": [
       "array([[0.45944182, 0.90260877, 0.87875564],\n",
       "       [0.87228256, 0.82266375, 0.38521052],\n",
       "       [0.35827769, 0.77289008, 0.48162662]])"
      ]
     },
     "metadata": {},
     "execution_count": 22
    }
   ],
   "source": [
    "np.random.random((3,3)) "
   ]
  },
  {
   "source": [
    "Creating a 3x3 array with integer **random values between 0 and 10**"
   ],
   "cell_type": "markdown",
   "metadata": {}
  },
  {
   "cell_type": "code",
   "execution_count": 23,
   "metadata": {},
   "outputs": [
    {
     "output_type": "execute_result",
     "data": {
      "text/plain": [
       "array([[ 6, 10,  8],\n",
       "       [ 9,  1,  2],\n",
       "       [10,  1,  1]])"
      ]
     },
     "metadata": {},
     "execution_count": 23
    }
   ],
   "source": [
    "np.random.randint(11, size=(3,3))"
   ]
  },
  {
   "source": [
    "Creating a 2x3 array with integer **random values between 0 and 9**"
   ],
   "cell_type": "markdown",
   "metadata": {}
  },
  {
   "cell_type": "code",
   "execution_count": 24,
   "metadata": {},
   "outputs": [
    {
     "output_type": "execute_result",
     "data": {
      "text/plain": [
       "array([[8, 2, 2],\n",
       "       [5, 2, 8]])"
      ]
     },
     "metadata": {},
     "execution_count": 24
    }
   ],
   "source": [
    "np.random.randint(10, size=(2,3))"
   ]
  },
  {
   "source": [
    "Create a 3x3 array of **normally distributed random values** with mean 0 and standard deviation 1"
   ],
   "cell_type": "markdown",
   "metadata": {}
  },
  {
   "cell_type": "code",
   "execution_count": 25,
   "metadata": {},
   "outputs": [
    {
     "output_type": "execute_result",
     "data": {
      "text/plain": [
       "array([[-0.37662521, -0.22598829,  0.16138199],\n",
       "       [-0.39251234, -0.63132154, -1.61838317]])"
      ]
     },
     "metadata": {},
     "execution_count": 25
    }
   ],
   "source": [
    "np.random.normal(0,1,(2,3))"
   ]
  },
  {
   "source": [
    "Create a 3x3 array of **normally distributed random values** with mean 10 and standard deviation of 5"
   ],
   "cell_type": "markdown",
   "metadata": {}
  },
  {
   "cell_type": "code",
   "execution_count": 26,
   "metadata": {},
   "outputs": [
    {
     "output_type": "execute_result",
     "data": {
      "text/plain": [
       "array([[ 5.50499013, 11.92632294,  3.93290703],\n",
       "       [11.49035134, 10.4488063 , 13.05345981],\n",
       "       [ 0.90494746,  6.83512642,  4.63199801]])"
      ]
     },
     "metadata": {},
     "execution_count": 26
    }
   ],
   "source": [
    "np.random.normal(10,5,(3,3))"
   ]
  },
  {
   "source": [
    "Create a 3x3 identity matrix"
   ],
   "cell_type": "markdown",
   "metadata": {}
  },
  {
   "cell_type": "code",
   "execution_count": 27,
   "metadata": {},
   "outputs": [
    {
     "output_type": "execute_result",
     "data": {
      "text/plain": [
       "array([[1., 0., 0.],\n",
       "       [0., 1., 0.],\n",
       "       [0., 0., 1.]])"
      ]
     },
     "metadata": {},
     "execution_count": 27
    }
   ],
   "source": [
    "np.eye(3)"
   ]
  },
  {
   "source": [
    "Create a sequence of 11 values evenly spaced between 0 and 5 "
   ],
   "cell_type": "markdown",
   "metadata": {}
  },
  {
   "cell_type": "code",
   "execution_count": 28,
   "metadata": {
    "tags": []
   },
   "outputs": [
    {
     "output_type": "stream",
     "name": "stdout",
     "text": [
      "Number of elements = 11\n"
     ]
    },
    {
     "output_type": "execute_result",
     "data": {
      "text/plain": [
       "array([0. , 0.5, 1. , 1.5, 2. , 2.5, 3. , 3.5, 4. , 4.5, 5. ])"
      ]
     },
     "metadata": {},
     "execution_count": 28
    }
   ],
   "source": [
    "l2 = np.linspace(0, 5, 11) \n",
    "print('Number of elements =',len(l2))\n",
    "l2"
   ]
  },
  {
   "source": [
    "Create a sequence of 6 values evenly spaced between 0 and 5 "
   ],
   "cell_type": "markdown",
   "metadata": {}
  },
  {
   "cell_type": "code",
   "execution_count": 29,
   "metadata": {},
   "outputs": [
    {
     "output_type": "execute_result",
     "data": {
      "text/plain": [
       "array([0., 1., 2., 3., 4., 5.])"
      ]
     },
     "metadata": {},
     "execution_count": 29
    }
   ],
   "source": [
    "np.linspace(0, 5, 6)"
   ]
  },
  {
   "source": [
    "Create a sequence of values between 0 and 20 (not included), stepping by 2"
   ],
   "cell_type": "markdown",
   "metadata": {}
  },
  {
   "cell_type": "code",
   "execution_count": 30,
   "metadata": {},
   "outputs": [
    {
     "output_type": "execute_result",
     "data": {
      "text/plain": [
       "array([ 0,  2,  4,  6,  8, 10, 12, 14, 16, 18])"
      ]
     },
     "metadata": {},
     "execution_count": 30
    }
   ],
   "source": [
    "np.arange(0, 20, 2) "
   ]
  },
  {
   "source": [
    "If you want to include 20, he second parameter must be 21:"
   ],
   "cell_type": "markdown",
   "metadata": {}
  },
  {
   "cell_type": "code",
   "execution_count": 31,
   "metadata": {},
   "outputs": [
    {
     "output_type": "execute_result",
     "data": {
      "text/plain": [
       "array([ 0,  2,  4,  6,  8, 10, 12, 14, 16, 18, 20])"
      ]
     },
     "metadata": {},
     "execution_count": 31
    }
   ],
   "source": [
    "np.arange(0, 21, 2)"
   ]
  },
  {
   "source": [
    "Create an array filled with a linear sequence between 0 and 21 (not included), stepping by 5"
   ],
   "cell_type": "markdown",
   "metadata": {}
  },
  {
   "cell_type": "code",
   "execution_count": 32,
   "metadata": {},
   "outputs": [
    {
     "output_type": "execute_result",
     "data": {
      "text/plain": [
       "array([ 0,  5, 10, 15, 20])"
      ]
     },
     "metadata": {},
     "execution_count": 32
    }
   ],
   "source": [
    "np.arange(0, 21, 5) "
   ]
  },
  {
   "source": [
    "Create an array filled with a linear sequence between 0 and 28 (not included), stepping by 5"
   ],
   "cell_type": "markdown",
   "metadata": {}
  },
  {
   "cell_type": "code",
   "execution_count": 33,
   "metadata": {},
   "outputs": [
    {
     "output_type": "execute_result",
     "data": {
      "text/plain": [
       "array([ 0,  5, 10, 15, 20, 25])"
      ]
     },
     "metadata": {},
     "execution_count": 33
    }
   ],
   "source": [
    "np.arange(0, 28, 5) "
   ]
  }
 ],
 "metadata": {
  "language_info": {
   "codemirror_mode": {
    "name": "ipython",
    "version": 3
   },
   "file_extension": ".py",
   "mimetype": "text/x-python",
   "name": "python",
   "nbconvert_exporter": "python",
   "pygments_lexer": "ipython3",
   "version": "3.9.1-final"
  },
  "orig_nbformat": 2,
  "kernelspec": {
   "name": "python3",
   "display_name": "Python 3",
   "language": "python"
  }
 },
 "nbformat": 4,
 "nbformat_minor": 2
}