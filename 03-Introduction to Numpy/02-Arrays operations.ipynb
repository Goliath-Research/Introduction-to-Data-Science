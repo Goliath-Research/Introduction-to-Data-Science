{
 "cells": [
  {
   "source": [
    "# NumPy array operations"
   ],
   "cell_type": "markdown",
   "metadata": {}
  },
  {
   "cell_type": "code",
   "execution_count": 1,
   "metadata": {},
   "outputs": [],
   "source": [
    "# !pip install numpy"
   ]
  },
  {
   "cell_type": "code",
   "execution_count": 2,
   "metadata": {},
   "outputs": [],
   "source": [
    "import numpy as np"
   ]
  },
  {
   "cell_type": "code",
   "execution_count": 3,
   "metadata": {},
   "outputs": [],
   "source": [
    "np.random.seed(0)   # seed for reproducibility"
   ]
  },
  {
   "cell_type": "code",
   "execution_count": 4,
   "metadata": {},
   "outputs": [],
   "source": [
    "x1 = np.random.randint(10, size=8)        # one-dimensional array\n",
    "x2 = np.random.randint(10, size=(2,4))    # two-dimensional array\n",
    "x3 = np.random.randint(10, size=(2,2,2))  # three-dimensional array"
   ]
  },
  {
   "source": [
    "Dimensions:"
   ],
   "cell_type": "markdown",
   "metadata": {}
  },
  {
   "cell_type": "code",
   "execution_count": 5,
   "metadata": {
    "tags": []
   },
   "outputs": [
    {
     "output_type": "stream",
     "name": "stdout",
     "text": [
      "1\n2\n3\n"
     ]
    }
   ],
   "source": [
    "print(x1.ndim)\n",
    "print(x2.ndim)\n",
    "print(x3.ndim)"
   ]
  },
  {
   "source": [
    "Shape:"
   ],
   "cell_type": "markdown",
   "metadata": {}
  },
  {
   "cell_type": "code",
   "execution_count": 6,
   "metadata": {
    "tags": []
   },
   "outputs": [
    {
     "output_type": "stream",
     "name": "stdout",
     "text": [
      "(8,)\n(2, 4)\n(2, 2, 2)\n"
     ]
    }
   ],
   "source": [
    "print(x1.shape)\n",
    "print(x2.shape)\n",
    "print(x3.shape)"
   ]
  },
  {
   "source": [
    "Type:"
   ],
   "cell_type": "markdown",
   "metadata": {}
  },
  {
   "source": [
    "print(x1.dtype)\n",
    "print(x2.dtype)\n",
    "print(x3.dtype)"
   ],
   "cell_type": "code",
   "metadata": {
    "tags": []
   },
   "execution_count": 7,
   "outputs": [
    {
     "output_type": "stream",
     "name": "stdout",
     "text": [
      "int32\nint32\nint32\n"
     ]
    }
   ]
  },
  {
   "source": [
    "Size:"
   ],
   "cell_type": "markdown",
   "metadata": {}
  },
  {
   "cell_type": "code",
   "execution_count": 8,
   "metadata": {
    "tags": []
   },
   "outputs": [
    {
     "output_type": "stream",
     "name": "stdout",
     "text": [
      "8\n8\n8\n"
     ]
    }
   ],
   "source": [
    "print(x1.size)\n",
    "print(x2.size)\n",
    "print(x3.size)"
   ]
  },
  {
   "source": [
    "Accesing elements:"
   ],
   "cell_type": "markdown",
   "metadata": {}
  },
  {
   "cell_type": "code",
   "execution_count": 9,
   "metadata": {
    "tags": []
   },
   "outputs": [
    {
     "output_type": "stream",
     "name": "stdout",
     "text": [
      "x1 = [5 0 3 3 7 9 3 5]\nFirst element: 5\nLast  element: 5\n"
     ]
    }
   ],
   "source": [
    "print('x1 =',x1)\n",
    "print('First element:', x1[0])\n",
    "print('Last  element:', x1[-1])"
   ]
  },
  {
   "cell_type": "code",
   "execution_count": 10,
   "metadata": {},
   "outputs": [
    {
     "output_type": "stream",
     "name": "stdout",
     "text": [
      "[[2 4 7 6]\n [8 8 1 6]]\nFirst element: 2\nFirst element: 2\nLast  element: 6\nLast  element: 6\n"
     ]
    }
   ],
   "source": [
    "print(x2)\n",
    "print('First element:', x2[0,0])\n",
    "print('First element:', x2[0][0])\n",
    "print('Last  element:', x2[-1,-1])\n",
    "print('Last  element:', x2[-1][-1])"
   ]
  },
  {
   "cell_type": "code",
   "execution_count": 11,
   "metadata": {},
   "outputs": [
    {
     "output_type": "stream",
     "name": "stdout",
     "text": [
      "[[[7 7]\n  [8 1]]\n\n [[5 9]\n  [8 9]]]\nFirst element: 7\nFirst element: 7\nLast  element: 9\nLast  element: 9\n"
     ]
    }
   ],
   "source": [
    "print(x3)\n",
    "print('First element:', x3[0,0,0])\n",
    "print('First element:', x3[0][0][0])\n",
    "print('Last  element:', x3[-1,-1,-1])\n",
    "print('Last  element:', x3[-1][-1][-1])"
   ]
  },
  {
   "source": [
    "You can modify any value, if needed."
   ],
   "cell_type": "markdown",
   "metadata": {}
  },
  {
   "cell_type": "code",
   "execution_count": 12,
   "metadata": {},
   "outputs": [
    {
     "output_type": "execute_result",
     "data": {
      "text/plain": [
       "array([[[ 7,  7],\n",
       "        [ 8,  1]],\n",
       "\n",
       "       [[ 5,  9],\n",
       "        [ 8, 20]]])"
      ]
     },
     "metadata": {},
     "execution_count": 12
    }
   ],
   "source": [
    "x3[-1,-1,-1] = 20\n",
    "x3"
   ]
  },
  {
   "source": [
    "`IMPORTANT`: NumPy arrays have a fixed type. If you attempt to insert a floating-point value to an integer array, the value will be silently truncated."
   ],
   "cell_type": "markdown",
   "metadata": {}
  },
  {
   "cell_type": "code",
   "execution_count": 13,
   "metadata": {},
   "outputs": [
    {
     "output_type": "execute_result",
     "data": {
      "text/plain": [
       "array([[[7, 7],\n",
       "        [8, 1]],\n",
       "\n",
       "       [[5, 9],\n",
       "        [8, 3]]])"
      ]
     },
     "metadata": {},
     "execution_count": 13
    }
   ],
   "source": [
    "x3[-1,-1,-1] = 3.1415\n",
    "x3"
   ]
  },
  {
   "source": [
    "## Accesing subarrays"
   ],
   "cell_type": "markdown",
   "metadata": {}
  },
  {
   "cell_type": "code",
   "execution_count": 14,
   "metadata": {
    "tags": []
   },
   "outputs": [
    {
     "output_type": "stream",
     "name": "stdout",
     "text": [
      "[5 0 3 3 7 9 3 5]\nFirst three elements: [5 0 3]\nRest of the elements: [3 7 9 3 5]\n"
     ]
    }
   ],
   "source": [
    "print(x1)\n",
    "print('First three elements:',x1[:3])\n",
    "print('Rest of the elements:',x1[3:])"
   ]
  },
  {
   "cell_type": "code",
   "execution_count": 15,
   "metadata": {},
   "outputs": [],
   "source": [
    "x = [0,1,2,3,4,5,6,7,8]"
   ]
  },
  {
   "cell_type": "code",
   "execution_count": 16,
   "metadata": {},
   "outputs": [
    {
     "output_type": "execute_result",
     "data": {
      "text/plain": [
       "[2, 3]"
      ]
     },
     "metadata": {},
     "execution_count": 16
    }
   ],
   "source": [
    "# index 2 is included, index 4 is excluded\n",
    "x[2:4]"
   ]
  },
  {
   "source": [
    "`x[start:stop:step]`\n",
    "- default start: first index\n",
    "- default stop: last index\n",
    "- default step: 1"
   ],
   "cell_type": "markdown",
   "metadata": {}
  },
  {
   "cell_type": "code",
   "execution_count": 17,
   "metadata": {
    "tags": []
   },
   "outputs": [
    {
     "output_type": "stream",
     "name": "stdout",
     "text": [
      "Original array = [0, 1, 2, 3, 4, 5, 6, 7, 8] \n\nFrom index 2 to 5 with step 2      = [2, 4]\nFrom index 2 to 5, default step    = [2, 3, 4]\nFrom the first index to 5, step 2  = [0, 2, 4]\nFrom index 2 to last index, step 2 = [2, 4, 6, 8]\n"
     ]
    }
   ],
   "source": [
    "print('Original array =', x, '\\n')\n",
    "print('From index 2 to 5 with step 2      =', x[2:5:2])\n",
    "print('From index 2 to 5, default step    =', x[2:5:])\n",
    "print('From the first index to 5, step 2  =', x[:5:2])\n",
    "print('From index 2 to last index, step 2 =', x[2::2])"
   ]
  },
  {
   "source": [
    "Reverse elements:"
   ],
   "cell_type": "markdown",
   "metadata": {}
  },
  {
   "cell_type": "code",
   "execution_count": 18,
   "metadata": {},
   "outputs": [
    {
     "output_type": "stream",
     "name": "stdout",
     "text": [
      "Original array = [0, 1, 2, 3, 4, 5, 6, 7, 8] \n\nReverse list: [8, 7, 6, 5, 4, 3, 2, 1, 0]\nReverse list with step 2: [8, 6, 4, 2, 0]\nReverse list starting at index 4, with step 2: [4, 2, 0]\n"
     ]
    }
   ],
   "source": [
    "print('Original array =', x, '\\n')\n",
    "print('Reverse list:',x[::-1])\n",
    "print('Reverse list with step 2:',x[::-2])\n",
    "print('Reverse list starting at index 4, with step 2:',x[4::-2])"
   ]
  },
  {
   "cell_type": "code",
   "execution_count": 19,
   "metadata": {},
   "outputs": [
    {
     "output_type": "execute_result",
     "data": {
      "text/plain": [
       "array([[ 1,  2,  3,  4],\n",
       "       [ 5,  6,  7,  8],\n",
       "       [ 9, 10, 11, 12]])"
      ]
     },
     "metadata": {},
     "execution_count": 19
    }
   ],
   "source": [
    "m = np.array([[1,2,3,4],[5,6,7,8],[9,10,11,12]])\n",
    "m"
   ]
  },
  {
   "cell_type": "code",
   "execution_count": 20,
   "metadata": {},
   "outputs": [
    {
     "output_type": "stream",
     "name": "stdout",
     "text": [
      "First column = [1 5 9]\nFirst row    = [1 2 3 4]\nFirst row    = [1 2 3 4]\n"
     ]
    }
   ],
   "source": [
    "print('First column =', m[:,0])\n",
    "print('First row    =', m[0,:])\n",
    "print('First row    =', m[0])"
   ]
  },
  {
   "cell_type": "code",
   "execution_count": 21,
   "metadata": {},
   "outputs": [
    {
     "output_type": "execute_result",
     "data": {
      "text/plain": [
       "array([[1, 2],\n",
       "       [5, 6]])"
      ]
     },
     "metadata": {},
     "execution_count": 21
    }
   ],
   "source": [
    "# First two rows and first two columns\n",
    "m[:2,:2]"
   ]
  },
  {
   "cell_type": "code",
   "execution_count": 22,
   "metadata": {},
   "outputs": [
    {
     "output_type": "execute_result",
     "data": {
      "text/plain": [
       "array([[1, 2, 3],\n",
       "       [5, 6, 7]])"
      ]
     },
     "metadata": {},
     "execution_count": 22
    }
   ],
   "source": [
    "# First two rows and first three columns\n",
    "m[:2,:3]"
   ]
  },
  {
   "cell_type": "code",
   "execution_count": 23,
   "metadata": {},
   "outputs": [
    {
     "output_type": "execute_result",
     "data": {
      "text/plain": [
       "array([[2, 3],\n",
       "       [6, 7]])"
      ]
     },
     "metadata": {},
     "execution_count": 23
    }
   ],
   "source": [
    "# First two rows and columns from 1 to 3-1=2\n",
    "m[:2,1:3]"
   ]
  },
  {
   "source": [
    "`IMPORTANT`: array slices in numpy return views rather than copies of the array data. \n",
    "\n",
    "This is one area in which NumPy array slicing differs from Python list slicing: in lists, slices will be copies."
   ],
   "cell_type": "markdown",
   "metadata": {}
  },
  {
   "cell_type": "code",
   "execution_count": 24,
   "metadata": {},
   "outputs": [
    {
     "output_type": "execute_result",
     "data": {
      "text/plain": [
       "array([[ 1,  2,  3,  4],\n",
       "       [ 5,  6,  7,  8],\n",
       "       [ 9, 10, 11, 12]])"
      ]
     },
     "metadata": {},
     "execution_count": 24
    }
   ],
   "source": [
    "m"
   ]
  },
  {
   "cell_type": "code",
   "execution_count": 25,
   "metadata": {},
   "outputs": [
    {
     "output_type": "execute_result",
     "data": {
      "text/plain": [
       "array([[1, 2],\n",
       "       [5, 6]])"
      ]
     },
     "metadata": {},
     "execution_count": 25
    }
   ],
   "source": [
    "m_sub = m[:2,:2]\n",
    "m_sub"
   ]
  },
  {
   "cell_type": "code",
   "execution_count": 26,
   "metadata": {},
   "outputs": [
    {
     "output_type": "execute_result",
     "data": {
      "text/plain": [
       "array([[100,   2],\n",
       "       [  5,   6]])"
      ]
     },
     "metadata": {},
     "execution_count": 26
    }
   ],
   "source": [
    "m_sub[0,0] = 100\n",
    "m_sub"
   ]
  },
  {
   "cell_type": "code",
   "execution_count": 27,
   "metadata": {},
   "outputs": [
    {
     "output_type": "execute_result",
     "data": {
      "text/plain": [
       "array([[100,   2,   3,   4],\n",
       "       [  5,   6,   7,   8],\n",
       "       [  9,  10,  11,  12]])"
      ]
     },
     "metadata": {},
     "execution_count": 27
    }
   ],
   "source": [
    "m"
   ]
  },
  {
   "source": [
    "This default behavior is actually quite useful: it means that when we work with large datasets, we can access and process pieces of these datasets."
   ],
   "cell_type": "markdown",
   "metadata": {}
  },
  {
   "cell_type": "code",
   "execution_count": 28,
   "metadata": {},
   "outputs": [
    {
     "output_type": "execute_result",
     "data": {
      "text/plain": [
       "array([[100,   2,   3,   4],\n",
       "       [  5,   6,   7,   8],\n",
       "       [  9,  10,  11,  12]])"
      ]
     },
     "metadata": {},
     "execution_count": 28
    }
   ],
   "source": [
    "# Creating copies of arrays\n",
    "m"
   ]
  },
  {
   "cell_type": "code",
   "execution_count": 29,
   "metadata": {},
   "outputs": [
    {
     "output_type": "execute_result",
     "data": {
      "text/plain": [
       "array([[100,   2],\n",
       "       [  5,   6]])"
      ]
     },
     "metadata": {},
     "execution_count": 29
    }
   ],
   "source": [
    "m_sub_copy = m[:2,:2].copy()\n",
    "m_sub_copy"
   ]
  },
  {
   "cell_type": "code",
   "execution_count": 30,
   "metadata": {},
   "outputs": [
    {
     "output_type": "execute_result",
     "data": {
      "text/plain": [
       "array([[1, 2],\n",
       "       [5, 6]])"
      ]
     },
     "metadata": {},
     "execution_count": 30
    }
   ],
   "source": [
    "m_sub_copy[0,0] = 1\n",
    "m_sub_copy"
   ]
  },
  {
   "cell_type": "code",
   "execution_count": 31,
   "metadata": {},
   "outputs": [
    {
     "output_type": "execute_result",
     "data": {
      "text/plain": [
       "array([[100,   2,   3,   4],\n",
       "       [  5,   6,   7,   8],\n",
       "       [  9,  10,  11,  12]])"
      ]
     },
     "metadata": {},
     "execution_count": 31
    }
   ],
   "source": [
    "m"
   ]
  }
 ],
 "metadata": {
  "language_info": {
   "codemirror_mode": {
    "name": "ipython",
    "version": 3
   },
   "file_extension": ".py",
   "mimetype": "text/x-python",
   "name": "python",
   "nbconvert_exporter": "python",
   "pygments_lexer": "ipython3",
   "version": "3.9.1-final"
  },
  "orig_nbformat": 2,
  "kernelspec": {
   "name": "python3",
   "display_name": "Python 3.9.1 64-bit",
   "metadata": {
    "interpreter": {
     "hash": "63fd5069d213b44bf678585dea6b12cceca9941eaf7f819626cde1f2670de90d"
    }
   }
  }
 },
 "nbformat": 4,
 "nbformat_minor": 2
}