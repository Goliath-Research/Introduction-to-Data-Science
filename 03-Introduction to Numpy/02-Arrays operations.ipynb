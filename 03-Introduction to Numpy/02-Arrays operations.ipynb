{
 "cells": [
  {
   "source": [
    "# Array Operations"
   ],
   "cell_type": "markdown",
   "metadata": {}
  },
  {
   "cell_type": "code",
   "execution_count": 1,
   "metadata": {},
   "outputs": [],
   "source": [
    "# !pip install numpy"
   ]
  },
  {
   "cell_type": "code",
   "execution_count": 2,
   "metadata": {},
   "outputs": [],
   "source": [
    "import numpy as np"
   ]
  },
  {
   "cell_type": "code",
   "execution_count": 3,
   "metadata": {},
   "outputs": [],
   "source": [
    "np.random.seed(0)     # seed for reproducibility"
   ]
  },
  {
   "source": [
    "## Creating arrays"
   ],
   "cell_type": "markdown",
   "metadata": {}
  },
  {
   "cell_type": "code",
   "execution_count": 4,
   "metadata": {},
   "outputs": [
    {
     "output_type": "execute_result",
     "data": {
      "text/plain": [
       "array([5, 0, 3, 3, 7, 9, 3, 5])"
      ]
     },
     "metadata": {},
     "execution_count": 4
    }
   ],
   "source": [
    "x1 = np.random.randint(10, size=8)        # 1-D array\n",
    "x1"
   ]
  },
  {
   "cell_type": "code",
   "execution_count": 5,
   "metadata": {},
   "outputs": [
    {
     "output_type": "execute_result",
     "data": {
      "text/plain": [
       "array([[2, 4, 7, 6],\n",
       "       [8, 8, 1, 6]])"
      ]
     },
     "metadata": {},
     "execution_count": 5
    }
   ],
   "source": [
    "x2 = np.random.randint(10, size=(2,4))    # 2-D array\n",
    "x2"
   ]
  },
  {
   "cell_type": "code",
   "execution_count": 6,
   "metadata": {},
   "outputs": [
    {
     "output_type": "execute_result",
     "data": {
      "text/plain": [
       "array([[[7, 7],\n",
       "        [8, 1]],\n",
       "\n",
       "       [[5, 9],\n",
       "        [8, 9]]])"
      ]
     },
     "metadata": {},
     "execution_count": 6
    }
   ],
   "source": [
    "x3 = np.random.randint(10, size=(2,2,2))  # 3-D array\n",
    "x3"
   ]
  },
  {
   "source": [
    "Let's start calculating dimensions, shape, and size:"
   ],
   "cell_type": "markdown",
   "metadata": {}
  },
  {
   "cell_type": "code",
   "execution_count": 7,
   "metadata": {
    "tags": []
   },
   "outputs": [
    {
     "output_type": "stream",
     "name": "stdout",
     "text": [
      "Dim x1 = 1\nDim x2 = 2\nDim x3 = 3\n"
     ]
    }
   ],
   "source": [
    "print('Dim x1 =',x1.ndim)\n",
    "print('Dim x2 =',x2.ndim)\n",
    "print('Dim x3 =',x3.ndim)"
   ]
  },
  {
   "cell_type": "code",
   "execution_count": 8,
   "metadata": {
    "tags": []
   },
   "outputs": [
    {
     "output_type": "stream",
     "name": "stdout",
     "text": [
      "Shape x1 = (8,)\nShape x2 = (2, 4)\nShape x3 = (2, 2, 2)\n"
     ]
    }
   ],
   "source": [
    "print('Shape x1 =',x1.shape)\n",
    "print('Shape x2 =',x2.shape)\n",
    "print('Shape x3 =',x3.shape)"
   ]
  },
  {
   "cell_type": "code",
   "execution_count": 9,
   "metadata": {
    "tags": []
   },
   "outputs": [
    {
     "output_type": "stream",
     "name": "stdout",
     "text": [
      "Size x1 = 8\nSize x2 = 8\nSize x3 = 8\n"
     ]
    }
   ],
   "source": [
    "print('Size x1 =',x1.size)\n",
    "print('Size x2 =',x2.size)\n",
    "print('Size x3 =',x3.size)"
   ]
  },
  {
   "source": [
    "## Accessing to array's elements"
   ],
   "cell_type": "markdown",
   "metadata": {}
  },
  {
   "source": [
    "1-D array"
   ],
   "cell_type": "markdown",
   "metadata": {}
  },
  {
   "cell_type": "code",
   "execution_count": 10,
   "metadata": {
    "tags": []
   },
   "outputs": [
    {
     "output_type": "stream",
     "name": "stdout",
     "text": [
      "x1 = [5 0 3 3 7 9 3 5]\nFirst element: 5\nLast  element: 5\n"
     ]
    }
   ],
   "source": [
    "print('x1 =',x1)    \n",
    "print('First element:', x1[0])\n",
    "print('Last  element:', x1[-1])"
   ]
  },
  {
   "source": [
    "2-D array"
   ],
   "cell_type": "markdown",
   "metadata": {}
  },
  {
   "cell_type": "code",
   "execution_count": 11,
   "metadata": {},
   "outputs": [
    {
     "output_type": "stream",
     "name": "stdout",
     "text": [
      "[[2 4 7 6]\n [8 8 1 6]]\nFirst element: 2\nFirst element: 2\nLast  element: 6\nLast  element: 6\n"
     ]
    }
   ],
   "source": [
    "print(x2)         \n",
    "print('First element:', x2[0,0])\n",
    "print('First element:', x2[0][0])\n",
    "print('Last  element:', x2[-1,-1])\n",
    "print('Last  element:', x2[-1][-1])"
   ]
  },
  {
   "source": [
    "3-D array"
   ],
   "cell_type": "markdown",
   "metadata": {}
  },
  {
   "cell_type": "code",
   "execution_count": 12,
   "metadata": {},
   "outputs": [
    {
     "output_type": "stream",
     "name": "stdout",
     "text": [
      "[[[7 7]\n  [8 1]]\n\n [[5 9]\n  [8 9]]]\nFirst element: 7\nFirst element: 7\nLast  element: 9\nLast  element: 9\n"
     ]
    }
   ],
   "source": [
    "print(x3)            \n",
    "print('First element:', x3[0,0,0])\n",
    "print('First element:', x3[0][0][0])\n",
    "print('Last  element:', x3[-1,-1,-1])\n",
    "print('Last  element:', x3[-1][-1][-1])"
   ]
  },
  {
   "source": [
    "You can modify any value, if needed"
   ],
   "cell_type": "markdown",
   "metadata": {}
  },
  {
   "cell_type": "code",
   "execution_count": 13,
   "metadata": {},
   "outputs": [
    {
     "output_type": "execute_result",
     "data": {
      "text/plain": [
       "array([[[ 7,  7],\n",
       "        [ 8,  1]],\n",
       "\n",
       "       [[ 5,  9],\n",
       "        [ 8, 20]]])"
      ]
     },
     "metadata": {},
     "execution_count": 13
    }
   ],
   "source": [
    "x3[-1,-1,-1] = 20\n",
    "x3"
   ]
  },
  {
   "source": [
    "`IMPORTANT`: NumPy arrays have a fixed type. If you attempt to insert a floating-point value to an integer array, the value will be silently truncated."
   ],
   "cell_type": "markdown",
   "metadata": {}
  },
  {
   "cell_type": "code",
   "execution_count": 14,
   "metadata": {},
   "outputs": [
    {
     "output_type": "execute_result",
     "data": {
      "text/plain": [
       "array([[[7, 7],\n",
       "        [8, 1]],\n",
       "\n",
       "       [[5, 9],\n",
       "        [8, 3]]])"
      ]
     },
     "metadata": {},
     "execution_count": 14
    }
   ],
   "source": [
    "x3[-1,-1,-1] = 3.1415\n",
    "x3"
   ]
  },
  {
   "source": [
    "## Accessing to subarrays"
   ],
   "cell_type": "markdown",
   "metadata": {}
  },
  {
   "source": [
    "Slicing in python means taking elements from one given index to another given index.\n",
    "\n",
    "We pass slice instead of index like this: `[start:end]`\n",
    "\n",
    "We can also define the step, like this: `[start:end:step]`\n",
    "\n",
    "- default value for start: 0 \n",
    "- default value for end: length of array \n",
    "- default value of atep: 1"
   ],
   "cell_type": "markdown",
   "metadata": {}
  },
  {
   "cell_type": "code",
   "execution_count": 15,
   "metadata": {},
   "outputs": [
    {
     "output_type": "execute_result",
     "data": {
      "text/plain": [
       "array([5, 0, 3, 3, 7, 9, 3, 5])"
      ]
     },
     "metadata": {},
     "execution_count": 15
    }
   ],
   "source": [
    "x1"
   ]
  },
  {
   "cell_type": "code",
   "execution_count": 16,
   "metadata": {
    "tags": []
   },
   "outputs": [
    {
     "output_type": "stream",
     "name": "stdout",
     "text": [
      "First three elements: [5 0 3]\nRest of the elements: [3 7 9 3 5]\n"
     ]
    }
   ],
   "source": [
    "print('First three elements:',x1[:3])\n",
    "print('Rest of the elements:',x1[3:])"
   ]
  },
  {
   "cell_type": "code",
   "execution_count": 17,
   "metadata": {},
   "outputs": [
    {
     "output_type": "execute_result",
     "data": {
      "text/plain": [
       "[0, 1, 2, 3, 4, 5, 6, 7, 8]"
      ]
     },
     "metadata": {},
     "execution_count": 17
    }
   ],
   "source": [
    "x = [0,1,2,3,4,5,6,7,8]\n",
    "x"
   ]
  },
  {
   "cell_type": "code",
   "execution_count": 18,
   "metadata": {},
   "outputs": [
    {
     "output_type": "stream",
     "name": "stdout",
     "text": [
      "First three elements: [0, 1, 2]\nRest of the elements: [3, 4, 5, 6, 7, 8]\n"
     ]
    }
   ],
   "source": [
    "print('First three elements:',x[:3])\n",
    "print('Rest of the elements:',x[3:])"
   ]
  },
  {
   "cell_type": "code",
   "execution_count": 19,
   "metadata": {},
   "outputs": [
    {
     "output_type": "execute_result",
     "data": {
      "text/plain": [
       "[2, 3]"
      ]
     },
     "metadata": {},
     "execution_count": 19
    }
   ],
   "source": [
    "# index 2 is included, index 4 is excluded\n",
    "x[2:4]"
   ]
  },
  {
   "cell_type": "code",
   "execution_count": 20,
   "metadata": {
    "tags": []
   },
   "outputs": [
    {
     "output_type": "stream",
     "name": "stdout",
     "text": [
      "Original array = [0, 1, 2, 3, 4, 5, 6, 7, 8] \n\nFrom index 2 to 5, step 2:     [2, 4]\nFrom index 2 to 5:             [2, 3, 4]\nFrom index 0 to 5, step 2:     [0, 2, 4]\nFrom index 2 to last, step 2:  [2, 4, 6, 8]\n"
     ]
    }
   ],
   "source": [
    "print('Original array =', x, '\\n')\n",
    "print('From index 2 to 5, step 2:    ', x[2:5:2])\n",
    "print('From index 2 to 5:            ', x[2:5])\n",
    "print('From index 0 to 5, step 2:    ', x[:5:2])\n",
    "print('From index 2 to last, step 2: ', x[2::2])"
   ]
  },
  {
   "source": [
    "Reverse elements:"
   ],
   "cell_type": "markdown",
   "metadata": {}
  },
  {
   "cell_type": "code",
   "execution_count": 21,
   "metadata": {},
   "outputs": [
    {
     "output_type": "stream",
     "name": "stdout",
     "text": [
      "Original array = [0, 1, 2, 3, 4, 5, 6, 7, 8] \n",
      "\n",
      "Reverse list:                             [8, 7, 6, 5, 4, 3, 2, 1, 0]\n",
      "Reverse list with step 2:                 [8, 6, 4, 2, 0]\n",
      "Reverse list starting at index 4, step 2: [4, 2, 0]\n"
     ]
    }
   ],
   "source": [
    "print('Original array =', x, '\\n')\n",
    "print('Reverse list:                            ',x[::-1])\n",
    "print('Reverse list with step 2:                ',x[::-2])\n",
    "print('Reverse list starting at index 4, step 2:',x[4::-2])"
   ]
  },
  {
   "cell_type": "code",
   "execution_count": 22,
   "metadata": {},
   "outputs": [
    {
     "output_type": "execute_result",
     "data": {
      "text/plain": [
       "array([[ 1,  2,  3,  4],\n",
       "       [ 5,  6,  7,  8],\n",
       "       [ 9, 10, 11, 12]])"
      ]
     },
     "metadata": {},
     "execution_count": 22
    }
   ],
   "source": [
    "m = np.array([[1,2,3,4],[5,6,7,8],[9,10,11,12]])\n",
    "m"
   ]
  },
  {
   "cell_type": "code",
   "execution_count": 23,
   "metadata": {},
   "outputs": [
    {
     "output_type": "stream",
     "name": "stdout",
     "text": [
      "First column = [1 5 9]\n",
      "First row    = [1 2 3 4]\n",
      "First row    = [1 2 3 4]\n"
     ]
    }
   ],
   "source": [
    "print('First column =', m[:,0])\n",
    "print('First row    =', m[0,:])\n",
    "print('First row    =', m[0])       "
   ]
  },
  {
   "cell_type": "code",
   "execution_count": 24,
   "metadata": {},
   "outputs": [
    {
     "output_type": "execute_result",
     "data": {
      "text/plain": [
       "array([[1, 2],\n",
       "       [5, 6]])"
      ]
     },
     "metadata": {},
     "execution_count": 24
    }
   ],
   "source": [
    "# First two rows and first two columns\n",
    "m[:2,:2]"
   ]
  },
  {
   "cell_type": "code",
   "execution_count": 25,
   "metadata": {},
   "outputs": [
    {
     "output_type": "execute_result",
     "data": {
      "text/plain": [
       "array([[1, 2, 3],\n",
       "       [5, 6, 7]])"
      ]
     },
     "metadata": {},
     "execution_count": 25
    }
   ],
   "source": [
    "# First two rows and first three columns\n",
    "m[:2,:3]"
   ]
  },
  {
   "cell_type": "code",
   "execution_count": 26,
   "metadata": {},
   "outputs": [
    {
     "output_type": "execute_result",
     "data": {
      "text/plain": [
       "array([[2, 3],\n",
       "       [6, 7]])"
      ]
     },
     "metadata": {},
     "execution_count": 26
    }
   ],
   "source": [
    "# First two rows and columns from 1 to 3-1=2\n",
    "m[:2,1:3]"
   ]
  },
  {
   "source": [
    "`IMPORTANT`: array slices in numpy return views rather than copies of the array data. \n",
    "\n",
    "This is one area in which NumPy array slicing differs from Python list slicing: in lists, slices will be copies."
   ],
   "cell_type": "markdown",
   "metadata": {}
  },
  {
   "cell_type": "code",
   "execution_count": 27,
   "metadata": {},
   "outputs": [
    {
     "output_type": "execute_result",
     "data": {
      "text/plain": [
       "array([[ 1,  2,  3,  4],\n",
       "       [ 5,  6,  7,  8],\n",
       "       [ 9, 10, 11, 12]])"
      ]
     },
     "metadata": {},
     "execution_count": 27
    }
   ],
   "source": [
    "m"
   ]
  },
  {
   "cell_type": "code",
   "execution_count": 28,
   "metadata": {},
   "outputs": [
    {
     "output_type": "execute_result",
     "data": {
      "text/plain": [
       "array([[1, 2],\n",
       "       [5, 6]])"
      ]
     },
     "metadata": {},
     "execution_count": 28
    }
   ],
   "source": [
    "m_sub = m[:2,:2]\n",
    "m_sub"
   ]
  },
  {
   "cell_type": "code",
   "execution_count": 29,
   "metadata": {},
   "outputs": [
    {
     "output_type": "execute_result",
     "data": {
      "text/plain": [
       "array([[100,   2],\n",
       "       [  5,   6]])"
      ]
     },
     "metadata": {},
     "execution_count": 29
    }
   ],
   "source": [
    "m_sub[0,0] = 100\n",
    "m_sub"
   ]
  },
  {
   "cell_type": "code",
   "execution_count": 30,
   "metadata": {},
   "outputs": [
    {
     "output_type": "execute_result",
     "data": {
      "text/plain": [
       "array([[100,   2,   3,   4],\n",
       "       [  5,   6,   7,   8],\n",
       "       [  9,  10,  11,  12]])"
      ]
     },
     "metadata": {},
     "execution_count": 30
    }
   ],
   "source": [
    "m"
   ]
  },
  {
   "source": [
    "This default behavior is actually quite useful: it means that when we work with large datasets, we can access and process pieces of these datasets."
   ],
   "cell_type": "markdown",
   "metadata": {}
  },
  {
   "cell_type": "code",
   "execution_count": 31,
   "metadata": {},
   "outputs": [
    {
     "output_type": "execute_result",
     "data": {
      "text/plain": [
       "array([[100,   2,   3,   4],\n",
       "       [  5,   6,   7,   8],\n",
       "       [  9,  10,  11,  12]])"
      ]
     },
     "metadata": {},
     "execution_count": 31
    }
   ],
   "source": [
    "# Creating copies of arrays\n",
    "m"
   ]
  },
  {
   "cell_type": "code",
   "execution_count": 32,
   "metadata": {},
   "outputs": [
    {
     "output_type": "execute_result",
     "data": {
      "text/plain": [
       "array([[100,   2],\n",
       "       [  5,   6]])"
      ]
     },
     "metadata": {},
     "execution_count": 32
    }
   ],
   "source": [
    "m_sub_copy = m[:2,:2].copy()\n",
    "m_sub_copy"
   ]
  },
  {
   "cell_type": "code",
   "execution_count": 33,
   "metadata": {},
   "outputs": [
    {
     "output_type": "execute_result",
     "data": {
      "text/plain": [
       "array([[1, 2],\n",
       "       [5, 6]])"
      ]
     },
     "metadata": {},
     "execution_count": 33
    }
   ],
   "source": [
    "m_sub_copy[0,0] = 1\n",
    "m_sub_copy"
   ]
  },
  {
   "cell_type": "code",
   "execution_count": 34,
   "metadata": {},
   "outputs": [
    {
     "output_type": "execute_result",
     "data": {
      "text/plain": [
       "array([[100,   2,   3,   4],\n",
       "       [  5,   6,   7,   8],\n",
       "       [  9,  10,  11,  12]])"
      ]
     },
     "metadata": {},
     "execution_count": 34
    }
   ],
   "source": [
    "m"
   ]
  }
 ],
 "metadata": {
  "language_info": {
   "codemirror_mode": {
    "name": "ipython",
    "version": 3
   },
   "file_extension": ".py",
   "mimetype": "text/x-python",
   "name": "python",
   "nbconvert_exporter": "python",
   "pygments_lexer": "ipython3",
   "version": "3.9.1-final"
  },
  "orig_nbformat": 2,
  "kernelspec": {
   "name": "python3",
   "display_name": "Python 3.9.1 64-bit",
   "metadata": {
    "interpreter": {
     "hash": "63fd5069d213b44bf678585dea6b12cceca9941eaf7f819626cde1f2670de90d"
    }
   }
  }
 },
 "nbformat": 4,
 "nbformat_minor": 2
}