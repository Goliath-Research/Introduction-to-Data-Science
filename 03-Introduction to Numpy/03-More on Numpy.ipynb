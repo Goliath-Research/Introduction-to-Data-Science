{
 "cells": [
  {
   "source": [
    "## Reshape array\n",
    "\n",
    "The reshape() function is used to give a new shape to an array without changing its data. Array to be reshaped. The new shape should be compatible with the original shape."
   ],
   "cell_type": "markdown",
   "metadata": {}
  },
  {
   "cell_type": "code",
   "execution_count": 1,
   "metadata": {},
   "outputs": [],
   "source": [
    "# !pip install numpy"
   ]
  },
  {
   "cell_type": "code",
   "execution_count": 2,
   "metadata": {},
   "outputs": [],
   "source": [
    "import numpy as np"
   ]
  },
  {
   "cell_type": "code",
   "execution_count": 3,
   "metadata": {
    "tags": []
   },
   "outputs": [
    {
     "output_type": "stream",
     "name": "stdout",
     "text": [
      "Original array: shape = (3, 4)  dim = 2\n"
     ]
    },
    {
     "output_type": "execute_result",
     "data": {
      "text/plain": [
       "array([[ 1,  2,  3,  4],\n",
       "       [ 5,  6,  7,  8],\n",
       "       [ 9, 10, 11, 12]])"
      ]
     },
     "metadata": {},
     "execution_count": 3
    }
   ],
   "source": [
    "m = np.array([[1, 2, 3, 4], \n",
    "              [5, 6, 7, 8], \n",
    "              [9, 10, 11, 12]]) \n",
    "print('Original array: shape =',m.shape, ' dim =', m.ndim)\n",
    "m"
   ]
  },
  {
   "cell_type": "code",
   "execution_count": 4,
   "metadata": {
    "tags": []
   },
   "outputs": [
    {
     "output_type": "stream",
     "name": "stdout",
     "text": [
      "shape = (4, 3)  dim = 2\n"
     ]
    },
    {
     "output_type": "execute_result",
     "data": {
      "text/plain": [
       "array([[ 1,  2,  3],\n",
       "       [ 4,  5,  6],\n",
       "       [ 7,  8,  9],\n",
       "       [10, 11, 12]])"
      ]
     },
     "metadata": {},
     "execution_count": 4
    }
   ],
   "source": [
    "m2 = m.reshape(4, 3)\n",
    "print('shape =',m2.shape, ' dim =', m2.ndim)\n",
    "m2"
   ]
  },
  {
   "cell_type": "code",
   "execution_count": 5,
   "metadata": {},
   "outputs": [
    {
     "output_type": "stream",
     "name": "stdout",
     "text": [
      "shape = (2, 6)  dim = 2\n"
     ]
    },
    {
     "output_type": "execute_result",
     "data": {
      "text/plain": [
       "array([[ 1,  2,  3,  4,  5,  6],\n",
       "       [ 7,  8,  9, 10, 11, 12]])"
      ]
     },
     "metadata": {},
     "execution_count": 5
    }
   ],
   "source": [
    "m3 = m.reshape(2,6)\n",
    "print('shape =',m3.shape, ' dim =', m3.ndim)\n",
    "m3"
   ]
  },
  {
   "cell_type": "code",
   "execution_count": 6,
   "metadata": {},
   "outputs": [
    {
     "output_type": "stream",
     "name": "stdout",
     "text": [
      "shape = (1, 12)  dim = 2\n"
     ]
    },
    {
     "output_type": "execute_result",
     "data": {
      "text/plain": [
       "array([[ 1,  2,  3,  4,  5,  6,  7,  8,  9, 10, 11, 12]])"
      ]
     },
     "metadata": {},
     "execution_count": 6
    }
   ],
   "source": [
    "m4 = m.reshape(1,12)\n",
    "print('shape =',m4.shape, ' dim =', m4.ndim)\n",
    "m4"
   ]
  },
  {
   "cell_type": "code",
   "execution_count": 7,
   "metadata": {},
   "outputs": [
    {
     "output_type": "stream",
     "name": "stdout",
     "text": [
      "shape = (12, 1)  dim = 2\n"
     ]
    },
    {
     "output_type": "execute_result",
     "data": {
      "text/plain": [
       "array([[ 1],\n",
       "       [ 2],\n",
       "       [ 3],\n",
       "       [ 4],\n",
       "       [ 5],\n",
       "       [ 6],\n",
       "       [ 7],\n",
       "       [ 8],\n",
       "       [ 9],\n",
       "       [10],\n",
       "       [11],\n",
       "       [12]])"
      ]
     },
     "metadata": {},
     "execution_count": 7
    }
   ],
   "source": [
    "m5 = m.reshape(12,1)\n",
    "print('shape =',m5.shape, ' dim =', m5.ndim)\n",
    "m5"
   ]
  },
  {
   "source": [
    "Remember the new shape must be compatible with the original shape."
   ],
   "cell_type": "markdown",
   "metadata": {}
  },
  {
   "source": [
    "m7 = m.reshape(2,5)         # This will raise an error"
   ],
   "cell_type": "code",
   "metadata": {},
   "execution_count": 8,
   "outputs": [
    {
     "output_type": "error",
     "ename": "ValueError",
     "evalue": "cannot reshape array of size 12 into shape (2,5)",
     "traceback": [
      "\u001b[1;31m---------------------------------------------------------------------------\u001b[0m",
      "\u001b[1;31mValueError\u001b[0m                                Traceback (most recent call last)",
      "\u001b[1;32m<ipython-input-8-d20fbfcb7fa8>\u001b[0m in \u001b[0;36m<module>\u001b[1;34m\u001b[0m\n\u001b[1;32m----> 1\u001b[1;33m \u001b[0mm7\u001b[0m \u001b[1;33m=\u001b[0m \u001b[0mm\u001b[0m\u001b[1;33m.\u001b[0m\u001b[0mreshape\u001b[0m\u001b[1;33m(\u001b[0m\u001b[1;36m2\u001b[0m\u001b[1;33m,\u001b[0m\u001b[1;36m5\u001b[0m\u001b[1;33m)\u001b[0m         \u001b[1;31m# This will raise an error\u001b[0m\u001b[1;33m\u001b[0m\u001b[1;33m\u001b[0m\u001b[0m\n\u001b[0m",
      "\u001b[1;31mValueError\u001b[0m: cannot reshape array of size 12 into shape (2,5)"
     ]
    }
   ]
  },
  {
   "source": [
    "## Flatten array\n",
    "\n",
    "In some cases, we need a one-dimensional array. That is, we need a copy of the array collapsed into one dimension."
   ],
   "cell_type": "markdown",
   "metadata": {}
  },
  {
   "cell_type": "code",
   "execution_count": 9,
   "metadata": {},
   "outputs": [
    {
     "output_type": "stream",
     "name": "stdout",
     "text": [
      "shape = (12,)  dim = 1\n"
     ]
    },
    {
     "output_type": "execute_result",
     "data": {
      "text/plain": [
       "array([ 1,  2,  3,  4,  5,  6,  7,  8,  9, 10, 11, 12])"
      ]
     },
     "metadata": {},
     "execution_count": 9
    }
   ],
   "source": [
    "m6 = m.reshape(12)\n",
    "print('shape =',m6.shape, ' dim =', m6.ndim)\n",
    "m6"
   ]
  },
  {
   "source": [
    "There is an easy way:"
   ],
   "cell_type": "markdown",
   "metadata": {}
  },
  {
   "cell_type": "code",
   "execution_count": 10,
   "metadata": {
    "tags": []
   },
   "outputs": [
    {
     "output_type": "stream",
     "name": "stdout",
     "text": [
      "shape = (12,)  dim = 1\n"
     ]
    },
    {
     "output_type": "execute_result",
     "data": {
      "text/plain": [
       "array([ 1,  2,  3,  4,  5,  6,  7,  8,  9, 10, 11, 12])"
      ]
     },
     "metadata": {},
     "execution_count": 10
    }
   ],
   "source": [
    "m7 = m.flatten()\n",
    "print('shape =',m7.shape, ' dim =', m7.ndim)\n",
    "m7"
   ]
  },
  {
   "source": [
    "## Iterating\n",
    "\n",
    "Iterating means going through elements one by one."
   ],
   "cell_type": "markdown",
   "metadata": {}
  },
  {
   "cell_type": "code",
   "execution_count": 11,
   "metadata": {},
   "outputs": [
    {
     "output_type": "stream",
     "name": "stdout",
     "text": [
      "1\n2\n3\n4\n5\n6\n7\n8\n9\n10\n11\n12\n"
     ]
    }
   ],
   "source": [
    "# iterating 1-D array\n",
    "for x in m6:\n",
    "    print(x)"
   ]
  },
  {
   "cell_type": "code",
   "execution_count": 12,
   "metadata": {},
   "outputs": [
    {
     "output_type": "stream",
     "name": "stdout",
     "text": [
      "[1 2 3 4 5 6]\n[ 7  8  9 10 11 12]\n"
     ]
    }
   ],
   "source": [
    "# iterating 2-D array\n",
    "for x in m3:\n",
    "    print(x)"
   ]
  },
  {
   "source": [
    "If we iterate on a n-D array it will go through all dimensions one by one."
   ],
   "cell_type": "markdown",
   "metadata": {}
  },
  {
   "source": [
    "## Array concatenation\n",
    "\n",
    "Concatenate a sequence of arrays"
   ],
   "cell_type": "markdown",
   "metadata": {}
  },
  {
   "cell_type": "code",
   "execution_count": 13,
   "metadata": {},
   "outputs": [
    {
     "output_type": "execute_result",
     "data": {
      "text/plain": [
       "array([[0., 0.],\n",
       "       [0., 0.]])"
      ]
     },
     "metadata": {},
     "execution_count": 13
    }
   ],
   "source": [
    "x0=np.zeros((2,2))\n",
    "x0"
   ]
  },
  {
   "cell_type": "code",
   "execution_count": 14,
   "metadata": {},
   "outputs": [
    {
     "output_type": "execute_result",
     "data": {
      "text/plain": [
       "array([[1., 1.],\n",
       "       [1., 1.]])"
      ]
     },
     "metadata": {},
     "execution_count": 14
    }
   ],
   "source": [
    "x1=np.ones((2,2))\n",
    "x1"
   ]
  },
  {
   "cell_type": "code",
   "execution_count": 15,
   "metadata": {},
   "outputs": [
    {
     "output_type": "stream",
     "name": "stdout",
     "text": [
      "[[0. 0.]\n [0. 0.]\n [1. 1.]\n [1. 1.]] \n\nShape = (4, 2)\n"
     ]
    }
   ],
   "source": [
    "concat1 = np.concatenate([x0,x1])\n",
    "print(concat1,'\\n')\n",
    "print('Shape =',concat1.shape)"
   ]
  },
  {
   "cell_type": "code",
   "execution_count": 16,
   "metadata": {},
   "outputs": [
    {
     "output_type": "stream",
     "name": "stdout",
     "text": [
      "[[0. 0. 1. 1.]\n [0. 0. 1. 1.]] \n\nShape = (2, 4)\n"
     ]
    }
   ],
   "source": [
    "concat2 = np.concatenate([x0,x1], axis=1)\n",
    "print(concat2,'\\n')\n",
    "print('Shape =',concat2.shape)"
   ]
  },
  {
   "source": [
    "For working with arrays of mixed dimensions, it can be clearer to use:\n",
    "- `np.vstack` (vertical stack) \n",
    "- `np.hstack` (horizontal stack) functions"
   ],
   "cell_type": "markdown",
   "metadata": {}
  },
  {
   "cell_type": "code",
   "execution_count": 17,
   "metadata": {},
   "outputs": [
    {
     "output_type": "stream",
     "name": "stdout",
     "text": [
      "a1 =\n [1 2 3]\na2 =\n [[4 4 4]\n [5 5 5]]\n"
     ]
    },
    {
     "output_type": "execute_result",
     "data": {
      "text/plain": [
       "array([[1, 2, 3],\n",
       "       [4, 4, 4],\n",
       "       [5, 5, 5]])"
      ]
     },
     "metadata": {},
     "execution_count": 17
    }
   ],
   "source": [
    "# Using vstack\n",
    "a1 = np.array([1,2,3])\n",
    "print('a1 =\\n',a1)\n",
    "a2 = np.array([[4,4,4],[5,5,5]])\n",
    "print('a2 =\\n',a2)\n",
    "np.vstack([a1,a2])"
   ]
  },
  {
   "cell_type": "code",
   "execution_count": 18,
   "metadata": {},
   "outputs": [
    {
     "output_type": "stream",
     "name": "stdout",
     "text": [
      "a2 =\n [[4 4 4]\n [5 5 5]]\na3 =\n [[8]\n [8]]\n"
     ]
    },
    {
     "output_type": "execute_result",
     "data": {
      "text/plain": [
       "array([[4, 4, 4, 8],\n",
       "       [5, 5, 5, 8]])"
      ]
     },
     "metadata": {},
     "execution_count": 18
    }
   ],
   "source": [
    "# Using hstack\n",
    "print('a2 =\\n',a2)\n",
    "a3 = np.array([[8],[8]])\n",
    "print('a3 =\\n',a3)\n",
    "np.hstack([a2,a3])"
   ]
  },
  {
   "source": [
    "## Array split\n",
    "\n",
    "Splitting is the opposite of concatenation"
   ],
   "cell_type": "markdown",
   "metadata": {}
  },
  {
   "cell_type": "code",
   "execution_count": 19,
   "metadata": {},
   "outputs": [
    {
     "output_type": "stream",
     "name": "stdout",
     "text": [
      "x = [0 1 2 3 4 5 6 7 8]\n[0 1 2]\n[3 4 5]\n[6 7 8]\n"
     ]
    }
   ],
   "source": [
    "x = np.arange(9)\n",
    "print('x =',x)\n",
    "x1, x2, x3 = np.split(x, 3)\n",
    "print(x1)\n",
    "print(x2)\n",
    "print(x3)"
   ]
  },
  {
   "source": [
    "You can decide where to cut the original array to get arrays with different sizes.\n",
    "\n",
    "Here, we will get 3 arrays of different sizes:\n",
    "- x1, from 0 to 2-1 (2 is not included)\n",
    "- x2, from 2 to 6-1 (6 is not included)\n",
    "- x3, from 6 to the latest element"
   ],
   "cell_type": "markdown",
   "metadata": {}
  },
  {
   "cell_type": "code",
   "execution_count": 20,
   "metadata": {},
   "outputs": [
    {
     "output_type": "stream",
     "name": "stdout",
     "text": [
      "x1 = [0 1]\nx2 = [2 3 4 5]\nx3 = [6 7 8]\n"
     ]
    }
   ],
   "source": [
    "x1, x2, x3 = np.split(x, [2,6])\n",
    "print('x1 =', x1)\n",
    "print('x2 =', x2)\n",
    "print('x3 =', x3)"
   ]
  },
  {
   "cell_type": "code",
   "execution_count": 21,
   "metadata": {},
   "outputs": [
    {
     "output_type": "execute_result",
     "data": {
      "text/plain": [
       "array([[ 0,  1,  2,  3],\n",
       "       [ 4,  5,  6,  7],\n",
       "       [ 8,  9, 10, 11],\n",
       "       [12, 13, 14, 15]])"
      ]
     },
     "metadata": {},
     "execution_count": 21
    }
   ],
   "source": [
    "g = np.arange(16).reshape((4,4))\n",
    "g"
   ]
  },
  {
   "cell_type": "code",
   "execution_count": 22,
   "metadata": {},
   "outputs": [
    {
     "output_type": "stream",
     "name": "stdout",
     "text": [
      "up =\n [[0 1 2 3]\n [4 5 6 7]]\nlow =\n [[ 8  9 10 11]\n [12 13 14 15]]\n"
     ]
    }
   ],
   "source": [
    "# vertical split\n",
    "up, low = np.vsplit(g, 2)\n",
    "print('up =\\n',up)\n",
    "print('low =\\n',low)"
   ]
  },
  {
   "cell_type": "code",
   "execution_count": 23,
   "metadata": {},
   "outputs": [
    {
     "output_type": "stream",
     "name": "stdout",
     "text": [
      "left  =\n [[ 0  1]\n [ 4  5]\n [ 8  9]\n [12 13]]\nright =\n [[ 2  3]\n [ 6  7]\n [10 11]\n [14 15]]\n"
     ]
    }
   ],
   "source": [
    "# horizontal split\n",
    "l, r = np.hsplit(g, 2)\n",
    "print('left  =\\n', l)\n",
    "print('right =\\n',r)"
   ]
  },
  {
   "source": [
    "## Search\n",
    "\n",
    "You can search an array for a certain value, and return the indexes that get a match."
   ],
   "cell_type": "markdown",
   "metadata": {}
  },
  {
   "cell_type": "code",
   "execution_count": 24,
   "metadata": {},
   "outputs": [
    {
     "output_type": "stream",
     "name": "stdout",
     "text": [
      "Searching for 1 (array([4], dtype=int64),)\n"
     ]
    }
   ],
   "source": [
    "ar = np.array([-5, 6, 4, 4, 1, 0, -6])\n",
    "print('Searching for 1', np.where(ar == 1))"
   ]
  },
  {
   "cell_type": "code",
   "execution_count": 25,
   "metadata": {},
   "outputs": [
    {
     "output_type": "stream",
     "name": "stdout",
     "text": [
      "Searching for 4 (array([2, 3], dtype=int64),)\n"
     ]
    }
   ],
   "source": [
    "print('Searching for 4', np.where(ar == 4))"
   ]
  },
  {
   "cell_type": "code",
   "execution_count": 26,
   "metadata": {},
   "outputs": [
    {
     "output_type": "stream",
     "name": "stdout",
     "text": [
      "Searching for 9 (array([], dtype=int64),)\n"
     ]
    }
   ],
   "source": [
    "print('Searching for 9', np.where(ar == 9))"
   ]
  },
  {
   "cell_type": "code",
   "execution_count": 27,
   "metadata": {},
   "outputs": [
    {
     "output_type": "stream",
     "name": "stdout",
     "text": [
      "Searching for odd (array([0, 4], dtype=int64),)\n"
     ]
    }
   ],
   "source": [
    "# Find the index where the values are odd\n",
    "# Remember % returns the remainder of the floor division\n",
    "print('Searching for odd', np.where(ar%2 == 1))"
   ]
  },
  {
   "cell_type": "code",
   "execution_count": 28,
   "metadata": {},
   "outputs": [
    {
     "output_type": "stream",
     "name": "stdout",
     "text": [
      "Searching for positive numbers (array([1, 2, 3, 4], dtype=int64),)\n"
     ]
    }
   ],
   "source": [
    "print('Searching for positive numbers', np.where(ar > 0))"
   ]
  },
  {
   "source": [
    "## Sort"
   ],
   "cell_type": "markdown",
   "metadata": {}
  },
  {
   "cell_type": "code",
   "execution_count": 29,
   "metadata": {},
   "outputs": [
    {
     "output_type": "stream",
     "name": "stdout",
     "text": [
      "Original array: [0 9 6 2 6 2 7 3 6 6]\nSorted array:   [0 2 2 3 6 6 6 6 7 9]\n"
     ]
    }
   ],
   "source": [
    "ar = np.random.randint(10, size=10)\n",
    "print('Original array:',ar)\n",
    "print('Sorted array:  ',np.sort(ar))"
   ]
  },
  {
   "source": [
    "This method returns a copy of the array, leaving the original array unchanged."
   ],
   "cell_type": "markdown",
   "metadata": {}
  },
  {
   "cell_type": "code",
   "execution_count": 30,
   "metadata": {},
   "outputs": [
    {
     "output_type": "stream",
     "name": "stdout",
     "text": [
      "[[2 3 5]\n [0 1 7]]\n"
     ]
    }
   ],
   "source": [
    "# Sorting a 2-D array\n",
    "ar2 = np.array([[3, 2, 5], [7, 0, 1]])\n",
    "\n",
    "print(np.sort(ar2))"
   ]
  },
  {
   "cell_type": "code",
   "execution_count": 31,
   "metadata": {},
   "outputs": [
    {
     "output_type": "execute_result",
     "data": {
      "text/plain": [
       "array([[ 1,  0,  2],\n",
       "       [ 5,  6,  4],\n",
       "       [ 3, -1,  6]])"
      ]
     },
     "metadata": {},
     "execution_count": 31
    }
   ],
   "source": [
    "ar2 = np.array([[1,0,2],[5,6,4],[3,-1,6]])\n",
    "ar2"
   ]
  },
  {
   "cell_type": "code",
   "execution_count": 32,
   "metadata": {},
   "outputs": [
    {
     "output_type": "stream",
     "name": "stdout",
     "text": [
      "[[ 0  1  2]\n [ 4  5  6]\n [-1  3  6]]\n"
     ]
    }
   ],
   "source": [
    "# array elements in sorted order by row\n",
    "print(np.sort(ar2))"
   ]
  },
  {
   "cell_type": "code",
   "execution_count": 33,
   "metadata": {},
   "outputs": [
    {
     "output_type": "stream",
     "name": "stdout",
     "text": [
      "[[ 1 -1  2]\n [ 3  0  4]\n [ 5  6  6]]\n"
     ]
    }
   ],
   "source": [
    "# column-wise sorted array elements\n",
    "print(np.sort(ar2, axis=0))"
   ]
  }
 ],
 "metadata": {
  "language_info": {
   "codemirror_mode": {
    "name": "ipython",
    "version": 3
   },
   "file_extension": ".py",
   "mimetype": "text/x-python",
   "name": "python",
   "nbconvert_exporter": "python",
   "pygments_lexer": "ipython3",
   "version": "3.9.1-final"
  },
  "orig_nbformat": 2,
  "kernelspec": {
   "name": "python3",
   "display_name": "Python 3.9.1 64-bit",
   "metadata": {
    "interpreter": {
     "hash": "63fd5069d213b44bf678585dea6b12cceca9941eaf7f819626cde1f2670de90d"
    }
   }
  }
 },
 "nbformat": 4,
 "nbformat_minor": 2
}