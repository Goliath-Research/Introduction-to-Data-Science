{
 "cells": [
  {
   "source": [
    "# Unary and Binary Operators in NumPy"
   ],
   "cell_type": "markdown",
   "metadata": {}
  },
  {
   "source": [
    "## Unary Operators"
   ],
   "cell_type": "markdown",
   "metadata": {}
  },
  {
   "cell_type": "code",
   "execution_count": 1,
   "metadata": {},
   "outputs": [],
   "source": [
    "# !pip install numpy"
   ]
  },
  {
   "cell_type": "code",
   "execution_count": 2,
   "metadata": {},
   "outputs": [],
   "source": [
    "import numpy as np"
   ]
  },
  {
   "cell_type": "code",
   "execution_count": 3,
   "metadata": {},
   "outputs": [
    {
     "output_type": "execute_result",
     "data": {
      "text/plain": [
       "array([[1, 2, 3],\n",
       "       [4, 5, 6]])"
      ]
     },
     "metadata": {},
     "execution_count": 3
    }
   ],
   "source": [
    "arr = np.array([[1,2,3], [4,5,6]])\n",
    "arr"
   ]
  },
  {
   "cell_type": "code",
   "execution_count": 4,
   "metadata": {
    "tags": []
   },
   "outputs": [
    {
     "output_type": "stream",
     "name": "stdout",
     "text": [
      "6\n"
     ]
    }
   ],
   "source": [
    "# max: maximum element of array\n",
    "print(arr.max())"
   ]
  },
  {
   "cell_type": "code",
   "execution_count": 5,
   "metadata": {
    "tags": []
   },
   "outputs": [
    {
     "output_type": "stream",
     "name": "stdout",
     "text": [
      "[3 6]\n"
     ]
    }
   ],
   "source": [
    "# row-wise maximum element\n",
    "print(arr.max(axis = 1))"
   ]
  },
  {
   "cell_type": "code",
   "execution_count": 6,
   "metadata": {
    "tags": []
   },
   "outputs": [
    {
     "output_type": "stream",
     "name": "stdout",
     "text": [
      "[4 5 6]\n"
     ]
    }
   ],
   "source": [
    "# colums-wise maximum element\n",
    "print(arr.max(axis = 0))"
   ]
  },
  {
   "cell_type": "code",
   "execution_count": 7,
   "metadata": {
    "tags": []
   },
   "outputs": [
    {
     "output_type": "stream",
     "name": "stdout",
     "text": [
      "1\n"
     ]
    }
   ],
   "source": [
    "# min: minimum element of array\n",
    "print(arr.min())"
   ]
  },
  {
   "cell_type": "code",
   "execution_count": 8,
   "metadata": {
    "tags": []
   },
   "outputs": [
    {
     "output_type": "stream",
     "name": "stdout",
     "text": [
      "21\n"
     ]
    }
   ],
   "source": [
    "# sum: sum of array elements\n",
    "print(arr.sum())"
   ]
  },
  {
   "cell_type": "code",
   "execution_count": 9,
   "metadata": {
    "tags": []
   },
   "outputs": [
    {
     "output_type": "stream",
     "name": "stdout",
     "text": [
      "[ 6 15]\n"
     ]
    }
   ],
   "source": [
    "# row-wise sum of array elements\n",
    "print(arr.sum(axis=1))"
   ]
  },
  {
   "cell_type": "code",
   "execution_count": 10,
   "metadata": {
    "tags": []
   },
   "outputs": [
    {
     "output_type": "stream",
     "name": "stdout",
     "text": [
      "[[ 1  3  6]\n [ 4  9 15]]\n"
     ]
    }
   ],
   "source": [
    "# cumulative sum along each row\n",
    "print(arr.cumsum(axis=1))"
   ]
  },
  {
   "cell_type": "code",
   "execution_count": 11,
   "metadata": {
    "tags": []
   },
   "outputs": [
    {
     "output_type": "stream",
     "name": "stdout",
     "text": [
      "[[1 2 3]\n [5 7 9]]\n"
     ]
    }
   ],
   "source": [
    "# cumulative sum along each column\n",
    "print(arr.cumsum(axis=0))"
   ]
  },
  {
   "cell_type": "code",
   "execution_count": 12,
   "metadata": {
    "tags": []
   },
   "outputs": [
    {
     "output_type": "stream",
     "name": "stdout",
     "text": [
      "[ 1  3  6 10 15 21]\n"
     ]
    }
   ],
   "source": [
    "# cumulative sum\n",
    "print(arr.cumsum())"
   ]
  },
  {
   "source": [
    "## Binary Operators"
   ],
   "cell_type": "markdown",
   "metadata": {}
  },
  {
   "cell_type": "code",
   "execution_count": 13,
   "metadata": {},
   "outputs": [
    {
     "output_type": "execute_result",
     "data": {
      "text/plain": [
       "array([[0, 1],\n",
       "       [2, 3]])"
      ]
     },
     "metadata": {},
     "execution_count": 13
    }
   ],
   "source": [
    "ar1 = np.array([[0,1],[2,3]])\n",
    "ar1"
   ]
  },
  {
   "cell_type": "code",
   "execution_count": 14,
   "metadata": {},
   "outputs": [
    {
     "output_type": "execute_result",
     "data": {
      "text/plain": [
       "array([[1, 0],\n",
       "       [0, 1]])"
      ]
     },
     "metadata": {},
     "execution_count": 14
    }
   ],
   "source": [
    "ar2 = np.array([[1,0],[0,1]])\n",
    "ar2"
   ]
  },
  {
   "cell_type": "code",
   "execution_count": 15,
   "metadata": {},
   "outputs": [
    {
     "output_type": "execute_result",
     "data": {
      "text/plain": [
       "array([[1, 1, 1],\n",
       "       [2, 2, 2]])"
      ]
     },
     "metadata": {},
     "execution_count": 15
    }
   ],
   "source": [
    "ar3 = np.array([[1,1,1],[2,2,2]])\n",
    "ar3"
   ]
  },
  {
   "cell_type": "code",
   "execution_count": 16,
   "metadata": {
    "tags": []
   },
   "outputs": [
    {
     "output_type": "stream",
     "name": "stdout",
     "text": [
      "[[1 1]\n [2 4]]\n"
     ]
    }
   ],
   "source": [
    "# sum\n",
    "print(ar1 + ar2)"
   ]
  },
  {
   "source": [
    "For adding operation, the arrays must have the same shape"
   ],
   "cell_type": "markdown",
   "metadata": {}
  },
  {
   "cell_type": "code",
   "execution_count": 17,
   "metadata": {
    "tags": []
   },
   "outputs": [
    {
     "output_type": "stream",
     "name": "stdout",
     "text": [
      "[[-1  1]\n [ 2  2]]\n"
     ]
    }
   ],
   "source": [
    "# subtraction\n",
    "print(ar1 - ar2)"
   ]
  },
  {
   "cell_type": "code",
   "execution_count": 18,
   "metadata": {
    "tags": []
   },
   "outputs": [
    {
     "output_type": "stream",
     "name": "stdout",
     "text": [
      "[[0 0]\n [0 3]]\n"
     ]
    }
   ],
   "source": [
    "# multiply arrays (multiply element by element of arrays with the same shape)\n",
    "print(ar1 * ar2)"
   ]
  },
  {
   "source": [
    "`matrix multiplication`: for matrix multiplication, the number of columns in the first matrix must be equal to the number of rows in the second matrix. The result is a matrix with the number of rowns of the first matrix and the number of columns of the second one."
   ],
   "cell_type": "markdown",
   "metadata": {}
  },
  {
   "cell_type": "code",
   "execution_count": 19,
   "metadata": {
    "tags": []
   },
   "outputs": [
    {
     "output_type": "stream",
     "name": "stdout",
     "text": [
      "[[0 1]\n [2 3]]\n"
     ]
    }
   ],
   "source": [
    "print(ar1.dot(ar2))"
   ]
  },
  {
   "cell_type": "code",
   "execution_count": 20,
   "metadata": {
    "tags": []
   },
   "outputs": [
    {
     "output_type": "stream",
     "name": "stdout",
     "text": [
      "shape of ar1 = (2, 2)\nshape of ar3 = (2, 3)\n[[2 2 2]\n [8 8 8]]\n"
     ]
    }
   ],
   "source": [
    "print('shape of ar1 =', ar1.shape)\n",
    "print('shape of ar3 =', ar3.shape)\n",
    "print(ar1.dot(ar3))"
   ]
  },
  {
   "source": [
    "## Introduction to universal functions\n",
    "\n",
    "Computation on NumPy arrays can be very fast using vectorized operations implemented throught NumPy's universal functions (ufuncs).\n",
    "\n",
    "Converting iterative statements into a vector based operation is called vectorization.\n",
    "\n",
    "It is faster as modern CPUs are optimized for such operations."
   ],
   "cell_type": "markdown",
   "metadata": {}
  },
  {
   "source": [
    "| Operator | Equivalent ufunct | Description |\n",
    "|---|---|---|\n",
    "| + | np.add | Addition |\n",
    "| - | np.subtract | Subtraction |\n",
    "| - | np.negative | Unary negation |\n",
    "| * | np.multiply | Multiplication |\n",
    "| / | np.divide   | Division       |\n",
    "| * | np.power    | Exponentiation |\n",
    "| * | np.mod      | Modulus/remainder |"
   ],
   "cell_type": "markdown",
   "metadata": {}
  },
  {
   "cell_type": "code",
   "execution_count": 21,
   "metadata": {},
   "outputs": [
    {
     "output_type": "stream",
     "name": "stdout",
     "text": [
      "ar1 =\n [[0 1]\n [2 3]]\nar2 =\n [[1 0]\n [0 1]]\nnp.add =\n [[1 1]\n [2 4]]\n"
     ]
    }
   ],
   "source": [
    "print('ar1 =\\n',ar1)\n",
    "print('ar2 =\\n',ar2)\n",
    "print('np.add =\\n',np.add(ar1,ar2))"
   ]
  },
  {
   "cell_type": "code",
   "execution_count": 22,
   "metadata": {},
   "outputs": [
    {
     "output_type": "stream",
     "name": "stdout",
     "text": [
      "np.subtract =\n [[-1  1]\n [ 2  2]]\n"
     ]
    }
   ],
   "source": [
    "print('np.subtract =\\n',np.subtract(ar1,ar2))"
   ]
  },
  {
   "cell_type": "code",
   "execution_count": 23,
   "metadata": {},
   "outputs": [
    {
     "output_type": "stream",
     "name": "stdout",
     "text": [
      "np.multiply =\n [[0 0]\n [0 3]]\n"
     ]
    }
   ],
   "source": [
    "print('np.multiply =\\n',np.multiply(ar1,ar2))"
   ]
  },
  {
   "cell_type": "code",
   "execution_count": 24,
   "metadata": {},
   "outputs": [
    {
     "output_type": "stream",
     "name": "stdout",
     "text": [
      "np.divide =\n [[ 0. inf]\n [inf  3.]]\n"
     ]
    }
   ],
   "source": [
    "print('np.divide =\\n',np.divide(ar1,ar2))"
   ]
  },
  {
   "source": [
    "To check if a function is a ufunc:"
   ],
   "cell_type": "markdown",
   "metadata": {}
  },
  {
   "cell_type": "code",
   "execution_count": 25,
   "metadata": {},
   "outputs": [
    {
     "output_type": "stream",
     "name": "stdout",
     "text": [
      "<class 'numpy.ufunc'>\n<class 'numpy.ufunc'>\n<class 'numpy.ufunc'>\n<class 'numpy.ufunc'>\n"
     ]
    }
   ],
   "source": [
    "print(type(np.add))\n",
    "print(type(np.subtract))\n",
    "print(type(np.multiply))\n",
    "print(type(np.divide))"
   ]
  },
  {
   "source": [
    "### Other ufuncts"
   ],
   "cell_type": "markdown",
   "metadata": {}
  },
  {
   "cell_type": "code",
   "execution_count": 26,
   "metadata": {},
   "outputs": [],
   "source": [
    "x1 = [10, 20, 30, 40, 50]\n",
    "x2 = [ 2,  3,  2,  3,  2]"
   ]
  },
  {
   "cell_type": "code",
   "execution_count": 27,
   "metadata": {},
   "outputs": [
    {
     "output_type": "stream",
     "name": "stdout",
     "text": [
      "power =\n [  100  8000   900 64000  2500]\n"
     ]
    }
   ],
   "source": [
    "# The power() function rises the values from the first array to the power of the values of the second array.\n",
    "print('power =\\n', np.power(x1,x2))"
   ]
  },
  {
   "cell_type": "code",
   "execution_count": 28,
   "metadata": {},
   "outputs": [
    {
     "output_type": "stream",
     "name": "stdout",
     "text": [
      "mod =\n [0 2 0 1 0]\n"
     ]
    }
   ],
   "source": [
    "# The mod() function returns the remainder of the floor division of the values in the first array to the values in the second array.\n",
    "print('mod =\\n', np.mod(x1,x2))"
   ]
  },
  {
   "cell_type": "code",
   "execution_count": 29,
   "metadata": {},
   "outputs": [
    {
     "output_type": "stream",
     "name": "stdout",
     "text": [
      "remainder =\n [0 2 0 1 0]\n"
     ]
    }
   ],
   "source": [
    "# You get the same result when using the remainder() function\n",
    "print('remainder =\\n', np.remainder(x1,x2))"
   ]
  },
  {
   "cell_type": "code",
   "execution_count": 30,
   "metadata": {},
   "outputs": [
    {
     "output_type": "stream",
     "name": "stdout",
     "text": [
      "absolute value = [5 2 3 1 6 3]\n"
     ]
    }
   ],
   "source": [
    "# The absolute() function returns the absolute value operation element-wise.\n",
    "x3 = [-5, 2, -3, -1, 6, 3]\n",
    "print('absolute value =', np.absolute(x3))"
   ]
  },
  {
   "source": [
    "#### Trigonometric functions"
   ],
   "cell_type": "markdown",
   "metadata": {}
  },
  {
   "cell_type": "code",
   "execution_count": 31,
   "metadata": {},
   "outputs": [
    {
     "output_type": "execute_result",
     "data": {
      "text/plain": [
       "array([0.        , 1.57079633, 3.14159265])"
      ]
     },
     "metadata": {},
     "execution_count": 31
    }
   ],
   "source": [
    "ar = np.array([0, np.pi/2, np.pi])\n",
    "ar"
   ]
  },
  {
   "cell_type": "code",
   "execution_count": 32,
   "metadata": {},
   "outputs": [
    {
     "output_type": "stream",
     "name": "stdout",
     "text": [
      "[0.0000000e+00 1.0000000e+00 1.2246468e-16]\n"
     ]
    }
   ],
   "source": [
    "# sin values\n",
    "sin_ar = np.sin(ar)\n",
    "print(sin_ar)"
   ]
  },
  {
   "cell_type": "code",
   "execution_count": 33,
   "metadata": {},
   "outputs": [
    {
     "output_type": "stream",
     "name": "stdout",
     "text": [
      "[ 1.000000e+00  6.123234e-17 -1.000000e+00]\n"
     ]
    }
   ],
   "source": [
    "# cos values\n",
    "cos_ar = np.cos(ar)\n",
    "print(cos_ar)"
   ]
  },
  {
   "cell_type": "code",
   "execution_count": 34,
   "metadata": {},
   "outputs": [
    {
     "output_type": "stream",
     "name": "stdout",
     "text": [
      "[0. 1. 0.]\n[ 1.  0. -1.]\n"
     ]
    }
   ],
   "source": [
    "# trunc() truncate elements of array\n",
    "print(np.trunc(sin_ar))\n",
    "print(np.trunc(cos_ar))"
   ]
  },
  {
   "source": [
    "#### Other operations"
   ],
   "cell_type": "markdown",
   "metadata": {}
  },
  {
   "cell_type": "code",
   "execution_count": 35,
   "metadata": {},
   "outputs": [
    {
     "output_type": "execute_result",
     "data": {
      "text/plain": [
       "array([0, 1, 2, 3, 4, 5])"
      ]
     },
     "metadata": {},
     "execution_count": 35
    }
   ],
   "source": [
    "# Operations on simple array\n",
    "ar = np.arange(6)\n",
    "ar"
   ]
  },
  {
   "cell_type": "code",
   "execution_count": 36,
   "metadata": {},
   "outputs": [
    {
     "output_type": "stream",
     "name": "stdout",
     "text": [
      "[ 5  6  7  8  9 10]\n"
     ]
    }
   ],
   "source": [
    "# Add 5 to every element\n",
    "print(ar+5)"
   ]
  },
  {
   "cell_type": "code",
   "execution_count": 37,
   "metadata": {},
   "outputs": [
    {
     "output_type": "stream",
     "name": "stdout",
     "text": [
      "[-1  0  1  2  3  4]\n"
     ]
    }
   ],
   "source": [
    "# Subtract 1 to every element\n",
    "print(ar-1)"
   ]
  },
  {
   "cell_type": "code",
   "execution_count": 38,
   "metadata": {},
   "outputs": [
    {
     "output_type": "stream",
     "name": "stdout",
     "text": [
      "[ 0 10 20 30 40 50]\n"
     ]
    }
   ],
   "source": [
    "# Multiply each element by 10\n",
    "print(ar*10)"
   ]
  },
  {
   "cell_type": "code",
   "execution_count": 39,
   "metadata": {},
   "outputs": [
    {
     "output_type": "stream",
     "name": "stdout",
     "text": [
      "[ 0  1  4  9 16 25]\n"
     ]
    }
   ],
   "source": [
    "# Squaring each element of original array\n",
    "print(ar**2)"
   ]
  },
  {
   "cell_type": "code",
   "execution_count": 40,
   "metadata": {},
   "outputs": [
    {
     "output_type": "stream",
     "name": "stdout",
     "text": [
      "[ 0  2  4  6  8 10]\n"
     ]
    }
   ],
   "source": [
    "# Double each element of original array\n",
    "print(ar*2)"
   ]
  },
  {
   "cell_type": "code",
   "execution_count": 41,
   "metadata": {},
   "outputs": [
    {
     "output_type": "stream",
     "name": "stdout",
     "text": [
      "[[1 4]\n [2 5]\n [3 6]]\n"
     ]
    }
   ],
   "source": [
    "# Transpose the array\n",
    "ar1 = np.array([[1,2,3],[4,5,6]])\n",
    "print(ar1.T)"
   ]
  }
 ],
 "metadata": {
  "language_info": {
   "codemirror_mode": {
    "name": "ipython",
    "version": 3
   },
   "file_extension": ".py",
   "mimetype": "text/x-python",
   "name": "python",
   "nbconvert_exporter": "python",
   "pygments_lexer": "ipython3",
   "version": "3.9.1-final"
  },
  "orig_nbformat": 2,
  "kernelspec": {
   "name": "python3",
   "display_name": "Python 3.9.1 64-bit",
   "metadata": {
    "interpreter": {
     "hash": "63fd5069d213b44bf678585dea6b12cceca9941eaf7f819626cde1f2670de90d"
    }
   }
  }
 },
 "nbformat": 4,
 "nbformat_minor": 2
}