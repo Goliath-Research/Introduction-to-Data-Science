{
 "cells": [
  {
   "source": [
    "# Function Application"
   ],
   "cell_type": "markdown",
   "metadata": {}
  },
  {
   "source": [
    "To apply your own or another library’s functions to Pandas objects, you should be aware of the three important methods.  \n",
    "- Table wise Function Application: `pipe()`\n",
    "- Row or Column Wise Function Application: `apply()`\n",
    "- Element wise Function Application: `applymap()`\n",
    "\n",
    "The appropriate method to use depends on whether your function expects to operate on an entire DataFrame, row or column-wise, or element wise."
   ],
   "cell_type": "markdown",
   "metadata": {}
  },
  {
   "cell_type": "code",
   "execution_count": 1,
   "metadata": {},
   "outputs": [],
   "source": [
    "# !pip install numpy\n",
    "# !pip install pandas"
   ]
  },
  {
   "cell_type": "code",
   "execution_count": 2,
   "metadata": {},
   "outputs": [],
   "source": [
    "import numpy as np\n",
    "import pandas as pd"
   ]
  },
  {
   "source": [
    "# Defining a function for adding two elements\n",
    "def add2(elem1, elem2):\n",
    "    return(elem1 + elem2)"
   ],
   "cell_type": "code",
   "metadata": {},
   "execution_count": 3,
   "outputs": []
  },
  {
   "cell_type": "code",
   "execution_count": 4,
   "metadata": {},
   "outputs": [
    {
     "output_type": "execute_result",
     "data": {
      "text/plain": [
       "   Col1  Col2  Col3\n",
       "0     1     6    11\n",
       "1     2     7    12\n",
       "2     3     8    13\n",
       "3     4     9    14\n",
       "4     5    10    15"
      ],
      "text/html": "<div>\n<style scoped>\n    .dataframe tbody tr th:only-of-type {\n        vertical-align: middle;\n    }\n\n    .dataframe tbody tr th {\n        vertical-align: top;\n    }\n\n    .dataframe thead th {\n        text-align: right;\n    }\n</style>\n<table border=\"1\" class=\"dataframe\">\n  <thead>\n    <tr style=\"text-align: right;\">\n      <th></th>\n      <th>Col1</th>\n      <th>Col2</th>\n      <th>Col3</th>\n    </tr>\n  </thead>\n  <tbody>\n    <tr>\n      <th>0</th>\n      <td>1</td>\n      <td>6</td>\n      <td>11</td>\n    </tr>\n    <tr>\n      <th>1</th>\n      <td>2</td>\n      <td>7</td>\n      <td>12</td>\n    </tr>\n    <tr>\n      <th>2</th>\n      <td>3</td>\n      <td>8</td>\n      <td>13</td>\n    </tr>\n    <tr>\n      <th>3</th>\n      <td>4</td>\n      <td>9</td>\n      <td>14</td>\n    </tr>\n    <tr>\n      <th>4</th>\n      <td>5</td>\n      <td>10</td>\n      <td>15</td>\n    </tr>\n  </tbody>\n</table>\n</div>"
     },
     "metadata": {},
     "execution_count": 4
    }
   ],
   "source": [
    "# Creating a DataFrame df\n",
    "df = pd.DataFrame({'Col1':[1,2,3,4,5],'Col2':[6,7,8,9,10],'Col3':[11,12,13,14,15]})\n",
    "df"
   ]
  },
  {
   "source": [
    "## Table-wise Function Application\n",
    "\n",
    "**Table-wise Function Application**: Custom operations can be performed by passing the function and the appropriate number of parameters as pipe arguments. Thus, operation is performed on the whole DataFrame.\n",
    "\n",
    "`pipe()` function performs the custom operation for the entire DataFrame. \n",
    "\n",
    "In below example we will using `pipe()` function to add value 5 to the entire dataframe"
   ],
   "cell_type": "markdown",
   "metadata": {}
  },
  {
   "cell_type": "code",
   "execution_count": 5,
   "metadata": {
    "tags": []
   },
   "outputs": [
    {
     "output_type": "execute_result",
     "data": {
      "text/plain": [
       "   Col1  Col2  Col3\n",
       "0     6    11    16\n",
       "1     7    12    17\n",
       "2     8    13    18\n",
       "3     9    14    19\n",
       "4    10    15    20"
      ],
      "text/html": "<div>\n<style scoped>\n    .dataframe tbody tr th:only-of-type {\n        vertical-align: middle;\n    }\n\n    .dataframe tbody tr th {\n        vertical-align: top;\n    }\n\n    .dataframe thead th {\n        text-align: right;\n    }\n</style>\n<table border=\"1\" class=\"dataframe\">\n  <thead>\n    <tr style=\"text-align: right;\">\n      <th></th>\n      <th>Col1</th>\n      <th>Col2</th>\n      <th>Col3</th>\n    </tr>\n  </thead>\n  <tbody>\n    <tr>\n      <th>0</th>\n      <td>6</td>\n      <td>11</td>\n      <td>16</td>\n    </tr>\n    <tr>\n      <th>1</th>\n      <td>7</td>\n      <td>12</td>\n      <td>17</td>\n    </tr>\n    <tr>\n      <th>2</th>\n      <td>8</td>\n      <td>13</td>\n      <td>18</td>\n    </tr>\n    <tr>\n      <th>3</th>\n      <td>9</td>\n      <td>14</td>\n      <td>19</td>\n    </tr>\n    <tr>\n      <th>4</th>\n      <td>10</td>\n      <td>15</td>\n      <td>20</td>\n    </tr>\n  </tbody>\n</table>\n</div>"
     },
     "metadata": {},
     "execution_count": 5
    }
   ],
   "source": [
    "df.pipe(add2,5)"
   ]
  },
  {
   "cell_type": "code",
   "execution_count": 6,
   "metadata": {},
   "outputs": [
    {
     "output_type": "execute_result",
     "data": {
      "text/plain": [
       "   Col1  Col2  Col3\n",
       "0   101   106   111\n",
       "1   102   107   112\n",
       "2   103   108   113\n",
       "3   104   109   114\n",
       "4   105   110   115"
      ],
      "text/html": "<div>\n<style scoped>\n    .dataframe tbody tr th:only-of-type {\n        vertical-align: middle;\n    }\n\n    .dataframe tbody tr th {\n        vertical-align: top;\n    }\n\n    .dataframe thead th {\n        text-align: right;\n    }\n</style>\n<table border=\"1\" class=\"dataframe\">\n  <thead>\n    <tr style=\"text-align: right;\">\n      <th></th>\n      <th>Col1</th>\n      <th>Col2</th>\n      <th>Col3</th>\n    </tr>\n  </thead>\n  <tbody>\n    <tr>\n      <th>0</th>\n      <td>101</td>\n      <td>106</td>\n      <td>111</td>\n    </tr>\n    <tr>\n      <th>1</th>\n      <td>102</td>\n      <td>107</td>\n      <td>112</td>\n    </tr>\n    <tr>\n      <th>2</th>\n      <td>103</td>\n      <td>108</td>\n      <td>113</td>\n    </tr>\n    <tr>\n      <th>3</th>\n      <td>104</td>\n      <td>109</td>\n      <td>114</td>\n    </tr>\n    <tr>\n      <th>4</th>\n      <td>105</td>\n      <td>110</td>\n      <td>115</td>\n    </tr>\n  </tbody>\n</table>\n</div>"
     },
     "metadata": {},
     "execution_count": 6
    }
   ],
   "source": [
    "df.pipe(add2,100)"
   ]
  },
  {
   "source": [
    "## Row or Column Wise Function Application\n",
    "\n",
    "`apply()` function performs the custom operation for either row wise or column wise."
   ],
   "cell_type": "markdown",
   "metadata": {}
  },
  {
   "cell_type": "code",
   "execution_count": 7,
   "metadata": {},
   "outputs": [
    {
     "output_type": "execute_result",
     "data": {
      "text/plain": [
       "Col1     3.0\n",
       "Col2     8.0\n",
       "Col3    13.0\n",
       "dtype: float64"
      ]
     },
     "metadata": {},
     "execution_count": 7
    }
   ],
   "source": [
    "# Calculating mean by columns\n",
    "df.apply(np.mean)"
   ]
  },
  {
   "cell_type": "code",
   "execution_count": 8,
   "metadata": {},
   "outputs": [
    {
     "output_type": "execute_result",
     "data": {
      "text/plain": [
       "Col1    15\n",
       "Col2    40\n",
       "Col3    65\n",
       "dtype: int64"
      ]
     },
     "metadata": {},
     "execution_count": 8
    }
   ],
   "source": [
    "# Calculating sum by columns\n",
    "df.apply(np.sum)"
   ]
  },
  {
   "cell_type": "code",
   "execution_count": 9,
   "metadata": {},
   "outputs": [
    {
     "output_type": "execute_result",
     "data": {
      "text/plain": [
       "Col1     3.0\n",
       "Col2     8.0\n",
       "Col3    13.0\n",
       "dtype: float64"
      ]
     },
     "metadata": {},
     "execution_count": 9
    }
   ],
   "source": [
    "# The parameter axis=0 gives the same result\n",
    "df.apply(np.mean,axis=0)"
   ]
  },
  {
   "cell_type": "code",
   "execution_count": 10,
   "metadata": {},
   "outputs": [
    {
     "output_type": "execute_result",
     "data": {
      "text/plain": [
       "0     6.0\n",
       "1     7.0\n",
       "2     8.0\n",
       "3     9.0\n",
       "4    10.0\n",
       "dtype: float64"
      ]
     },
     "metadata": {},
     "execution_count": 10
    }
   ],
   "source": [
    "# Using the parameter axis=1, operations will be performed row wise:\n",
    "df.apply(np.mean,axis=1)"
   ]
  },
  {
   "source": [
    "We can create a lambda function to determine the range = max - min by column:"
   ],
   "cell_type": "markdown",
   "metadata": {}
  },
  {
   "cell_type": "code",
   "execution_count": 11,
   "metadata": {},
   "outputs": [
    {
     "output_type": "display_data",
     "data": {
      "text/plain": "   Col1  Col2  Col3\n0     1     6    11\n1     2     7    12\n2     3     8    13\n3     4     9    14\n4     5    10    15",
      "text/html": "<div>\n<style scoped>\n    .dataframe tbody tr th:only-of-type {\n        vertical-align: middle;\n    }\n\n    .dataframe tbody tr th {\n        vertical-align: top;\n    }\n\n    .dataframe thead th {\n        text-align: right;\n    }\n</style>\n<table border=\"1\" class=\"dataframe\">\n  <thead>\n    <tr style=\"text-align: right;\">\n      <th></th>\n      <th>Col1</th>\n      <th>Col2</th>\n      <th>Col3</th>\n    </tr>\n  </thead>\n  <tbody>\n    <tr>\n      <th>0</th>\n      <td>1</td>\n      <td>6</td>\n      <td>11</td>\n    </tr>\n    <tr>\n      <th>1</th>\n      <td>2</td>\n      <td>7</td>\n      <td>12</td>\n    </tr>\n    <tr>\n      <th>2</th>\n      <td>3</td>\n      <td>8</td>\n      <td>13</td>\n    </tr>\n    <tr>\n      <th>3</th>\n      <td>4</td>\n      <td>9</td>\n      <td>14</td>\n    </tr>\n    <tr>\n      <th>4</th>\n      <td>5</td>\n      <td>10</td>\n      <td>15</td>\n    </tr>\n  </tbody>\n</table>\n</div>"
     },
     "metadata": {}
    },
    {
     "output_type": "execute_result",
     "data": {
      "text/plain": [
       "Col1    4\n",
       "Col2    4\n",
       "Col3    4\n",
       "dtype: int64"
      ]
     },
     "metadata": {},
     "execution_count": 11
    }
   ],
   "source": [
    "display(df)\n",
    "df.apply(lambda x: x.max()-x.min())"
   ]
  },
  {
   "source": [
    "or by row (specifying axis=1)"
   ],
   "cell_type": "markdown",
   "metadata": {}
  },
  {
   "cell_type": "code",
   "execution_count": 12,
   "metadata": {},
   "outputs": [
    {
     "output_type": "execute_result",
     "data": {
      "text/plain": [
       "0    10\n",
       "1    10\n",
       "2    10\n",
       "3    10\n",
       "4    10\n",
       "dtype: int64"
      ]
     },
     "metadata": {},
     "execution_count": 12
    }
   ],
   "source": [
    "df.apply(lambda x: x.max()-x.min(), axis=1)"
   ]
  },
  {
   "source": [
    "## Element Wise Function Application\n",
    "\n",
    "`applymap()` Function performs the specified operation for all the elements the dataframe.\n",
    "\n",
    "Let's use a lambda function to multiply every element in the dataframe by 100"
   ],
   "cell_type": "markdown",
   "metadata": {}
  },
  {
   "cell_type": "code",
   "execution_count": 13,
   "metadata": {},
   "outputs": [
    {
     "output_type": "display_data",
     "data": {
      "text/plain": "   Col1  Col2  Col3\n0     1     6    11\n1     2     7    12\n2     3     8    13\n3     4     9    14\n4     5    10    15",
      "text/html": "<div>\n<style scoped>\n    .dataframe tbody tr th:only-of-type {\n        vertical-align: middle;\n    }\n\n    .dataframe tbody tr th {\n        vertical-align: top;\n    }\n\n    .dataframe thead th {\n        text-align: right;\n    }\n</style>\n<table border=\"1\" class=\"dataframe\">\n  <thead>\n    <tr style=\"text-align: right;\">\n      <th></th>\n      <th>Col1</th>\n      <th>Col2</th>\n      <th>Col3</th>\n    </tr>\n  </thead>\n  <tbody>\n    <tr>\n      <th>0</th>\n      <td>1</td>\n      <td>6</td>\n      <td>11</td>\n    </tr>\n    <tr>\n      <th>1</th>\n      <td>2</td>\n      <td>7</td>\n      <td>12</td>\n    </tr>\n    <tr>\n      <th>2</th>\n      <td>3</td>\n      <td>8</td>\n      <td>13</td>\n    </tr>\n    <tr>\n      <th>3</th>\n      <td>4</td>\n      <td>9</td>\n      <td>14</td>\n    </tr>\n    <tr>\n      <th>4</th>\n      <td>5</td>\n      <td>10</td>\n      <td>15</td>\n    </tr>\n  </tbody>\n</table>\n</div>"
     },
     "metadata": {}
    },
    {
     "output_type": "execute_result",
     "data": {
      "text/plain": [
       "   Col1  Col2  Col3\n",
       "0   100   600  1100\n",
       "1   200   700  1200\n",
       "2   300   800  1300\n",
       "3   400   900  1400\n",
       "4   500  1000  1500"
      ],
      "text/html": "<div>\n<style scoped>\n    .dataframe tbody tr th:only-of-type {\n        vertical-align: middle;\n    }\n\n    .dataframe tbody tr th {\n        vertical-align: top;\n    }\n\n    .dataframe thead th {\n        text-align: right;\n    }\n</style>\n<table border=\"1\" class=\"dataframe\">\n  <thead>\n    <tr style=\"text-align: right;\">\n      <th></th>\n      <th>Col1</th>\n      <th>Col2</th>\n      <th>Col3</th>\n    </tr>\n  </thead>\n  <tbody>\n    <tr>\n      <th>0</th>\n      <td>100</td>\n      <td>600</td>\n      <td>1100</td>\n    </tr>\n    <tr>\n      <th>1</th>\n      <td>200</td>\n      <td>700</td>\n      <td>1200</td>\n    </tr>\n    <tr>\n      <th>2</th>\n      <td>300</td>\n      <td>800</td>\n      <td>1300</td>\n    </tr>\n    <tr>\n      <th>3</th>\n      <td>400</td>\n      <td>900</td>\n      <td>1400</td>\n    </tr>\n    <tr>\n      <th>4</th>\n      <td>500</td>\n      <td>1000</td>\n      <td>1500</td>\n    </tr>\n  </tbody>\n</table>\n</div>"
     },
     "metadata": {},
     "execution_count": 13
    }
   ],
   "source": [
    "display(df)\n",
    "df.applymap(lambda x: x*100)"
   ]
  },
  {
   "source": [
    "`map()` is used to substitute each value in a Series with another value.\n",
    "\n",
    "Let's use the `map()` function over the Serie: Col1."
   ],
   "cell_type": "markdown",
   "metadata": {}
  },
  {
   "cell_type": "code",
   "execution_count": 14,
   "metadata": {},
   "outputs": [
    {
     "output_type": "display_data",
     "data": {
      "text/plain": "   Col1  Col2  Col3\n0     1     6    11\n1     2     7    12\n2     3     8    13\n3     4     9    14\n4     5    10    15",
      "text/html": "<div>\n<style scoped>\n    .dataframe tbody tr th:only-of-type {\n        vertical-align: middle;\n    }\n\n    .dataframe tbody tr th {\n        vertical-align: top;\n    }\n\n    .dataframe thead th {\n        text-align: right;\n    }\n</style>\n<table border=\"1\" class=\"dataframe\">\n  <thead>\n    <tr style=\"text-align: right;\">\n      <th></th>\n      <th>Col1</th>\n      <th>Col2</th>\n      <th>Col3</th>\n    </tr>\n  </thead>\n  <tbody>\n    <tr>\n      <th>0</th>\n      <td>1</td>\n      <td>6</td>\n      <td>11</td>\n    </tr>\n    <tr>\n      <th>1</th>\n      <td>2</td>\n      <td>7</td>\n      <td>12</td>\n    </tr>\n    <tr>\n      <th>2</th>\n      <td>3</td>\n      <td>8</td>\n      <td>13</td>\n    </tr>\n    <tr>\n      <th>3</th>\n      <td>4</td>\n      <td>9</td>\n      <td>14</td>\n    </tr>\n    <tr>\n      <th>4</th>\n      <td>5</td>\n      <td>10</td>\n      <td>15</td>\n    </tr>\n  </tbody>\n</table>\n</div>"
     },
     "metadata": {}
    },
    {
     "output_type": "execute_result",
     "data": {
      "text/plain": [
       "0    100\n",
       "1    200\n",
       "2    300\n",
       "3    400\n",
       "4    500\n",
       "Name: Col1, dtype: int64"
      ]
     },
     "metadata": {},
     "execution_count": 14
    }
   ],
   "source": [
    "display(df)\n",
    "df['Col1'].map(lambda x: x*100)"
   ]
  },
  {
   "source": [
    "Let's use `pipe()`to do the same over the whole DataFrame."
   ],
   "cell_type": "markdown",
   "metadata": {}
  },
  {
   "cell_type": "code",
   "execution_count": 15,
   "metadata": {},
   "outputs": [
    {
     "output_type": "execute_result",
     "data": {
      "text/plain": [
       "   Col1  Col2  Col3\n",
       "0   100   600  1100\n",
       "1   200   700  1200\n",
       "2   300   800  1300\n",
       "3   400   900  1400\n",
       "4   500  1000  1500"
      ],
      "text/html": "<div>\n<style scoped>\n    .dataframe tbody tr th:only-of-type {\n        vertical-align: middle;\n    }\n\n    .dataframe tbody tr th {\n        vertical-align: top;\n    }\n\n    .dataframe thead th {\n        text-align: right;\n    }\n</style>\n<table border=\"1\" class=\"dataframe\">\n  <thead>\n    <tr style=\"text-align: right;\">\n      <th></th>\n      <th>Col1</th>\n      <th>Col2</th>\n      <th>Col3</th>\n    </tr>\n  </thead>\n  <tbody>\n    <tr>\n      <th>0</th>\n      <td>100</td>\n      <td>600</td>\n      <td>1100</td>\n    </tr>\n    <tr>\n      <th>1</th>\n      <td>200</td>\n      <td>700</td>\n      <td>1200</td>\n    </tr>\n    <tr>\n      <th>2</th>\n      <td>300</td>\n      <td>800</td>\n      <td>1300</td>\n    </tr>\n    <tr>\n      <th>3</th>\n      <td>400</td>\n      <td>900</td>\n      <td>1400</td>\n    </tr>\n    <tr>\n      <th>4</th>\n      <td>500</td>\n      <td>1000</td>\n      <td>1500</td>\n    </tr>\n  </tbody>\n</table>\n</div>"
     },
     "metadata": {},
     "execution_count": 15
    }
   ],
   "source": [
    "df.pipe(lambda x: x*100)"
   ]
  },
  {
   "source": [
    "## Iterations\n",
    "\n",
    "The behavior of basic iteration over Pandas objects depends on the type. \n",
    "\n",
    "When iterating over a Series, it is regarded as array-like, and basic iteration produces the values. \n",
    "\n",
    "Other data structures, like DataFrames, follow the dict-like convention of iterating over the keys of the objects."
   ],
   "cell_type": "markdown",
   "metadata": {}
  },
  {
   "cell_type": "code",
   "execution_count": 16,
   "metadata": {},
   "outputs": [],
   "source": [
    "N = 3"
   ]
  },
  {
   "cell_type": "code",
   "execution_count": 17,
   "metadata": {},
   "outputs": [
    {
     "output_type": "execute_result",
     "data": {
      "text/plain": [
       "           A    B         C     D           E\n",
       "0 2021-02-15  0.0  0.636458  High  115.992326\n",
       "1 2021-02-16  1.0  0.529888  High  109.224268\n",
       "2 2021-02-17  2.0  0.015520   Low   82.986007"
      ],
      "text/html": "<div>\n<style scoped>\n    .dataframe tbody tr th:only-of-type {\n        vertical-align: middle;\n    }\n\n    .dataframe tbody tr th {\n        vertical-align: top;\n    }\n\n    .dataframe thead th {\n        text-align: right;\n    }\n</style>\n<table border=\"1\" class=\"dataframe\">\n  <thead>\n    <tr style=\"text-align: right;\">\n      <th></th>\n      <th>A</th>\n      <th>B</th>\n      <th>C</th>\n      <th>D</th>\n      <th>E</th>\n    </tr>\n  </thead>\n  <tbody>\n    <tr>\n      <th>0</th>\n      <td>2021-02-15</td>\n      <td>0.0</td>\n      <td>0.636458</td>\n      <td>High</td>\n      <td>115.992326</td>\n    </tr>\n    <tr>\n      <th>1</th>\n      <td>2021-02-16</td>\n      <td>1.0</td>\n      <td>0.529888</td>\n      <td>High</td>\n      <td>109.224268</td>\n    </tr>\n    <tr>\n      <th>2</th>\n      <td>2021-02-17</td>\n      <td>2.0</td>\n      <td>0.015520</td>\n      <td>Low</td>\n      <td>82.986007</td>\n    </tr>\n  </tbody>\n</table>\n</div>"
     },
     "metadata": {},
     "execution_count": 17
    }
   ],
   "source": [
    "df = pd.DataFrame({\n",
    "   'A': pd.date_range(start='2021-02-15',periods=N,freq='D'),\n",
    "   'B': np.linspace(0,stop=N-1,num=N),\n",
    "   'C': np.random.rand(N),\n",
    "   'D': np.random.choice(['Low','Medium','High'],N).tolist(),\n",
    "   'E': np.random.normal(100, 10, size=(N)).tolist()\n",
    "})\n",
    "df.head()"
   ]
  },
  {
   "cell_type": "code",
   "execution_count": 18,
   "metadata": {
    "tags": []
   },
   "outputs": [
    {
     "output_type": "stream",
     "name": "stdout",
     "text": [
      "A\nB\nC\nD\nE\n"
     ]
    }
   ],
   "source": [
    "# Getting the names of the columns\n",
    "for col in df:\n",
    "    print(col)"
   ]
  },
  {
   "source": [
    "To iterate over the rows of the DataFrame, we can use the following functions:\n",
    "- `iteritems()`: to iterate over the (key,value) pairs\n",
    "- `iterrows()`: iterate over the rows as (index,series) pairs\n",
    "- `itertuples()`: iterate over the rows as namedtuples"
   ],
   "cell_type": "markdown",
   "metadata": {}
  },
  {
   "source": [
    "`iteritems()`: Iterates over each column as key, and column value as a Series object."
   ],
   "cell_type": "markdown",
   "metadata": {}
  },
  {
   "cell_type": "code",
   "execution_count": 19,
   "metadata": {},
   "outputs": [
    {
     "output_type": "stream",
     "name": "stdout",
     "text": [
      "Key = A\nValue =\n 0   2021-02-15\n1   2021-02-16\n2   2021-02-17\nName: A, dtype: datetime64[ns]\nKey = B\nValue =\n 0    0.0\n1    1.0\n2    2.0\nName: B, dtype: float64\nKey = C\nValue =\n 0    0.636458\n1    0.529888\n2    0.015520\nName: C, dtype: float64\nKey = D\nValue =\n 0    High\n1    High\n2     Low\nName: D, dtype: object\nKey = E\nValue =\n 0    115.992326\n1    109.224268\n2     82.986007\nName: E, dtype: float64\n"
     ]
    }
   ],
   "source": [
    "for key,value in df.iteritems():\n",
    "   print('Key =', key)\n",
    "   print('Value =\\n',value)"
   ]
  },
  {
   "source": [
    "`iterrows()`: returns the iterator yielding each index value along with a series containing the data in each row."
   ],
   "cell_type": "markdown",
   "metadata": {}
  },
  {
   "cell_type": "code",
   "execution_count": 20,
   "metadata": {
    "tags": []
   },
   "outputs": [
    {
     "output_type": "stream",
     "name": "stdout",
     "text": [
      "(0, A    2021-02-15 00:00:00\nB                    0.0\nC               0.636458\nD                   High\nE             115.992326\nName: 0, dtype: object)\n(1, A    2021-02-16 00:00:00\nB                    1.0\nC               0.529888\nD                   High\nE             109.224268\nName: 1, dtype: object)\n(2, A    2021-02-17 00:00:00\nB                    2.0\nC                0.01552\nD                    Low\nE              82.986007\nName: 2, dtype: object)\n"
     ]
    }
   ],
   "source": [
    "for row in df.iterrows():\n",
    "   print(row)"
   ]
  },
  {
   "source": [
    "`itertuples()`:  returns an iterator yielding a named tuple for each row in the DataFrame. The first element of the tuple will be the row’s corresponding index value, while the remaining values are the row values. To preserve dtypes while iterating over the rows, it is better to use itertuples()"
   ],
   "cell_type": "markdown",
   "metadata": {
    "tags": []
   }
  },
  {
   "cell_type": "code",
   "execution_count": 21,
   "metadata": {},
   "outputs": [
    {
     "output_type": "stream",
     "name": "stdout",
     "text": [
      "Pandas(Index=0, A=Timestamp('2021-02-15 00:00:00'), B=0.0, C=0.6364583562328854, D='High', E=115.99232587375356)\nPandas(Index=1, A=Timestamp('2021-02-16 00:00:00'), B=1.0, C=0.5298884106574001, D='High', E=109.22426751280774)\nPandas(Index=2, A=Timestamp('2021-02-17 00:00:00'), B=2.0, C=0.0155196644700073, D='Low', E=82.98600743306913)\n"
     ]
    }
   ],
   "source": [
    "for row in df.itertuples():\n",
    "    print(row)"
   ]
  },
  {
   "source": [
    "## Sorting\n",
    "\n",
    "There are two kinds of sorting available in Pandas: by label and by actual values."
   ],
   "cell_type": "markdown",
   "metadata": {}
  },
  {
   "cell_type": "code",
   "execution_count": 22,
   "metadata": {},
   "outputs": [
    {
     "output_type": "execute_result",
     "data": {
      "text/plain": [
       "        ZZZ       AAA\n",
       "1  0.400532  0.974267\n",
       "4  0.389843  0.601383\n",
       "6  2.294128  0.677461\n",
       "2 -0.805096 -0.229902\n",
       "3  0.236766  0.870057\n",
       "5  0.404691 -0.885804\n",
       "9  1.656082 -0.892960\n",
       "8  0.559586  2.113395\n",
       "0  0.488269  0.225536\n",
       "7  0.489522 -1.108523"
      ],
      "text/html": "<div>\n<style scoped>\n    .dataframe tbody tr th:only-of-type {\n        vertical-align: middle;\n    }\n\n    .dataframe tbody tr th {\n        vertical-align: top;\n    }\n\n    .dataframe thead th {\n        text-align: right;\n    }\n</style>\n<table border=\"1\" class=\"dataframe\">\n  <thead>\n    <tr style=\"text-align: right;\">\n      <th></th>\n      <th>ZZZ</th>\n      <th>AAA</th>\n    </tr>\n  </thead>\n  <tbody>\n    <tr>\n      <th>1</th>\n      <td>0.400532</td>\n      <td>0.974267</td>\n    </tr>\n    <tr>\n      <th>4</th>\n      <td>0.389843</td>\n      <td>0.601383</td>\n    </tr>\n    <tr>\n      <th>6</th>\n      <td>2.294128</td>\n      <td>0.677461</td>\n    </tr>\n    <tr>\n      <th>2</th>\n      <td>-0.805096</td>\n      <td>-0.229902</td>\n    </tr>\n    <tr>\n      <th>3</th>\n      <td>0.236766</td>\n      <td>0.870057</td>\n    </tr>\n    <tr>\n      <th>5</th>\n      <td>0.404691</td>\n      <td>-0.885804</td>\n    </tr>\n    <tr>\n      <th>9</th>\n      <td>1.656082</td>\n      <td>-0.892960</td>\n    </tr>\n    <tr>\n      <th>8</th>\n      <td>0.559586</td>\n      <td>2.113395</td>\n    </tr>\n    <tr>\n      <th>0</th>\n      <td>0.488269</td>\n      <td>0.225536</td>\n    </tr>\n    <tr>\n      <th>7</th>\n      <td>0.489522</td>\n      <td>-1.108523</td>\n    </tr>\n  </tbody>\n</table>\n</div>"
     },
     "metadata": {},
     "execution_count": 22
    }
   ],
   "source": [
    "unsorted_df=pd.DataFrame(np.random.randn(10,2),index=[1,4,6,2,3,5,9,8,0,7],columns=['ZZZ','AAA'])\n",
    "unsorted_df"
   ]
  },
  {
   "cell_type": "code",
   "execution_count": 23,
   "metadata": {},
   "outputs": [
    {
     "output_type": "execute_result",
     "data": {
      "text/plain": [
       "        ZZZ       AAA\n",
       "0  0.488269  0.225536\n",
       "1  0.400532  0.974267\n",
       "2 -0.805096 -0.229902\n",
       "3  0.236766  0.870057\n",
       "4  0.389843  0.601383\n",
       "5  0.404691 -0.885804\n",
       "6  2.294128  0.677461\n",
       "7  0.489522 -1.108523\n",
       "8  0.559586  2.113395\n",
       "9  1.656082 -0.892960"
      ],
      "text/html": "<div>\n<style scoped>\n    .dataframe tbody tr th:only-of-type {\n        vertical-align: middle;\n    }\n\n    .dataframe tbody tr th {\n        vertical-align: top;\n    }\n\n    .dataframe thead th {\n        text-align: right;\n    }\n</style>\n<table border=\"1\" class=\"dataframe\">\n  <thead>\n    <tr style=\"text-align: right;\">\n      <th></th>\n      <th>ZZZ</th>\n      <th>AAA</th>\n    </tr>\n  </thead>\n  <tbody>\n    <tr>\n      <th>0</th>\n      <td>0.488269</td>\n      <td>0.225536</td>\n    </tr>\n    <tr>\n      <th>1</th>\n      <td>0.400532</td>\n      <td>0.974267</td>\n    </tr>\n    <tr>\n      <th>2</th>\n      <td>-0.805096</td>\n      <td>-0.229902</td>\n    </tr>\n    <tr>\n      <th>3</th>\n      <td>0.236766</td>\n      <td>0.870057</td>\n    </tr>\n    <tr>\n      <th>4</th>\n      <td>0.389843</td>\n      <td>0.601383</td>\n    </tr>\n    <tr>\n      <th>5</th>\n      <td>0.404691</td>\n      <td>-0.885804</td>\n    </tr>\n    <tr>\n      <th>6</th>\n      <td>2.294128</td>\n      <td>0.677461</td>\n    </tr>\n    <tr>\n      <th>7</th>\n      <td>0.489522</td>\n      <td>-1.108523</td>\n    </tr>\n    <tr>\n      <th>8</th>\n      <td>0.559586</td>\n      <td>2.113395</td>\n    </tr>\n    <tr>\n      <th>9</th>\n      <td>1.656082</td>\n      <td>-0.892960</td>\n    </tr>\n  </tbody>\n</table>\n</div>"
     },
     "metadata": {},
     "execution_count": 23
    }
   ],
   "source": [
    "# Sorting by label\n",
    "sort_df=unsorted_df.sort_index()\n",
    "sort_df"
   ]
  },
  {
   "cell_type": "code",
   "execution_count": 24,
   "metadata": {},
   "outputs": [
    {
     "output_type": "execute_result",
     "data": {
      "text/plain": [
       "        ZZZ       AAA\n",
       "9  1.656082 -0.892960\n",
       "8  0.559586  2.113395\n",
       "7  0.489522 -1.108523\n",
       "6  2.294128  0.677461\n",
       "5  0.404691 -0.885804\n",
       "4  0.389843  0.601383\n",
       "3  0.236766  0.870057\n",
       "2 -0.805096 -0.229902\n",
       "1  0.400532  0.974267\n",
       "0  0.488269  0.225536"
      ],
      "text/html": "<div>\n<style scoped>\n    .dataframe tbody tr th:only-of-type {\n        vertical-align: middle;\n    }\n\n    .dataframe tbody tr th {\n        vertical-align: top;\n    }\n\n    .dataframe thead th {\n        text-align: right;\n    }\n</style>\n<table border=\"1\" class=\"dataframe\">\n  <thead>\n    <tr style=\"text-align: right;\">\n      <th></th>\n      <th>ZZZ</th>\n      <th>AAA</th>\n    </tr>\n  </thead>\n  <tbody>\n    <tr>\n      <th>9</th>\n      <td>1.656082</td>\n      <td>-0.892960</td>\n    </tr>\n    <tr>\n      <th>8</th>\n      <td>0.559586</td>\n      <td>2.113395</td>\n    </tr>\n    <tr>\n      <th>7</th>\n      <td>0.489522</td>\n      <td>-1.108523</td>\n    </tr>\n    <tr>\n      <th>6</th>\n      <td>2.294128</td>\n      <td>0.677461</td>\n    </tr>\n    <tr>\n      <th>5</th>\n      <td>0.404691</td>\n      <td>-0.885804</td>\n    </tr>\n    <tr>\n      <th>4</th>\n      <td>0.389843</td>\n      <td>0.601383</td>\n    </tr>\n    <tr>\n      <th>3</th>\n      <td>0.236766</td>\n      <td>0.870057</td>\n    </tr>\n    <tr>\n      <th>2</th>\n      <td>-0.805096</td>\n      <td>-0.229902</td>\n    </tr>\n    <tr>\n      <th>1</th>\n      <td>0.400532</td>\n      <td>0.974267</td>\n    </tr>\n    <tr>\n      <th>0</th>\n      <td>0.488269</td>\n      <td>0.225536</td>\n    </tr>\n  </tbody>\n</table>\n</div>"
     },
     "metadata": {},
     "execution_count": 24
    }
   ],
   "source": [
    "sort_df=unsorted_df.sort_index(ascending=False)\n",
    "sort_df"
   ]
  },
  {
   "cell_type": "code",
   "execution_count": 25,
   "metadata": {},
   "outputs": [
    {
     "output_type": "execute_result",
     "data": {
      "text/plain": [
       "        AAA       ZZZ\n",
       "1  0.974267  0.400532\n",
       "4  0.601383  0.389843\n",
       "6  0.677461  2.294128\n",
       "2 -0.229902 -0.805096\n",
       "3  0.870057  0.236766\n",
       "5 -0.885804  0.404691\n",
       "9 -0.892960  1.656082\n",
       "8  2.113395  0.559586\n",
       "0  0.225536  0.488269\n",
       "7 -1.108523  0.489522"
      ],
      "text/html": "<div>\n<style scoped>\n    .dataframe tbody tr th:only-of-type {\n        vertical-align: middle;\n    }\n\n    .dataframe tbody tr th {\n        vertical-align: top;\n    }\n\n    .dataframe thead th {\n        text-align: right;\n    }\n</style>\n<table border=\"1\" class=\"dataframe\">\n  <thead>\n    <tr style=\"text-align: right;\">\n      <th></th>\n      <th>AAA</th>\n      <th>ZZZ</th>\n    </tr>\n  </thead>\n  <tbody>\n    <tr>\n      <th>1</th>\n      <td>0.974267</td>\n      <td>0.400532</td>\n    </tr>\n    <tr>\n      <th>4</th>\n      <td>0.601383</td>\n      <td>0.389843</td>\n    </tr>\n    <tr>\n      <th>6</th>\n      <td>0.677461</td>\n      <td>2.294128</td>\n    </tr>\n    <tr>\n      <th>2</th>\n      <td>-0.229902</td>\n      <td>-0.805096</td>\n    </tr>\n    <tr>\n      <th>3</th>\n      <td>0.870057</td>\n      <td>0.236766</td>\n    </tr>\n    <tr>\n      <th>5</th>\n      <td>-0.885804</td>\n      <td>0.404691</td>\n    </tr>\n    <tr>\n      <th>9</th>\n      <td>-0.892960</td>\n      <td>1.656082</td>\n    </tr>\n    <tr>\n      <th>8</th>\n      <td>2.113395</td>\n      <td>0.559586</td>\n    </tr>\n    <tr>\n      <th>0</th>\n      <td>0.225536</td>\n      <td>0.488269</td>\n    </tr>\n    <tr>\n      <th>7</th>\n      <td>-1.108523</td>\n      <td>0.489522</td>\n    </tr>\n  </tbody>\n</table>\n</div>"
     },
     "metadata": {},
     "execution_count": 25
    }
   ],
   "source": [
    "# Sort the columns\n",
    "sort_df=unsorted_df.sort_index(axis=1)\n",
    "sort_df"
   ]
  },
  {
   "source": [
    "Sorting by value"
   ],
   "cell_type": "markdown",
   "metadata": {}
  },
  {
   "cell_type": "code",
   "execution_count": 26,
   "metadata": {},
   "outputs": [
    {
     "output_type": "stream",
     "name": "stdout",
     "text": [
      "Unsorted dataframe\n    col1  col2\n0     2     1\n1     1     3\n2     1     2\n3     1     4\n\nSorted by col1\n    col1  col2\n1     1     3\n2     1     2\n3     1     4\n0     2     1\n"
     ]
    }
   ],
   "source": [
    "unsorted_df = pd.DataFrame({'col1':[2,1,1,1],'col2':[1,3,2,4]})\n",
    "print('Unsorted dataframe\\n',unsorted_df)\n",
    "sorted_df = unsorted_df.sort_values(by='col1')\n",
    "print('\\nSorted by col1\\n',sorted_df)"
   ]
  },
  {
   "cell_type": "code",
   "execution_count": 27,
   "metadata": {},
   "outputs": [
    {
     "output_type": "execute_result",
     "data": {
      "text/plain": [
       "   col1  col2\n",
       "2     1     2\n",
       "1     1     3\n",
       "3     1     4\n",
       "0     2     1"
      ],
      "text/html": "<div>\n<style scoped>\n    .dataframe tbody tr th:only-of-type {\n        vertical-align: middle;\n    }\n\n    .dataframe tbody tr th {\n        vertical-align: top;\n    }\n\n    .dataframe thead th {\n        text-align: right;\n    }\n</style>\n<table border=\"1\" class=\"dataframe\">\n  <thead>\n    <tr style=\"text-align: right;\">\n      <th></th>\n      <th>col1</th>\n      <th>col2</th>\n    </tr>\n  </thead>\n  <tbody>\n    <tr>\n      <th>2</th>\n      <td>1</td>\n      <td>2</td>\n    </tr>\n    <tr>\n      <th>1</th>\n      <td>1</td>\n      <td>3</td>\n    </tr>\n    <tr>\n      <th>3</th>\n      <td>1</td>\n      <td>4</td>\n    </tr>\n    <tr>\n      <th>0</th>\n      <td>2</td>\n      <td>1</td>\n    </tr>\n  </tbody>\n</table>\n</div>"
     },
     "metadata": {},
     "execution_count": 27
    }
   ],
   "source": [
    "sorted_df = unsorted_df.sort_values(by=['col1','col2'])\n",
    "sorted_df"
   ]
  }
 ],
 "metadata": {
  "language_info": {
   "codemirror_mode": {
    "name": "ipython",
    "version": 3
   },
   "file_extension": ".py",
   "mimetype": "text/x-python",
   "name": "python",
   "nbconvert_exporter": "python",
   "pygments_lexer": "ipython3",
   "version": "3.9.1-final"
  },
  "orig_nbformat": 2,
  "kernelspec": {
   "name": "python3",
   "display_name": "Python 3.9.1 64-bit",
   "metadata": {
    "interpreter": {
     "hash": "63fd5069d213b44bf678585dea6b12cceca9941eaf7f819626cde1f2670de90d"
    }
   }
  }
 },
 "nbformat": 4,
 "nbformat_minor": 2
}