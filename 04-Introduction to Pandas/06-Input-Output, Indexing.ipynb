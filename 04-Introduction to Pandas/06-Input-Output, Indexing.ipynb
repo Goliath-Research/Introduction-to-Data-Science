{
 "metadata": {
  "language_info": {
   "codemirror_mode": {
    "name": "ipython",
    "version": 3
   },
   "file_extension": ".py",
   "mimetype": "text/x-python",
   "name": "python",
   "nbconvert_exporter": "python",
   "pygments_lexer": "ipython3",
   "version": "3.9.1-final"
  },
  "orig_nbformat": 2,
  "kernelspec": {
   "name": "python3",
   "display_name": "Python 3.9.1 64-bit",
   "metadata": {
    "interpreter": {
     "hash": "63fd5069d213b44bf678585dea6b12cceca9941eaf7f819626cde1f2670de90d"
    }
   }
  }
 },
 "nbformat": 4,
 "nbformat_minor": 2,
 "cells": [
  {
   "source": [
    "# Pandas Input/Output"
   ],
   "cell_type": "markdown",
   "metadata": {}
  },
  {
   "cell_type": "code",
   "execution_count": 1,
   "metadata": {},
   "outputs": [],
   "source": [
    "# !pip install numpy\n",
    "# !pip install pandas"
   ]
  },
  {
   "cell_type": "code",
   "execution_count": 2,
   "metadata": {},
   "outputs": [],
   "source": [
    "import numpy as np\n",
    "import pandas as pd"
   ]
  },
  {
   "source": [
    "**read_csv()**: reads data from the csv files and creates a DataFrame object."
   ],
   "cell_type": "markdown",
   "metadata": {}
  },
  {
   "cell_type": "code",
   "execution_count": 3,
   "metadata": {},
   "outputs": [
    {
     "output_type": "stream",
     "name": "stdout",
     "text": [
      "(194, 2)\n"
     ]
    },
    {
     "output_type": "execute_result",
     "data": {
      "text/plain": [
       "   Country  Region\n",
       "0  Algeria  AFRICA\n",
       "1   Angola  AFRICA"
      ],
      "text/html": "<div>\n<style scoped>\n    .dataframe tbody tr th:only-of-type {\n        vertical-align: middle;\n    }\n\n    .dataframe tbody tr th {\n        vertical-align: top;\n    }\n\n    .dataframe thead th {\n        text-align: right;\n    }\n</style>\n<table border=\"1\" class=\"dataframe\">\n  <thead>\n    <tr style=\"text-align: right;\">\n      <th></th>\n      <th>Country</th>\n      <th>Region</th>\n    </tr>\n  </thead>\n  <tbody>\n    <tr>\n      <th>0</th>\n      <td>Algeria</td>\n      <td>AFRICA</td>\n    </tr>\n    <tr>\n      <th>1</th>\n      <td>Angola</td>\n      <td>AFRICA</td>\n    </tr>\n  </tbody>\n</table>\n</div>"
     },
     "metadata": {},
     "execution_count": 3
    }
   ],
   "source": [
    "path = 'https://raw.githubusercontent.com/cs109/2014_data/master/countries.csv'\n",
    "df = pd.read_csv(path)\n",
    "print(df.shape)\n",
    "df.head(2)"
   ]
  },
  {
   "cell_type": "code",
   "execution_count": 4,
   "metadata": {},
   "outputs": [],
   "source": [
    "df.to_csv('countries.csv')"
   ]
  },
  {
   "cell_type": "code",
   "execution_count": 5,
   "metadata": {
    "tags": []
   },
   "outputs": [
    {
     "output_type": "stream",
     "name": "stdout",
     "text": [
      "(194, 3)\n"
     ]
    },
    {
     "output_type": "execute_result",
     "data": {
      "text/plain": [
       "   Unnamed: 0  Country  Region\n",
       "0           0  Algeria  AFRICA\n",
       "1           1   Angola  AFRICA"
      ],
      "text/html": "<div>\n<style scoped>\n    .dataframe tbody tr th:only-of-type {\n        vertical-align: middle;\n    }\n\n    .dataframe tbody tr th {\n        vertical-align: top;\n    }\n\n    .dataframe thead th {\n        text-align: right;\n    }\n</style>\n<table border=\"1\" class=\"dataframe\">\n  <thead>\n    <tr style=\"text-align: right;\">\n      <th></th>\n      <th>Unnamed: 0</th>\n      <th>Country</th>\n      <th>Region</th>\n    </tr>\n  </thead>\n  <tbody>\n    <tr>\n      <th>0</th>\n      <td>0</td>\n      <td>Algeria</td>\n      <td>AFRICA</td>\n    </tr>\n    <tr>\n      <th>1</th>\n      <td>1</td>\n      <td>Angola</td>\n      <td>AFRICA</td>\n    </tr>\n  </tbody>\n</table>\n</div>"
     },
     "metadata": {},
     "execution_count": 5
    }
   ],
   "source": [
    "df1 = pd.read_csv('countries.csv')\n",
    "print(df1.shape)\n",
    "df1.head(2)"
   ]
  },
  {
   "cell_type": "code",
   "execution_count": 6,
   "metadata": {},
   "outputs": [
    {
     "output_type": "display_data",
     "data": {
      "text/plain": "   Country  Region\n0  Algeria  AFRICA\n1   Angola  AFRICA",
      "text/html": "<div>\n<style scoped>\n    .dataframe tbody tr th:only-of-type {\n        vertical-align: middle;\n    }\n\n    .dataframe tbody tr th {\n        vertical-align: top;\n    }\n\n    .dataframe thead th {\n        text-align: right;\n    }\n</style>\n<table border=\"1\" class=\"dataframe\">\n  <thead>\n    <tr style=\"text-align: right;\">\n      <th></th>\n      <th>Country</th>\n      <th>Region</th>\n    </tr>\n  </thead>\n  <tbody>\n    <tr>\n      <th>0</th>\n      <td>Algeria</td>\n      <td>AFRICA</td>\n    </tr>\n    <tr>\n      <th>1</th>\n      <td>Angola</td>\n      <td>AFRICA</td>\n    </tr>\n  </tbody>\n</table>\n</div>"
     },
     "metadata": {}
    },
    {
     "output_type": "display_data",
     "data": {
      "text/plain": "   Unnamed: 0  Country  Region\n0           0  Algeria  AFRICA\n1           1   Angola  AFRICA",
      "text/html": "<div>\n<style scoped>\n    .dataframe tbody tr th:only-of-type {\n        vertical-align: middle;\n    }\n\n    .dataframe tbody tr th {\n        vertical-align: top;\n    }\n\n    .dataframe thead th {\n        text-align: right;\n    }\n</style>\n<table border=\"1\" class=\"dataframe\">\n  <thead>\n    <tr style=\"text-align: right;\">\n      <th></th>\n      <th>Unnamed: 0</th>\n      <th>Country</th>\n      <th>Region</th>\n    </tr>\n  </thead>\n  <tbody>\n    <tr>\n      <th>0</th>\n      <td>0</td>\n      <td>Algeria</td>\n      <td>AFRICA</td>\n    </tr>\n    <tr>\n      <th>1</th>\n      <td>1</td>\n      <td>Angola</td>\n      <td>AFRICA</td>\n    </tr>\n  </tbody>\n</table>\n</div>"
     },
     "metadata": {}
    }
   ],
   "source": [
    "display(df.head(2))\n",
    "display(df1.head(2))"
   ]
  },
  {
   "source": [
    "The Unnamed column is the index column. To avoit it:"
   ],
   "cell_type": "markdown",
   "metadata": {}
  },
  {
   "cell_type": "code",
   "execution_count": 7,
   "metadata": {},
   "outputs": [],
   "source": [
    "df.to_csv('countries1.csv',index=False)"
   ]
  },
  {
   "cell_type": "code",
   "execution_count": 8,
   "metadata": {},
   "outputs": [
    {
     "output_type": "execute_result",
     "data": {
      "text/plain": [
       "   Country  Region\n",
       "0  Algeria  AFRICA\n",
       "1   Angola  AFRICA"
      ],
      "text/html": "<div>\n<style scoped>\n    .dataframe tbody tr th:only-of-type {\n        vertical-align: middle;\n    }\n\n    .dataframe tbody tr th {\n        vertical-align: top;\n    }\n\n    .dataframe thead th {\n        text-align: right;\n    }\n</style>\n<table border=\"1\" class=\"dataframe\">\n  <thead>\n    <tr style=\"text-align: right;\">\n      <th></th>\n      <th>Country</th>\n      <th>Region</th>\n    </tr>\n  </thead>\n  <tbody>\n    <tr>\n      <th>0</th>\n      <td>Algeria</td>\n      <td>AFRICA</td>\n    </tr>\n    <tr>\n      <th>1</th>\n      <td>Angola</td>\n      <td>AFRICA</td>\n    </tr>\n  </tbody>\n</table>\n</div>"
     },
     "metadata": {},
     "execution_count": 8
    }
   ],
   "source": [
    "df2 = pd.read_csv('countries1.csv')\n",
    "df2.head(2)"
   ]
  },
  {
   "cell_type": "code",
   "execution_count": 9,
   "metadata": {},
   "outputs": [
    {
     "output_type": "display_data",
     "data": {
      "text/plain": "   Country  Region\n0  Algeria  AFRICA\n1   Angola  AFRICA",
      "text/html": "<div>\n<style scoped>\n    .dataframe tbody tr th:only-of-type {\n        vertical-align: middle;\n    }\n\n    .dataframe tbody tr th {\n        vertical-align: top;\n    }\n\n    .dataframe thead th {\n        text-align: right;\n    }\n</style>\n<table border=\"1\" class=\"dataframe\">\n  <thead>\n    <tr style=\"text-align: right;\">\n      <th></th>\n      <th>Country</th>\n      <th>Region</th>\n    </tr>\n  </thead>\n  <tbody>\n    <tr>\n      <th>0</th>\n      <td>Algeria</td>\n      <td>AFRICA</td>\n    </tr>\n    <tr>\n      <th>1</th>\n      <td>Angola</td>\n      <td>AFRICA</td>\n    </tr>\n  </tbody>\n</table>\n</div>"
     },
     "metadata": {}
    },
    {
     "output_type": "display_data",
     "data": {
      "text/plain": "   Unnamed: 0  Country  Region\n0           0  Algeria  AFRICA\n1           1   Angola  AFRICA",
      "text/html": "<div>\n<style scoped>\n    .dataframe tbody tr th:only-of-type {\n        vertical-align: middle;\n    }\n\n    .dataframe tbody tr th {\n        vertical-align: top;\n    }\n\n    .dataframe thead th {\n        text-align: right;\n    }\n</style>\n<table border=\"1\" class=\"dataframe\">\n  <thead>\n    <tr style=\"text-align: right;\">\n      <th></th>\n      <th>Unnamed: 0</th>\n      <th>Country</th>\n      <th>Region</th>\n    </tr>\n  </thead>\n  <tbody>\n    <tr>\n      <th>0</th>\n      <td>0</td>\n      <td>Algeria</td>\n      <td>AFRICA</td>\n    </tr>\n    <tr>\n      <th>1</th>\n      <td>1</td>\n      <td>Angola</td>\n      <td>AFRICA</td>\n    </tr>\n  </tbody>\n</table>\n</div>"
     },
     "metadata": {}
    }
   ],
   "source": [
    "display(df.head(2))\n",
    "display(df1.head(2))"
   ]
  },
  {
   "cell_type": "code",
   "execution_count": 10,
   "metadata": {
    "tags": []
   },
   "outputs": [],
   "source": [
    "#!pip install xlsxwriter"
   ]
  },
  {
   "cell_type": "code",
   "execution_count": 11,
   "metadata": {},
   "outputs": [],
   "source": [
    "import xlsxwriter"
   ]
  },
  {
   "cell_type": "code",
   "execution_count": 12,
   "metadata": {},
   "outputs": [],
   "source": [
    "writer = pd.ExcelWriter('countries.xlsx', engine='xlsxwriter')\n",
    "df.to_excel(writer,sheet_name='WithoutIndex')\n",
    "df1.to_excel(writer,sheet_name='WithIndex')\n",
    "writer.save()"
   ]
  },
  {
   "cell_type": "code",
   "execution_count": 13,
   "metadata": {},
   "outputs": [],
   "source": [
    "df.to_json('countries.json')"
   ]
  },
  {
   "cell_type": "code",
   "execution_count": 14,
   "metadata": {},
   "outputs": [
    {
     "output_type": "execute_result",
     "data": {
      "text/plain": [
       "   Country  Region\n",
       "0  Algeria  AFRICA\n",
       "1   Angola  AFRICA"
      ],
      "text/html": "<div>\n<style scoped>\n    .dataframe tbody tr th:only-of-type {\n        vertical-align: middle;\n    }\n\n    .dataframe tbody tr th {\n        vertical-align: top;\n    }\n\n    .dataframe thead th {\n        text-align: right;\n    }\n</style>\n<table border=\"1\" class=\"dataframe\">\n  <thead>\n    <tr style=\"text-align: right;\">\n      <th></th>\n      <th>Country</th>\n      <th>Region</th>\n    </tr>\n  </thead>\n  <tbody>\n    <tr>\n      <th>0</th>\n      <td>Algeria</td>\n      <td>AFRICA</td>\n    </tr>\n    <tr>\n      <th>1</th>\n      <td>Angola</td>\n      <td>AFRICA</td>\n    </tr>\n  </tbody>\n</table>\n</div>"
     },
     "metadata": {},
     "execution_count": 14
    }
   ],
   "source": [
    "dfj = pd.read_json('countries.json')\n",
    "dfj.head(2)"
   ]
  },
  {
   "source": [
    "## Indexing and selecting data"
   ],
   "cell_type": "markdown",
   "metadata": {}
  },
  {
   "source": [
    "The Python and NumPy indexing operators **`[ ]`** and attribute operator **`.`** provide quick and easy access to Pandas data structures across a wide range of use cases. However, since the type of the data to be accessed isn’t known in advance, directly using standard operators has some optimization limits. "
   ],
   "cell_type": "markdown",
   "metadata": {}
  },
  {
   "cell_type": "code",
   "execution_count": 15,
   "metadata": {},
   "outputs": [
    {
     "output_type": "execute_result",
     "data": {
      "text/plain": [
       "          A         B         C         D\n",
       "a -0.416605  2.523586 -0.091028  0.260955\n",
       "b -1.913254  0.323198  1.026196  0.197835\n",
       "c  1.835670  0.058204  0.373246 -0.577293\n",
       "d  0.300189 -2.529200  1.517771 -1.074663\n",
       "e  2.104924 -0.348908  1.143179 -1.464980\n",
       "f -0.767297 -0.232218  1.347255  0.212280\n",
       "g  0.290155 -0.048612 -0.138592 -0.714350\n",
       "h -1.298088 -0.939013 -0.308361  0.569989"
      ],
      "text/html": "<div>\n<style scoped>\n    .dataframe tbody tr th:only-of-type {\n        vertical-align: middle;\n    }\n\n    .dataframe tbody tr th {\n        vertical-align: top;\n    }\n\n    .dataframe thead th {\n        text-align: right;\n    }\n</style>\n<table border=\"1\" class=\"dataframe\">\n  <thead>\n    <tr style=\"text-align: right;\">\n      <th></th>\n      <th>A</th>\n      <th>B</th>\n      <th>C</th>\n      <th>D</th>\n    </tr>\n  </thead>\n  <tbody>\n    <tr>\n      <th>a</th>\n      <td>-0.416605</td>\n      <td>2.523586</td>\n      <td>-0.091028</td>\n      <td>0.260955</td>\n    </tr>\n    <tr>\n      <th>b</th>\n      <td>-1.913254</td>\n      <td>0.323198</td>\n      <td>1.026196</td>\n      <td>0.197835</td>\n    </tr>\n    <tr>\n      <th>c</th>\n      <td>1.835670</td>\n      <td>0.058204</td>\n      <td>0.373246</td>\n      <td>-0.577293</td>\n    </tr>\n    <tr>\n      <th>d</th>\n      <td>0.300189</td>\n      <td>-2.529200</td>\n      <td>1.517771</td>\n      <td>-1.074663</td>\n    </tr>\n    <tr>\n      <th>e</th>\n      <td>2.104924</td>\n      <td>-0.348908</td>\n      <td>1.143179</td>\n      <td>-1.464980</td>\n    </tr>\n    <tr>\n      <th>f</th>\n      <td>-0.767297</td>\n      <td>-0.232218</td>\n      <td>1.347255</td>\n      <td>0.212280</td>\n    </tr>\n    <tr>\n      <th>g</th>\n      <td>0.290155</td>\n      <td>-0.048612</td>\n      <td>-0.138592</td>\n      <td>-0.714350</td>\n    </tr>\n    <tr>\n      <th>h</th>\n      <td>-1.298088</td>\n      <td>-0.939013</td>\n      <td>-0.308361</td>\n      <td>0.569989</td>\n    </tr>\n  </tbody>\n</table>\n</div>"
     },
     "metadata": {},
     "execution_count": 15
    }
   ],
   "source": [
    "df = pd.DataFrame(np.random.randn(8, 4),\n",
    "index = ['a','b','c','d','e','f','g','h'], columns = ['A', 'B', 'C', 'D'])\n",
    "df"
   ]
  },
  {
   "source": [
    "Select all rows for a specific column:"
   ],
   "cell_type": "markdown",
   "metadata": {}
  },
  {
   "cell_type": "code",
   "execution_count": 16,
   "metadata": {},
   "outputs": [
    {
     "output_type": "execute_result",
     "data": {
      "text/plain": [
       "a   -0.416605\n",
       "b   -1.913254\n",
       "c    1.835670\n",
       "d    0.300189\n",
       "e    2.104924\n",
       "f   -0.767297\n",
       "g    0.290155\n",
       "h   -1.298088\n",
       "Name: A, dtype: float64"
      ]
     },
     "metadata": {},
     "execution_count": 16
    }
   ],
   "source": [
    "df.loc[:,'A']"
   ]
  },
  {
   "source": [
    "Another way:"
   ],
   "cell_type": "markdown",
   "metadata": {}
  },
  {
   "cell_type": "code",
   "execution_count": 17,
   "metadata": {},
   "outputs": [
    {
     "output_type": "execute_result",
     "data": {
      "text/plain": [
       "a   -0.416605\n",
       "b   -1.913254\n",
       "c    1.835670\n",
       "d    0.300189\n",
       "e    2.104924\n",
       "f   -0.767297\n",
       "g    0.290155\n",
       "h   -1.298088\n",
       "Name: A, dtype: float64"
      ]
     },
     "metadata": {},
     "execution_count": 17
    }
   ],
   "source": [
    "df['A']"
   ]
  },
  {
   "source": [
    "Select all rows for two specific column:"
   ],
   "cell_type": "markdown",
   "metadata": {}
  },
  {
   "cell_type": "code",
   "execution_count": 18,
   "metadata": {},
   "outputs": [
    {
     "output_type": "execute_result",
     "data": {
      "text/plain": [
       "          A         D\n",
       "a -0.416605  0.260955\n",
       "b -1.913254  0.197835\n",
       "c  1.835670 -0.577293\n",
       "d  0.300189 -1.074663\n",
       "e  2.104924 -1.464980\n",
       "f -0.767297  0.212280\n",
       "g  0.290155 -0.714350\n",
       "h -1.298088  0.569989"
      ],
      "text/html": "<div>\n<style scoped>\n    .dataframe tbody tr th:only-of-type {\n        vertical-align: middle;\n    }\n\n    .dataframe tbody tr th {\n        vertical-align: top;\n    }\n\n    .dataframe thead th {\n        text-align: right;\n    }\n</style>\n<table border=\"1\" class=\"dataframe\">\n  <thead>\n    <tr style=\"text-align: right;\">\n      <th></th>\n      <th>A</th>\n      <th>D</th>\n    </tr>\n  </thead>\n  <tbody>\n    <tr>\n      <th>a</th>\n      <td>-0.416605</td>\n      <td>0.260955</td>\n    </tr>\n    <tr>\n      <th>b</th>\n      <td>-1.913254</td>\n      <td>0.197835</td>\n    </tr>\n    <tr>\n      <th>c</th>\n      <td>1.835670</td>\n      <td>-0.577293</td>\n    </tr>\n    <tr>\n      <th>d</th>\n      <td>0.300189</td>\n      <td>-1.074663</td>\n    </tr>\n    <tr>\n      <th>e</th>\n      <td>2.104924</td>\n      <td>-1.464980</td>\n    </tr>\n    <tr>\n      <th>f</th>\n      <td>-0.767297</td>\n      <td>0.212280</td>\n    </tr>\n    <tr>\n      <th>g</th>\n      <td>0.290155</td>\n      <td>-0.714350</td>\n    </tr>\n    <tr>\n      <th>h</th>\n      <td>-1.298088</td>\n      <td>0.569989</td>\n    </tr>\n  </tbody>\n</table>\n</div>"
     },
     "metadata": {},
     "execution_count": 18
    }
   ],
   "source": [
    "df.loc[:,['A','D']]"
   ]
  },
  {
   "source": [
    "Another way:"
   ],
   "cell_type": "markdown",
   "metadata": {}
  },
  {
   "cell_type": "code",
   "execution_count": 19,
   "metadata": {},
   "outputs": [
    {
     "output_type": "execute_result",
     "data": {
      "text/plain": [
       "          A         D\n",
       "a -0.416605  0.260955\n",
       "b -1.913254  0.197835\n",
       "c  1.835670 -0.577293\n",
       "d  0.300189 -1.074663\n",
       "e  2.104924 -1.464980\n",
       "f -0.767297  0.212280\n",
       "g  0.290155 -0.714350\n",
       "h -1.298088  0.569989"
      ],
      "text/html": "<div>\n<style scoped>\n    .dataframe tbody tr th:only-of-type {\n        vertical-align: middle;\n    }\n\n    .dataframe tbody tr th {\n        vertical-align: top;\n    }\n\n    .dataframe thead th {\n        text-align: right;\n    }\n</style>\n<table border=\"1\" class=\"dataframe\">\n  <thead>\n    <tr style=\"text-align: right;\">\n      <th></th>\n      <th>A</th>\n      <th>D</th>\n    </tr>\n  </thead>\n  <tbody>\n    <tr>\n      <th>a</th>\n      <td>-0.416605</td>\n      <td>0.260955</td>\n    </tr>\n    <tr>\n      <th>b</th>\n      <td>-1.913254</td>\n      <td>0.197835</td>\n    </tr>\n    <tr>\n      <th>c</th>\n      <td>1.835670</td>\n      <td>-0.577293</td>\n    </tr>\n    <tr>\n      <th>d</th>\n      <td>0.300189</td>\n      <td>-1.074663</td>\n    </tr>\n    <tr>\n      <th>e</th>\n      <td>2.104924</td>\n      <td>-1.464980</td>\n    </tr>\n    <tr>\n      <th>f</th>\n      <td>-0.767297</td>\n      <td>0.212280</td>\n    </tr>\n    <tr>\n      <th>g</th>\n      <td>0.290155</td>\n      <td>-0.714350</td>\n    </tr>\n    <tr>\n      <th>h</th>\n      <td>-1.298088</td>\n      <td>0.569989</td>\n    </tr>\n  </tbody>\n</table>\n</div>"
     },
     "metadata": {},
     "execution_count": 19
    }
   ],
   "source": [
    "df[['A','D']]"
   ]
  },
  {
   "source": [
    "Select few rows for multiple columns:"
   ],
   "cell_type": "markdown",
   "metadata": {}
  },
  {
   "cell_type": "code",
   "execution_count": 20,
   "metadata": {},
   "outputs": [
    {
     "output_type": "execute_result",
     "data": {
      "text/plain": [
       "          A         D\n",
       "a -0.416605  0.260955\n",
       "b -1.913254  0.197835\n",
       "f -0.767297  0.212280\n",
       "h -1.298088  0.569989"
      ],
      "text/html": "<div>\n<style scoped>\n    .dataframe tbody tr th:only-of-type {\n        vertical-align: middle;\n    }\n\n    .dataframe tbody tr th {\n        vertical-align: top;\n    }\n\n    .dataframe thead th {\n        text-align: right;\n    }\n</style>\n<table border=\"1\" class=\"dataframe\">\n  <thead>\n    <tr style=\"text-align: right;\">\n      <th></th>\n      <th>A</th>\n      <th>D</th>\n    </tr>\n  </thead>\n  <tbody>\n    <tr>\n      <th>a</th>\n      <td>-0.416605</td>\n      <td>0.260955</td>\n    </tr>\n    <tr>\n      <th>b</th>\n      <td>-1.913254</td>\n      <td>0.197835</td>\n    </tr>\n    <tr>\n      <th>f</th>\n      <td>-0.767297</td>\n      <td>0.212280</td>\n    </tr>\n    <tr>\n      <th>h</th>\n      <td>-1.298088</td>\n      <td>0.569989</td>\n    </tr>\n  </tbody>\n</table>\n</div>"
     },
     "metadata": {},
     "execution_count": 20
    }
   ],
   "source": [
    "df.loc[['a','b','f','h'],['A','D']]"
   ]
  },
  {
   "source": [
    "Select few rows for all columns:"
   ],
   "cell_type": "markdown",
   "metadata": {}
  },
  {
   "cell_type": "code",
   "execution_count": 21,
   "metadata": {},
   "outputs": [
    {
     "output_type": "execute_result",
     "data": {
      "text/plain": [
       "          A         B         C         D\n",
       "a -0.416605  2.523586 -0.091028  0.260955\n",
       "b -1.913254  0.323198  1.026196  0.197835\n",
       "f -0.767297 -0.232218  1.347255  0.212280\n",
       "h -1.298088 -0.939013 -0.308361  0.569989"
      ],
      "text/html": "<div>\n<style scoped>\n    .dataframe tbody tr th:only-of-type {\n        vertical-align: middle;\n    }\n\n    .dataframe tbody tr th {\n        vertical-align: top;\n    }\n\n    .dataframe thead th {\n        text-align: right;\n    }\n</style>\n<table border=\"1\" class=\"dataframe\">\n  <thead>\n    <tr style=\"text-align: right;\">\n      <th></th>\n      <th>A</th>\n      <th>B</th>\n      <th>C</th>\n      <th>D</th>\n    </tr>\n  </thead>\n  <tbody>\n    <tr>\n      <th>a</th>\n      <td>-0.416605</td>\n      <td>2.523586</td>\n      <td>-0.091028</td>\n      <td>0.260955</td>\n    </tr>\n    <tr>\n      <th>b</th>\n      <td>-1.913254</td>\n      <td>0.323198</td>\n      <td>1.026196</td>\n      <td>0.197835</td>\n    </tr>\n    <tr>\n      <th>f</th>\n      <td>-0.767297</td>\n      <td>-0.232218</td>\n      <td>1.347255</td>\n      <td>0.212280</td>\n    </tr>\n    <tr>\n      <th>h</th>\n      <td>-1.298088</td>\n      <td>-0.939013</td>\n      <td>-0.308361</td>\n      <td>0.569989</td>\n    </tr>\n  </tbody>\n</table>\n</div>"
     },
     "metadata": {},
     "execution_count": 21
    }
   ],
   "source": [
    "df.loc[['a','b','f','h']]"
   ]
  },
  {
   "source": [
    "Select range of rows for all columns:"
   ],
   "cell_type": "markdown",
   "metadata": {}
  },
  {
   "cell_type": "code",
   "execution_count": 22,
   "metadata": {},
   "outputs": [
    {
     "output_type": "execute_result",
     "data": {
      "text/plain": [
       "          A         B         C         D\n",
       "a -0.416605  2.523586 -0.091028  0.260955\n",
       "b -1.913254  0.323198  1.026196  0.197835\n",
       "c  1.835670  0.058204  0.373246 -0.577293\n",
       "d  0.300189 -2.529200  1.517771 -1.074663"
      ],
      "text/html": "<div>\n<style scoped>\n    .dataframe tbody tr th:only-of-type {\n        vertical-align: middle;\n    }\n\n    .dataframe tbody tr th {\n        vertical-align: top;\n    }\n\n    .dataframe thead th {\n        text-align: right;\n    }\n</style>\n<table border=\"1\" class=\"dataframe\">\n  <thead>\n    <tr style=\"text-align: right;\">\n      <th></th>\n      <th>A</th>\n      <th>B</th>\n      <th>C</th>\n      <th>D</th>\n    </tr>\n  </thead>\n  <tbody>\n    <tr>\n      <th>a</th>\n      <td>-0.416605</td>\n      <td>2.523586</td>\n      <td>-0.091028</td>\n      <td>0.260955</td>\n    </tr>\n    <tr>\n      <th>b</th>\n      <td>-1.913254</td>\n      <td>0.323198</td>\n      <td>1.026196</td>\n      <td>0.197835</td>\n    </tr>\n    <tr>\n      <th>c</th>\n      <td>1.835670</td>\n      <td>0.058204</td>\n      <td>0.373246</td>\n      <td>-0.577293</td>\n    </tr>\n    <tr>\n      <th>d</th>\n      <td>0.300189</td>\n      <td>-2.529200</td>\n      <td>1.517771</td>\n      <td>-1.074663</td>\n    </tr>\n  </tbody>\n</table>\n</div>"
     },
     "metadata": {},
     "execution_count": 22
    }
   ],
   "source": [
    "df.loc['a':'d']"
   ]
  },
  {
   "source": [
    "Getting all values with index 'a':"
   ],
   "cell_type": "markdown",
   "metadata": {}
  },
  {
   "cell_type": "code",
   "execution_count": 23,
   "metadata": {},
   "outputs": [
    {
     "output_type": "execute_result",
     "data": {
      "text/plain": [
       "A   -0.416605\n",
       "B    2.523586\n",
       "C   -0.091028\n",
       "D    0.260955\n",
       "Name: a, dtype: float64"
      ]
     },
     "metadata": {},
     "execution_count": 23
    }
   ],
   "source": [
    "df.loc['a']"
   ]
  },
  {
   "source": [
    "Getting values with a boolean array:"
   ],
   "cell_type": "markdown",
   "metadata": {}
  },
  {
   "cell_type": "code",
   "execution_count": 24,
   "metadata": {},
   "outputs": [
    {
     "output_type": "execute_result",
     "data": {
      "text/plain": [
       "A    False\n",
       "B     True\n",
       "C    False\n",
       "D     True\n",
       "Name: a, dtype: bool"
      ]
     },
     "metadata": {},
     "execution_count": 24
    }
   ],
   "source": [
    "df.loc['a'] > 0"
   ]
  },
  {
   "source": [
    "`.iloc()`: get purely integer based indexing. Remember these are 0-based indexing.\n",
    "\n",
    "It can only index by location with a integer, integer slice (START point is INCLUDED, END point is EXCLUDED), listlike of integers, boolean array"
   ],
   "cell_type": "markdown",
   "metadata": {}
  },
  {
   "cell_type": "code",
   "execution_count": 25,
   "metadata": {},
   "outputs": [],
   "source": [
    "df = pd.DataFrame(np.random.randn(8, 4),columns = ['A', 'B', 'C', 'D'])"
   ]
  },
  {
   "source": [
    "Select all columns for a specific rows:"
   ],
   "cell_type": "markdown",
   "metadata": {}
  },
  {
   "cell_type": "code",
   "execution_count": 26,
   "metadata": {},
   "outputs": [
    {
     "output_type": "execute_result",
     "data": {
      "text/plain": [
       "          A         B         C         D\n",
       "0  0.563025 -1.242159  0.628724 -2.441100\n",
       "1 -0.788893  2.024489  0.528358 -1.092104\n",
       "2  1.119425 -0.722647  0.413590 -0.217465"
      ],
      "text/html": "<div>\n<style scoped>\n    .dataframe tbody tr th:only-of-type {\n        vertical-align: middle;\n    }\n\n    .dataframe tbody tr th {\n        vertical-align: top;\n    }\n\n    .dataframe thead th {\n        text-align: right;\n    }\n</style>\n<table border=\"1\" class=\"dataframe\">\n  <thead>\n    <tr style=\"text-align: right;\">\n      <th></th>\n      <th>A</th>\n      <th>B</th>\n      <th>C</th>\n      <th>D</th>\n    </tr>\n  </thead>\n  <tbody>\n    <tr>\n      <th>0</th>\n      <td>0.563025</td>\n      <td>-1.242159</td>\n      <td>0.628724</td>\n      <td>-2.441100</td>\n    </tr>\n    <tr>\n      <th>1</th>\n      <td>-0.788893</td>\n      <td>2.024489</td>\n      <td>0.528358</td>\n      <td>-1.092104</td>\n    </tr>\n    <tr>\n      <th>2</th>\n      <td>1.119425</td>\n      <td>-0.722647</td>\n      <td>0.413590</td>\n      <td>-0.217465</td>\n    </tr>\n  </tbody>\n</table>\n</div>"
     },
     "metadata": {},
     "execution_count": 26
    }
   ],
   "source": [
    "df.iloc[:3]"
   ]
  },
  {
   "source": [
    "Select all columns for a specific rows: (START point is INCLUDED, END point is EXCLUDED)"
   ],
   "cell_type": "markdown",
   "metadata": {}
  },
  {
   "cell_type": "code",
   "execution_count": 27,
   "metadata": {},
   "outputs": [
    {
     "output_type": "execute_result",
     "data": {
      "text/plain": [
       "          A         B         C         D\n",
       "2  1.119425 -0.722647  0.413590 -0.217465\n",
       "3 -0.181219  0.419951 -0.046761  1.851334\n",
       "4 -0.346059  2.014616 -0.228930 -0.396133"
      ],
      "text/html": "<div>\n<style scoped>\n    .dataframe tbody tr th:only-of-type {\n        vertical-align: middle;\n    }\n\n    .dataframe tbody tr th {\n        vertical-align: top;\n    }\n\n    .dataframe thead th {\n        text-align: right;\n    }\n</style>\n<table border=\"1\" class=\"dataframe\">\n  <thead>\n    <tr style=\"text-align: right;\">\n      <th></th>\n      <th>A</th>\n      <th>B</th>\n      <th>C</th>\n      <th>D</th>\n    </tr>\n  </thead>\n  <tbody>\n    <tr>\n      <th>2</th>\n      <td>1.119425</td>\n      <td>-0.722647</td>\n      <td>0.413590</td>\n      <td>-0.217465</td>\n    </tr>\n    <tr>\n      <th>3</th>\n      <td>-0.181219</td>\n      <td>0.419951</td>\n      <td>-0.046761</td>\n      <td>1.851334</td>\n    </tr>\n    <tr>\n      <th>4</th>\n      <td>-0.346059</td>\n      <td>2.014616</td>\n      <td>-0.228930</td>\n      <td>-0.396133</td>\n    </tr>\n  </tbody>\n</table>\n</div>"
     },
     "metadata": {},
     "execution_count": 27
    }
   ],
   "source": [
    "df.iloc[2:5]"
   ]
  },
  {
   "cell_type": "code",
   "execution_count": 28,
   "metadata": {},
   "outputs": [
    {
     "output_type": "execute_result",
     "data": {
      "text/plain": [
       "          A         B         C         D\n",
       "5  1.052242 -1.483241  0.083687 -0.951692\n",
       "6 -0.613545 -0.152512 -1.442896  0.083793\n",
       "7 -1.330718  0.096765 -0.466274 -0.155365"
      ],
      "text/html": "<div>\n<style scoped>\n    .dataframe tbody tr th:only-of-type {\n        vertical-align: middle;\n    }\n\n    .dataframe tbody tr th {\n        vertical-align: top;\n    }\n\n    .dataframe thead th {\n        text-align: right;\n    }\n</style>\n<table border=\"1\" class=\"dataframe\">\n  <thead>\n    <tr style=\"text-align: right;\">\n      <th></th>\n      <th>A</th>\n      <th>B</th>\n      <th>C</th>\n      <th>D</th>\n    </tr>\n  </thead>\n  <tbody>\n    <tr>\n      <th>5</th>\n      <td>1.052242</td>\n      <td>-1.483241</td>\n      <td>0.083687</td>\n      <td>-0.951692</td>\n    </tr>\n    <tr>\n      <th>6</th>\n      <td>-0.613545</td>\n      <td>-0.152512</td>\n      <td>-1.442896</td>\n      <td>0.083793</td>\n    </tr>\n    <tr>\n      <th>7</th>\n      <td>-1.330718</td>\n      <td>0.096765</td>\n      <td>-0.466274</td>\n      <td>-0.155365</td>\n    </tr>\n  </tbody>\n</table>\n</div>"
     },
     "metadata": {},
     "execution_count": 28
    }
   ],
   "source": [
    "df.iloc[5:]"
   ]
  },
  {
   "cell_type": "code",
   "execution_count": 29,
   "metadata": {},
   "outputs": [
    {
     "output_type": "execute_result",
     "data": {
      "text/plain": [
       "          C         D\n",
       "5  0.083687 -0.951692\n",
       "6 -1.442896  0.083793\n",
       "7 -0.466274 -0.155365"
      ],
      "text/html": "<div>\n<style scoped>\n    .dataframe tbody tr th:only-of-type {\n        vertical-align: middle;\n    }\n\n    .dataframe tbody tr th {\n        vertical-align: top;\n    }\n\n    .dataframe thead th {\n        text-align: right;\n    }\n</style>\n<table border=\"1\" class=\"dataframe\">\n  <thead>\n    <tr style=\"text-align: right;\">\n      <th></th>\n      <th>C</th>\n      <th>D</th>\n    </tr>\n  </thead>\n  <tbody>\n    <tr>\n      <th>5</th>\n      <td>0.083687</td>\n      <td>-0.951692</td>\n    </tr>\n    <tr>\n      <th>6</th>\n      <td>-1.442896</td>\n      <td>0.083793</td>\n    </tr>\n    <tr>\n      <th>7</th>\n      <td>-0.466274</td>\n      <td>-0.155365</td>\n    </tr>\n  </tbody>\n</table>\n</div>"
     },
     "metadata": {},
     "execution_count": 29
    }
   ],
   "source": [
    "# Integer Slicing\n",
    "df.iloc[5:,2:]"
   ]
  },
  {
   "cell_type": "code",
   "execution_count": 30,
   "metadata": {},
   "outputs": [
    {
     "output_type": "execute_result",
     "data": {
      "text/plain": [
       "          B         C\n",
       "2 -0.722647  0.413590\n",
       "3  0.419951 -0.046761"
      ],
      "text/html": "<div>\n<style scoped>\n    .dataframe tbody tr th:only-of-type {\n        vertical-align: middle;\n    }\n\n    .dataframe tbody tr th {\n        vertical-align: top;\n    }\n\n    .dataframe thead th {\n        text-align: right;\n    }\n</style>\n<table border=\"1\" class=\"dataframe\">\n  <thead>\n    <tr style=\"text-align: right;\">\n      <th></th>\n      <th>B</th>\n      <th>C</th>\n    </tr>\n  </thead>\n  <tbody>\n    <tr>\n      <th>2</th>\n      <td>-0.722647</td>\n      <td>0.413590</td>\n    </tr>\n    <tr>\n      <th>3</th>\n      <td>0.419951</td>\n      <td>-0.046761</td>\n    </tr>\n  </tbody>\n</table>\n</div>"
     },
     "metadata": {},
     "execution_count": 30
    }
   ],
   "source": [
    "df.iloc[2:4,1:3]"
   ]
  },
  {
   "cell_type": "code",
   "execution_count": 31,
   "metadata": {},
   "outputs": [
    {
     "output_type": "execute_result",
     "data": {
      "text/plain": [
       "          B         D\n",
       "2 -0.722647 -0.217465\n",
       "4  2.014616 -0.396133\n",
       "6 -0.152512  0.083793"
      ],
      "text/html": "<div>\n<style scoped>\n    .dataframe tbody tr th:only-of-type {\n        vertical-align: middle;\n    }\n\n    .dataframe tbody tr th {\n        vertical-align: top;\n    }\n\n    .dataframe thead th {\n        text-align: right;\n    }\n</style>\n<table border=\"1\" class=\"dataframe\">\n  <thead>\n    <tr style=\"text-align: right;\">\n      <th></th>\n      <th>B</th>\n      <th>D</th>\n    </tr>\n  </thead>\n  <tbody>\n    <tr>\n      <th>2</th>\n      <td>-0.722647</td>\n      <td>-0.217465</td>\n    </tr>\n    <tr>\n      <th>4</th>\n      <td>2.014616</td>\n      <td>-0.396133</td>\n    </tr>\n    <tr>\n      <th>6</th>\n      <td>-0.152512</td>\n      <td>0.083793</td>\n    </tr>\n  </tbody>\n</table>\n</div>"
     },
     "metadata": {},
     "execution_count": 31
    }
   ],
   "source": [
    "# Slicing through list of values\n",
    "df.iloc[[2, 4, 6], [1, 3]]"
   ]
  },
  {
   "cell_type": "code",
   "execution_count": 32,
   "metadata": {},
   "outputs": [
    {
     "output_type": "execute_result",
     "data": {
      "text/plain": [
       "          A         B         C         D\n",
       "1 -0.788893  2.024489  0.528358 -1.092104\n",
       "2  1.119425 -0.722647  0.413590 -0.217465"
      ],
      "text/html": "<div>\n<style scoped>\n    .dataframe tbody tr th:only-of-type {\n        vertical-align: middle;\n    }\n\n    .dataframe tbody tr th {\n        vertical-align: top;\n    }\n\n    .dataframe thead th {\n        text-align: right;\n    }\n</style>\n<table border=\"1\" class=\"dataframe\">\n  <thead>\n    <tr style=\"text-align: right;\">\n      <th></th>\n      <th>A</th>\n      <th>B</th>\n      <th>C</th>\n      <th>D</th>\n    </tr>\n  </thead>\n  <tbody>\n    <tr>\n      <th>1</th>\n      <td>-0.788893</td>\n      <td>2.024489</td>\n      <td>0.528358</td>\n      <td>-1.092104</td>\n    </tr>\n    <tr>\n      <th>2</th>\n      <td>1.119425</td>\n      <td>-0.722647</td>\n      <td>0.413590</td>\n      <td>-0.217465</td>\n    </tr>\n  </tbody>\n</table>\n</div>"
     },
     "metadata": {},
     "execution_count": 32
    }
   ],
   "source": [
    "# Slicing through list of values\n",
    "df.iloc[1:3,:]"
   ]
  },
  {
   "cell_type": "code",
   "execution_count": 33,
   "metadata": {},
   "outputs": [
    {
     "output_type": "execute_result",
     "data": {
      "text/plain": [
       "          A         B         C         D\n",
       "1 -0.788893  2.024489  0.528358 -1.092104\n",
       "2  1.119425 -0.722647  0.413590 -0.217465"
      ],
      "text/html": "<div>\n<style scoped>\n    .dataframe tbody tr th:only-of-type {\n        vertical-align: middle;\n    }\n\n    .dataframe tbody tr th {\n        vertical-align: top;\n    }\n\n    .dataframe thead th {\n        text-align: right;\n    }\n</style>\n<table border=\"1\" class=\"dataframe\">\n  <thead>\n    <tr style=\"text-align: right;\">\n      <th></th>\n      <th>A</th>\n      <th>B</th>\n      <th>C</th>\n      <th>D</th>\n    </tr>\n  </thead>\n  <tbody>\n    <tr>\n      <th>1</th>\n      <td>-0.788893</td>\n      <td>2.024489</td>\n      <td>0.528358</td>\n      <td>-1.092104</td>\n    </tr>\n    <tr>\n      <th>2</th>\n      <td>1.119425</td>\n      <td>-0.722647</td>\n      <td>0.413590</td>\n      <td>-0.217465</td>\n    </tr>\n  </tbody>\n</table>\n</div>"
     },
     "metadata": {},
     "execution_count": 33
    }
   ],
   "source": [
    "# Slicing through list of values\n",
    "df.iloc[1:3]"
   ]
  },
  {
   "cell_type": "code",
   "execution_count": 34,
   "metadata": {},
   "outputs": [
    {
     "output_type": "execute_result",
     "data": {
      "text/plain": [
       "          B         C\n",
       "0 -1.242159  0.628724\n",
       "1  2.024489  0.528358\n",
       "2 -0.722647  0.413590\n",
       "3  0.419951 -0.046761\n",
       "4  2.014616 -0.228930\n",
       "5 -1.483241  0.083687\n",
       "6 -0.152512 -1.442896\n",
       "7  0.096765 -0.466274"
      ],
      "text/html": "<div>\n<style scoped>\n    .dataframe tbody tr th:only-of-type {\n        vertical-align: middle;\n    }\n\n    .dataframe tbody tr th {\n        vertical-align: top;\n    }\n\n    .dataframe thead th {\n        text-align: right;\n    }\n</style>\n<table border=\"1\" class=\"dataframe\">\n  <thead>\n    <tr style=\"text-align: right;\">\n      <th></th>\n      <th>B</th>\n      <th>C</th>\n    </tr>\n  </thead>\n  <tbody>\n    <tr>\n      <th>0</th>\n      <td>-1.242159</td>\n      <td>0.628724</td>\n    </tr>\n    <tr>\n      <th>1</th>\n      <td>2.024489</td>\n      <td>0.528358</td>\n    </tr>\n    <tr>\n      <th>2</th>\n      <td>-0.722647</td>\n      <td>0.413590</td>\n    </tr>\n    <tr>\n      <th>3</th>\n      <td>0.419951</td>\n      <td>-0.046761</td>\n    </tr>\n    <tr>\n      <th>4</th>\n      <td>2.014616</td>\n      <td>-0.228930</td>\n    </tr>\n    <tr>\n      <th>5</th>\n      <td>-1.483241</td>\n      <td>0.083687</td>\n    </tr>\n    <tr>\n      <th>6</th>\n      <td>-0.152512</td>\n      <td>-1.442896</td>\n    </tr>\n    <tr>\n      <th>7</th>\n      <td>0.096765</td>\n      <td>-0.466274</td>\n    </tr>\n  </tbody>\n</table>\n</div>"
     },
     "metadata": {},
     "execution_count": 34
    }
   ],
   "source": [
    "# Slicing through list of values\n",
    "df.iloc[:,1:3]"
   ]
  },
  {
   "cell_type": "code",
   "execution_count": 35,
   "metadata": {},
   "outputs": [
    {
     "output_type": "execute_result",
     "data": {
      "text/plain": [
       "          B         D\n",
       "0 -1.242159 -2.441100\n",
       "1  2.024489 -1.092104\n",
       "2 -0.722647 -0.217465\n",
       "3  0.419951  1.851334\n",
       "4  2.014616 -0.396133\n",
       "5 -1.483241 -0.951692\n",
       "6 -0.152512  0.083793\n",
       "7  0.096765 -0.155365"
      ],
      "text/html": "<div>\n<style scoped>\n    .dataframe tbody tr th:only-of-type {\n        vertical-align: middle;\n    }\n\n    .dataframe tbody tr th {\n        vertical-align: top;\n    }\n\n    .dataframe thead th {\n        text-align: right;\n    }\n</style>\n<table border=\"1\" class=\"dataframe\">\n  <thead>\n    <tr style=\"text-align: right;\">\n      <th></th>\n      <th>B</th>\n      <th>D</th>\n    </tr>\n  </thead>\n  <tbody>\n    <tr>\n      <th>0</th>\n      <td>-1.242159</td>\n      <td>-2.441100</td>\n    </tr>\n    <tr>\n      <th>1</th>\n      <td>2.024489</td>\n      <td>-1.092104</td>\n    </tr>\n    <tr>\n      <th>2</th>\n      <td>-0.722647</td>\n      <td>-0.217465</td>\n    </tr>\n    <tr>\n      <th>3</th>\n      <td>0.419951</td>\n      <td>1.851334</td>\n    </tr>\n    <tr>\n      <th>4</th>\n      <td>2.014616</td>\n      <td>-0.396133</td>\n    </tr>\n    <tr>\n      <th>5</th>\n      <td>-1.483241</td>\n      <td>-0.951692</td>\n    </tr>\n    <tr>\n      <th>6</th>\n      <td>-0.152512</td>\n      <td>0.083793</td>\n    </tr>\n    <tr>\n      <th>7</th>\n      <td>0.096765</td>\n      <td>-0.155365</td>\n    </tr>\n  </tbody>\n</table>\n</div>"
     },
     "metadata": {},
     "execution_count": 35
    }
   ],
   "source": [
    "df.iloc[:,[1,3]]"
   ]
  }
 ]
}