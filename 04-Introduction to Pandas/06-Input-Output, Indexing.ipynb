{
 "metadata": {
  "language_info": {
   "codemirror_mode": {
    "name": "ipython",
    "version": 3
   },
   "file_extension": ".py",
   "mimetype": "text/x-python",
   "name": "python",
   "nbconvert_exporter": "python",
   "pygments_lexer": "ipython3",
   "version": "3.9.1-final"
  },
  "orig_nbformat": 2,
  "kernelspec": {
   "name": "python3",
   "display_name": "Python 3.9.1 64-bit",
   "metadata": {
    "interpreter": {
     "hash": "63fd5069d213b44bf678585dea6b12cceca9941eaf7f819626cde1f2670de90d"
    }
   }
  }
 },
 "nbformat": 4,
 "nbformat_minor": 2,
 "cells": [
  {
   "source": [
    "# Pandas Input/Output"
   ],
   "cell_type": "markdown",
   "metadata": {}
  },
  {
   "cell_type": "code",
   "execution_count": 1,
   "metadata": {},
   "outputs": [],
   "source": [
    "import numpy as np\n",
    "import pandas as pd"
   ]
  },
  {
   "cell_type": "code",
   "execution_count": 2,
   "metadata": {},
   "outputs": [
    {
     "output_type": "stream",
     "name": "stdout",
     "text": [
      "(194, 2)\n"
     ]
    },
    {
     "output_type": "execute_result",
     "data": {
      "text/plain": [
       "   Country  Region\n",
       "0  Algeria  AFRICA\n",
       "1   Angola  AFRICA"
      ],
      "text/html": "<div>\n<style scoped>\n    .dataframe tbody tr th:only-of-type {\n        vertical-align: middle;\n    }\n\n    .dataframe tbody tr th {\n        vertical-align: top;\n    }\n\n    .dataframe thead th {\n        text-align: right;\n    }\n</style>\n<table border=\"1\" class=\"dataframe\">\n  <thead>\n    <tr style=\"text-align: right;\">\n      <th></th>\n      <th>Country</th>\n      <th>Region</th>\n    </tr>\n  </thead>\n  <tbody>\n    <tr>\n      <th>0</th>\n      <td>Algeria</td>\n      <td>AFRICA</td>\n    </tr>\n    <tr>\n      <th>1</th>\n      <td>Angola</td>\n      <td>AFRICA</td>\n    </tr>\n  </tbody>\n</table>\n</div>"
     },
     "metadata": {},
     "execution_count": 2
    }
   ],
   "source": [
    "# read_csv: reads data from the csv files and creates a DataFrame object.\n",
    "df = pd.read_csv('https://raw.githubusercontent.com/cs109/2014_data/master/countries.csv')\n",
    "print(df.shape)\n",
    "df.head(2)"
   ]
  },
  {
   "cell_type": "code",
   "execution_count": 3,
   "metadata": {},
   "outputs": [],
   "source": [
    "df.to_csv('countries.csv')"
   ]
  },
  {
   "cell_type": "code",
   "execution_count": 4,
   "metadata": {
    "tags": []
   },
   "outputs": [
    {
     "output_type": "stream",
     "name": "stdout",
     "text": [
      "(194, 3)\n"
     ]
    },
    {
     "output_type": "execute_result",
     "data": {
      "text/plain": [
       "   Unnamed: 0  Country  Region\n",
       "0           0  Algeria  AFRICA\n",
       "1           1   Angola  AFRICA"
      ],
      "text/html": "<div>\n<style scoped>\n    .dataframe tbody tr th:only-of-type {\n        vertical-align: middle;\n    }\n\n    .dataframe tbody tr th {\n        vertical-align: top;\n    }\n\n    .dataframe thead th {\n        text-align: right;\n    }\n</style>\n<table border=\"1\" class=\"dataframe\">\n  <thead>\n    <tr style=\"text-align: right;\">\n      <th></th>\n      <th>Unnamed: 0</th>\n      <th>Country</th>\n      <th>Region</th>\n    </tr>\n  </thead>\n  <tbody>\n    <tr>\n      <th>0</th>\n      <td>0</td>\n      <td>Algeria</td>\n      <td>AFRICA</td>\n    </tr>\n    <tr>\n      <th>1</th>\n      <td>1</td>\n      <td>Angola</td>\n      <td>AFRICA</td>\n    </tr>\n  </tbody>\n</table>\n</div>"
     },
     "metadata": {},
     "execution_count": 4
    }
   ],
   "source": [
    "df1 = pd.read_csv('countries.csv')\n",
    "print(df1.shape)\n",
    "df1.head(2)"
   ]
  },
  {
   "cell_type": "code",
   "execution_count": 5,
   "metadata": {},
   "outputs": [
    {
     "output_type": "display_data",
     "data": {
      "text/plain": "   Country  Region\n0  Algeria  AFRICA\n1   Angola  AFRICA",
      "text/html": "<div>\n<style scoped>\n    .dataframe tbody tr th:only-of-type {\n        vertical-align: middle;\n    }\n\n    .dataframe tbody tr th {\n        vertical-align: top;\n    }\n\n    .dataframe thead th {\n        text-align: right;\n    }\n</style>\n<table border=\"1\" class=\"dataframe\">\n  <thead>\n    <tr style=\"text-align: right;\">\n      <th></th>\n      <th>Country</th>\n      <th>Region</th>\n    </tr>\n  </thead>\n  <tbody>\n    <tr>\n      <th>0</th>\n      <td>Algeria</td>\n      <td>AFRICA</td>\n    </tr>\n    <tr>\n      <th>1</th>\n      <td>Angola</td>\n      <td>AFRICA</td>\n    </tr>\n  </tbody>\n</table>\n</div>"
     },
     "metadata": {}
    },
    {
     "output_type": "display_data",
     "data": {
      "text/plain": "   Unnamed: 0  Country  Region\n0           0  Algeria  AFRICA\n1           1   Angola  AFRICA",
      "text/html": "<div>\n<style scoped>\n    .dataframe tbody tr th:only-of-type {\n        vertical-align: middle;\n    }\n\n    .dataframe tbody tr th {\n        vertical-align: top;\n    }\n\n    .dataframe thead th {\n        text-align: right;\n    }\n</style>\n<table border=\"1\" class=\"dataframe\">\n  <thead>\n    <tr style=\"text-align: right;\">\n      <th></th>\n      <th>Unnamed: 0</th>\n      <th>Country</th>\n      <th>Region</th>\n    </tr>\n  </thead>\n  <tbody>\n    <tr>\n      <th>0</th>\n      <td>0</td>\n      <td>Algeria</td>\n      <td>AFRICA</td>\n    </tr>\n    <tr>\n      <th>1</th>\n      <td>1</td>\n      <td>Angola</td>\n      <td>AFRICA</td>\n    </tr>\n  </tbody>\n</table>\n</div>"
     },
     "metadata": {}
    }
   ],
   "source": [
    "display(df.head(2))\n",
    "display(df1.head(2))"
   ]
  },
  {
   "cell_type": "code",
   "execution_count": 6,
   "metadata": {},
   "outputs": [],
   "source": [
    "# The Unnamed column is the index column. To avoit it:\n",
    "df.to_csv('countries1.csv',index=False)"
   ]
  },
  {
   "cell_type": "code",
   "execution_count": 7,
   "metadata": {},
   "outputs": [
    {
     "output_type": "execute_result",
     "data": {
      "text/plain": [
       "   Country  Region\n",
       "0  Algeria  AFRICA\n",
       "1   Angola  AFRICA"
      ],
      "text/html": "<div>\n<style scoped>\n    .dataframe tbody tr th:only-of-type {\n        vertical-align: middle;\n    }\n\n    .dataframe tbody tr th {\n        vertical-align: top;\n    }\n\n    .dataframe thead th {\n        text-align: right;\n    }\n</style>\n<table border=\"1\" class=\"dataframe\">\n  <thead>\n    <tr style=\"text-align: right;\">\n      <th></th>\n      <th>Country</th>\n      <th>Region</th>\n    </tr>\n  </thead>\n  <tbody>\n    <tr>\n      <th>0</th>\n      <td>Algeria</td>\n      <td>AFRICA</td>\n    </tr>\n    <tr>\n      <th>1</th>\n      <td>Angola</td>\n      <td>AFRICA</td>\n    </tr>\n  </tbody>\n</table>\n</div>"
     },
     "metadata": {},
     "execution_count": 7
    }
   ],
   "source": [
    "df2 = pd.read_csv('countries1.csv')\n",
    "df2.head(2)"
   ]
  },
  {
   "cell_type": "code",
   "execution_count": 8,
   "metadata": {},
   "outputs": [
    {
     "output_type": "display_data",
     "data": {
      "text/plain": "   Country  Region\n0  Algeria  AFRICA\n1   Angola  AFRICA",
      "text/html": "<div>\n<style scoped>\n    .dataframe tbody tr th:only-of-type {\n        vertical-align: middle;\n    }\n\n    .dataframe tbody tr th {\n        vertical-align: top;\n    }\n\n    .dataframe thead th {\n        text-align: right;\n    }\n</style>\n<table border=\"1\" class=\"dataframe\">\n  <thead>\n    <tr style=\"text-align: right;\">\n      <th></th>\n      <th>Country</th>\n      <th>Region</th>\n    </tr>\n  </thead>\n  <tbody>\n    <tr>\n      <th>0</th>\n      <td>Algeria</td>\n      <td>AFRICA</td>\n    </tr>\n    <tr>\n      <th>1</th>\n      <td>Angola</td>\n      <td>AFRICA</td>\n    </tr>\n  </tbody>\n</table>\n</div>"
     },
     "metadata": {}
    },
    {
     "output_type": "display_data",
     "data": {
      "text/plain": "   Unnamed: 0  Country  Region\n0           0  Algeria  AFRICA\n1           1   Angola  AFRICA",
      "text/html": "<div>\n<style scoped>\n    .dataframe tbody tr th:only-of-type {\n        vertical-align: middle;\n    }\n\n    .dataframe tbody tr th {\n        vertical-align: top;\n    }\n\n    .dataframe thead th {\n        text-align: right;\n    }\n</style>\n<table border=\"1\" class=\"dataframe\">\n  <thead>\n    <tr style=\"text-align: right;\">\n      <th></th>\n      <th>Unnamed: 0</th>\n      <th>Country</th>\n      <th>Region</th>\n    </tr>\n  </thead>\n  <tbody>\n    <tr>\n      <th>0</th>\n      <td>0</td>\n      <td>Algeria</td>\n      <td>AFRICA</td>\n    </tr>\n    <tr>\n      <th>1</th>\n      <td>1</td>\n      <td>Angola</td>\n      <td>AFRICA</td>\n    </tr>\n  </tbody>\n</table>\n</div>"
     },
     "metadata": {}
    }
   ],
   "source": [
    "display(df.head(2))\n",
    "display(df1.head(2))"
   ]
  },
  {
   "cell_type": "code",
   "execution_count": 9,
   "metadata": {
    "tags": []
   },
   "outputs": [],
   "source": [
    "#pip install xlsxwriter"
   ]
  },
  {
   "cell_type": "code",
   "execution_count": 10,
   "metadata": {},
   "outputs": [],
   "source": [
    "import xlsxwriter"
   ]
  },
  {
   "cell_type": "code",
   "execution_count": 11,
   "metadata": {},
   "outputs": [],
   "source": [
    "writer = pd.ExcelWriter('countries.xlsx', engine='xlsxwriter')\n",
    "df.to_excel(writer,sheet_name='WithoutIndex')\n",
    "df1.to_excel(writer,sheet_name='WithIndex')\n",
    "writer.save()"
   ]
  },
  {
   "cell_type": "code",
   "execution_count": 12,
   "metadata": {},
   "outputs": [],
   "source": [
    "df.to_json('countries.json')"
   ]
  },
  {
   "cell_type": "code",
   "execution_count": 13,
   "metadata": {},
   "outputs": [
    {
     "output_type": "execute_result",
     "data": {
      "text/plain": [
       "   Country  Region\n",
       "0  Algeria  AFRICA\n",
       "1   Angola  AFRICA"
      ],
      "text/html": "<div>\n<style scoped>\n    .dataframe tbody tr th:only-of-type {\n        vertical-align: middle;\n    }\n\n    .dataframe tbody tr th {\n        vertical-align: top;\n    }\n\n    .dataframe thead th {\n        text-align: right;\n    }\n</style>\n<table border=\"1\" class=\"dataframe\">\n  <thead>\n    <tr style=\"text-align: right;\">\n      <th></th>\n      <th>Country</th>\n      <th>Region</th>\n    </tr>\n  </thead>\n  <tbody>\n    <tr>\n      <th>0</th>\n      <td>Algeria</td>\n      <td>AFRICA</td>\n    </tr>\n    <tr>\n      <th>1</th>\n      <td>Angola</td>\n      <td>AFRICA</td>\n    </tr>\n  </tbody>\n</table>\n</div>"
     },
     "metadata": {},
     "execution_count": 13
    }
   ],
   "source": [
    "dfj = pd.read_json('countries.json')\n",
    "dfj.head(2)"
   ]
  },
  {
   "source": [
    "## Indexing and selecting data"
   ],
   "cell_type": "markdown",
   "metadata": {}
  },
  {
   "source": [
    "The Python and NumPy indexing operators **`[ ]`** and attribute operator **`.`** provide quick and easy access to Pandas data structures across a wide range of use cases. However, since the type of the data to be accessed isn’t known in advance, directly using standard operators has some optimization limits. "
   ],
   "cell_type": "markdown",
   "metadata": {}
  },
  {
   "cell_type": "code",
   "execution_count": 14,
   "metadata": {},
   "outputs": [
    {
     "output_type": "execute_result",
     "data": {
      "text/plain": [
       "          A         B         C         D\n",
       "a -0.824068  0.277242  0.957826  1.029719\n",
       "b  1.390744 -0.053485  0.524142  0.613801\n",
       "c  0.256386  0.650569  0.299202 -0.581560\n",
       "d  0.147646 -1.309497 -0.763611  0.152258\n",
       "e  0.775165 -0.020633  0.041341 -0.703040\n",
       "f -0.282620  0.678125  0.177785  0.883451\n",
       "g  0.854318 -0.120538  0.247675  2.003215\n",
       "h -1.056350 -0.848882  0.247997 -1.660345"
      ],
      "text/html": "<div>\n<style scoped>\n    .dataframe tbody tr th:only-of-type {\n        vertical-align: middle;\n    }\n\n    .dataframe tbody tr th {\n        vertical-align: top;\n    }\n\n    .dataframe thead th {\n        text-align: right;\n    }\n</style>\n<table border=\"1\" class=\"dataframe\">\n  <thead>\n    <tr style=\"text-align: right;\">\n      <th></th>\n      <th>A</th>\n      <th>B</th>\n      <th>C</th>\n      <th>D</th>\n    </tr>\n  </thead>\n  <tbody>\n    <tr>\n      <th>a</th>\n      <td>-0.824068</td>\n      <td>0.277242</td>\n      <td>0.957826</td>\n      <td>1.029719</td>\n    </tr>\n    <tr>\n      <th>b</th>\n      <td>1.390744</td>\n      <td>-0.053485</td>\n      <td>0.524142</td>\n      <td>0.613801</td>\n    </tr>\n    <tr>\n      <th>c</th>\n      <td>0.256386</td>\n      <td>0.650569</td>\n      <td>0.299202</td>\n      <td>-0.581560</td>\n    </tr>\n    <tr>\n      <th>d</th>\n      <td>0.147646</td>\n      <td>-1.309497</td>\n      <td>-0.763611</td>\n      <td>0.152258</td>\n    </tr>\n    <tr>\n      <th>e</th>\n      <td>0.775165</td>\n      <td>-0.020633</td>\n      <td>0.041341</td>\n      <td>-0.703040</td>\n    </tr>\n    <tr>\n      <th>f</th>\n      <td>-0.282620</td>\n      <td>0.678125</td>\n      <td>0.177785</td>\n      <td>0.883451</td>\n    </tr>\n    <tr>\n      <th>g</th>\n      <td>0.854318</td>\n      <td>-0.120538</td>\n      <td>0.247675</td>\n      <td>2.003215</td>\n    </tr>\n    <tr>\n      <th>h</th>\n      <td>-1.056350</td>\n      <td>-0.848882</td>\n      <td>0.247997</td>\n      <td>-1.660345</td>\n    </tr>\n  </tbody>\n</table>\n</div>"
     },
     "metadata": {},
     "execution_count": 14
    }
   ],
   "source": [
    "df = pd.DataFrame(np.random.randn(8, 4),\n",
    "index = ['a','b','c','d','e','f','g','h'], columns = ['A', 'B', 'C', 'D'])\n",
    "df"
   ]
  },
  {
   "cell_type": "code",
   "execution_count": 15,
   "metadata": {},
   "outputs": [
    {
     "output_type": "execute_result",
     "data": {
      "text/plain": [
       "a   -0.824068\n",
       "b    1.390744\n",
       "c    0.256386\n",
       "d    0.147646\n",
       "e    0.775165\n",
       "f   -0.282620\n",
       "g    0.854318\n",
       "h   -1.056350\n",
       "Name: A, dtype: float64"
      ]
     },
     "metadata": {},
     "execution_count": 15
    }
   ],
   "source": [
    "# select all rows for a specific column\n",
    "df.loc[:,'A']"
   ]
  },
  {
   "cell_type": "code",
   "execution_count": 16,
   "metadata": {},
   "outputs": [
    {
     "output_type": "execute_result",
     "data": {
      "text/plain": [
       "a   -0.824068\n",
       "b    1.390744\n",
       "c    0.256386\n",
       "d    0.147646\n",
       "e    0.775165\n",
       "f   -0.282620\n",
       "g    0.854318\n",
       "h   -1.056350\n",
       "Name: A, dtype: float64"
      ]
     },
     "metadata": {},
     "execution_count": 16
    }
   ],
   "source": [
    "# Other way\n",
    "df['A']"
   ]
  },
  {
   "cell_type": "code",
   "execution_count": 17,
   "metadata": {},
   "outputs": [
    {
     "output_type": "execute_result",
     "data": {
      "text/plain": [
       "          A         D\n",
       "a -0.824068  1.029719\n",
       "b  1.390744  0.613801\n",
       "c  0.256386 -0.581560\n",
       "d  0.147646  0.152258\n",
       "e  0.775165 -0.703040\n",
       "f -0.282620  0.883451\n",
       "g  0.854318  2.003215\n",
       "h -1.056350 -1.660345"
      ],
      "text/html": "<div>\n<style scoped>\n    .dataframe tbody tr th:only-of-type {\n        vertical-align: middle;\n    }\n\n    .dataframe tbody tr th {\n        vertical-align: top;\n    }\n\n    .dataframe thead th {\n        text-align: right;\n    }\n</style>\n<table border=\"1\" class=\"dataframe\">\n  <thead>\n    <tr style=\"text-align: right;\">\n      <th></th>\n      <th>A</th>\n      <th>D</th>\n    </tr>\n  </thead>\n  <tbody>\n    <tr>\n      <th>a</th>\n      <td>-0.824068</td>\n      <td>1.029719</td>\n    </tr>\n    <tr>\n      <th>b</th>\n      <td>1.390744</td>\n      <td>0.613801</td>\n    </tr>\n    <tr>\n      <th>c</th>\n      <td>0.256386</td>\n      <td>-0.581560</td>\n    </tr>\n    <tr>\n      <th>d</th>\n      <td>0.147646</td>\n      <td>0.152258</td>\n    </tr>\n    <tr>\n      <th>e</th>\n      <td>0.775165</td>\n      <td>-0.703040</td>\n    </tr>\n    <tr>\n      <th>f</th>\n      <td>-0.282620</td>\n      <td>0.883451</td>\n    </tr>\n    <tr>\n      <th>g</th>\n      <td>0.854318</td>\n      <td>2.003215</td>\n    </tr>\n    <tr>\n      <th>h</th>\n      <td>-1.056350</td>\n      <td>-1.660345</td>\n    </tr>\n  </tbody>\n</table>\n</div>"
     },
     "metadata": {},
     "execution_count": 17
    }
   ],
   "source": [
    "# select all rows for two specific column\n",
    "df.loc[:,['A','D']]"
   ]
  },
  {
   "cell_type": "code",
   "execution_count": 18,
   "metadata": {},
   "outputs": [
    {
     "output_type": "execute_result",
     "data": {
      "text/plain": [
       "          A         D\n",
       "a -0.824068  1.029719\n",
       "b  1.390744  0.613801\n",
       "c  0.256386 -0.581560\n",
       "d  0.147646  0.152258\n",
       "e  0.775165 -0.703040\n",
       "f -0.282620  0.883451\n",
       "g  0.854318  2.003215\n",
       "h -1.056350 -1.660345"
      ],
      "text/html": "<div>\n<style scoped>\n    .dataframe tbody tr th:only-of-type {\n        vertical-align: middle;\n    }\n\n    .dataframe tbody tr th {\n        vertical-align: top;\n    }\n\n    .dataframe thead th {\n        text-align: right;\n    }\n</style>\n<table border=\"1\" class=\"dataframe\">\n  <thead>\n    <tr style=\"text-align: right;\">\n      <th></th>\n      <th>A</th>\n      <th>D</th>\n    </tr>\n  </thead>\n  <tbody>\n    <tr>\n      <th>a</th>\n      <td>-0.824068</td>\n      <td>1.029719</td>\n    </tr>\n    <tr>\n      <th>b</th>\n      <td>1.390744</td>\n      <td>0.613801</td>\n    </tr>\n    <tr>\n      <th>c</th>\n      <td>0.256386</td>\n      <td>-0.581560</td>\n    </tr>\n    <tr>\n      <th>d</th>\n      <td>0.147646</td>\n      <td>0.152258</td>\n    </tr>\n    <tr>\n      <th>e</th>\n      <td>0.775165</td>\n      <td>-0.703040</td>\n    </tr>\n    <tr>\n      <th>f</th>\n      <td>-0.282620</td>\n      <td>0.883451</td>\n    </tr>\n    <tr>\n      <th>g</th>\n      <td>0.854318</td>\n      <td>2.003215</td>\n    </tr>\n    <tr>\n      <th>h</th>\n      <td>-1.056350</td>\n      <td>-1.660345</td>\n    </tr>\n  </tbody>\n</table>\n</div>"
     },
     "metadata": {},
     "execution_count": 18
    }
   ],
   "source": [
    "# other way\n",
    "df[['A','D']]"
   ]
  },
  {
   "cell_type": "code",
   "execution_count": 19,
   "metadata": {},
   "outputs": [
    {
     "output_type": "execute_result",
     "data": {
      "text/plain": [
       "          A         D\n",
       "a -0.824068  1.029719\n",
       "b  1.390744  0.613801\n",
       "f -0.282620  0.883451\n",
       "h -1.056350 -1.660345"
      ],
      "text/html": "<div>\n<style scoped>\n    .dataframe tbody tr th:only-of-type {\n        vertical-align: middle;\n    }\n\n    .dataframe tbody tr th {\n        vertical-align: top;\n    }\n\n    .dataframe thead th {\n        text-align: right;\n    }\n</style>\n<table border=\"1\" class=\"dataframe\">\n  <thead>\n    <tr style=\"text-align: right;\">\n      <th></th>\n      <th>A</th>\n      <th>D</th>\n    </tr>\n  </thead>\n  <tbody>\n    <tr>\n      <th>a</th>\n      <td>-0.824068</td>\n      <td>1.029719</td>\n    </tr>\n    <tr>\n      <th>b</th>\n      <td>1.390744</td>\n      <td>0.613801</td>\n    </tr>\n    <tr>\n      <th>f</th>\n      <td>-0.282620</td>\n      <td>0.883451</td>\n    </tr>\n    <tr>\n      <th>h</th>\n      <td>-1.056350</td>\n      <td>-1.660345</td>\n    </tr>\n  </tbody>\n</table>\n</div>"
     },
     "metadata": {},
     "execution_count": 19
    }
   ],
   "source": [
    "# Select few rows for multiple columns\n",
    "df.loc[['a','b','f','h'],['A','D']]"
   ]
  },
  {
   "cell_type": "code",
   "execution_count": 20,
   "metadata": {},
   "outputs": [
    {
     "output_type": "execute_result",
     "data": {
      "text/plain": [
       "          A         B         C         D\n",
       "a -0.824068  0.277242  0.957826  1.029719\n",
       "b  1.390744 -0.053485  0.524142  0.613801\n",
       "f -0.282620  0.678125  0.177785  0.883451\n",
       "h -1.056350 -0.848882  0.247997 -1.660345"
      ],
      "text/html": "<div>\n<style scoped>\n    .dataframe tbody tr th:only-of-type {\n        vertical-align: middle;\n    }\n\n    .dataframe tbody tr th {\n        vertical-align: top;\n    }\n\n    .dataframe thead th {\n        text-align: right;\n    }\n</style>\n<table border=\"1\" class=\"dataframe\">\n  <thead>\n    <tr style=\"text-align: right;\">\n      <th></th>\n      <th>A</th>\n      <th>B</th>\n      <th>C</th>\n      <th>D</th>\n    </tr>\n  </thead>\n  <tbody>\n    <tr>\n      <th>a</th>\n      <td>-0.824068</td>\n      <td>0.277242</td>\n      <td>0.957826</td>\n      <td>1.029719</td>\n    </tr>\n    <tr>\n      <th>b</th>\n      <td>1.390744</td>\n      <td>-0.053485</td>\n      <td>0.524142</td>\n      <td>0.613801</td>\n    </tr>\n    <tr>\n      <th>f</th>\n      <td>-0.282620</td>\n      <td>0.678125</td>\n      <td>0.177785</td>\n      <td>0.883451</td>\n    </tr>\n    <tr>\n      <th>h</th>\n      <td>-1.056350</td>\n      <td>-0.848882</td>\n      <td>0.247997</td>\n      <td>-1.660345</td>\n    </tr>\n  </tbody>\n</table>\n</div>"
     },
     "metadata": {},
     "execution_count": 20
    }
   ],
   "source": [
    "# Select few rows for all columns\n",
    "df.loc[['a','b','f','h']]"
   ]
  },
  {
   "cell_type": "code",
   "execution_count": 21,
   "metadata": {},
   "outputs": [
    {
     "output_type": "execute_result",
     "data": {
      "text/plain": [
       "          A         B         C         D\n",
       "a -0.824068  0.277242  0.957826  1.029719\n",
       "b  1.390744 -0.053485  0.524142  0.613801\n",
       "c  0.256386  0.650569  0.299202 -0.581560\n",
       "d  0.147646 -1.309497 -0.763611  0.152258"
      ],
      "text/html": "<div>\n<style scoped>\n    .dataframe tbody tr th:only-of-type {\n        vertical-align: middle;\n    }\n\n    .dataframe tbody tr th {\n        vertical-align: top;\n    }\n\n    .dataframe thead th {\n        text-align: right;\n    }\n</style>\n<table border=\"1\" class=\"dataframe\">\n  <thead>\n    <tr style=\"text-align: right;\">\n      <th></th>\n      <th>A</th>\n      <th>B</th>\n      <th>C</th>\n      <th>D</th>\n    </tr>\n  </thead>\n  <tbody>\n    <tr>\n      <th>a</th>\n      <td>-0.824068</td>\n      <td>0.277242</td>\n      <td>0.957826</td>\n      <td>1.029719</td>\n    </tr>\n    <tr>\n      <th>b</th>\n      <td>1.390744</td>\n      <td>-0.053485</td>\n      <td>0.524142</td>\n      <td>0.613801</td>\n    </tr>\n    <tr>\n      <th>c</th>\n      <td>0.256386</td>\n      <td>0.650569</td>\n      <td>0.299202</td>\n      <td>-0.581560</td>\n    </tr>\n    <tr>\n      <th>d</th>\n      <td>0.147646</td>\n      <td>-1.309497</td>\n      <td>-0.763611</td>\n      <td>0.152258</td>\n    </tr>\n  </tbody>\n</table>\n</div>"
     },
     "metadata": {},
     "execution_count": 21
    }
   ],
   "source": [
    "# Select range of rows for all columns\n",
    "df.loc['a':'d']"
   ]
  },
  {
   "cell_type": "code",
   "execution_count": 22,
   "metadata": {},
   "outputs": [
    {
     "output_type": "execute_result",
     "data": {
      "text/plain": [
       "A   -0.824068\n",
       "B    0.277242\n",
       "C    0.957826\n",
       "D    1.029719\n",
       "Name: a, dtype: float64"
      ]
     },
     "metadata": {},
     "execution_count": 22
    }
   ],
   "source": [
    "# getting all values with index 'a'\n",
    "df.loc['a']"
   ]
  },
  {
   "cell_type": "code",
   "execution_count": 23,
   "metadata": {},
   "outputs": [
    {
     "output_type": "execute_result",
     "data": {
      "text/plain": [
       "A    False\n",
       "B     True\n",
       "C     True\n",
       "D     True\n",
       "Name: a, dtype: bool"
      ]
     },
     "metadata": {},
     "execution_count": 23
    }
   ],
   "source": [
    "# getting values with a boolean array\n",
    "df.loc['a'] > 0"
   ]
  },
  {
   "source": [
    "`.iloc()`: get purely integer based indexing. Remember these are 0-based indexing.\n",
    "\n",
    "It can only index by location with a integer, integer slice (START point is INCLUDED, END point is EXCLUDED), listlike of integers, boolean array"
   ],
   "cell_type": "markdown",
   "metadata": {}
  },
  {
   "cell_type": "code",
   "execution_count": 24,
   "metadata": {},
   "outputs": [],
   "source": [
    "df = pd.DataFrame(np.random.randn(8, 4),columns = ['A', 'B', 'C', 'D'])"
   ]
  },
  {
   "cell_type": "code",
   "execution_count": 25,
   "metadata": {},
   "outputs": [
    {
     "output_type": "execute_result",
     "data": {
      "text/plain": [
       "          A         B         C         D\n",
       "0 -1.071311  0.625029  0.056439 -1.314934\n",
       "1 -1.069284  1.018209 -1.287638  0.469411\n",
       "2  0.737471  0.339346  0.695109  0.989799"
      ],
      "text/html": "<div>\n<style scoped>\n    .dataframe tbody tr th:only-of-type {\n        vertical-align: middle;\n    }\n\n    .dataframe tbody tr th {\n        vertical-align: top;\n    }\n\n    .dataframe thead th {\n        text-align: right;\n    }\n</style>\n<table border=\"1\" class=\"dataframe\">\n  <thead>\n    <tr style=\"text-align: right;\">\n      <th></th>\n      <th>A</th>\n      <th>B</th>\n      <th>C</th>\n      <th>D</th>\n    </tr>\n  </thead>\n  <tbody>\n    <tr>\n      <th>0</th>\n      <td>-1.071311</td>\n      <td>0.625029</td>\n      <td>0.056439</td>\n      <td>-1.314934</td>\n    </tr>\n    <tr>\n      <th>1</th>\n      <td>-1.069284</td>\n      <td>1.018209</td>\n      <td>-1.287638</td>\n      <td>0.469411</td>\n    </tr>\n    <tr>\n      <th>2</th>\n      <td>0.737471</td>\n      <td>0.339346</td>\n      <td>0.695109</td>\n      <td>0.989799</td>\n    </tr>\n  </tbody>\n</table>\n</div>"
     },
     "metadata": {},
     "execution_count": 25
    }
   ],
   "source": [
    "# select all columns for a specific rows\n",
    "df.iloc[:3]"
   ]
  },
  {
   "cell_type": "code",
   "execution_count": 26,
   "metadata": {},
   "outputs": [
    {
     "output_type": "execute_result",
     "data": {
      "text/plain": [
       "          A         B         C         D\n",
       "2  0.737471  0.339346  0.695109  0.989799\n",
       "3 -0.132159 -0.862307 -0.715084 -0.220501\n",
       "4  0.963155  0.593142  0.253040 -0.920040"
      ],
      "text/html": "<div>\n<style scoped>\n    .dataframe tbody tr th:only-of-type {\n        vertical-align: middle;\n    }\n\n    .dataframe tbody tr th {\n        vertical-align: top;\n    }\n\n    .dataframe thead th {\n        text-align: right;\n    }\n</style>\n<table border=\"1\" class=\"dataframe\">\n  <thead>\n    <tr style=\"text-align: right;\">\n      <th></th>\n      <th>A</th>\n      <th>B</th>\n      <th>C</th>\n      <th>D</th>\n    </tr>\n  </thead>\n  <tbody>\n    <tr>\n      <th>2</th>\n      <td>0.737471</td>\n      <td>0.339346</td>\n      <td>0.695109</td>\n      <td>0.989799</td>\n    </tr>\n    <tr>\n      <th>3</th>\n      <td>-0.132159</td>\n      <td>-0.862307</td>\n      <td>-0.715084</td>\n      <td>-0.220501</td>\n    </tr>\n    <tr>\n      <th>4</th>\n      <td>0.963155</td>\n      <td>0.593142</td>\n      <td>0.253040</td>\n      <td>-0.920040</td>\n    </tr>\n  </tbody>\n</table>\n</div>"
     },
     "metadata": {},
     "execution_count": 26
    }
   ],
   "source": [
    "# select all columns for a specific rows (START point is INCLUDED, END point is EXCLUDED)\n",
    "df.iloc[2:5]"
   ]
  },
  {
   "cell_type": "code",
   "execution_count": 27,
   "metadata": {},
   "outputs": [
    {
     "output_type": "execute_result",
     "data": {
      "text/plain": [
       "          A         B         C         D\n",
       "5 -0.772041  0.768257  1.066481 -1.022398\n",
       "6  2.010120 -1.116248 -0.196649  0.015375\n",
       "7 -0.651416 -0.715123  1.457635  1.074149"
      ],
      "text/html": "<div>\n<style scoped>\n    .dataframe tbody tr th:only-of-type {\n        vertical-align: middle;\n    }\n\n    .dataframe tbody tr th {\n        vertical-align: top;\n    }\n\n    .dataframe thead th {\n        text-align: right;\n    }\n</style>\n<table border=\"1\" class=\"dataframe\">\n  <thead>\n    <tr style=\"text-align: right;\">\n      <th></th>\n      <th>A</th>\n      <th>B</th>\n      <th>C</th>\n      <th>D</th>\n    </tr>\n  </thead>\n  <tbody>\n    <tr>\n      <th>5</th>\n      <td>-0.772041</td>\n      <td>0.768257</td>\n      <td>1.066481</td>\n      <td>-1.022398</td>\n    </tr>\n    <tr>\n      <th>6</th>\n      <td>2.010120</td>\n      <td>-1.116248</td>\n      <td>-0.196649</td>\n      <td>0.015375</td>\n    </tr>\n    <tr>\n      <th>7</th>\n      <td>-0.651416</td>\n      <td>-0.715123</td>\n      <td>1.457635</td>\n      <td>1.074149</td>\n    </tr>\n  </tbody>\n</table>\n</div>"
     },
     "metadata": {},
     "execution_count": 27
    }
   ],
   "source": [
    "df.iloc[5:]"
   ]
  },
  {
   "cell_type": "code",
   "execution_count": 28,
   "metadata": {},
   "outputs": [
    {
     "output_type": "execute_result",
     "data": {
      "text/plain": [
       "          C         D\n",
       "5  1.066481 -1.022398\n",
       "6 -0.196649  0.015375\n",
       "7  1.457635  1.074149"
      ],
      "text/html": "<div>\n<style scoped>\n    .dataframe tbody tr th:only-of-type {\n        vertical-align: middle;\n    }\n\n    .dataframe tbody tr th {\n        vertical-align: top;\n    }\n\n    .dataframe thead th {\n        text-align: right;\n    }\n</style>\n<table border=\"1\" class=\"dataframe\">\n  <thead>\n    <tr style=\"text-align: right;\">\n      <th></th>\n      <th>C</th>\n      <th>D</th>\n    </tr>\n  </thead>\n  <tbody>\n    <tr>\n      <th>5</th>\n      <td>1.066481</td>\n      <td>-1.022398</td>\n    </tr>\n    <tr>\n      <th>6</th>\n      <td>-0.196649</td>\n      <td>0.015375</td>\n    </tr>\n    <tr>\n      <th>7</th>\n      <td>1.457635</td>\n      <td>1.074149</td>\n    </tr>\n  </tbody>\n</table>\n</div>"
     },
     "metadata": {},
     "execution_count": 28
    }
   ],
   "source": [
    "# Integer Slicing\n",
    "df.iloc[5:,2:]"
   ]
  },
  {
   "cell_type": "code",
   "execution_count": 29,
   "metadata": {},
   "outputs": [
    {
     "output_type": "execute_result",
     "data": {
      "text/plain": [
       "          B         C\n",
       "2  0.339346  0.695109\n",
       "3 -0.862307 -0.715084"
      ],
      "text/html": "<div>\n<style scoped>\n    .dataframe tbody tr th:only-of-type {\n        vertical-align: middle;\n    }\n\n    .dataframe tbody tr th {\n        vertical-align: top;\n    }\n\n    .dataframe thead th {\n        text-align: right;\n    }\n</style>\n<table border=\"1\" class=\"dataframe\">\n  <thead>\n    <tr style=\"text-align: right;\">\n      <th></th>\n      <th>B</th>\n      <th>C</th>\n    </tr>\n  </thead>\n  <tbody>\n    <tr>\n      <th>2</th>\n      <td>0.339346</td>\n      <td>0.695109</td>\n    </tr>\n    <tr>\n      <th>3</th>\n      <td>-0.862307</td>\n      <td>-0.715084</td>\n    </tr>\n  </tbody>\n</table>\n</div>"
     },
     "metadata": {},
     "execution_count": 29
    }
   ],
   "source": [
    "df.iloc[2:4,1:3]"
   ]
  },
  {
   "cell_type": "code",
   "execution_count": 30,
   "metadata": {},
   "outputs": [
    {
     "output_type": "execute_result",
     "data": {
      "text/plain": [
       "          B         D\n",
       "2  0.339346  0.989799\n",
       "4  0.593142 -0.920040\n",
       "6 -1.116248  0.015375"
      ],
      "text/html": "<div>\n<style scoped>\n    .dataframe tbody tr th:only-of-type {\n        vertical-align: middle;\n    }\n\n    .dataframe tbody tr th {\n        vertical-align: top;\n    }\n\n    .dataframe thead th {\n        text-align: right;\n    }\n</style>\n<table border=\"1\" class=\"dataframe\">\n  <thead>\n    <tr style=\"text-align: right;\">\n      <th></th>\n      <th>B</th>\n      <th>D</th>\n    </tr>\n  </thead>\n  <tbody>\n    <tr>\n      <th>2</th>\n      <td>0.339346</td>\n      <td>0.989799</td>\n    </tr>\n    <tr>\n      <th>4</th>\n      <td>0.593142</td>\n      <td>-0.920040</td>\n    </tr>\n    <tr>\n      <th>6</th>\n      <td>-1.116248</td>\n      <td>0.015375</td>\n    </tr>\n  </tbody>\n</table>\n</div>"
     },
     "metadata": {},
     "execution_count": 30
    }
   ],
   "source": [
    "# Slicing through list of values\n",
    "df.iloc[[2, 4, 6], [1, 3]]"
   ]
  },
  {
   "cell_type": "code",
   "execution_count": 31,
   "metadata": {},
   "outputs": [
    {
     "output_type": "execute_result",
     "data": {
      "text/plain": [
       "          A         B         C         D\n",
       "1 -1.069284  1.018209 -1.287638  0.469411\n",
       "2  0.737471  0.339346  0.695109  0.989799"
      ],
      "text/html": "<div>\n<style scoped>\n    .dataframe tbody tr th:only-of-type {\n        vertical-align: middle;\n    }\n\n    .dataframe tbody tr th {\n        vertical-align: top;\n    }\n\n    .dataframe thead th {\n        text-align: right;\n    }\n</style>\n<table border=\"1\" class=\"dataframe\">\n  <thead>\n    <tr style=\"text-align: right;\">\n      <th></th>\n      <th>A</th>\n      <th>B</th>\n      <th>C</th>\n      <th>D</th>\n    </tr>\n  </thead>\n  <tbody>\n    <tr>\n      <th>1</th>\n      <td>-1.069284</td>\n      <td>1.018209</td>\n      <td>-1.287638</td>\n      <td>0.469411</td>\n    </tr>\n    <tr>\n      <th>2</th>\n      <td>0.737471</td>\n      <td>0.339346</td>\n      <td>0.695109</td>\n      <td>0.989799</td>\n    </tr>\n  </tbody>\n</table>\n</div>"
     },
     "metadata": {},
     "execution_count": 31
    }
   ],
   "source": [
    "# Slicing through list of values\n",
    "df.iloc[1:3,:]"
   ]
  },
  {
   "cell_type": "code",
   "execution_count": 32,
   "metadata": {},
   "outputs": [
    {
     "output_type": "execute_result",
     "data": {
      "text/plain": [
       "          A         B         C         D\n",
       "1 -1.069284  1.018209 -1.287638  0.469411\n",
       "2  0.737471  0.339346  0.695109  0.989799"
      ],
      "text/html": "<div>\n<style scoped>\n    .dataframe tbody tr th:only-of-type {\n        vertical-align: middle;\n    }\n\n    .dataframe tbody tr th {\n        vertical-align: top;\n    }\n\n    .dataframe thead th {\n        text-align: right;\n    }\n</style>\n<table border=\"1\" class=\"dataframe\">\n  <thead>\n    <tr style=\"text-align: right;\">\n      <th></th>\n      <th>A</th>\n      <th>B</th>\n      <th>C</th>\n      <th>D</th>\n    </tr>\n  </thead>\n  <tbody>\n    <tr>\n      <th>1</th>\n      <td>-1.069284</td>\n      <td>1.018209</td>\n      <td>-1.287638</td>\n      <td>0.469411</td>\n    </tr>\n    <tr>\n      <th>2</th>\n      <td>0.737471</td>\n      <td>0.339346</td>\n      <td>0.695109</td>\n      <td>0.989799</td>\n    </tr>\n  </tbody>\n</table>\n</div>"
     },
     "metadata": {},
     "execution_count": 32
    }
   ],
   "source": [
    "# Slicing through list of values\n",
    "df.iloc[1:3]"
   ]
  },
  {
   "cell_type": "code",
   "execution_count": 33,
   "metadata": {},
   "outputs": [
    {
     "output_type": "execute_result",
     "data": {
      "text/plain": [
       "          B         C\n",
       "0  0.625029  0.056439\n",
       "1  1.018209 -1.287638\n",
       "2  0.339346  0.695109\n",
       "3 -0.862307 -0.715084\n",
       "4  0.593142  0.253040\n",
       "5  0.768257  1.066481\n",
       "6 -1.116248 -0.196649\n",
       "7 -0.715123  1.457635"
      ],
      "text/html": "<div>\n<style scoped>\n    .dataframe tbody tr th:only-of-type {\n        vertical-align: middle;\n    }\n\n    .dataframe tbody tr th {\n        vertical-align: top;\n    }\n\n    .dataframe thead th {\n        text-align: right;\n    }\n</style>\n<table border=\"1\" class=\"dataframe\">\n  <thead>\n    <tr style=\"text-align: right;\">\n      <th></th>\n      <th>B</th>\n      <th>C</th>\n    </tr>\n  </thead>\n  <tbody>\n    <tr>\n      <th>0</th>\n      <td>0.625029</td>\n      <td>0.056439</td>\n    </tr>\n    <tr>\n      <th>1</th>\n      <td>1.018209</td>\n      <td>-1.287638</td>\n    </tr>\n    <tr>\n      <th>2</th>\n      <td>0.339346</td>\n      <td>0.695109</td>\n    </tr>\n    <tr>\n      <th>3</th>\n      <td>-0.862307</td>\n      <td>-0.715084</td>\n    </tr>\n    <tr>\n      <th>4</th>\n      <td>0.593142</td>\n      <td>0.253040</td>\n    </tr>\n    <tr>\n      <th>5</th>\n      <td>0.768257</td>\n      <td>1.066481</td>\n    </tr>\n    <tr>\n      <th>6</th>\n      <td>-1.116248</td>\n      <td>-0.196649</td>\n    </tr>\n    <tr>\n      <th>7</th>\n      <td>-0.715123</td>\n      <td>1.457635</td>\n    </tr>\n  </tbody>\n</table>\n</div>"
     },
     "metadata": {},
     "execution_count": 33
    }
   ],
   "source": [
    "# Slicing through list of values\n",
    "df.iloc[:,1:3]"
   ]
  },
  {
   "cell_type": "code",
   "execution_count": 34,
   "metadata": {},
   "outputs": [
    {
     "output_type": "execute_result",
     "data": {
      "text/plain": [
       "          B         D\n",
       "0  0.625029 -1.314934\n",
       "1  1.018209  0.469411\n",
       "2  0.339346  0.989799\n",
       "3 -0.862307 -0.220501\n",
       "4  0.593142 -0.920040\n",
       "5  0.768257 -1.022398\n",
       "6 -1.116248  0.015375\n",
       "7 -0.715123  1.074149"
      ],
      "text/html": "<div>\n<style scoped>\n    .dataframe tbody tr th:only-of-type {\n        vertical-align: middle;\n    }\n\n    .dataframe tbody tr th {\n        vertical-align: top;\n    }\n\n    .dataframe thead th {\n        text-align: right;\n    }\n</style>\n<table border=\"1\" class=\"dataframe\">\n  <thead>\n    <tr style=\"text-align: right;\">\n      <th></th>\n      <th>B</th>\n      <th>D</th>\n    </tr>\n  </thead>\n  <tbody>\n    <tr>\n      <th>0</th>\n      <td>0.625029</td>\n      <td>-1.314934</td>\n    </tr>\n    <tr>\n      <th>1</th>\n      <td>1.018209</td>\n      <td>0.469411</td>\n    </tr>\n    <tr>\n      <th>2</th>\n      <td>0.339346</td>\n      <td>0.989799</td>\n    </tr>\n    <tr>\n      <th>3</th>\n      <td>-0.862307</td>\n      <td>-0.220501</td>\n    </tr>\n    <tr>\n      <th>4</th>\n      <td>0.593142</td>\n      <td>-0.920040</td>\n    </tr>\n    <tr>\n      <th>5</th>\n      <td>0.768257</td>\n      <td>-1.022398</td>\n    </tr>\n    <tr>\n      <th>6</th>\n      <td>-1.116248</td>\n      <td>0.015375</td>\n    </tr>\n    <tr>\n      <th>7</th>\n      <td>-0.715123</td>\n      <td>1.074149</td>\n    </tr>\n  </tbody>\n</table>\n</div>"
     },
     "metadata": {},
     "execution_count": 34
    }
   ],
   "source": [
    "df.iloc[:,[1,3]]"
   ]
  }
 ]
}