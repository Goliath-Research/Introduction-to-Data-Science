{
 "metadata": {
  "language_info": {
   "codemirror_mode": {
    "name": "ipython",
    "version": 3
   },
   "file_extension": ".py",
   "mimetype": "text/x-python",
   "name": "python",
   "nbconvert_exporter": "python",
   "pygments_lexer": "ipython3",
   "version": "3.9.1-final"
  },
  "orig_nbformat": 2,
  "kernelspec": {
   "name": "python3",
   "display_name": "Python 3.9.1 64-bit",
   "metadata": {
    "interpreter": {
     "hash": "63fd5069d213b44bf678585dea6b12cceca9941eaf7f819626cde1f2670de90d"
    }
   }
  }
 },
 "nbformat": 4,
 "nbformat_minor": 2,
 "cells": [
  {
   "source": [
    "# Pandas Input/Output"
   ],
   "cell_type": "markdown",
   "metadata": {}
  },
  {
   "cell_type": "code",
   "execution_count": 1,
   "metadata": {},
   "outputs": [],
   "source": [
    "# !pip install numpy\n",
    "# !pip install pandas"
   ]
  },
  {
   "cell_type": "code",
   "execution_count": 2,
   "metadata": {},
   "outputs": [],
   "source": [
    "import numpy as np\n",
    "import pandas as pd"
   ]
  },
  {
   "cell_type": "code",
   "execution_count": 3,
   "metadata": {},
   "outputs": [
    {
     "output_type": "stream",
     "name": "stdout",
     "text": [
      "(194, 2)\n"
     ]
    },
    {
     "output_type": "execute_result",
     "data": {
      "text/plain": [
       "   Country  Region\n",
       "0  Algeria  AFRICA\n",
       "1   Angola  AFRICA"
      ],
      "text/html": "<div>\n<style scoped>\n    .dataframe tbody tr th:only-of-type {\n        vertical-align: middle;\n    }\n\n    .dataframe tbody tr th {\n        vertical-align: top;\n    }\n\n    .dataframe thead th {\n        text-align: right;\n    }\n</style>\n<table border=\"1\" class=\"dataframe\">\n  <thead>\n    <tr style=\"text-align: right;\">\n      <th></th>\n      <th>Country</th>\n      <th>Region</th>\n    </tr>\n  </thead>\n  <tbody>\n    <tr>\n      <th>0</th>\n      <td>Algeria</td>\n      <td>AFRICA</td>\n    </tr>\n    <tr>\n      <th>1</th>\n      <td>Angola</td>\n      <td>AFRICA</td>\n    </tr>\n  </tbody>\n</table>\n</div>"
     },
     "metadata": {},
     "execution_count": 3
    }
   ],
   "source": [
    "# read_csv: reads data from the csv files and creates a DataFrame object.\n",
    "df = pd.read_csv('https://raw.githubusercontent.com/cs109/2014_data/master/countries.csv')\n",
    "print(df.shape)\n",
    "df.head(2)"
   ]
  },
  {
   "cell_type": "code",
   "execution_count": 4,
   "metadata": {},
   "outputs": [],
   "source": [
    "df.to_csv('countries.csv')"
   ]
  },
  {
   "cell_type": "code",
   "execution_count": 5,
   "metadata": {
    "tags": []
   },
   "outputs": [
    {
     "output_type": "stream",
     "name": "stdout",
     "text": [
      "(194, 3)\n"
     ]
    },
    {
     "output_type": "execute_result",
     "data": {
      "text/plain": [
       "   Unnamed: 0  Country  Region\n",
       "0           0  Algeria  AFRICA\n",
       "1           1   Angola  AFRICA"
      ],
      "text/html": "<div>\n<style scoped>\n    .dataframe tbody tr th:only-of-type {\n        vertical-align: middle;\n    }\n\n    .dataframe tbody tr th {\n        vertical-align: top;\n    }\n\n    .dataframe thead th {\n        text-align: right;\n    }\n</style>\n<table border=\"1\" class=\"dataframe\">\n  <thead>\n    <tr style=\"text-align: right;\">\n      <th></th>\n      <th>Unnamed: 0</th>\n      <th>Country</th>\n      <th>Region</th>\n    </tr>\n  </thead>\n  <tbody>\n    <tr>\n      <th>0</th>\n      <td>0</td>\n      <td>Algeria</td>\n      <td>AFRICA</td>\n    </tr>\n    <tr>\n      <th>1</th>\n      <td>1</td>\n      <td>Angola</td>\n      <td>AFRICA</td>\n    </tr>\n  </tbody>\n</table>\n</div>"
     },
     "metadata": {},
     "execution_count": 5
    }
   ],
   "source": [
    "df1 = pd.read_csv('countries.csv')\n",
    "print(df1.shape)\n",
    "df1.head(2)"
   ]
  },
  {
   "cell_type": "code",
   "execution_count": 6,
   "metadata": {},
   "outputs": [
    {
     "output_type": "display_data",
     "data": {
      "text/plain": "   Country  Region\n0  Algeria  AFRICA\n1   Angola  AFRICA",
      "text/html": "<div>\n<style scoped>\n    .dataframe tbody tr th:only-of-type {\n        vertical-align: middle;\n    }\n\n    .dataframe tbody tr th {\n        vertical-align: top;\n    }\n\n    .dataframe thead th {\n        text-align: right;\n    }\n</style>\n<table border=\"1\" class=\"dataframe\">\n  <thead>\n    <tr style=\"text-align: right;\">\n      <th></th>\n      <th>Country</th>\n      <th>Region</th>\n    </tr>\n  </thead>\n  <tbody>\n    <tr>\n      <th>0</th>\n      <td>Algeria</td>\n      <td>AFRICA</td>\n    </tr>\n    <tr>\n      <th>1</th>\n      <td>Angola</td>\n      <td>AFRICA</td>\n    </tr>\n  </tbody>\n</table>\n</div>"
     },
     "metadata": {}
    },
    {
     "output_type": "display_data",
     "data": {
      "text/plain": "   Unnamed: 0  Country  Region\n0           0  Algeria  AFRICA\n1           1   Angola  AFRICA",
      "text/html": "<div>\n<style scoped>\n    .dataframe tbody tr th:only-of-type {\n        vertical-align: middle;\n    }\n\n    .dataframe tbody tr th {\n        vertical-align: top;\n    }\n\n    .dataframe thead th {\n        text-align: right;\n    }\n</style>\n<table border=\"1\" class=\"dataframe\">\n  <thead>\n    <tr style=\"text-align: right;\">\n      <th></th>\n      <th>Unnamed: 0</th>\n      <th>Country</th>\n      <th>Region</th>\n    </tr>\n  </thead>\n  <tbody>\n    <tr>\n      <th>0</th>\n      <td>0</td>\n      <td>Algeria</td>\n      <td>AFRICA</td>\n    </tr>\n    <tr>\n      <th>1</th>\n      <td>1</td>\n      <td>Angola</td>\n      <td>AFRICA</td>\n    </tr>\n  </tbody>\n</table>\n</div>"
     },
     "metadata": {}
    }
   ],
   "source": [
    "display(df.head(2))\n",
    "display(df1.head(2))"
   ]
  },
  {
   "cell_type": "code",
   "execution_count": 7,
   "metadata": {},
   "outputs": [],
   "source": [
    "# The Unnamed column is the index column. To avoit it:\n",
    "df.to_csv('countries1.csv',index=False)"
   ]
  },
  {
   "cell_type": "code",
   "execution_count": 8,
   "metadata": {},
   "outputs": [
    {
     "output_type": "execute_result",
     "data": {
      "text/plain": [
       "   Country  Region\n",
       "0  Algeria  AFRICA\n",
       "1   Angola  AFRICA"
      ],
      "text/html": "<div>\n<style scoped>\n    .dataframe tbody tr th:only-of-type {\n        vertical-align: middle;\n    }\n\n    .dataframe tbody tr th {\n        vertical-align: top;\n    }\n\n    .dataframe thead th {\n        text-align: right;\n    }\n</style>\n<table border=\"1\" class=\"dataframe\">\n  <thead>\n    <tr style=\"text-align: right;\">\n      <th></th>\n      <th>Country</th>\n      <th>Region</th>\n    </tr>\n  </thead>\n  <tbody>\n    <tr>\n      <th>0</th>\n      <td>Algeria</td>\n      <td>AFRICA</td>\n    </tr>\n    <tr>\n      <th>1</th>\n      <td>Angola</td>\n      <td>AFRICA</td>\n    </tr>\n  </tbody>\n</table>\n</div>"
     },
     "metadata": {},
     "execution_count": 8
    }
   ],
   "source": [
    "df2 = pd.read_csv('countries1.csv')\n",
    "df2.head(2)"
   ]
  },
  {
   "cell_type": "code",
   "execution_count": 9,
   "metadata": {},
   "outputs": [
    {
     "output_type": "display_data",
     "data": {
      "text/plain": "   Country  Region\n0  Algeria  AFRICA\n1   Angola  AFRICA",
      "text/html": "<div>\n<style scoped>\n    .dataframe tbody tr th:only-of-type {\n        vertical-align: middle;\n    }\n\n    .dataframe tbody tr th {\n        vertical-align: top;\n    }\n\n    .dataframe thead th {\n        text-align: right;\n    }\n</style>\n<table border=\"1\" class=\"dataframe\">\n  <thead>\n    <tr style=\"text-align: right;\">\n      <th></th>\n      <th>Country</th>\n      <th>Region</th>\n    </tr>\n  </thead>\n  <tbody>\n    <tr>\n      <th>0</th>\n      <td>Algeria</td>\n      <td>AFRICA</td>\n    </tr>\n    <tr>\n      <th>1</th>\n      <td>Angola</td>\n      <td>AFRICA</td>\n    </tr>\n  </tbody>\n</table>\n</div>"
     },
     "metadata": {}
    },
    {
     "output_type": "display_data",
     "data": {
      "text/plain": "   Unnamed: 0  Country  Region\n0           0  Algeria  AFRICA\n1           1   Angola  AFRICA",
      "text/html": "<div>\n<style scoped>\n    .dataframe tbody tr th:only-of-type {\n        vertical-align: middle;\n    }\n\n    .dataframe tbody tr th {\n        vertical-align: top;\n    }\n\n    .dataframe thead th {\n        text-align: right;\n    }\n</style>\n<table border=\"1\" class=\"dataframe\">\n  <thead>\n    <tr style=\"text-align: right;\">\n      <th></th>\n      <th>Unnamed: 0</th>\n      <th>Country</th>\n      <th>Region</th>\n    </tr>\n  </thead>\n  <tbody>\n    <tr>\n      <th>0</th>\n      <td>0</td>\n      <td>Algeria</td>\n      <td>AFRICA</td>\n    </tr>\n    <tr>\n      <th>1</th>\n      <td>1</td>\n      <td>Angola</td>\n      <td>AFRICA</td>\n    </tr>\n  </tbody>\n</table>\n</div>"
     },
     "metadata": {}
    }
   ],
   "source": [
    "display(df.head(2))\n",
    "display(df1.head(2))"
   ]
  },
  {
   "cell_type": "code",
   "execution_count": 10,
   "metadata": {
    "tags": []
   },
   "outputs": [],
   "source": [
    "#!pip install xlsxwriter"
   ]
  },
  {
   "cell_type": "code",
   "execution_count": 11,
   "metadata": {},
   "outputs": [],
   "source": [
    "import xlsxwriter"
   ]
  },
  {
   "cell_type": "code",
   "execution_count": 12,
   "metadata": {},
   "outputs": [],
   "source": [
    "writer = pd.ExcelWriter('countries.xlsx', engine='xlsxwriter')\n",
    "df.to_excel(writer,sheet_name='WithoutIndex')\n",
    "df1.to_excel(writer,sheet_name='WithIndex')\n",
    "writer.save()"
   ]
  },
  {
   "cell_type": "code",
   "execution_count": 13,
   "metadata": {},
   "outputs": [],
   "source": [
    "df.to_json('countries.json')"
   ]
  },
  {
   "cell_type": "code",
   "execution_count": 14,
   "metadata": {},
   "outputs": [
    {
     "output_type": "execute_result",
     "data": {
      "text/plain": [
       "   Country  Region\n",
       "0  Algeria  AFRICA\n",
       "1   Angola  AFRICA"
      ],
      "text/html": "<div>\n<style scoped>\n    .dataframe tbody tr th:only-of-type {\n        vertical-align: middle;\n    }\n\n    .dataframe tbody tr th {\n        vertical-align: top;\n    }\n\n    .dataframe thead th {\n        text-align: right;\n    }\n</style>\n<table border=\"1\" class=\"dataframe\">\n  <thead>\n    <tr style=\"text-align: right;\">\n      <th></th>\n      <th>Country</th>\n      <th>Region</th>\n    </tr>\n  </thead>\n  <tbody>\n    <tr>\n      <th>0</th>\n      <td>Algeria</td>\n      <td>AFRICA</td>\n    </tr>\n    <tr>\n      <th>1</th>\n      <td>Angola</td>\n      <td>AFRICA</td>\n    </tr>\n  </tbody>\n</table>\n</div>"
     },
     "metadata": {},
     "execution_count": 14
    }
   ],
   "source": [
    "dfj = pd.read_json('countries.json')\n",
    "dfj.head(2)"
   ]
  },
  {
   "source": [
    "## Indexing and selecting data"
   ],
   "cell_type": "markdown",
   "metadata": {}
  },
  {
   "source": [
    "The Python and NumPy indexing operators **`[ ]`** and attribute operator **`.`** provide quick and easy access to Pandas data structures across a wide range of use cases. However, since the type of the data to be accessed isn’t known in advance, directly using standard operators has some optimization limits. "
   ],
   "cell_type": "markdown",
   "metadata": {}
  },
  {
   "cell_type": "code",
   "execution_count": 15,
   "metadata": {},
   "outputs": [
    {
     "output_type": "execute_result",
     "data": {
      "text/plain": [
       "          A         B         C         D\n",
       "a  1.126803  0.863477  0.298589 -0.343339\n",
       "b  1.164549 -0.944366  1.444286  1.156773\n",
       "c -0.846982  0.026966  0.423990  0.525681\n",
       "d  1.405735  0.521341 -0.219109  0.858832\n",
       "e -0.141277 -0.680227 -1.151565 -0.134687\n",
       "f -0.472646  1.579302  1.294815 -0.432016\n",
       "g  1.542131 -0.080047  0.404716 -1.023734\n",
       "h  1.957213  0.624003  0.495357 -0.812024"
      ],
      "text/html": "<div>\n<style scoped>\n    .dataframe tbody tr th:only-of-type {\n        vertical-align: middle;\n    }\n\n    .dataframe tbody tr th {\n        vertical-align: top;\n    }\n\n    .dataframe thead th {\n        text-align: right;\n    }\n</style>\n<table border=\"1\" class=\"dataframe\">\n  <thead>\n    <tr style=\"text-align: right;\">\n      <th></th>\n      <th>A</th>\n      <th>B</th>\n      <th>C</th>\n      <th>D</th>\n    </tr>\n  </thead>\n  <tbody>\n    <tr>\n      <th>a</th>\n      <td>1.126803</td>\n      <td>0.863477</td>\n      <td>0.298589</td>\n      <td>-0.343339</td>\n    </tr>\n    <tr>\n      <th>b</th>\n      <td>1.164549</td>\n      <td>-0.944366</td>\n      <td>1.444286</td>\n      <td>1.156773</td>\n    </tr>\n    <tr>\n      <th>c</th>\n      <td>-0.846982</td>\n      <td>0.026966</td>\n      <td>0.423990</td>\n      <td>0.525681</td>\n    </tr>\n    <tr>\n      <th>d</th>\n      <td>1.405735</td>\n      <td>0.521341</td>\n      <td>-0.219109</td>\n      <td>0.858832</td>\n    </tr>\n    <tr>\n      <th>e</th>\n      <td>-0.141277</td>\n      <td>-0.680227</td>\n      <td>-1.151565</td>\n      <td>-0.134687</td>\n    </tr>\n    <tr>\n      <th>f</th>\n      <td>-0.472646</td>\n      <td>1.579302</td>\n      <td>1.294815</td>\n      <td>-0.432016</td>\n    </tr>\n    <tr>\n      <th>g</th>\n      <td>1.542131</td>\n      <td>-0.080047</td>\n      <td>0.404716</td>\n      <td>-1.023734</td>\n    </tr>\n    <tr>\n      <th>h</th>\n      <td>1.957213</td>\n      <td>0.624003</td>\n      <td>0.495357</td>\n      <td>-0.812024</td>\n    </tr>\n  </tbody>\n</table>\n</div>"
     },
     "metadata": {},
     "execution_count": 15
    }
   ],
   "source": [
    "df = pd.DataFrame(np.random.randn(8, 4),\n",
    "index = ['a','b','c','d','e','f','g','h'], columns = ['A', 'B', 'C', 'D'])\n",
    "df"
   ]
  },
  {
   "cell_type": "code",
   "execution_count": 16,
   "metadata": {},
   "outputs": [
    {
     "output_type": "execute_result",
     "data": {
      "text/plain": [
       "a    1.126803\n",
       "b    1.164549\n",
       "c   -0.846982\n",
       "d    1.405735\n",
       "e   -0.141277\n",
       "f   -0.472646\n",
       "g    1.542131\n",
       "h    1.957213\n",
       "Name: A, dtype: float64"
      ]
     },
     "metadata": {},
     "execution_count": 16
    }
   ],
   "source": [
    "# select all rows for a specific column\n",
    "df.loc[:,'A']"
   ]
  },
  {
   "cell_type": "code",
   "execution_count": 17,
   "metadata": {},
   "outputs": [
    {
     "output_type": "execute_result",
     "data": {
      "text/plain": [
       "a    1.126803\n",
       "b    1.164549\n",
       "c   -0.846982\n",
       "d    1.405735\n",
       "e   -0.141277\n",
       "f   -0.472646\n",
       "g    1.542131\n",
       "h    1.957213\n",
       "Name: A, dtype: float64"
      ]
     },
     "metadata": {},
     "execution_count": 17
    }
   ],
   "source": [
    "# Other way\n",
    "df['A']"
   ]
  },
  {
   "cell_type": "code",
   "execution_count": 18,
   "metadata": {},
   "outputs": [
    {
     "output_type": "execute_result",
     "data": {
      "text/plain": [
       "          A         D\n",
       "a  1.126803 -0.343339\n",
       "b  1.164549  1.156773\n",
       "c -0.846982  0.525681\n",
       "d  1.405735  0.858832\n",
       "e -0.141277 -0.134687\n",
       "f -0.472646 -0.432016\n",
       "g  1.542131 -1.023734\n",
       "h  1.957213 -0.812024"
      ],
      "text/html": "<div>\n<style scoped>\n    .dataframe tbody tr th:only-of-type {\n        vertical-align: middle;\n    }\n\n    .dataframe tbody tr th {\n        vertical-align: top;\n    }\n\n    .dataframe thead th {\n        text-align: right;\n    }\n</style>\n<table border=\"1\" class=\"dataframe\">\n  <thead>\n    <tr style=\"text-align: right;\">\n      <th></th>\n      <th>A</th>\n      <th>D</th>\n    </tr>\n  </thead>\n  <tbody>\n    <tr>\n      <th>a</th>\n      <td>1.126803</td>\n      <td>-0.343339</td>\n    </tr>\n    <tr>\n      <th>b</th>\n      <td>1.164549</td>\n      <td>1.156773</td>\n    </tr>\n    <tr>\n      <th>c</th>\n      <td>-0.846982</td>\n      <td>0.525681</td>\n    </tr>\n    <tr>\n      <th>d</th>\n      <td>1.405735</td>\n      <td>0.858832</td>\n    </tr>\n    <tr>\n      <th>e</th>\n      <td>-0.141277</td>\n      <td>-0.134687</td>\n    </tr>\n    <tr>\n      <th>f</th>\n      <td>-0.472646</td>\n      <td>-0.432016</td>\n    </tr>\n    <tr>\n      <th>g</th>\n      <td>1.542131</td>\n      <td>-1.023734</td>\n    </tr>\n    <tr>\n      <th>h</th>\n      <td>1.957213</td>\n      <td>-0.812024</td>\n    </tr>\n  </tbody>\n</table>\n</div>"
     },
     "metadata": {},
     "execution_count": 18
    }
   ],
   "source": [
    "# select all rows for two specific column\n",
    "df.loc[:,['A','D']]"
   ]
  },
  {
   "cell_type": "code",
   "execution_count": 19,
   "metadata": {},
   "outputs": [
    {
     "output_type": "execute_result",
     "data": {
      "text/plain": [
       "          A         D\n",
       "a  1.126803 -0.343339\n",
       "b  1.164549  1.156773\n",
       "c -0.846982  0.525681\n",
       "d  1.405735  0.858832\n",
       "e -0.141277 -0.134687\n",
       "f -0.472646 -0.432016\n",
       "g  1.542131 -1.023734\n",
       "h  1.957213 -0.812024"
      ],
      "text/html": "<div>\n<style scoped>\n    .dataframe tbody tr th:only-of-type {\n        vertical-align: middle;\n    }\n\n    .dataframe tbody tr th {\n        vertical-align: top;\n    }\n\n    .dataframe thead th {\n        text-align: right;\n    }\n</style>\n<table border=\"1\" class=\"dataframe\">\n  <thead>\n    <tr style=\"text-align: right;\">\n      <th></th>\n      <th>A</th>\n      <th>D</th>\n    </tr>\n  </thead>\n  <tbody>\n    <tr>\n      <th>a</th>\n      <td>1.126803</td>\n      <td>-0.343339</td>\n    </tr>\n    <tr>\n      <th>b</th>\n      <td>1.164549</td>\n      <td>1.156773</td>\n    </tr>\n    <tr>\n      <th>c</th>\n      <td>-0.846982</td>\n      <td>0.525681</td>\n    </tr>\n    <tr>\n      <th>d</th>\n      <td>1.405735</td>\n      <td>0.858832</td>\n    </tr>\n    <tr>\n      <th>e</th>\n      <td>-0.141277</td>\n      <td>-0.134687</td>\n    </tr>\n    <tr>\n      <th>f</th>\n      <td>-0.472646</td>\n      <td>-0.432016</td>\n    </tr>\n    <tr>\n      <th>g</th>\n      <td>1.542131</td>\n      <td>-1.023734</td>\n    </tr>\n    <tr>\n      <th>h</th>\n      <td>1.957213</td>\n      <td>-0.812024</td>\n    </tr>\n  </tbody>\n</table>\n</div>"
     },
     "metadata": {},
     "execution_count": 19
    }
   ],
   "source": [
    "# other way\n",
    "df[['A','D']]"
   ]
  },
  {
   "cell_type": "code",
   "execution_count": 20,
   "metadata": {},
   "outputs": [
    {
     "output_type": "execute_result",
     "data": {
      "text/plain": [
       "          A         D\n",
       "a  1.126803 -0.343339\n",
       "b  1.164549  1.156773\n",
       "f -0.472646 -0.432016\n",
       "h  1.957213 -0.812024"
      ],
      "text/html": "<div>\n<style scoped>\n    .dataframe tbody tr th:only-of-type {\n        vertical-align: middle;\n    }\n\n    .dataframe tbody tr th {\n        vertical-align: top;\n    }\n\n    .dataframe thead th {\n        text-align: right;\n    }\n</style>\n<table border=\"1\" class=\"dataframe\">\n  <thead>\n    <tr style=\"text-align: right;\">\n      <th></th>\n      <th>A</th>\n      <th>D</th>\n    </tr>\n  </thead>\n  <tbody>\n    <tr>\n      <th>a</th>\n      <td>1.126803</td>\n      <td>-0.343339</td>\n    </tr>\n    <tr>\n      <th>b</th>\n      <td>1.164549</td>\n      <td>1.156773</td>\n    </tr>\n    <tr>\n      <th>f</th>\n      <td>-0.472646</td>\n      <td>-0.432016</td>\n    </tr>\n    <tr>\n      <th>h</th>\n      <td>1.957213</td>\n      <td>-0.812024</td>\n    </tr>\n  </tbody>\n</table>\n</div>"
     },
     "metadata": {},
     "execution_count": 20
    }
   ],
   "source": [
    "# Select few rows for multiple columns\n",
    "df.loc[['a','b','f','h'],['A','D']]"
   ]
  },
  {
   "cell_type": "code",
   "execution_count": 21,
   "metadata": {},
   "outputs": [
    {
     "output_type": "execute_result",
     "data": {
      "text/plain": [
       "          A         B         C         D\n",
       "a  1.126803  0.863477  0.298589 -0.343339\n",
       "b  1.164549 -0.944366  1.444286  1.156773\n",
       "f -0.472646  1.579302  1.294815 -0.432016\n",
       "h  1.957213  0.624003  0.495357 -0.812024"
      ],
      "text/html": "<div>\n<style scoped>\n    .dataframe tbody tr th:only-of-type {\n        vertical-align: middle;\n    }\n\n    .dataframe tbody tr th {\n        vertical-align: top;\n    }\n\n    .dataframe thead th {\n        text-align: right;\n    }\n</style>\n<table border=\"1\" class=\"dataframe\">\n  <thead>\n    <tr style=\"text-align: right;\">\n      <th></th>\n      <th>A</th>\n      <th>B</th>\n      <th>C</th>\n      <th>D</th>\n    </tr>\n  </thead>\n  <tbody>\n    <tr>\n      <th>a</th>\n      <td>1.126803</td>\n      <td>0.863477</td>\n      <td>0.298589</td>\n      <td>-0.343339</td>\n    </tr>\n    <tr>\n      <th>b</th>\n      <td>1.164549</td>\n      <td>-0.944366</td>\n      <td>1.444286</td>\n      <td>1.156773</td>\n    </tr>\n    <tr>\n      <th>f</th>\n      <td>-0.472646</td>\n      <td>1.579302</td>\n      <td>1.294815</td>\n      <td>-0.432016</td>\n    </tr>\n    <tr>\n      <th>h</th>\n      <td>1.957213</td>\n      <td>0.624003</td>\n      <td>0.495357</td>\n      <td>-0.812024</td>\n    </tr>\n  </tbody>\n</table>\n</div>"
     },
     "metadata": {},
     "execution_count": 21
    }
   ],
   "source": [
    "# Select few rows for all columns\n",
    "df.loc[['a','b','f','h']]"
   ]
  },
  {
   "cell_type": "code",
   "execution_count": 22,
   "metadata": {},
   "outputs": [
    {
     "output_type": "execute_result",
     "data": {
      "text/plain": [
       "          A         B         C         D\n",
       "a  1.126803  0.863477  0.298589 -0.343339\n",
       "b  1.164549 -0.944366  1.444286  1.156773\n",
       "c -0.846982  0.026966  0.423990  0.525681\n",
       "d  1.405735  0.521341 -0.219109  0.858832"
      ],
      "text/html": "<div>\n<style scoped>\n    .dataframe tbody tr th:only-of-type {\n        vertical-align: middle;\n    }\n\n    .dataframe tbody tr th {\n        vertical-align: top;\n    }\n\n    .dataframe thead th {\n        text-align: right;\n    }\n</style>\n<table border=\"1\" class=\"dataframe\">\n  <thead>\n    <tr style=\"text-align: right;\">\n      <th></th>\n      <th>A</th>\n      <th>B</th>\n      <th>C</th>\n      <th>D</th>\n    </tr>\n  </thead>\n  <tbody>\n    <tr>\n      <th>a</th>\n      <td>1.126803</td>\n      <td>0.863477</td>\n      <td>0.298589</td>\n      <td>-0.343339</td>\n    </tr>\n    <tr>\n      <th>b</th>\n      <td>1.164549</td>\n      <td>-0.944366</td>\n      <td>1.444286</td>\n      <td>1.156773</td>\n    </tr>\n    <tr>\n      <th>c</th>\n      <td>-0.846982</td>\n      <td>0.026966</td>\n      <td>0.423990</td>\n      <td>0.525681</td>\n    </tr>\n    <tr>\n      <th>d</th>\n      <td>1.405735</td>\n      <td>0.521341</td>\n      <td>-0.219109</td>\n      <td>0.858832</td>\n    </tr>\n  </tbody>\n</table>\n</div>"
     },
     "metadata": {},
     "execution_count": 22
    }
   ],
   "source": [
    "# Select range of rows for all columns\n",
    "df.loc['a':'d']"
   ]
  },
  {
   "cell_type": "code",
   "execution_count": 23,
   "metadata": {},
   "outputs": [
    {
     "output_type": "execute_result",
     "data": {
      "text/plain": [
       "A    1.126803\n",
       "B    0.863477\n",
       "C    0.298589\n",
       "D   -0.343339\n",
       "Name: a, dtype: float64"
      ]
     },
     "metadata": {},
     "execution_count": 23
    }
   ],
   "source": [
    "# getting all values with index 'a'\n",
    "df.loc['a']"
   ]
  },
  {
   "cell_type": "code",
   "execution_count": 24,
   "metadata": {},
   "outputs": [
    {
     "output_type": "execute_result",
     "data": {
      "text/plain": [
       "A     True\n",
       "B     True\n",
       "C     True\n",
       "D    False\n",
       "Name: a, dtype: bool"
      ]
     },
     "metadata": {},
     "execution_count": 24
    }
   ],
   "source": [
    "# getting values with a boolean array\n",
    "df.loc['a'] > 0"
   ]
  },
  {
   "source": [
    "`.iloc()`: get purely integer based indexing. Remember these are 0-based indexing.\n",
    "\n",
    "It can only index by location with a integer, integer slice (START point is INCLUDED, END point is EXCLUDED), listlike of integers, boolean array"
   ],
   "cell_type": "markdown",
   "metadata": {}
  },
  {
   "cell_type": "code",
   "execution_count": 25,
   "metadata": {},
   "outputs": [],
   "source": [
    "df = pd.DataFrame(np.random.randn(8, 4),columns = ['A', 'B', 'C', 'D'])"
   ]
  },
  {
   "cell_type": "code",
   "execution_count": 26,
   "metadata": {},
   "outputs": [
    {
     "output_type": "execute_result",
     "data": {
      "text/plain": [
       "          A         B         C         D\n",
       "0 -0.507990  1.601479 -2.113351  0.976180\n",
       "1 -0.280544 -0.579950 -1.115814 -0.120316\n",
       "2 -1.515031 -1.409341  0.522388  0.981942"
      ],
      "text/html": "<div>\n<style scoped>\n    .dataframe tbody tr th:only-of-type {\n        vertical-align: middle;\n    }\n\n    .dataframe tbody tr th {\n        vertical-align: top;\n    }\n\n    .dataframe thead th {\n        text-align: right;\n    }\n</style>\n<table border=\"1\" class=\"dataframe\">\n  <thead>\n    <tr style=\"text-align: right;\">\n      <th></th>\n      <th>A</th>\n      <th>B</th>\n      <th>C</th>\n      <th>D</th>\n    </tr>\n  </thead>\n  <tbody>\n    <tr>\n      <th>0</th>\n      <td>-0.507990</td>\n      <td>1.601479</td>\n      <td>-2.113351</td>\n      <td>0.976180</td>\n    </tr>\n    <tr>\n      <th>1</th>\n      <td>-0.280544</td>\n      <td>-0.579950</td>\n      <td>-1.115814</td>\n      <td>-0.120316</td>\n    </tr>\n    <tr>\n      <th>2</th>\n      <td>-1.515031</td>\n      <td>-1.409341</td>\n      <td>0.522388</td>\n      <td>0.981942</td>\n    </tr>\n  </tbody>\n</table>\n</div>"
     },
     "metadata": {},
     "execution_count": 26
    }
   ],
   "source": [
    "# select all columns for a specific rows\n",
    "df.iloc[:3]"
   ]
  },
  {
   "cell_type": "code",
   "execution_count": 27,
   "metadata": {},
   "outputs": [
    {
     "output_type": "execute_result",
     "data": {
      "text/plain": [
       "          A         B         C         D\n",
       "2 -1.515031 -1.409341  0.522388  0.981942\n",
       "3  0.509661  1.268201 -2.535409  0.617580\n",
       "4 -0.055191 -1.759767 -0.289831  0.373842"
      ],
      "text/html": "<div>\n<style scoped>\n    .dataframe tbody tr th:only-of-type {\n        vertical-align: middle;\n    }\n\n    .dataframe tbody tr th {\n        vertical-align: top;\n    }\n\n    .dataframe thead th {\n        text-align: right;\n    }\n</style>\n<table border=\"1\" class=\"dataframe\">\n  <thead>\n    <tr style=\"text-align: right;\">\n      <th></th>\n      <th>A</th>\n      <th>B</th>\n      <th>C</th>\n      <th>D</th>\n    </tr>\n  </thead>\n  <tbody>\n    <tr>\n      <th>2</th>\n      <td>-1.515031</td>\n      <td>-1.409341</td>\n      <td>0.522388</td>\n      <td>0.981942</td>\n    </tr>\n    <tr>\n      <th>3</th>\n      <td>0.509661</td>\n      <td>1.268201</td>\n      <td>-2.535409</td>\n      <td>0.617580</td>\n    </tr>\n    <tr>\n      <th>4</th>\n      <td>-0.055191</td>\n      <td>-1.759767</td>\n      <td>-0.289831</td>\n      <td>0.373842</td>\n    </tr>\n  </tbody>\n</table>\n</div>"
     },
     "metadata": {},
     "execution_count": 27
    }
   ],
   "source": [
    "# select all columns for a specific rows (START point is INCLUDED, END point is EXCLUDED)\n",
    "df.iloc[2:5]"
   ]
  },
  {
   "cell_type": "code",
   "execution_count": 28,
   "metadata": {},
   "outputs": [
    {
     "output_type": "execute_result",
     "data": {
      "text/plain": [
       "          A         B         C         D\n",
       "5  1.145577  0.281784 -0.373822 -1.296222\n",
       "6 -2.225834 -0.025470 -0.647116  0.517882\n",
       "7  1.198498  0.427752  0.928001  0.251673"
      ],
      "text/html": "<div>\n<style scoped>\n    .dataframe tbody tr th:only-of-type {\n        vertical-align: middle;\n    }\n\n    .dataframe tbody tr th {\n        vertical-align: top;\n    }\n\n    .dataframe thead th {\n        text-align: right;\n    }\n</style>\n<table border=\"1\" class=\"dataframe\">\n  <thead>\n    <tr style=\"text-align: right;\">\n      <th></th>\n      <th>A</th>\n      <th>B</th>\n      <th>C</th>\n      <th>D</th>\n    </tr>\n  </thead>\n  <tbody>\n    <tr>\n      <th>5</th>\n      <td>1.145577</td>\n      <td>0.281784</td>\n      <td>-0.373822</td>\n      <td>-1.296222</td>\n    </tr>\n    <tr>\n      <th>6</th>\n      <td>-2.225834</td>\n      <td>-0.025470</td>\n      <td>-0.647116</td>\n      <td>0.517882</td>\n    </tr>\n    <tr>\n      <th>7</th>\n      <td>1.198498</td>\n      <td>0.427752</td>\n      <td>0.928001</td>\n      <td>0.251673</td>\n    </tr>\n  </tbody>\n</table>\n</div>"
     },
     "metadata": {},
     "execution_count": 28
    }
   ],
   "source": [
    "df.iloc[5:]"
   ]
  },
  {
   "cell_type": "code",
   "execution_count": 29,
   "metadata": {},
   "outputs": [
    {
     "output_type": "execute_result",
     "data": {
      "text/plain": [
       "          C         D\n",
       "5 -0.373822 -1.296222\n",
       "6 -0.647116  0.517882\n",
       "7  0.928001  0.251673"
      ],
      "text/html": "<div>\n<style scoped>\n    .dataframe tbody tr th:only-of-type {\n        vertical-align: middle;\n    }\n\n    .dataframe tbody tr th {\n        vertical-align: top;\n    }\n\n    .dataframe thead th {\n        text-align: right;\n    }\n</style>\n<table border=\"1\" class=\"dataframe\">\n  <thead>\n    <tr style=\"text-align: right;\">\n      <th></th>\n      <th>C</th>\n      <th>D</th>\n    </tr>\n  </thead>\n  <tbody>\n    <tr>\n      <th>5</th>\n      <td>-0.373822</td>\n      <td>-1.296222</td>\n    </tr>\n    <tr>\n      <th>6</th>\n      <td>-0.647116</td>\n      <td>0.517882</td>\n    </tr>\n    <tr>\n      <th>7</th>\n      <td>0.928001</td>\n      <td>0.251673</td>\n    </tr>\n  </tbody>\n</table>\n</div>"
     },
     "metadata": {},
     "execution_count": 29
    }
   ],
   "source": [
    "# Integer Slicing\n",
    "df.iloc[5:,2:]"
   ]
  },
  {
   "cell_type": "code",
   "execution_count": 30,
   "metadata": {},
   "outputs": [
    {
     "output_type": "execute_result",
     "data": {
      "text/plain": [
       "          B         C\n",
       "2 -1.409341  0.522388\n",
       "3  1.268201 -2.535409"
      ],
      "text/html": "<div>\n<style scoped>\n    .dataframe tbody tr th:only-of-type {\n        vertical-align: middle;\n    }\n\n    .dataframe tbody tr th {\n        vertical-align: top;\n    }\n\n    .dataframe thead th {\n        text-align: right;\n    }\n</style>\n<table border=\"1\" class=\"dataframe\">\n  <thead>\n    <tr style=\"text-align: right;\">\n      <th></th>\n      <th>B</th>\n      <th>C</th>\n    </tr>\n  </thead>\n  <tbody>\n    <tr>\n      <th>2</th>\n      <td>-1.409341</td>\n      <td>0.522388</td>\n    </tr>\n    <tr>\n      <th>3</th>\n      <td>1.268201</td>\n      <td>-2.535409</td>\n    </tr>\n  </tbody>\n</table>\n</div>"
     },
     "metadata": {},
     "execution_count": 30
    }
   ],
   "source": [
    "df.iloc[2:4,1:3]"
   ]
  },
  {
   "cell_type": "code",
   "execution_count": 31,
   "metadata": {},
   "outputs": [
    {
     "output_type": "execute_result",
     "data": {
      "text/plain": [
       "          B         D\n",
       "2 -1.409341  0.981942\n",
       "4 -1.759767  0.373842\n",
       "6 -0.025470  0.517882"
      ],
      "text/html": "<div>\n<style scoped>\n    .dataframe tbody tr th:only-of-type {\n        vertical-align: middle;\n    }\n\n    .dataframe tbody tr th {\n        vertical-align: top;\n    }\n\n    .dataframe thead th {\n        text-align: right;\n    }\n</style>\n<table border=\"1\" class=\"dataframe\">\n  <thead>\n    <tr style=\"text-align: right;\">\n      <th></th>\n      <th>B</th>\n      <th>D</th>\n    </tr>\n  </thead>\n  <tbody>\n    <tr>\n      <th>2</th>\n      <td>-1.409341</td>\n      <td>0.981942</td>\n    </tr>\n    <tr>\n      <th>4</th>\n      <td>-1.759767</td>\n      <td>0.373842</td>\n    </tr>\n    <tr>\n      <th>6</th>\n      <td>-0.025470</td>\n      <td>0.517882</td>\n    </tr>\n  </tbody>\n</table>\n</div>"
     },
     "metadata": {},
     "execution_count": 31
    }
   ],
   "source": [
    "# Slicing through list of values\n",
    "df.iloc[[2, 4, 6], [1, 3]]"
   ]
  },
  {
   "cell_type": "code",
   "execution_count": 32,
   "metadata": {},
   "outputs": [
    {
     "output_type": "execute_result",
     "data": {
      "text/plain": [
       "          A         B         C         D\n",
       "1 -0.280544 -0.579950 -1.115814 -0.120316\n",
       "2 -1.515031 -1.409341  0.522388  0.981942"
      ],
      "text/html": "<div>\n<style scoped>\n    .dataframe tbody tr th:only-of-type {\n        vertical-align: middle;\n    }\n\n    .dataframe tbody tr th {\n        vertical-align: top;\n    }\n\n    .dataframe thead th {\n        text-align: right;\n    }\n</style>\n<table border=\"1\" class=\"dataframe\">\n  <thead>\n    <tr style=\"text-align: right;\">\n      <th></th>\n      <th>A</th>\n      <th>B</th>\n      <th>C</th>\n      <th>D</th>\n    </tr>\n  </thead>\n  <tbody>\n    <tr>\n      <th>1</th>\n      <td>-0.280544</td>\n      <td>-0.579950</td>\n      <td>-1.115814</td>\n      <td>-0.120316</td>\n    </tr>\n    <tr>\n      <th>2</th>\n      <td>-1.515031</td>\n      <td>-1.409341</td>\n      <td>0.522388</td>\n      <td>0.981942</td>\n    </tr>\n  </tbody>\n</table>\n</div>"
     },
     "metadata": {},
     "execution_count": 32
    }
   ],
   "source": [
    "# Slicing through list of values\n",
    "df.iloc[1:3,:]"
   ]
  },
  {
   "cell_type": "code",
   "execution_count": 33,
   "metadata": {},
   "outputs": [
    {
     "output_type": "execute_result",
     "data": {
      "text/plain": [
       "          A         B         C         D\n",
       "1 -0.280544 -0.579950 -1.115814 -0.120316\n",
       "2 -1.515031 -1.409341  0.522388  0.981942"
      ],
      "text/html": "<div>\n<style scoped>\n    .dataframe tbody tr th:only-of-type {\n        vertical-align: middle;\n    }\n\n    .dataframe tbody tr th {\n        vertical-align: top;\n    }\n\n    .dataframe thead th {\n        text-align: right;\n    }\n</style>\n<table border=\"1\" class=\"dataframe\">\n  <thead>\n    <tr style=\"text-align: right;\">\n      <th></th>\n      <th>A</th>\n      <th>B</th>\n      <th>C</th>\n      <th>D</th>\n    </tr>\n  </thead>\n  <tbody>\n    <tr>\n      <th>1</th>\n      <td>-0.280544</td>\n      <td>-0.579950</td>\n      <td>-1.115814</td>\n      <td>-0.120316</td>\n    </tr>\n    <tr>\n      <th>2</th>\n      <td>-1.515031</td>\n      <td>-1.409341</td>\n      <td>0.522388</td>\n      <td>0.981942</td>\n    </tr>\n  </tbody>\n</table>\n</div>"
     },
     "metadata": {},
     "execution_count": 33
    }
   ],
   "source": [
    "# Slicing through list of values\n",
    "df.iloc[1:3]"
   ]
  },
  {
   "cell_type": "code",
   "execution_count": 34,
   "metadata": {},
   "outputs": [
    {
     "output_type": "execute_result",
     "data": {
      "text/plain": [
       "          B         C\n",
       "0  1.601479 -2.113351\n",
       "1 -0.579950 -1.115814\n",
       "2 -1.409341  0.522388\n",
       "3  1.268201 -2.535409\n",
       "4 -1.759767 -0.289831\n",
       "5  0.281784 -0.373822\n",
       "6 -0.025470 -0.647116\n",
       "7  0.427752  0.928001"
      ],
      "text/html": "<div>\n<style scoped>\n    .dataframe tbody tr th:only-of-type {\n        vertical-align: middle;\n    }\n\n    .dataframe tbody tr th {\n        vertical-align: top;\n    }\n\n    .dataframe thead th {\n        text-align: right;\n    }\n</style>\n<table border=\"1\" class=\"dataframe\">\n  <thead>\n    <tr style=\"text-align: right;\">\n      <th></th>\n      <th>B</th>\n      <th>C</th>\n    </tr>\n  </thead>\n  <tbody>\n    <tr>\n      <th>0</th>\n      <td>1.601479</td>\n      <td>-2.113351</td>\n    </tr>\n    <tr>\n      <th>1</th>\n      <td>-0.579950</td>\n      <td>-1.115814</td>\n    </tr>\n    <tr>\n      <th>2</th>\n      <td>-1.409341</td>\n      <td>0.522388</td>\n    </tr>\n    <tr>\n      <th>3</th>\n      <td>1.268201</td>\n      <td>-2.535409</td>\n    </tr>\n    <tr>\n      <th>4</th>\n      <td>-1.759767</td>\n      <td>-0.289831</td>\n    </tr>\n    <tr>\n      <th>5</th>\n      <td>0.281784</td>\n      <td>-0.373822</td>\n    </tr>\n    <tr>\n      <th>6</th>\n      <td>-0.025470</td>\n      <td>-0.647116</td>\n    </tr>\n    <tr>\n      <th>7</th>\n      <td>0.427752</td>\n      <td>0.928001</td>\n    </tr>\n  </tbody>\n</table>\n</div>"
     },
     "metadata": {},
     "execution_count": 34
    }
   ],
   "source": [
    "# Slicing through list of values\n",
    "df.iloc[:,1:3]"
   ]
  },
  {
   "cell_type": "code",
   "execution_count": 35,
   "metadata": {},
   "outputs": [
    {
     "output_type": "execute_result",
     "data": {
      "text/plain": [
       "          B         D\n",
       "0  1.601479  0.976180\n",
       "1 -0.579950 -0.120316\n",
       "2 -1.409341  0.981942\n",
       "3  1.268201  0.617580\n",
       "4 -1.759767  0.373842\n",
       "5  0.281784 -1.296222\n",
       "6 -0.025470  0.517882\n",
       "7  0.427752  0.251673"
      ],
      "text/html": "<div>\n<style scoped>\n    .dataframe tbody tr th:only-of-type {\n        vertical-align: middle;\n    }\n\n    .dataframe tbody tr th {\n        vertical-align: top;\n    }\n\n    .dataframe thead th {\n        text-align: right;\n    }\n</style>\n<table border=\"1\" class=\"dataframe\">\n  <thead>\n    <tr style=\"text-align: right;\">\n      <th></th>\n      <th>B</th>\n      <th>D</th>\n    </tr>\n  </thead>\n  <tbody>\n    <tr>\n      <th>0</th>\n      <td>1.601479</td>\n      <td>0.976180</td>\n    </tr>\n    <tr>\n      <th>1</th>\n      <td>-0.579950</td>\n      <td>-0.120316</td>\n    </tr>\n    <tr>\n      <th>2</th>\n      <td>-1.409341</td>\n      <td>0.981942</td>\n    </tr>\n    <tr>\n      <th>3</th>\n      <td>1.268201</td>\n      <td>0.617580</td>\n    </tr>\n    <tr>\n      <th>4</th>\n      <td>-1.759767</td>\n      <td>0.373842</td>\n    </tr>\n    <tr>\n      <th>5</th>\n      <td>0.281784</td>\n      <td>-1.296222</td>\n    </tr>\n    <tr>\n      <th>6</th>\n      <td>-0.025470</td>\n      <td>0.517882</td>\n    </tr>\n    <tr>\n      <th>7</th>\n      <td>0.427752</td>\n      <td>0.251673</td>\n    </tr>\n  </tbody>\n</table>\n</div>"
     },
     "metadata": {},
     "execution_count": 35
    }
   ],
   "source": [
    "df.iloc[:,[1,3]]"
   ]
  }
 ]
}