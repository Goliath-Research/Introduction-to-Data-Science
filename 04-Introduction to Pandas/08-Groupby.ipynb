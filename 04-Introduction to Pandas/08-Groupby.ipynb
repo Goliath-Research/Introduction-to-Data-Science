{
 "metadata": {
  "language_info": {
   "codemirror_mode": {
    "name": "ipython",
    "version": 3
   },
   "file_extension": ".py",
   "mimetype": "text/x-python",
   "name": "python",
   "nbconvert_exporter": "python",
   "pygments_lexer": "ipython3",
   "version": "3.9.1-final"
  },
  "orig_nbformat": 2,
  "kernelspec": {
   "name": "python3",
   "display_name": "Python 3.9.1 64-bit",
   "metadata": {
    "interpreter": {
     "hash": "63fd5069d213b44bf678585dea6b12cceca9941eaf7f819626cde1f2670de90d"
    }
   }
  }
 },
 "nbformat": 4,
 "nbformat_minor": 2,
 "cells": [
  {
   "source": [
    "# Groupby"
   ],
   "cell_type": "markdown",
   "metadata": {}
  },
  {
   "source": [
    "Any groupby operation involves one of the following operations on the original object: <br> \n",
    "1. Splitting the data into groups based on some criteria <br> \n",
    "2. Applying a function to each group independently <br> \n",
    "3. Combining the results  <br> \n",
    "\n",
    "In many situations, we split the data into sets and we apply some functionality on each subset. In the apply functionality, we can perform the following operations:  <br> \n",
    "1. `Aggregation`: computing a summary statistic <br> \n",
    "2. `Transformation`: perform some group-specific operation <br> \n",
    "3. `Filtration`: discarding the data with some condition"
   ],
   "cell_type": "markdown",
   "metadata": {}
  },
  {
   "cell_type": "code",
   "execution_count": 1,
   "metadata": {},
   "outputs": [],
   "source": [
    "# !pip install numpy\n",
    "# !pip install pandas"
   ]
  },
  {
   "cell_type": "code",
   "execution_count": 2,
   "metadata": {},
   "outputs": [],
   "source": [
    "import numpy as np\n",
    "import pandas as pd"
   ]
  },
  {
   "cell_type": "code",
   "execution_count": 3,
   "metadata": {},
   "outputs": [
    {
     "output_type": "execute_result",
     "data": {
      "text/plain": [
       "   Team  Rank  Year  Points\n",
       "0     A     1  2014     876\n",
       "1     A     2  2015     789\n",
       "2     B     2  2014     863\n",
       "3     B     3  2015     673\n",
       "4     C     3  2014     741\n",
       "5     C     4  2015     812\n",
       "6     C     1  2016     756\n",
       "7     C     1  2017     788\n",
       "8     A     2  2016     694\n",
       "9     D     4  2014     701\n",
       "10    D     1  2015     804\n",
       "11    A     2  2017     690"
      ],
      "text/html": "<div>\n<style scoped>\n    .dataframe tbody tr th:only-of-type {\n        vertical-align: middle;\n    }\n\n    .dataframe tbody tr th {\n        vertical-align: top;\n    }\n\n    .dataframe thead th {\n        text-align: right;\n    }\n</style>\n<table border=\"1\" class=\"dataframe\">\n  <thead>\n    <tr style=\"text-align: right;\">\n      <th></th>\n      <th>Team</th>\n      <th>Rank</th>\n      <th>Year</th>\n      <th>Points</th>\n    </tr>\n  </thead>\n  <tbody>\n    <tr>\n      <th>0</th>\n      <td>A</td>\n      <td>1</td>\n      <td>2014</td>\n      <td>876</td>\n    </tr>\n    <tr>\n      <th>1</th>\n      <td>A</td>\n      <td>2</td>\n      <td>2015</td>\n      <td>789</td>\n    </tr>\n    <tr>\n      <th>2</th>\n      <td>B</td>\n      <td>2</td>\n      <td>2014</td>\n      <td>863</td>\n    </tr>\n    <tr>\n      <th>3</th>\n      <td>B</td>\n      <td>3</td>\n      <td>2015</td>\n      <td>673</td>\n    </tr>\n    <tr>\n      <th>4</th>\n      <td>C</td>\n      <td>3</td>\n      <td>2014</td>\n      <td>741</td>\n    </tr>\n    <tr>\n      <th>5</th>\n      <td>C</td>\n      <td>4</td>\n      <td>2015</td>\n      <td>812</td>\n    </tr>\n    <tr>\n      <th>6</th>\n      <td>C</td>\n      <td>1</td>\n      <td>2016</td>\n      <td>756</td>\n    </tr>\n    <tr>\n      <th>7</th>\n      <td>C</td>\n      <td>1</td>\n      <td>2017</td>\n      <td>788</td>\n    </tr>\n    <tr>\n      <th>8</th>\n      <td>A</td>\n      <td>2</td>\n      <td>2016</td>\n      <td>694</td>\n    </tr>\n    <tr>\n      <th>9</th>\n      <td>D</td>\n      <td>4</td>\n      <td>2014</td>\n      <td>701</td>\n    </tr>\n    <tr>\n      <th>10</th>\n      <td>D</td>\n      <td>1</td>\n      <td>2015</td>\n      <td>804</td>\n    </tr>\n    <tr>\n      <th>11</th>\n      <td>A</td>\n      <td>2</td>\n      <td>2017</td>\n      <td>690</td>\n    </tr>\n  </tbody>\n</table>\n</div>"
     },
     "metadata": {},
     "execution_count": 3
    }
   ],
   "source": [
    "data = {'Team': ['A', 'A', 'B', 'B', 'C', 'C', 'C', 'C', 'A', 'D', 'D', 'A'],\n",
    "   'Rank': [1, 2, 2, 3, 3, 4, 1, 1, 2, 4, 1, 2],\n",
    "   'Year': [2014,2015,2014,2015,2014,2015,2016,2017,2016,2014,2015,2017],\n",
    "   'Points':[876,789,863,673,741,812,756,788,694,701,804,690]}\n",
    "df = pd.DataFrame(data)\n",
    "df"
   ]
  },
  {
   "cell_type": "code",
   "execution_count": 4,
   "metadata": {},
   "outputs": [
    {
     "output_type": "execute_result",
     "data": {
      "text/plain": [
       "<pandas.core.groupby.generic.DataFrameGroupBy object at 0x000001F7C47737C0>"
      ]
     },
     "metadata": {},
     "execution_count": 4
    }
   ],
   "source": [
    "# split data by Team\n",
    "df.groupby('Team')"
   ]
  },
  {
   "cell_type": "code",
   "execution_count": 5,
   "metadata": {},
   "outputs": [
    {
     "output_type": "execute_result",
     "data": {
      "text/plain": [
       "{'A': [0, 1, 8, 11], 'B': [2, 3], 'C': [4, 5, 6, 7], 'D': [9, 10]}"
      ]
     },
     "metadata": {},
     "execution_count": 5
    }
   ],
   "source": [
    "# view groups\n",
    "df.groupby('Team').groups"
   ]
  },
  {
   "cell_type": "code",
   "execution_count": 6,
   "metadata": {},
   "outputs": [
    {
     "output_type": "execute_result",
     "data": {
      "text/plain": [
       "Team\n",
       "A    4\n",
       "B    2\n",
       "C    4\n",
       "D    2\n",
       "dtype: int64"
      ]
     },
     "metadata": {},
     "execution_count": 6
    }
   ],
   "source": [
    "# get the size of the groups\n",
    "df.groupby('Team').size()"
   ]
  },
  {
   "cell_type": "code",
   "execution_count": 7,
   "metadata": {},
   "outputs": [
    {
     "output_type": "execute_result",
     "data": {
      "text/plain": [
       "{('A', 2014): [0], ('A', 2015): [1], ('A', 2016): [8], ('A', 2017): [11], ('B', 2014): [2], ('B', 2015): [3], ('C', 2014): [4], ('C', 2015): [5], ('C', 2016): [6], ('C', 2017): [7], ('D', 2014): [9], ('D', 2015): [10]}"
      ]
     },
     "metadata": {},
     "execution_count": 7
    }
   ],
   "source": [
    "# groupby with multiple columns\n",
    "df.groupby(['Team','Year']).groups"
   ]
  },
  {
   "cell_type": "code",
   "execution_count": 8,
   "metadata": {
    "tags": []
   },
   "outputs": [
    {
     "output_type": "stream",
     "name": "stdout",
     "text": [
      "A\n   Team  Rank  Year  Points\n0     A     1  2014     876\n1     A     2  2015     789\n8     A     2  2016     694\n11    A     2  2017     690\nB\n  Team  Rank  Year  Points\n2    B     2  2014     863\n3    B     3  2015     673\nC\n  Team  Rank  Year  Points\n4    C     3  2014     741\n5    C     4  2015     812\n6    C     1  2016     756\n7    C     1  2017     788\nD\n   Team  Rank  Year  Points\n9     D     4  2014     701\n10    D     1  2015     804\n"
     ]
    }
   ],
   "source": [
    "# Iterating through groups\n",
    "t = df.groupby('Team')\n",
    "for name,group in t:\n",
    "    print(name)\n",
    "    print(group)"
   ]
  },
  {
   "cell_type": "code",
   "execution_count": 9,
   "metadata": {},
   "outputs": [
    {
     "output_type": "execute_result",
     "data": {
      "text/plain": [
       "   Team  Rank  Year  Points\n",
       "0     A     1  2014     876\n",
       "1     A     2  2015     789\n",
       "8     A     2  2016     694\n",
       "11    A     2  2017     690"
      ],
      "text/html": "<div>\n<style scoped>\n    .dataframe tbody tr th:only-of-type {\n        vertical-align: middle;\n    }\n\n    .dataframe tbody tr th {\n        vertical-align: top;\n    }\n\n    .dataframe thead th {\n        text-align: right;\n    }\n</style>\n<table border=\"1\" class=\"dataframe\">\n  <thead>\n    <tr style=\"text-align: right;\">\n      <th></th>\n      <th>Team</th>\n      <th>Rank</th>\n      <th>Year</th>\n      <th>Points</th>\n    </tr>\n  </thead>\n  <tbody>\n    <tr>\n      <th>0</th>\n      <td>A</td>\n      <td>1</td>\n      <td>2014</td>\n      <td>876</td>\n    </tr>\n    <tr>\n      <th>1</th>\n      <td>A</td>\n      <td>2</td>\n      <td>2015</td>\n      <td>789</td>\n    </tr>\n    <tr>\n      <th>8</th>\n      <td>A</td>\n      <td>2</td>\n      <td>2016</td>\n      <td>694</td>\n    </tr>\n    <tr>\n      <th>11</th>\n      <td>A</td>\n      <td>2</td>\n      <td>2017</td>\n      <td>690</td>\n    </tr>\n  </tbody>\n</table>\n</div>"
     },
     "metadata": {},
     "execution_count": 9
    }
   ],
   "source": [
    "# get_group: we can select a single group\n",
    "t.get_group('A')"
   ]
  },
  {
   "cell_type": "code",
   "execution_count": 10,
   "metadata": {},
   "outputs": [
    {
     "output_type": "execute_result",
     "data": {
      "text/plain": [
       "   Team  Rank  Year  Points\n",
       "9     D     4  2014     701\n",
       "10    D     1  2015     804"
      ],
      "text/html": "<div>\n<style scoped>\n    .dataframe tbody tr th:only-of-type {\n        vertical-align: middle;\n    }\n\n    .dataframe tbody tr th {\n        vertical-align: top;\n    }\n\n    .dataframe thead th {\n        text-align: right;\n    }\n</style>\n<table border=\"1\" class=\"dataframe\">\n  <thead>\n    <tr style=\"text-align: right;\">\n      <th></th>\n      <th>Team</th>\n      <th>Rank</th>\n      <th>Year</th>\n      <th>Points</th>\n    </tr>\n  </thead>\n  <tbody>\n    <tr>\n      <th>9</th>\n      <td>D</td>\n      <td>4</td>\n      <td>2014</td>\n      <td>701</td>\n    </tr>\n    <tr>\n      <th>10</th>\n      <td>D</td>\n      <td>1</td>\n      <td>2015</td>\n      <td>804</td>\n    </tr>\n  </tbody>\n</table>\n</div>"
     },
     "metadata": {},
     "execution_count": 10
    }
   ],
   "source": [
    "t.get_group('D')"
   ]
  },
  {
   "source": [
    "`aggregations`: An aggregated function returns a single aggregated value for each group. Once the group by object is created, several aggregation operations can be performed on the grouped data."
   ],
   "cell_type": "markdown",
   "metadata": {}
  },
  {
   "cell_type": "code",
   "execution_count": 11,
   "metadata": {},
   "outputs": [
    {
     "output_type": "execute_result",
     "data": {
      "text/plain": [
       "      Rank    Year  Points\n",
       "Team                      \n",
       "A     1.75  2015.5  762.25\n",
       "B     2.50  2014.5  768.00\n",
       "C     2.25  2015.5  774.25\n",
       "D     2.50  2014.5  752.50"
      ],
      "text/html": "<div>\n<style scoped>\n    .dataframe tbody tr th:only-of-type {\n        vertical-align: middle;\n    }\n\n    .dataframe tbody tr th {\n        vertical-align: top;\n    }\n\n    .dataframe thead th {\n        text-align: right;\n    }\n</style>\n<table border=\"1\" class=\"dataframe\">\n  <thead>\n    <tr style=\"text-align: right;\">\n      <th></th>\n      <th>Rank</th>\n      <th>Year</th>\n      <th>Points</th>\n    </tr>\n    <tr>\n      <th>Team</th>\n      <th></th>\n      <th></th>\n      <th></th>\n    </tr>\n  </thead>\n  <tbody>\n    <tr>\n      <th>A</th>\n      <td>1.75</td>\n      <td>2015.5</td>\n      <td>762.25</td>\n    </tr>\n    <tr>\n      <th>B</th>\n      <td>2.50</td>\n      <td>2014.5</td>\n      <td>768.00</td>\n    </tr>\n    <tr>\n      <th>C</th>\n      <td>2.25</td>\n      <td>2015.5</td>\n      <td>774.25</td>\n    </tr>\n    <tr>\n      <th>D</th>\n      <td>2.50</td>\n      <td>2014.5</td>\n      <td>752.50</td>\n    </tr>\n  </tbody>\n</table>\n</div>"
     },
     "metadata": {},
     "execution_count": 11
    }
   ],
   "source": [
    "t.agg(np.mean)"
   ]
  },
  {
   "cell_type": "code",
   "execution_count": 12,
   "metadata": {},
   "outputs": [
    {
     "output_type": "execute_result",
     "data": {
      "text/plain": [
       "     Rank                 Year                     Points                  \n",
       "     size amin  mean amax size  amin    mean  amax   size amin    mean amax\n",
       "Team                                                                       \n",
       "A       4    1  1.75    2    4  2014  2015.5  2017      4  690  762.25  876\n",
       "B       2    2  2.50    3    2  2014  2014.5  2015      2  673  768.00  863\n",
       "C       4    1  2.25    4    4  2014  2015.5  2017      4  741  774.25  812\n",
       "D       2    1  2.50    4    2  2014  2014.5  2015      2  701  752.50  804"
      ],
      "text/html": "<div>\n<style scoped>\n    .dataframe tbody tr th:only-of-type {\n        vertical-align: middle;\n    }\n\n    .dataframe tbody tr th {\n        vertical-align: top;\n    }\n\n    .dataframe thead tr th {\n        text-align: left;\n    }\n\n    .dataframe thead tr:last-of-type th {\n        text-align: right;\n    }\n</style>\n<table border=\"1\" class=\"dataframe\">\n  <thead>\n    <tr>\n      <th></th>\n      <th colspan=\"4\" halign=\"left\">Rank</th>\n      <th colspan=\"4\" halign=\"left\">Year</th>\n      <th colspan=\"4\" halign=\"left\">Points</th>\n    </tr>\n    <tr>\n      <th></th>\n      <th>size</th>\n      <th>amin</th>\n      <th>mean</th>\n      <th>amax</th>\n      <th>size</th>\n      <th>amin</th>\n      <th>mean</th>\n      <th>amax</th>\n      <th>size</th>\n      <th>amin</th>\n      <th>mean</th>\n      <th>amax</th>\n    </tr>\n    <tr>\n      <th>Team</th>\n      <th></th>\n      <th></th>\n      <th></th>\n      <th></th>\n      <th></th>\n      <th></th>\n      <th></th>\n      <th></th>\n      <th></th>\n      <th></th>\n      <th></th>\n      <th></th>\n    </tr>\n  </thead>\n  <tbody>\n    <tr>\n      <th>A</th>\n      <td>4</td>\n      <td>1</td>\n      <td>1.75</td>\n      <td>2</td>\n      <td>4</td>\n      <td>2014</td>\n      <td>2015.5</td>\n      <td>2017</td>\n      <td>4</td>\n      <td>690</td>\n      <td>762.25</td>\n      <td>876</td>\n    </tr>\n    <tr>\n      <th>B</th>\n      <td>2</td>\n      <td>2</td>\n      <td>2.50</td>\n      <td>3</td>\n      <td>2</td>\n      <td>2014</td>\n      <td>2014.5</td>\n      <td>2015</td>\n      <td>2</td>\n      <td>673</td>\n      <td>768.00</td>\n      <td>863</td>\n    </tr>\n    <tr>\n      <th>C</th>\n      <td>4</td>\n      <td>1</td>\n      <td>2.25</td>\n      <td>4</td>\n      <td>4</td>\n      <td>2014</td>\n      <td>2015.5</td>\n      <td>2017</td>\n      <td>4</td>\n      <td>741</td>\n      <td>774.25</td>\n      <td>812</td>\n    </tr>\n    <tr>\n      <th>D</th>\n      <td>2</td>\n      <td>1</td>\n      <td>2.50</td>\n      <td>4</td>\n      <td>2</td>\n      <td>2014</td>\n      <td>2014.5</td>\n      <td>2015</td>\n      <td>2</td>\n      <td>701</td>\n      <td>752.50</td>\n      <td>804</td>\n    </tr>\n  </tbody>\n</table>\n</div>"
     },
     "metadata": {},
     "execution_count": 12
    }
   ],
   "source": [
    "t.agg([np.size, np.min, np.mean, np.max])"
   ]
  },
  {
   "cell_type": "code",
   "execution_count": 13,
   "metadata": {},
   "outputs": [
    {
     "output_type": "execute_result",
     "data": {
      "text/plain": [
       "      size   sum    mean         std\n",
       "Team                                \n",
       "A        4  3049  762.25   88.567771\n",
       "B        2  1536  768.00  134.350288\n",
       "C        4  3097  774.25   31.899582\n",
       "D        2  1505  752.50   72.831998"
      ],
      "text/html": "<div>\n<style scoped>\n    .dataframe tbody tr th:only-of-type {\n        vertical-align: middle;\n    }\n\n    .dataframe tbody tr th {\n        vertical-align: top;\n    }\n\n    .dataframe thead th {\n        text-align: right;\n    }\n</style>\n<table border=\"1\" class=\"dataframe\">\n  <thead>\n    <tr style=\"text-align: right;\">\n      <th></th>\n      <th>size</th>\n      <th>sum</th>\n      <th>mean</th>\n      <th>std</th>\n    </tr>\n    <tr>\n      <th>Team</th>\n      <th></th>\n      <th></th>\n      <th></th>\n      <th></th>\n    </tr>\n  </thead>\n  <tbody>\n    <tr>\n      <th>A</th>\n      <td>4</td>\n      <td>3049</td>\n      <td>762.25</td>\n      <td>88.567771</td>\n    </tr>\n    <tr>\n      <th>B</th>\n      <td>2</td>\n      <td>1536</td>\n      <td>768.00</td>\n      <td>134.350288</td>\n    </tr>\n    <tr>\n      <th>C</th>\n      <td>4</td>\n      <td>3097</td>\n      <td>774.25</td>\n      <td>31.899582</td>\n    </tr>\n    <tr>\n      <th>D</th>\n      <td>2</td>\n      <td>1505</td>\n      <td>752.50</td>\n      <td>72.831998</td>\n    </tr>\n  </tbody>\n</table>\n</div>"
     },
     "metadata": {},
     "execution_count": 13
    }
   ],
   "source": [
    "t['Points'].agg([np.size, np.sum, np.mean, np.std])"
   ]
  },
  {
   "cell_type": "code",
   "execution_count": 14,
   "metadata": {},
   "outputs": [
    {
     "output_type": "execute_result",
     "data": {
      "text/plain": [
       "Team\n",
       "A    7\n",
       "B    5\n",
       "C    9\n",
       "D    5\n",
       "Name: Rank, dtype: int64"
      ]
     },
     "metadata": {},
     "execution_count": 14
    }
   ],
   "source": [
    "t['Rank'].sum()"
   ]
  },
  {
   "source": [
    "`Transformation methods`: return a DataFrame with the same shape and indices as the original, but with different values. "
   ],
   "cell_type": "markdown",
   "metadata": {}
  },
  {
   "cell_type": "code",
   "execution_count": 15,
   "metadata": {},
   "outputs": [],
   "source": [
    "t = df.groupby('Team')"
   ]
  },
  {
   "cell_type": "code",
   "execution_count": 16,
   "metadata": {},
   "outputs": [],
   "source": [
    "score = lambda x: (x - x.mean()) / x.std()"
   ]
  },
  {
   "cell_type": "code",
   "execution_count": 17,
   "metadata": {},
   "outputs": [
    {
     "output_type": "execute_result",
     "data": {
      "text/plain": [
       "        Rank      Year    Points\n",
       "0  -1.500000 -1.161895  1.284327\n",
       "1   0.500000 -0.387298  0.302029\n",
       "2  -0.707107 -0.707107  0.707107\n",
       "3   0.707107  0.707107 -0.707107\n",
       "4   0.500000 -1.161895 -1.042333\n",
       "5   1.166667 -0.387298  1.183401\n",
       "6  -0.833333  0.387298 -0.572108\n",
       "7  -0.833333  1.161895  0.431040\n",
       "8   0.500000  0.387298 -0.770596\n",
       "9   0.707107 -0.707107 -0.707107\n",
       "10 -0.707107  0.707107  0.707107\n",
       "11  0.500000  1.161895 -0.815759"
      ],
      "text/html": "<div>\n<style scoped>\n    .dataframe tbody tr th:only-of-type {\n        vertical-align: middle;\n    }\n\n    .dataframe tbody tr th {\n        vertical-align: top;\n    }\n\n    .dataframe thead th {\n        text-align: right;\n    }\n</style>\n<table border=\"1\" class=\"dataframe\">\n  <thead>\n    <tr style=\"text-align: right;\">\n      <th></th>\n      <th>Rank</th>\n      <th>Year</th>\n      <th>Points</th>\n    </tr>\n  </thead>\n  <tbody>\n    <tr>\n      <th>0</th>\n      <td>-1.500000</td>\n      <td>-1.161895</td>\n      <td>1.284327</td>\n    </tr>\n    <tr>\n      <th>1</th>\n      <td>0.500000</td>\n      <td>-0.387298</td>\n      <td>0.302029</td>\n    </tr>\n    <tr>\n      <th>2</th>\n      <td>-0.707107</td>\n      <td>-0.707107</td>\n      <td>0.707107</td>\n    </tr>\n    <tr>\n      <th>3</th>\n      <td>0.707107</td>\n      <td>0.707107</td>\n      <td>-0.707107</td>\n    </tr>\n    <tr>\n      <th>4</th>\n      <td>0.500000</td>\n      <td>-1.161895</td>\n      <td>-1.042333</td>\n    </tr>\n    <tr>\n      <th>5</th>\n      <td>1.166667</td>\n      <td>-0.387298</td>\n      <td>1.183401</td>\n    </tr>\n    <tr>\n      <th>6</th>\n      <td>-0.833333</td>\n      <td>0.387298</td>\n      <td>-0.572108</td>\n    </tr>\n    <tr>\n      <th>7</th>\n      <td>-0.833333</td>\n      <td>1.161895</td>\n      <td>0.431040</td>\n    </tr>\n    <tr>\n      <th>8</th>\n      <td>0.500000</td>\n      <td>0.387298</td>\n      <td>-0.770596</td>\n    </tr>\n    <tr>\n      <th>9</th>\n      <td>0.707107</td>\n      <td>-0.707107</td>\n      <td>-0.707107</td>\n    </tr>\n    <tr>\n      <th>10</th>\n      <td>-0.707107</td>\n      <td>0.707107</td>\n      <td>0.707107</td>\n    </tr>\n    <tr>\n      <th>11</th>\n      <td>0.500000</td>\n      <td>1.161895</td>\n      <td>-0.815759</td>\n    </tr>\n  </tbody>\n</table>\n</div>"
     },
     "metadata": {},
     "execution_count": 17
    }
   ],
   "source": [
    "t.transform(score)"
   ]
  },
  {
   "cell_type": "code",
   "execution_count": 18,
   "metadata": {},
   "outputs": [
    {
     "output_type": "execute_result",
     "data": {
      "text/plain": [
       "{'A': [0, 1, 8, 11], 'B': [2, 3], 'C': [4, 5, 6, 7], 'D': [9, 10]}"
      ]
     },
     "metadata": {},
     "execution_count": 18
    }
   ],
   "source": [
    "t.groups"
   ]
  },
  {
   "source": [
    "The mean of Points is calculated by groups. For instance, indexes 2 and 3 belong to group B. Observe he mean is the same: 768.00. The result has the same shape and indices as the original."
   ],
   "cell_type": "markdown",
   "metadata": {}
  },
  {
   "cell_type": "code",
   "execution_count": 19,
   "metadata": {},
   "outputs": [
    {
     "output_type": "execute_result",
     "data": {
      "text/plain": [
       "0     762.25\n",
       "1     762.25\n",
       "2     768.00\n",
       "3     768.00\n",
       "4     774.25\n",
       "5     774.25\n",
       "6     774.25\n",
       "7     774.25\n",
       "8     762.25\n",
       "9     752.50\n",
       "10    752.50\n",
       "11    762.25\n",
       "Name: Points, dtype: float64"
      ]
     },
     "metadata": {},
     "execution_count": 19
    }
   ],
   "source": [
    "t['Points'].transform(lambda x: x.mean())"
   ]
  },
  {
   "source": [
    "`filter()`: it is used to filter the data"
   ],
   "cell_type": "markdown",
   "metadata": {}
  },
  {
   "cell_type": "code",
   "execution_count": 20,
   "metadata": {},
   "outputs": [
    {
     "output_type": "execute_result",
     "data": {
      "text/plain": [
       "{'A': [0, 1, 8, 11], 'B': [2, 3], 'C': [4, 5, 6, 7], 'D': [9, 10]}"
      ]
     },
     "metadata": {},
     "execution_count": 20
    }
   ],
   "source": [
    "t.groups"
   ]
  },
  {
   "cell_type": "code",
   "execution_count": 21,
   "metadata": {},
   "outputs": [
    {
     "output_type": "execute_result",
     "data": {
      "text/plain": [
       "   Team  Rank  Year  Points\n",
       "2     B     2  2014     863\n",
       "3     B     3  2015     673\n",
       "9     D     4  2014     701\n",
       "10    D     1  2015     804"
      ],
      "text/html": "<div>\n<style scoped>\n    .dataframe tbody tr th:only-of-type {\n        vertical-align: middle;\n    }\n\n    .dataframe tbody tr th {\n        vertical-align: top;\n    }\n\n    .dataframe thead th {\n        text-align: right;\n    }\n</style>\n<table border=\"1\" class=\"dataframe\">\n  <thead>\n    <tr style=\"text-align: right;\">\n      <th></th>\n      <th>Team</th>\n      <th>Rank</th>\n      <th>Year</th>\n      <th>Points</th>\n    </tr>\n  </thead>\n  <tbody>\n    <tr>\n      <th>2</th>\n      <td>B</td>\n      <td>2</td>\n      <td>2014</td>\n      <td>863</td>\n    </tr>\n    <tr>\n      <th>3</th>\n      <td>B</td>\n      <td>3</td>\n      <td>2015</td>\n      <td>673</td>\n    </tr>\n    <tr>\n      <th>9</th>\n      <td>D</td>\n      <td>4</td>\n      <td>2014</td>\n      <td>701</td>\n    </tr>\n    <tr>\n      <th>10</th>\n      <td>D</td>\n      <td>1</td>\n      <td>2015</td>\n      <td>804</td>\n    </tr>\n  </tbody>\n</table>\n</div>"
     },
     "metadata": {},
     "execution_count": 21
    }
   ],
   "source": [
    "t.filter(lambda x: len(x)==2)"
   ]
  },
  {
   "cell_type": "code",
   "execution_count": 22,
   "metadata": {},
   "outputs": [
    {
     "output_type": "execute_result",
     "data": {
      "text/plain": [
       "   Team  Rank  Year  Points\n",
       "4     C     3  2014     741\n",
       "5     C     4  2015     812\n",
       "6     C     1  2016     756\n",
       "7     C     1  2017     788\n",
       "9     D     4  2014     701\n",
       "10    D     1  2015     804"
      ],
      "text/html": "<div>\n<style scoped>\n    .dataframe tbody tr th:only-of-type {\n        vertical-align: middle;\n    }\n\n    .dataframe tbody tr th {\n        vertical-align: top;\n    }\n\n    .dataframe thead th {\n        text-align: right;\n    }\n</style>\n<table border=\"1\" class=\"dataframe\">\n  <thead>\n    <tr style=\"text-align: right;\">\n      <th></th>\n      <th>Team</th>\n      <th>Rank</th>\n      <th>Year</th>\n      <th>Points</th>\n    </tr>\n  </thead>\n  <tbody>\n    <tr>\n      <th>4</th>\n      <td>C</td>\n      <td>3</td>\n      <td>2014</td>\n      <td>741</td>\n    </tr>\n    <tr>\n      <th>5</th>\n      <td>C</td>\n      <td>4</td>\n      <td>2015</td>\n      <td>812</td>\n    </tr>\n    <tr>\n      <th>6</th>\n      <td>C</td>\n      <td>1</td>\n      <td>2016</td>\n      <td>756</td>\n    </tr>\n    <tr>\n      <th>7</th>\n      <td>C</td>\n      <td>1</td>\n      <td>2017</td>\n      <td>788</td>\n    </tr>\n    <tr>\n      <th>9</th>\n      <td>D</td>\n      <td>4</td>\n      <td>2014</td>\n      <td>701</td>\n    </tr>\n    <tr>\n      <th>10</th>\n      <td>D</td>\n      <td>1</td>\n      <td>2015</td>\n      <td>804</td>\n    </tr>\n  </tbody>\n</table>\n</div>"
     },
     "metadata": {},
     "execution_count": 22
    }
   ],
   "source": [
    "t.filter(lambda x: x['Points'].min() > 700)"
   ]
  },
  {
   "cell_type": "code",
   "execution_count": 23,
   "metadata": {},
   "outputs": [
    {
     "output_type": "execute_result",
     "data": {
      "text/plain": [
       "   Team  Rank  Year  Points\n",
       "4     C     3  2014     741\n",
       "5     C     4  2015     812\n",
       "6     C     1  2016     756\n",
       "7     C     1  2017     788\n",
       "9     D     4  2014     701\n",
       "10    D     1  2015     804"
      ],
      "text/html": "<div>\n<style scoped>\n    .dataframe tbody tr th:only-of-type {\n        vertical-align: middle;\n    }\n\n    .dataframe tbody tr th {\n        vertical-align: top;\n    }\n\n    .dataframe thead th {\n        text-align: right;\n    }\n</style>\n<table border=\"1\" class=\"dataframe\">\n  <thead>\n    <tr style=\"text-align: right;\">\n      <th></th>\n      <th>Team</th>\n      <th>Rank</th>\n      <th>Year</th>\n      <th>Points</th>\n    </tr>\n  </thead>\n  <tbody>\n    <tr>\n      <th>4</th>\n      <td>C</td>\n      <td>3</td>\n      <td>2014</td>\n      <td>741</td>\n    </tr>\n    <tr>\n      <th>5</th>\n      <td>C</td>\n      <td>4</td>\n      <td>2015</td>\n      <td>812</td>\n    </tr>\n    <tr>\n      <th>6</th>\n      <td>C</td>\n      <td>1</td>\n      <td>2016</td>\n      <td>756</td>\n    </tr>\n    <tr>\n      <th>7</th>\n      <td>C</td>\n      <td>1</td>\n      <td>2017</td>\n      <td>788</td>\n    </tr>\n    <tr>\n      <th>9</th>\n      <td>D</td>\n      <td>4</td>\n      <td>2014</td>\n      <td>701</td>\n    </tr>\n    <tr>\n      <th>10</th>\n      <td>D</td>\n      <td>1</td>\n      <td>2015</td>\n      <td>804</td>\n    </tr>\n  </tbody>\n</table>\n</div>"
     },
     "metadata": {},
     "execution_count": 23
    }
   ],
   "source": [
    "t.filter(lambda x: x['Rank'].max() == 4)"
   ]
  },
  {
   "cell_type": "code",
   "execution_count": 24,
   "metadata": {},
   "outputs": [],
   "source": [
    "tf = t.filter(lambda x: x['Year'].count() == 2)"
   ]
  },
  {
   "source": [
    "In summary:\n",
    "- If you want to get a single value for each group, use aggregate() (or one of its shortcuts). \n",
    "- If you want to get a new value for each original row, use transform().\n",
    "- If you want to get a subset of the original rows, use filter(). "
   ],
   "cell_type": "markdown",
   "metadata": {}
  }
 ]
}